{
 "cells": [
  {
   "cell_type": "markdown",
   "metadata": {},
   "source": [
    "# Chapter 11 Reinforcement Learning"
   ]
  },
  {
   "cell_type": "code",
   "execution_count": 80,
   "metadata": {},
   "outputs": [
    {
     "name": "stdout",
     "output_type": "stream",
     "text": [
      "The autoreload extension is already loaded. To reload it, use:\n",
      "  %reload_ext autoreload\n",
      "The lab_black extension is already loaded. To reload it, use:\n",
      "  %reload_ext lab_black\n"
     ]
    }
   ],
   "source": [
    "import pandas as pd\n",
    "\n",
    "\n",
    "%matplotlib inline\n",
    "%load_ext autoreload\n",
    "%autoreload 2\n",
    "%load_ext lab_black"
   ]
  },
  {
   "cell_type": "code",
   "execution_count": 81,
   "metadata": {},
   "outputs": [],
   "source": [
    "# !pip install git+https://github.com/benman1/mab-ranking"
   ]
  },
  {
   "cell_type": "markdown",
   "metadata": {},
   "source": [
    "We'll download the jester dataset with joke preferences from S3. Here's the location:"
   ]
  },
  {
   "cell_type": "code",
   "execution_count": 82,
   "metadata": {},
   "outputs": [],
   "source": [
    "URL = \"https://raw.githubusercontent.com/PacktPublishing/Machine-Learning-for-Time-Series-with-Python/main/chapter11/jesterfinal151cols.csv\""
   ]
  },
  {
   "cell_type": "code",
   "execution_count": 83,
   "metadata": {},
   "outputs": [
    {
     "data": {
      "text/html": [
       "<div>\n",
       "<style scoped>\n",
       "    .dataframe tbody tr th:only-of-type {\n",
       "        vertical-align: middle;\n",
       "    }\n",
       "\n",
       "    .dataframe tbody tr th {\n",
       "        vertical-align: top;\n",
       "    }\n",
       "\n",
       "    .dataframe thead th {\n",
       "        text-align: right;\n",
       "    }\n",
       "</style>\n",
       "<table border=\"1\" class=\"dataframe\">\n",
       "  <thead>\n",
       "    <tr style=\"text-align: right;\">\n",
       "      <th></th>\n",
       "      <th>0</th>\n",
       "      <th>1</th>\n",
       "      <th>2</th>\n",
       "      <th>3</th>\n",
       "      <th>4</th>\n",
       "      <th>5</th>\n",
       "      <th>6</th>\n",
       "      <th>7</th>\n",
       "      <th>8</th>\n",
       "      <th>9</th>\n",
       "      <th>...</th>\n",
       "      <th>141</th>\n",
       "      <th>142</th>\n",
       "      <th>143</th>\n",
       "      <th>144</th>\n",
       "      <th>145</th>\n",
       "      <th>146</th>\n",
       "      <th>147</th>\n",
       "      <th>148</th>\n",
       "      <th>149</th>\n",
       "      <th>150</th>\n",
       "    </tr>\n",
       "  </thead>\n",
       "  <tbody>\n",
       "    <tr>\n",
       "      <th>0</th>\n",
       "      <td>62</td>\n",
       "      <td>99</td>\n",
       "      <td>99</td>\n",
       "      <td>99</td>\n",
       "      <td>99</td>\n",
       "      <td>0.21875</td>\n",
       "      <td>99</td>\n",
       "      <td>-9.28125</td>\n",
       "      <td>-9.28125</td>\n",
       "      <td>99</td>\n",
       "      <td>...</td>\n",
       "      <td>99.0</td>\n",
       "      <td>99.0</td>\n",
       "      <td>99.0</td>\n",
       "      <td>99.0</td>\n",
       "      <td>99.0</td>\n",
       "      <td>99.0</td>\n",
       "      <td>99.0</td>\n",
       "      <td>99.0</td>\n",
       "      <td>99.0</td>\n",
       "      <td>99.0</td>\n",
       "    </tr>\n",
       "    <tr>\n",
       "      <th>1</th>\n",
       "      <td>34</td>\n",
       "      <td>99</td>\n",
       "      <td>99</td>\n",
       "      <td>99</td>\n",
       "      <td>99</td>\n",
       "      <td>-9.68750</td>\n",
       "      <td>99</td>\n",
       "      <td>9.93750</td>\n",
       "      <td>9.53125</td>\n",
       "      <td>99</td>\n",
       "      <td>...</td>\n",
       "      <td>99.0</td>\n",
       "      <td>99.0</td>\n",
       "      <td>99.0</td>\n",
       "      <td>99.0</td>\n",
       "      <td>99.0</td>\n",
       "      <td>99.0</td>\n",
       "      <td>99.0</td>\n",
       "      <td>99.0</td>\n",
       "      <td>99.0</td>\n",
       "      <td>99.0</td>\n",
       "    </tr>\n",
       "    <tr>\n",
       "      <th>2</th>\n",
       "      <td>18</td>\n",
       "      <td>99</td>\n",
       "      <td>99</td>\n",
       "      <td>99</td>\n",
       "      <td>99</td>\n",
       "      <td>-9.84375</td>\n",
       "      <td>99</td>\n",
       "      <td>-9.84375</td>\n",
       "      <td>-7.21875</td>\n",
       "      <td>99</td>\n",
       "      <td>...</td>\n",
       "      <td>99.0</td>\n",
       "      <td>99.0</td>\n",
       "      <td>99.0</td>\n",
       "      <td>99.0</td>\n",
       "      <td>99.0</td>\n",
       "      <td>99.0</td>\n",
       "      <td>99.0</td>\n",
       "      <td>99.0</td>\n",
       "      <td>99.0</td>\n",
       "      <td>99.0</td>\n",
       "    </tr>\n",
       "    <tr>\n",
       "      <th>3</th>\n",
       "      <td>82</td>\n",
       "      <td>99</td>\n",
       "      <td>99</td>\n",
       "      <td>99</td>\n",
       "      <td>99</td>\n",
       "      <td>6.90625</td>\n",
       "      <td>99</td>\n",
       "      <td>4.75000</td>\n",
       "      <td>-5.90625</td>\n",
       "      <td>99</td>\n",
       "      <td>...</td>\n",
       "      <td>99.0</td>\n",
       "      <td>99.0</td>\n",
       "      <td>99.0</td>\n",
       "      <td>99.0</td>\n",
       "      <td>99.0</td>\n",
       "      <td>99.0</td>\n",
       "      <td>99.0</td>\n",
       "      <td>99.0</td>\n",
       "      <td>99.0</td>\n",
       "      <td>99.0</td>\n",
       "    </tr>\n",
       "    <tr>\n",
       "      <th>4</th>\n",
       "      <td>27</td>\n",
       "      <td>99</td>\n",
       "      <td>99</td>\n",
       "      <td>99</td>\n",
       "      <td>99</td>\n",
       "      <td>-0.03125</td>\n",
       "      <td>99</td>\n",
       "      <td>-9.09375</td>\n",
       "      <td>-0.40625</td>\n",
       "      <td>99</td>\n",
       "      <td>...</td>\n",
       "      <td>99.0</td>\n",
       "      <td>99.0</td>\n",
       "      <td>99.0</td>\n",
       "      <td>99.0</td>\n",
       "      <td>99.0</td>\n",
       "      <td>99.0</td>\n",
       "      <td>99.0</td>\n",
       "      <td>99.0</td>\n",
       "      <td>99.0</td>\n",
       "      <td>99.0</td>\n",
       "    </tr>\n",
       "  </tbody>\n",
       "</table>\n",
       "<p>5 rows × 151 columns</p>\n",
       "</div>"
      ],
      "text/plain": [
       "   0    1    2    3    4        5    6        7        8    9    ...   141  \\\n",
       "0   62   99   99   99   99  0.21875   99 -9.28125 -9.28125   99  ...  99.0   \n",
       "1   34   99   99   99   99 -9.68750   99  9.93750  9.53125   99  ...  99.0   \n",
       "2   18   99   99   99   99 -9.84375   99 -9.84375 -7.21875   99  ...  99.0   \n",
       "3   82   99   99   99   99  6.90625   99  4.75000 -5.90625   99  ...  99.0   \n",
       "4   27   99   99   99   99 -0.03125   99 -9.09375 -0.40625   99  ...  99.0   \n",
       "\n",
       "    142   143   144   145   146   147   148   149   150  \n",
       "0  99.0  99.0  99.0  99.0  99.0  99.0  99.0  99.0  99.0  \n",
       "1  99.0  99.0  99.0  99.0  99.0  99.0  99.0  99.0  99.0  \n",
       "2  99.0  99.0  99.0  99.0  99.0  99.0  99.0  99.0  99.0  \n",
       "3  99.0  99.0  99.0  99.0  99.0  99.0  99.0  99.0  99.0  \n",
       "4  99.0  99.0  99.0  99.0  99.0  99.0  99.0  99.0  99.0  \n",
       "\n",
       "[5 rows x 151 columns]"
      ]
     },
     "execution_count": 83,
     "metadata": {},
     "output_type": "execute_result"
    }
   ],
   "source": [
    "jester_data = pd.read_csv(URL, header=None)\n",
    "jester_data.head()"
   ]
  },
  {
   "cell_type": "markdown",
   "metadata": {},
   "source": [
    "We'll make some cosmetic adjustments. The rows refer to users, the columns to jokes.\n",
    "We can make this clearer:"
   ]
  },
  {
   "cell_type": "code",
   "execution_count": 84,
   "metadata": {},
   "outputs": [],
   "source": [
    "jester_data.index.name = \"users\""
   ]
  },
  {
   "cell_type": "markdown",
   "metadata": {},
   "source": [
    "The encoding of choices is a bit weird, so we'll fix this as well:"
   ]
  },
  {
   "cell_type": "code",
   "execution_count": 85,
   "metadata": {},
   "outputs": [
    {
     "data": {
      "text/html": [
       "<div>\n",
       "<style scoped>\n",
       "    .dataframe tbody tr th:only-of-type {\n",
       "        vertical-align: middle;\n",
       "    }\n",
       "\n",
       "    .dataframe tbody tr th {\n",
       "        vertical-align: top;\n",
       "    }\n",
       "\n",
       "    .dataframe thead th {\n",
       "        text-align: right;\n",
       "    }\n",
       "</style>\n",
       "<table border=\"1\" class=\"dataframe\">\n",
       "  <thead>\n",
       "    <tr style=\"text-align: right;\">\n",
       "      <th></th>\n",
       "      <th>0</th>\n",
       "      <th>1</th>\n",
       "      <th>2</th>\n",
       "      <th>3</th>\n",
       "      <th>4</th>\n",
       "      <th>5</th>\n",
       "      <th>6</th>\n",
       "      <th>7</th>\n",
       "      <th>8</th>\n",
       "      <th>9</th>\n",
       "      <th>...</th>\n",
       "      <th>141</th>\n",
       "      <th>142</th>\n",
       "      <th>143</th>\n",
       "      <th>144</th>\n",
       "      <th>145</th>\n",
       "      <th>146</th>\n",
       "      <th>147</th>\n",
       "      <th>148</th>\n",
       "      <th>149</th>\n",
       "      <th>150</th>\n",
       "    </tr>\n",
       "    <tr>\n",
       "      <th>users</th>\n",
       "      <th></th>\n",
       "      <th></th>\n",
       "      <th></th>\n",
       "      <th></th>\n",
       "      <th></th>\n",
       "      <th></th>\n",
       "      <th></th>\n",
       "      <th></th>\n",
       "      <th></th>\n",
       "      <th></th>\n",
       "      <th></th>\n",
       "      <th></th>\n",
       "      <th></th>\n",
       "      <th></th>\n",
       "      <th></th>\n",
       "      <th></th>\n",
       "      <th></th>\n",
       "      <th></th>\n",
       "      <th></th>\n",
       "      <th></th>\n",
       "      <th></th>\n",
       "    </tr>\n",
       "  </thead>\n",
       "  <tbody>\n",
       "    <tr>\n",
       "      <th>0</th>\n",
       "      <td>1.0</td>\n",
       "      <td>0.0</td>\n",
       "      <td>0.0</td>\n",
       "      <td>0.0</td>\n",
       "      <td>0.0</td>\n",
       "      <td>0.0</td>\n",
       "      <td>0.0</td>\n",
       "      <td>0.0</td>\n",
       "      <td>0.0</td>\n",
       "      <td>0.0</td>\n",
       "      <td>...</td>\n",
       "      <td>0.0</td>\n",
       "      <td>0.0</td>\n",
       "      <td>0.0</td>\n",
       "      <td>0.0</td>\n",
       "      <td>0.0</td>\n",
       "      <td>0.0</td>\n",
       "      <td>0.0</td>\n",
       "      <td>0.0</td>\n",
       "      <td>0.0</td>\n",
       "      <td>0.0</td>\n",
       "    </tr>\n",
       "    <tr>\n",
       "      <th>1</th>\n",
       "      <td>1.0</td>\n",
       "      <td>0.0</td>\n",
       "      <td>0.0</td>\n",
       "      <td>0.0</td>\n",
       "      <td>0.0</td>\n",
       "      <td>0.0</td>\n",
       "      <td>0.0</td>\n",
       "      <td>1.0</td>\n",
       "      <td>1.0</td>\n",
       "      <td>0.0</td>\n",
       "      <td>...</td>\n",
       "      <td>0.0</td>\n",
       "      <td>0.0</td>\n",
       "      <td>0.0</td>\n",
       "      <td>0.0</td>\n",
       "      <td>0.0</td>\n",
       "      <td>0.0</td>\n",
       "      <td>0.0</td>\n",
       "      <td>0.0</td>\n",
       "      <td>0.0</td>\n",
       "      <td>0.0</td>\n",
       "    </tr>\n",
       "    <tr>\n",
       "      <th>2</th>\n",
       "      <td>1.0</td>\n",
       "      <td>0.0</td>\n",
       "      <td>0.0</td>\n",
       "      <td>0.0</td>\n",
       "      <td>0.0</td>\n",
       "      <td>0.0</td>\n",
       "      <td>0.0</td>\n",
       "      <td>0.0</td>\n",
       "      <td>0.0</td>\n",
       "      <td>0.0</td>\n",
       "      <td>...</td>\n",
       "      <td>0.0</td>\n",
       "      <td>0.0</td>\n",
       "      <td>0.0</td>\n",
       "      <td>0.0</td>\n",
       "      <td>0.0</td>\n",
       "      <td>0.0</td>\n",
       "      <td>0.0</td>\n",
       "      <td>0.0</td>\n",
       "      <td>0.0</td>\n",
       "      <td>0.0</td>\n",
       "    </tr>\n",
       "    <tr>\n",
       "      <th>3</th>\n",
       "      <td>1.0</td>\n",
       "      <td>0.0</td>\n",
       "      <td>0.0</td>\n",
       "      <td>0.0</td>\n",
       "      <td>0.0</td>\n",
       "      <td>0.0</td>\n",
       "      <td>0.0</td>\n",
       "      <td>0.0</td>\n",
       "      <td>0.0</td>\n",
       "      <td>0.0</td>\n",
       "      <td>...</td>\n",
       "      <td>0.0</td>\n",
       "      <td>0.0</td>\n",
       "      <td>0.0</td>\n",
       "      <td>0.0</td>\n",
       "      <td>0.0</td>\n",
       "      <td>0.0</td>\n",
       "      <td>0.0</td>\n",
       "      <td>0.0</td>\n",
       "      <td>0.0</td>\n",
       "      <td>0.0</td>\n",
       "    </tr>\n",
       "    <tr>\n",
       "      <th>4</th>\n",
       "      <td>1.0</td>\n",
       "      <td>0.0</td>\n",
       "      <td>0.0</td>\n",
       "      <td>0.0</td>\n",
       "      <td>0.0</td>\n",
       "      <td>0.0</td>\n",
       "      <td>0.0</td>\n",
       "      <td>0.0</td>\n",
       "      <td>0.0</td>\n",
       "      <td>0.0</td>\n",
       "      <td>...</td>\n",
       "      <td>0.0</td>\n",
       "      <td>0.0</td>\n",
       "      <td>0.0</td>\n",
       "      <td>0.0</td>\n",
       "      <td>0.0</td>\n",
       "      <td>0.0</td>\n",
       "      <td>0.0</td>\n",
       "      <td>0.0</td>\n",
       "      <td>0.0</td>\n",
       "      <td>0.0</td>\n",
       "    </tr>\n",
       "  </tbody>\n",
       "</table>\n",
       "<p>5 rows × 151 columns</p>\n",
       "</div>"
      ],
      "text/plain": [
       "       0    1    2    3    4    5    6    7    8    9    ...  141  142  143  \\\n",
       "users                                                    ...                  \n",
       "0      1.0  0.0  0.0  0.0  0.0  0.0  0.0  0.0  0.0  0.0  ...  0.0  0.0  0.0   \n",
       "1      1.0  0.0  0.0  0.0  0.0  0.0  0.0  1.0  1.0  0.0  ...  0.0  0.0  0.0   \n",
       "2      1.0  0.0  0.0  0.0  0.0  0.0  0.0  0.0  0.0  0.0  ...  0.0  0.0  0.0   \n",
       "3      1.0  0.0  0.0  0.0  0.0  0.0  0.0  0.0  0.0  0.0  ...  0.0  0.0  0.0   \n",
       "4      1.0  0.0  0.0  0.0  0.0  0.0  0.0  0.0  0.0  0.0  ...  0.0  0.0  0.0   \n",
       "\n",
       "       144  145  146  147  148  149  150  \n",
       "users                                     \n",
       "0      0.0  0.0  0.0  0.0  0.0  0.0  0.0  \n",
       "1      0.0  0.0  0.0  0.0  0.0  0.0  0.0  \n",
       "2      0.0  0.0  0.0  0.0  0.0  0.0  0.0  \n",
       "3      0.0  0.0  0.0  0.0  0.0  0.0  0.0  \n",
       "4      0.0  0.0  0.0  0.0  0.0  0.0  0.0  \n",
       "\n",
       "[5 rows x 151 columns]"
      ]
     },
     "execution_count": 85,
     "metadata": {},
     "output_type": "execute_result"
    }
   ],
   "source": [
    "for col in jester_data.columns:\n",
    "    jester_data[col] = jester_data[col].apply(\n",
    "        lambda x: 0.0 if x >= 99 or x < 7.0 else 1.0\n",
    "    )\n",
    "jester_data.head()"
   ]
  },
  {
   "cell_type": "markdown",
   "metadata": {},
   "source": [
    "So either people chose the joke or they didn't. We'll get rid of people who didn't\n",
    "choose any joke at all:"
   ]
  },
  {
   "cell_type": "code",
   "execution_count": 86,
   "metadata": {},
   "outputs": [],
   "source": [
    "jester_data = jester_data[jester_data.sum(axis=1) > 0]"
   ]
  },
  {
   "cell_type": "markdown",
   "metadata": {},
   "source": [
    "We'll set up our bandits as follows:"
   ]
  },
  {
   "cell_type": "code",
   "execution_count": 46,
   "metadata": {},
   "outputs": [],
   "source": [
    "from mab_ranking.bandits.rank_bandits import IndependentBandits\n",
    "from mab_ranking.bandits.bandits import DirichletThompsonSampling\n",
    "\n",
    "# Create bandits with the data and the number of arms\n",
    "independent_bandits = IndependentBandits(\n",
    "    num_arms=jester_data.shape[1], num_ranks=10, bandit_class=DirichletThompsonSampling\n",
    ")"
   ]
  },
  {
   "cell_type": "markdown",
   "metadata": {},
   "source": [
    "We choose independent bandits with Thompson sampling from the Beta\n",
    "distribution. We recommend the best 10 jokes.  \n",
    "\n",
    "We can then start our simulation. Our hypothetical website has lots of visits, and\n",
    "we'll get feedback on the 10 jokes that we'll display as chosen by our independent\n",
    "bandits:"
   ]
  },
  {
   "cell_type": "code",
   "execution_count": 88,
   "metadata": {},
   "outputs": [
    {
     "name": "stderr",
     "output_type": "stream",
     "text": [
      "100%|██████████| 7000/7000 [00:28<00:00, 249.24it/s]\n"
     ]
    }
   ],
   "source": [
    "from tqdm import trange\n",
    "\n",
    "num_steps = 7000\n",
    "hit_rates = []\n",
    "for _ in trange(1, num_steps + 1):\n",
    "    # Select jokes\n",
    "    selected_items = set(independent_bandits.choose())\n",
    "    # Pick a users choices at random\n",
    "    random_user = jester_data.sample().iloc[0, :]\n",
    "    # Get the jokes that the user has selected\n",
    "    ground_truth = set(random_user[random_user == 1].index)\n",
    "    # Get the hit rate of the selected jokes\n",
    "    hit_rate = len(ground_truth.intersection(selected_items)) / len(ground_truth)\n",
    "    # Get the feedback\n",
    "    feedback_list = [1.0 if item in ground_truth else 0.0 for item in selected_items]\n",
    "    # Update the bandit with the feedback\n",
    "    independent_bandits.update(selected_items, feedback_list)\n",
    "    # Append the hit rate to the list\n",
    "    hit_rates.append(hit_rate)"
   ]
  },
  {
   "cell_type": "markdown",
   "metadata": {},
   "source": [
    "We are simulating 7,000 iterations (visits). At each visit, we'll change our choices\n",
    "according to the updated reward expectations.  \n",
    "We can plot the hit rate, the jokes that users are selecting, as follows:"
   ]
  },
  {
   "cell_type": "code",
   "execution_count": 49,
   "metadata": {},
   "outputs": [
    {
     "data": {
      "image/png": "[encoded data removed]",
      "text/plain": [
       "<Figure size 864x432 with 1 Axes>"
      ]
     },
     "metadata": {
      "needs_background": "light"
     },
     "output_type": "display_data"
    }
   ],
   "source": [
    "import matplotlib.pyplot as plt\n",
    "\n",
    "\n",
    "def plot_hit_rates(hit_rates):\n",
    "    stats = pd.Series(hit_rates)\n",
    "    plt.figure(figsize=(12, 6))\n",
    "    plt.plot(stats.index, stats.rolling(200).mean(), \"--\")\n",
    "    plt.xlabel(\"Iteration\")\n",
    "    plt.ylabel(\"Hit rate\")\n",
    "    plt.ylim(0, 1)\n",
    "\n",
    "\n",
    "plot_hit_rates(hit_rates)"
   ]
  },
  {
   "cell_type": "markdown",
   "metadata": {},
   "source": [
    "The mab-ranking library supports contextual information, so we can try out giving\n",
    "additional information. Let's imagine this information as different user groups\n",
    "(cohorts). We could think of users who use different search or filter functionality\n",
    "on our imaginary website, say \"newest jokes\" or \"most popular.\" Alternatively,\n",
    "they could be from different regions. Or it could be a timestamp category that\n",
    "corresponds to the time of the day of visits of users to our website.  \n",
    "\n",
    "Let's supply the categorical user group information, the context. We'll cluster users\n",
    "by their preferences, and we'll use the clusters as context:"
   ]
  },
  {
   "cell_type": "code",
   "execution_count": 89,
   "metadata": {},
   "outputs": [],
   "source": [
    "from sklearn.cluster import KMeans\n",
    "from sklearn.preprocessing import StandardScaler\n",
    "\n",
    "scaler = StandardScaler().fit(jester_data)\n",
    "kmeans = KMeans(n_clusters=5, random_state=0).fit(scaler.transform(jester_data))\n",
    "# Get the cluster labels\n",
    "contexts = pd.Series(kmeans.labels_, index=jester_data.index)  #"
   ]
  },
  {
   "cell_type": "code",
   "execution_count": 90,
   "metadata": {},
   "outputs": [
    {
     "data": {
      "text/html": [
       "<div>\n",
       "<style scoped>\n",
       "    .dataframe tbody tr th:only-of-type {\n",
       "        vertical-align: middle;\n",
       "    }\n",
       "\n",
       "    .dataframe tbody tr th {\n",
       "        vertical-align: top;\n",
       "    }\n",
       "\n",
       "    .dataframe thead th {\n",
       "        text-align: right;\n",
       "    }\n",
       "</style>\n",
       "<table border=\"1\" class=\"dataframe\">\n",
       "  <thead>\n",
       "    <tr style=\"text-align: right;\">\n",
       "      <th></th>\n",
       "      <th>PCA1</th>\n",
       "      <th>PCA2</th>\n",
       "      <th>context</th>\n",
       "    </tr>\n",
       "    <tr>\n",
       "      <th>users</th>\n",
       "      <th></th>\n",
       "      <th></th>\n",
       "      <th></th>\n",
       "    </tr>\n",
       "  </thead>\n",
       "  <tbody>\n",
       "    <tr>\n",
       "      <th>0</th>\n",
       "      <td>1.956900</td>\n",
       "      <td>-0.507166</td>\n",
       "      <td>2</td>\n",
       "    </tr>\n",
       "    <tr>\n",
       "      <th>1</th>\n",
       "      <td>0.574071</td>\n",
       "      <td>1.016476</td>\n",
       "      <td>2</td>\n",
       "    </tr>\n",
       "    <tr>\n",
       "      <th>2</th>\n",
       "      <td>-0.598211</td>\n",
       "      <td>-0.166810</td>\n",
       "      <td>0</td>\n",
       "    </tr>\n",
       "    <tr>\n",
       "      <th>3</th>\n",
       "      <td>-0.193421</td>\n",
       "      <td>-0.217831</td>\n",
       "      <td>0</td>\n",
       "    </tr>\n",
       "    <tr>\n",
       "      <th>4</th>\n",
       "      <td>-0.206538</td>\n",
       "      <td>0.129406</td>\n",
       "      <td>0</td>\n",
       "    </tr>\n",
       "  </tbody>\n",
       "</table>\n",
       "</div>"
      ],
      "text/plain": [
       "           PCA1      PCA2  context\n",
       "users                             \n",
       "0      1.956900 -0.507166        2\n",
       "1      0.574071  1.016476        2\n",
       "2     -0.598211 -0.166810        0\n",
       "3     -0.193421 -0.217831        0\n",
       "4     -0.206538  0.129406        0"
      ]
     },
     "execution_count": 90,
     "metadata": {},
     "output_type": "execute_result"
    }
   ],
   "source": [
    "# reduce the data to 2 dimensions\n",
    "from sklearn.decomposition import PCA\n",
    "\n",
    "two_dim_jester = PCA(n_components=2).fit_transform(jester_data)\n",
    "two_dim_jester_df = pd.DataFrame(two_dim_jester, index=jester_data.index)\n",
    "two_dim_jester_df[\"context\"] = contexts\n",
    "two_dim_jester_df.columns = [\"PCA1\", \"PCA2\", \"context\"]\n",
    "two_dim_jester_df.head()"
   ]
  },
  {
   "cell_type": "code",
   "execution_count": 91,
   "metadata": {},
   "outputs": [
    {
     "data": {
      "text/plain": [
       "<seaborn.axisgrid.FacetGrid at 0x17517e9a0>"
      ]
     },
     "execution_count": 91,
     "metadata": {},
     "output_type": "execute_result"
    },
    {
     "data": {
      "image/png": "[encoded data removed]",
      "text/plain": [
       "<Figure size 405.5x360 with 1 Axes>"
      ]
     },
     "metadata": {
      "needs_background": "light"
     },
     "output_type": "display_data"
    }
   ],
   "source": [
    "# visualize the clusters in 2D\n",
    "import seaborn as sns\n",
    "\n",
    "sns.lmplot(\n",
    "    x=\"PCA1\",\n",
    "    y=\"PCA2\",\n",
    "    data=two_dim_jester_df,\n",
    "    hue=\"context\",\n",
    "    fit_reg=False,\n",
    ")"
   ]
  },
  {
   "cell_type": "markdown",
   "metadata": {},
   "source": [
    "This creates 5 user groups.\n",
    "We'll have to reset our bandits:"
   ]
  },
  {
   "cell_type": "code",
   "execution_count": 92,
   "metadata": {},
   "outputs": [],
   "source": [
    "independent_bandits = IndependentBandits(\n",
    "    num_arms=jester_data.shape[1], num_ranks=10, bandit_class=DirichletThompsonSampling\n",
    ")"
   ]
  },
  {
   "cell_type": "markdown",
   "metadata": {},
   "source": [
    "Then, we can redo our simulation. Only now, we'll supply the user context:"
   ]
  },
  {
   "cell_type": "code",
   "execution_count": 93,
   "metadata": {},
   "outputs": [
    {
     "name": "stderr",
     "output_type": "stream",
     "text": [
      "100%|██████████| 7000/7000 [00:29<00:00, 238.34it/s]\n"
     ]
    }
   ],
   "source": [
    "hit_rates = []\n",
    "for _ in trange(1, num_steps + 1):\n",
    "    # pick a user's choices at random\n",
    "    random_user = jester_data.sample().iloc[0, :]\n",
    "    # get the context of the user\n",
    "    context = {\"previous_action\": contexts.loc[random_user.name]}\n",
    "    # select jokes\n",
    "    selected_items = set(independent_bandits.choose(context=context))\n",
    "    # get the jokes that the user has selected\n",
    "    ground_truth = set(random_user[random_user == 1].index)\n",
    "    # get the hit rate of the selected jokes\n",
    "    hit_rate = len(ground_truth.intersection(selected_items)) / len(ground_truth)\n",
    "    # get the feedback\n",
    "    feedback_list = [1.0 if item in ground_truth else 0.0 for item in selected_items]\n",
    "    # update the bandit with the feedback\n",
    "    independent_bandits.update(selected_items, feedback_list, context=context)\n",
    "    # append the hit rate to the list\n",
    "    hit_rates.append(hit_rate)"
   ]
  },
  {
   "cell_type": "code",
   "execution_count": 94,
   "metadata": {},
   "outputs": [
    {
     "data": {
      "image/png": "[encoded data removed]",
      "text/plain": [
       "<Figure size 864x432 with 1 Axes>"
      ]
     },
     "metadata": {
      "needs_background": "light"
     },
     "output_type": "display_data"
    }
   ],
   "source": [
    "plot_hit_rates(hit_rates)"
   ]
  },
  {
   "cell_type": "markdown",
   "metadata": {},
   "source": [
    "We can see that the hit rate is a bit higher than before.  \n",
    "\n",
    "This model ignores the order of the recommended jokes on our hypothetical website.\n",
    "There are other bandit implementations that model the ranks.  \n",
    "\n",
    "I'll leave it to the reader to play around with this more. A fun exercise is to create a probabilistic model of reward expectations.\n",
    "\n",
    "In the next section, we'll be playing around with a deep Q-learning trading bot.\n",
    "This is a more intricate model and will require more attention. We'll apply this to\n",
    "cryptocurrency trading."
   ]
  },
  {
   "cell_type": "markdown",
   "metadata": {},
   "source": [
    "## Trading with DQN"
   ]
  },
  {
   "cell_type": "markdown",
   "metadata": {},
   "source": [
    "This is based on a tutorial of the TensorTrade library, which we'll use in this\n",
    "example. TensorTrade is a framework for building, training, evaluating, and\n",
    "deploying robust trading algorithms using reinforcement learning.   \n",
    "\n",
    "TensorTrade relies on existing tools such as OpenAI Gym, Keras, and TensorFlow to\n",
    "enable fast experimentation with algorithmic trading strategies. We'll install it with\n",
    "pip as usual. We'll make sure we install the latest version from GitHub:"
   ]
  },
  {
   "cell_type": "code",
   "execution_count": 54,
   "metadata": {},
   "outputs": [],
   "source": [
    "# !pip install git+https://github.com/tensortrade-org/tensortrade.git"
   ]
  },
  {
   "cell_type": "markdown",
   "metadata": {},
   "source": [
    "We could also install the ta library, which can provide additional signals useful for\n",
    "trading, but we'll leave this out here.  \n",
    "\n",
    "Let's get a few imports out of the way:"
   ]
  },
  {
   "cell_type": "code",
   "execution_count": 55,
   "metadata": {},
   "outputs": [
    {
     "name": "stderr",
     "output_type": "stream",
     "text": [
      "/Users/frankkelly/Library/Caches/pypoetry/virtualenvs/time-series-analysis-book-Kh4ECq7S-py3.9/lib/python3.9/site-packages/flatbuffers/compat.py:19: DeprecationWarning: the imp module is deprecated in favour of importlib; see the module's documentation for alternative uses\n",
      "  import imp\n",
      "/Users/frankkelly/Library/Caches/pypoetry/virtualenvs/time-series-analysis-book-Kh4ECq7S-py3.9/lib/python3.9/site-packages/keras/utils/image_utils.py:36: DeprecationWarning: NEAREST is deprecated and will be removed in Pillow 10 (2023-07-01). Use Resampling.NEAREST or Dither.NONE instead.\n",
      "  'nearest': pil_image.NEAREST,\n",
      "/Users/frankkelly/Library/Caches/pypoetry/virtualenvs/time-series-analysis-book-Kh4ECq7S-py3.9/lib/python3.9/site-packages/keras/utils/image_utils.py:37: DeprecationWarning: BILINEAR is deprecated and will be removed in Pillow 10 (2023-07-01). Use Resampling.BILINEAR instead.\n",
      "  'bilinear': pil_image.BILINEAR,\n",
      "/Users/frankkelly/Library/Caches/pypoetry/virtualenvs/time-series-analysis-book-Kh4ECq7S-py3.9/lib/python3.9/site-packages/keras/utils/image_utils.py:38: DeprecationWarning: BICUBIC is deprecated and will be removed in Pillow 10 (2023-07-01). Use Resampling.BICUBIC instead.\n",
      "  'bicubic': pil_image.BICUBIC,\n",
      "/Users/frankkelly/Library/Caches/pypoetry/virtualenvs/time-series-analysis-book-Kh4ECq7S-py3.9/lib/python3.9/site-packages/keras/utils/image_utils.py:39: DeprecationWarning: HAMMING is deprecated and will be removed in Pillow 10 (2023-07-01). Use Resampling.HAMMING instead.\n",
      "  'hamming': pil_image.HAMMING,\n",
      "/Users/frankkelly/Library/Caches/pypoetry/virtualenvs/time-series-analysis-book-Kh4ECq7S-py3.9/lib/python3.9/site-packages/keras/utils/image_utils.py:40: DeprecationWarning: BOX is deprecated and will be removed in Pillow 10 (2023-07-01). Use Resampling.BOX instead.\n",
      "  'box': pil_image.BOX,\n",
      "/Users/frankkelly/Library/Caches/pypoetry/virtualenvs/time-series-analysis-book-Kh4ECq7S-py3.9/lib/python3.9/site-packages/keras/utils/image_utils.py:41: DeprecationWarning: LANCZOS is deprecated and will be removed in Pillow 10 (2023-07-01). Use Resampling.LANCZOS instead.\n",
      "  'lanczos': pil_image.LANCZOS,\n"
     ]
    }
   ],
   "source": [
    "import tensortrade.env.default as default\n",
    "from tensortrade.data.cdd import CryptoDataDownload\n",
    "from tensortrade.feed.core import Stream, DataFeed\n",
    "from tensortrade.oms.exchanges import Exchange\n",
    "from tensortrade.oms.services.execution.simulated import execute_order\n",
    "from tensortrade.oms.instruments import USD, BTC, ETH\n",
    "from tensortrade.oms.wallets import Wallet, Portfolio\n",
    "from tensortrade.agents import DQNAgent"
   ]
  },
  {
   "cell_type": "markdown",
   "metadata": {},
   "source": [
    "These imports concern utilities for the (simulated) exchange, the portfolio, and the\n",
    "environment. Further, there are utilities for data loading and feeding it into the\n",
    "simulation, constants for currency conversion, and finally, there's a deep Q-agent,\n",
    "which consists of a Deep Q-Network (DQN).  \n",
    "\n",
    "Please note that the matplotlib magic command (%matplotlib inline) is needed for\n",
    "the Plotly charts to show up as expected.  \n",
    "\n",
    "As a first step, let's load a dataset of historical cryptocurrency prices:"
   ]
  },
  {
   "cell_type": "code",
   "execution_count": 56,
   "metadata": {},
   "outputs": [
    {
     "data": {
      "text/html": [
       "<div>\n",
       "<style scoped>\n",
       "    .dataframe tbody tr th:only-of-type {\n",
       "        vertical-align: middle;\n",
       "    }\n",
       "\n",
       "    .dataframe tbody tr th {\n",
       "        vertical-align: top;\n",
       "    }\n",
       "\n",
       "    .dataframe thead th {\n",
       "        text-align: right;\n",
       "    }\n",
       "</style>\n",
       "<table border=\"1\" class=\"dataframe\">\n",
       "  <thead>\n",
       "    <tr style=\"text-align: right;\">\n",
       "      <th></th>\n",
       "      <th>date</th>\n",
       "      <th>unix</th>\n",
       "      <th>open</th>\n",
       "      <th>high</th>\n",
       "      <th>low</th>\n",
       "      <th>close</th>\n",
       "      <th>volume</th>\n",
       "    </tr>\n",
       "  </thead>\n",
       "  <tbody>\n",
       "    <tr>\n",
       "      <th>0</th>\n",
       "      <td>2018-05-15 06:00:00</td>\n",
       "      <td>1526364000</td>\n",
       "      <td>8733.86</td>\n",
       "      <td>8796.68</td>\n",
       "      <td>8707.28</td>\n",
       "      <td>8740.99</td>\n",
       "      <td>559.93</td>\n",
       "    </tr>\n",
       "    <tr>\n",
       "      <th>1</th>\n",
       "      <td>2018-05-15 07:00:00</td>\n",
       "      <td>1526367600</td>\n",
       "      <td>8740.99</td>\n",
       "      <td>8766.00</td>\n",
       "      <td>8721.11</td>\n",
       "      <td>8739.00</td>\n",
       "      <td>273.58</td>\n",
       "    </tr>\n",
       "    <tr>\n",
       "      <th>2</th>\n",
       "      <td>2018-05-15 08:00:00</td>\n",
       "      <td>1526371200</td>\n",
       "      <td>8739.00</td>\n",
       "      <td>8750.27</td>\n",
       "      <td>8660.53</td>\n",
       "      <td>8728.49</td>\n",
       "      <td>917.79</td>\n",
       "    </tr>\n",
       "    <tr>\n",
       "      <th>3</th>\n",
       "      <td>2018-05-15 09:00:00</td>\n",
       "      <td>1526374800</td>\n",
       "      <td>8728.49</td>\n",
       "      <td>8754.40</td>\n",
       "      <td>8701.35</td>\n",
       "      <td>8708.32</td>\n",
       "      <td>182.62</td>\n",
       "    </tr>\n",
       "    <tr>\n",
       "      <th>4</th>\n",
       "      <td>2018-05-15 10:00:00</td>\n",
       "      <td>1526378400</td>\n",
       "      <td>8708.32</td>\n",
       "      <td>8865.00</td>\n",
       "      <td>8695.11</td>\n",
       "      <td>8795.90</td>\n",
       "      <td>1260.69</td>\n",
       "    </tr>\n",
       "  </tbody>\n",
       "</table>\n",
       "</div>"
      ],
      "text/plain": [
       "                 date        unix     open     high      low    close   volume\n",
       "0 2018-05-15 06:00:00  1526364000  8733.86  8796.68  8707.28  8740.99   559.93\n",
       "1 2018-05-15 07:00:00  1526367600  8740.99  8766.00  8721.11  8739.00   273.58\n",
       "2 2018-05-15 08:00:00  1526371200  8739.00  8750.27  8660.53  8728.49   917.79\n",
       "3 2018-05-15 09:00:00  1526374800  8728.49  8754.40  8701.35  8708.32   182.62\n",
       "4 2018-05-15 10:00:00  1526378400  8708.32  8865.00  8695.11  8795.90  1260.69"
      ]
     },
     "execution_count": 56,
     "metadata": {},
     "output_type": "execute_result"
    }
   ],
   "source": [
    "cdd = CryptoDataDownload()\n",
    "data = cdd.fetch(\"Bitstamp\", \"USD\", \"BTC\", \"1h\")\n",
    "data.head()"
   ]
  },
  {
   "cell_type": "markdown",
   "metadata": {},
   "source": [
    "This dataset consists of hourly Bitcoin prices in US dollars. \n",
    "\n",
    "We'll add a relative strength indicator signal, a technical indicator for the financial\n",
    "markets. It measures the strength or weakness of a market by comparing the closing\n",
    "prices of a recent trading period. We'll also add a moving average convergence/\n",
    "divergence (MACD) indicator, which is designed to reveal changes in the strength,\n",
    "direction, momentum, and duration of a trend.  \n",
    "\n",
    "These two are defined as follows:"
   ]
  },
  {
   "cell_type": "code",
   "execution_count": 57,
   "metadata": {},
   "outputs": [],
   "source": [
    "def relative_strength_index(price: Stream[float], period: float) -> Stream[float]:\n",
    "    \"\"\"\n",
    "    Relative strength index (RSI) is a momentum indicator that measures the speed\n",
    "    and change of price movements.\n",
    "    It is considered a momentum indicator because it is designed to indicate both\n",
    "    the current strength of an asset's movement and its potential strength of\n",
    "    future movements.\n",
    "    \"\"\"\n",
    "    delta = price.diff()\n",
    "    upside = delta.clamp_min(0).abs()\n",
    "    downside = delta.clamp_max(0).abs()\n",
    "    relative_strength = (\n",
    "        upside.ewm(alpha=1 / period).mean() / downside.ewm(alpha=1 / period).mean()\n",
    "    )\n",
    "    return 100 * (1 - (1 + relative_strength) ** (-1))"
   ]
  },
  {
   "cell_type": "code",
   "execution_count": 60,
   "metadata": {},
   "outputs": [],
   "source": [
    "def moving_average_convergence_divergence(\n",
    "    price: Stream[float], fast: float, slow: float, signal: float\n",
    ") -> Stream[float]:\n",
    "    \"\"\"\n",
    "    Moving average convergence-divergence (MACD) is a trend-following momentum\n",
    "    indicator that shows the relationship between two moving averages of prices.\n",
    "    The MACD is calculated by subtracting the 26-period exponential moving\n",
    "    average (EMA) from the 12-period EMA.\n",
    "    \"\"\"\n",
    "    fast_ema = price.ewm(span=fast, adjust=False).mean()\n",
    "    slow_ema = price.ewm(span=slow, adjust=False).mean()\n",
    "    # MACD is the difference between the fast and slow EMA\n",
    "    macd = fast_ema - slow_ema\n",
    "    # Signal line is 9-period EMA of MACD\n",
    "    signal = macd - macd.ewm(span=signal, adjust=False).mean()\n",
    "    return signal"
   ]
  },
  {
   "cell_type": "markdown",
   "metadata": {},
   "source": [
    "Alternatively, here we could be using trading signals from the ta library.  \n",
    "\n",
    "We'll now set up the feed that goes into our decision making:"
   ]
  },
  {
   "cell_type": "code",
   "execution_count": 58,
   "metadata": {},
   "outputs": [],
   "source": [
    "features = []\n",
    "for col in data.columns:\n",
    "    s = Stream.source(list(data[col]), dtype=\"float\").rename(data[col].name)\n",
    "    features += [s]\n",
    "\n",
    "closing_price = Stream.select(features, lambda s: s.name == \"close\")"
   ]
  },
  {
   "cell_type": "markdown",
   "metadata": {},
   "source": [
    "We are selecting the closing price as a feature.  \n",
    "Now, we'll add our indicators as additional features:"
   ]
  },
  {
   "cell_type": "code",
   "execution_count": 62,
   "metadata": {},
   "outputs": [],
   "source": [
    "features = [\n",
    "    closing_price.log().diff().rename(\"lr\"),\n",
    "    relative_strength_index(closing_price, period=20).rename(\"rsi\"),\n",
    "    moving_average_convergence_divergence(\n",
    "        closing_price, fast=10, slow=50, signal=5\n",
    "    ).rename(\"macd\"),\n",
    "]\n",
    "\n",
    "feed = DataFeed(features)\n",
    "feed.compile()"
   ]
  },
  {
   "cell_type": "markdown",
   "metadata": {},
   "source": [
    "Aside from RSI and MACD, we are also adding a trend indicator (LR).\n",
    "We can have a look at the first five lines from the data feed:"
   ]
  },
  {
   "cell_type": "code",
   "execution_count": 63,
   "metadata": {},
   "outputs": [
    {
     "name": "stdout",
     "output_type": "stream",
     "text": [
      "{'lr': nan, 'rsi': nan, 'macd': 0.0}\n",
      "{'lr': -0.00022768891842694927, 'rsi': 0.0, 'macd': -0.1891859774210995}\n",
      "{'lr': -0.0012033785355889393, 'rsi': 0.0, 'macd': -1.2726616061000744}\n",
      "{'lr': -0.0023134975946028646, 'rsi': 0.0, 'macd': -3.6577343503541435}\n",
      "{'lr': 0.01000681330867259, 'rsi': 74.26253567956897, 'macd': 3.7087743627464844}\n"
     ]
    }
   ],
   "source": [
    "for i in range(5):\n",
    "    print(feed.next())"
   ]
  },
  {
   "cell_type": "markdown",
   "metadata": {},
   "source": [
    "Let's set up the broker:"
   ]
  },
  {
   "cell_type": "code",
   "execution_count": 66,
   "metadata": {},
   "outputs": [],
   "source": [
    "bitstamp = Exchange(\"bitstamp\", service=execute_order)(\n",
    "    Stream.source(list(data[\"close\"]), dtype=\"float\").rename(\"USD-BTC\")\n",
    ")"
   ]
  },
  {
   "cell_type": "markdown",
   "metadata": {},
   "source": [
    "The exchange is the interface that will let us execute orders. An exchange needs\n",
    "a name, an execution service, and streams of price data. Currently, TensorTrade\n",
    "supports a simulated execution service using simulated or stochastic data.  \n",
    "\n",
    "Now we need a portfolio:"
   ]
  },
  {
   "cell_type": "code",
   "execution_count": 67,
   "metadata": {},
   "outputs": [],
   "source": [
    "portfolio = Portfolio(USD, [Wallet(bitstamp, 10000 * USD), Wallet(bitstamp, 10 * BTC)])"
   ]
  },
  {
   "cell_type": "markdown",
   "metadata": {},
   "source": [
    "A portfolio can be any combination of exchanges and instruments that the exchange\n",
    "supports.  \n",
    "\n",
    "TensorTrade includes lots of monitoring tools, called renderers, which can be\n",
    "attached to the environment. They can draw a chart (PlotlyTradingChart) or log to a\n",
    "file (FileLogger), for example. Here's our setup:"
   ]
  },
  {
   "cell_type": "code",
   "execution_count": 68,
   "metadata": {},
   "outputs": [],
   "source": [
    "# Create the agent\n",
    "renderer_feed = DataFeed(\n",
    "    [\n",
    "        Stream.source(list(data[\"date\"])).rename(\"date\"),\n",
    "        Stream.source(list(data[\"open\"]), dtype=\"float\").rename(\"open\"),\n",
    "        Stream.source(list(data[\"high\"]), dtype=\"float\").rename(\"high\"),\n",
    "        Stream.source(list(data[\"low\"]), dtype=\"float\").rename(\"low\"),\n",
    "        Stream.source(list(data[\"close\"]), dtype=\"float\").rename(\"close\"),\n",
    "        Stream.source(list(data[\"volume\"]), dtype=\"float\").rename(\"volume\"),\n",
    "    ]\n",
    ")"
   ]
  },
  {
   "cell_type": "markdown",
   "metadata": {},
   "source": [
    "Finally, here's the trading environment, which is an instance of the OpenAI Gym (the\n",
    "OpenAI Gym provides a wide variety of simulated environments):"
   ]
  },
  {
   "cell_type": "code",
   "execution_count": 69,
   "metadata": {},
   "outputs": [],
   "source": [
    "env = default.create(\n",
    "    portfolio=portfolio,\n",
    "    action_scheme=\"managed-risk\",\n",
    "    reward_scheme=\"risk-adjusted\",\n",
    "    feed=feed,\n",
    "    renderer_feed=renderer_feed,\n",
    "    renderer=default.renderers.PlotlyTradingChart(),\n",
    "    window_size=20,\n",
    ")"
   ]
  },
  {
   "cell_type": "markdown",
   "metadata": {},
   "source": [
    "Let's check the Gym feed:"
   ]
  },
  {
   "cell_type": "code",
   "execution_count": 70,
   "metadata": {},
   "outputs": [
    {
     "data": {
      "text/plain": [
       "{'internal': {'bitstamp:/USD-BTC': 8740.99,\n",
       "  'bitstamp:/USD:/free': 10000.0,\n",
       "  'bitstamp:/USD:/locked': 0.0,\n",
       "  'bitstamp:/USD:/total': 10000.0,\n",
       "  'bitstamp:/BTC:/free': 10.0,\n",
       "  'bitstamp:/BTC:/locked': 0.0,\n",
       "  'bitstamp:/BTC:/total': 10.0,\n",
       "  'bitstamp:/BTC:/worth': 87409.9,\n",
       "  'net_worth': 97409.9},\n",
       " 'external': {'lr': nan, 'rsi': nan, 'macd': 0.0},\n",
       " 'renderer': {'date': Timestamp('2018-05-15 06:00:00'),\n",
       "  'open': 8733.86,\n",
       "  'high': 8796.68,\n",
       "  'low': 8707.28,\n",
       "  'close': 8740.99,\n",
       "  'volume': 559.93}}"
      ]
     },
     "execution_count": 70,
     "metadata": {},
     "output_type": "execute_result"
    }
   ],
   "source": [
    "env.observer.feed.next()"
   ]
  },
  {
   "cell_type": "markdown",
   "metadata": {},
   "source": [
    "This is what the trading bot will be able to rely on for making decisions on executing\n",
    "trades.  \n",
    "Now we can set up and train our DQN trading agent:"
   ]
  },
  {
   "cell_type": "code",
   "execution_count": 71,
   "metadata": {},
   "outputs": [
    {
     "name": "stderr",
     "output_type": "stream",
     "text": [
      "/var/folders/63/m20qx7592pb4b2zvqmy711qc0000gn/T/ipykernel_66011/179255854.py:1: DeprecationWarning: Call to deprecated class DQNAgent. (Builtin agents are being deprecated in favor of external implementations (ie: Ray)) -- Deprecated since version 1.0.4.\n",
      "  agent = DQNAgent(env)\n",
      "/Users/frankkelly/Library/Caches/pypoetry/virtualenvs/time-series-analysis-book-Kh4ECq7S-py3.9/lib/python3.9/site-packages/deprecated/classic.py:173: DeprecationWarning: Call to deprecated class Agent. (Builtin agents are being deprecated in favor of external implementations (ie: Ray)) -- Deprecated since version 1.0.4.\n",
      "  return old_new1(cls, *args, **kwargs)\n",
      "2022-07-29 01:24:49.129071: I tensorflow/core/platform/cpu_feature_guard.cc:193] This TensorFlow binary is optimized with oneAPI Deep Neural Network Library (oneDNN) to use the following CPU instructions in performance-critical operations:  AVX2 FMA\n",
      "To enable them in other operations, rebuild TensorFlow with the appropriate compiler flags.\n",
      "/Users/frankkelly/Library/Caches/pypoetry/virtualenvs/time-series-analysis-book-Kh4ECq7S-py3.9/lib/python3.9/site-packages/tensortrade/agents/dqn_agent.py:304: DeprecationWarning: Call to deprecated class ReplayMemory. (Builtin agents are being deprecated in favor of external implementations (ie: Ray)) -- Deprecated since version 1.0.4.\n",
      "  memory = ReplayMemory(memory_capacity, transition_type=DQNTransition)\n"
     ]
    },
    {
     "name": "stdout",
     "output_type": "stream",
     "text": [
      "====      AGENT ID: 5d855224-765d-4d0c-a10c-32b142bedfa9      ====\n"
     ]
    },
    {
     "data": {
      "application/vnd.jupyter.widget-view+json": {
       "model_id": "5a95dff502e6465b97c42c73d4ef69fb",
       "version_major": 2,
       "version_minor": 0
      },
      "text/plain": [
       "FigureWidget({\n",
       "    'data': [{'name': 'Price',\n",
       "              'showlegend': False,\n",
       "              'type': 'candle…"
      ]
     },
     "metadata": {},
     "output_type": "display_data"
    },
    {
     "data": {
      "application/vnd.plotly.v1+json": {
       "config": {
        "plotlyServerURL": "https://plot.ly"
       },
       "data": [
        {
         "close": [
          8740.99,
          8739,
          8728.49,
          8708.32,
          8795.9,
          8760,
          8760,
          8759.23,
          8517.77,
          8520.3,
          8535.23,
          8546.34,
          8526.65,
          8555.6,
          8512.1,
          8492.28,
          8460,
          8474.99,
          8455.92,
          8326.28,
          8133.43
         ],
         "high": [
          8796.68,
          8766,
          8750.27,
          8754.4,
          8865,
          8821.19,
          8798.6,
          8771.02,
          8761.7,
          8553.67,
          8589.1,
          8579.48,
          8555.51,
          8583.6,
          8569.92,
          8555.54,
          8557.51,
          8505,
          8505.33,
          8478.29,
          8339.81
         ],
         "low": [
          8707.28,
          8721.11,
          8660.53,
          8701.35,
          8695.11,
          8740.54,
          8741.52,
          8700,
          8467.42,
          8477.89,
          8500.78,
          8500,
          8400,
          8451.05,
          8461.38,
          8481.24,
          8420.37,
          8450,
          8430.94,
          8275.02,
          8100.01
         ],
         "name": "Price",
         "open": [
          8733.86,
          8740.99,
          8739,
          8728.49,
          8708.32,
          8795.9,
          8760,
          8760,
          8759.23,
          8517.77,
          8520.3,
          8535.23,
          8546.34,
          8526.65,
          8555.6,
          8512.1,
          8492.28,
          8460,
          8474.99,
          8455.92,
          8326.28
         ],
         "showlegend": false,
         "type": "candlestick",
         "uid": "77128b01-1253-444b-9fba-d16797794175",
         "xaxis": "x",
         "yaxis": "y"
        },
        {
         "marker": {
          "color": "DodgerBlue"
         },
         "name": "Volume",
         "showlegend": false,
         "type": "bar",
         "uid": "9dcecade-0541-4a84-8f61-ce99015e488b",
         "xaxis": "x2",
         "y": [
          559.93,
          273.58,
          917.79,
          182.62,
          1260.69,
          324.11,
          324.2,
          730.67,
          1341.75,
          792.07,
          385.69,
          475.08,
          877.26,
          670.49,
          610.97,
          168.99,
          305.92,
          136.05,
          154.26,
          1070.93,
          1710.2
         ],
         "yaxis": "y2"
        },
        {
         "mode": "lines",
         "name": "bitstamp:/USD-BTC",
         "type": "scatter",
         "uid": "b3610eea-9870-4a75-8f30-1c3b9b68ccd1",
         "xaxis": "x3",
         "y": [
          8740.99,
          8739,
          8728.49,
          8708.32,
          8795.9,
          8760,
          8760,
          8759.23,
          8517.77,
          8520.3,
          8535.23,
          8546.34,
          8526.65,
          8555.6,
          8512.1,
          8492.28,
          8460,
          8474.99,
          8455.92,
          8326.28,
          8133.43
         ],
         "yaxis": "y3"
        },
        {
         "mode": "lines",
         "name": "bitstamp:/USD:/free",
         "type": "scatter",
         "uid": "ea66d02e-e037-4510-a457-e9bd74f24c2b",
         "xaxis": "x3",
         "y": [
          10000,
          3000,
          3000,
          3000,
          3000,
          3000,
          3000,
          3000,
          3000,
          9780.37,
          9780.37,
          9780.37,
          2934.11,
          2934.11,
          2934.11,
          2934.11,
          2934.11,
          293.41,
          293.41,
          293.41,
          6923.42
         ],
         "yaxis": "y3"
        },
        {
         "mode": "lines",
         "name": "bitstamp:/USD:/locked",
         "type": "scatter",
         "uid": "fb661c40-5608-44f7-99d3-e46afb27d1f9",
         "xaxis": "x3",
         "y": [
          0,
          0,
          0,
          0,
          0,
          0,
          0,
          0,
          0,
          0,
          0,
          0,
          0,
          0,
          0,
          0,
          0,
          0,
          0,
          0,
          0
         ],
         "yaxis": "y3"
        },
        {
         "mode": "lines",
         "name": "bitstamp:/USD:/total",
         "type": "scatter",
         "uid": "c0bf27d9-e1c6-4ca9-bee9-36b24eb2e6ef",
         "xaxis": "x3",
         "y": [
          10000,
          3000,
          3000,
          3000,
          3000,
          3000,
          3000,
          3000,
          3000,
          9780.37,
          9780.37,
          9780.37,
          2934.11,
          2934.11,
          2934.11,
          2934.11,
          2934.11,
          293.41,
          293.41,
          293.41,
          6923.42
         ],
         "yaxis": "y3"
        },
        {
         "mode": "lines",
         "name": "bitstamp:/BTC:/free",
         "type": "scatter",
         "uid": "aba4850a-d13f-43a5-b660-59886fc23ede",
         "xaxis": "x3",
         "y": [
          10,
          10,
          10,
          10,
          10,
          10,
          10,
          10,
          10,
          10,
          10,
          10,
          10,
          10,
          10,
          10,
          10,
          10,
          10,
          10,
          10
         ],
         "yaxis": "y3"
        },
        {
         "mode": "lines",
         "name": "bitstamp:/BTC:/locked",
         "type": "scatter",
         "uid": "9b3ce381-607d-44b8-aab1-3bf1923665b6",
         "xaxis": "x3",
         "y": [
          0,
          0.79842215,
          0.79842215,
          0.79842215,
          0.79842215,
          0.79842215,
          0.79842215,
          0.79842215,
          0.79842215,
          0,
          0,
          0,
          0.79867171,
          0.79867171,
          0.79867171,
          0.79867171,
          0.79867171,
          1.10987502,
          1.10987502,
          1.10987502,
          0.31120331
         ],
         "yaxis": "y3"
        },
        {
         "mode": "lines",
         "name": "bitstamp:/BTC:/total",
         "type": "scatter",
         "uid": "5557485e-c34e-494d-8bee-8951c37f8554",
         "xaxis": "x3",
         "y": [
          10,
          10.79842215,
          10.79842215,
          10.79842215,
          10.79842215,
          10.79842215,
          10.79842215,
          10.79842215,
          10.79842215,
          10,
          10,
          10,
          10.79867171,
          10.79867171,
          10.79867171,
          10.79867171,
          10.79867171,
          11.10987502,
          11.10987502,
          11.10987502,
          10.31120331
         ],
         "yaxis": "y3"
        },
        {
         "mode": "lines",
         "name": "bitstamp:/BTC:/worth",
         "type": "scatter",
         "uid": "321c3fe7-7849-4196-a1e0-fe124b314c73",
         "xaxis": "x3",
         "y": [
          87409.9,
          94367.41116885,
          94253.9197520535,
          94036.115577288,
          94981.84138918499,
          94594.178034,
          94594.178034,
          94585.8632489445,
          91978.47623660551,
          85203,
          85352.29999999999,
          85463.4,
          92076.4941360715,
          92389.11568207601,
          91919.37346269102,
          91705.34378939882,
          91356.7626666,
          94156.0796957498,
          93944.2143791184,
          92503.93018152562,
          83865.4503376533
         ],
         "yaxis": "y3"
        },
        {
         "mode": "lines",
         "name": "net_worth",
         "type": "scatter",
         "uid": "df5e426b-c637-48ae-be80-38f810ca2956",
         "xaxis": "x3",
         "y": [
          97409.9,
          97367.41116885,
          97253.9197520535,
          97036.115577288,
          97981.84138918499,
          97594.178034,
          97594.178034,
          97585.8632489445,
          94978.47623660551,
          94983.37,
          95132.66999999998,
          95243.76999999999,
          95010.6041360715,
          95323.22568207601,
          94853.48346269102,
          94639.45378939882,
          94290.8726666,
          94449.4896957498,
          94237.62437911841,
          92797.34018152562,
          90788.8703376533
         ],
         "yaxis": "y3"
        },
        {
         "marker": {
          "color": "DarkGreen"
         },
         "mode": "lines",
         "name": "Net Worth",
         "type": "scatter",
         "uid": "9c96b727-5230-4d89-be49-db2bef7e8edd",
         "xaxis": "x4",
         "y": [
          97409.9,
          97367.41116885,
          97253.9197520535,
          97036.115577288,
          97981.84138918499,
          97594.178034,
          97594.178034,
          97585.8632489445,
          94978.47623660551,
          94983.37,
          95132.66999999998,
          95243.76999999999,
          95010.6041360715,
          95323.22568207601,
          94853.48346269102,
          94639.45378939882,
          94290.8726666,
          94449.4896957498,
          94237.62437911841,
          92797.34018152562,
          90788.8703376533
         ],
         "yaxis": "y4"
        }
       ],
       "layout": {
        "annotations": [
         {
          "arrowcolor": "FireBrick",
          "arrowhead": 2,
          "arrowsize": 0.8,
          "arrowwidth": 4,
          "ax": 0,
          "ay": -15,
          "hoverlabel": {
           "bgcolor": "FireBrick"
          },
          "hovertext": "Step 20 [2018-05-16 01:00:00]<br>SELL 0.79627569 BTC @ 8326.28 USD MARKET<br>Total: 6630.01 USD - Comm.: 0.00239602 BTC",
          "opacity": 0.6,
          "showarrow": true,
          "x": 19,
          "xref": "x",
          "y": 8326.28,
          "yref": "y"
         },
         {
          "arrowcolor": "DarkGreen",
          "arrowhead": 2,
          "arrowsize": 0.8,
          "arrowwidth": 4,
          "ax": 0,
          "ay": 15,
          "hoverlabel": {
           "bgcolor": "DarkGreen"
          },
          "hovertext": "Step 17 [2018-05-15 22:00:00]<br>BUY 0.31120331 BTC @ 8460.0 USD MARKET<br>Total: 2632.78 USD - Comm.: 7.92 USD",
          "opacity": 0.6,
          "showarrow": true,
          "x": 16,
          "xref": "x",
          "y": 8460,
          "yref": "y"
         },
         {
          "arrowcolor": "DarkGreen",
          "arrowhead": 2,
          "arrowsize": 0.8,
          "arrowwidth": 4,
          "ax": 0,
          "ay": 15,
          "hoverlabel": {
           "bgcolor": "DarkGreen"
          },
          "hovertext": "Step 12 [2018-05-15 17:00:00]<br>BUY 0.79867171 BTC @ 8546.34 USD MARKET<br>Total: 6825.72 USD - Comm.: 20.54 USD",
          "opacity": 0.6,
          "showarrow": true,
          "x": 11,
          "xref": "x",
          "y": 8546.34,
          "yref": "y"
         },
         {
          "arrowcolor": "FireBrick",
          "arrowhead": 2,
          "arrowsize": 0.8,
          "arrowwidth": 4,
          "ax": 0,
          "ay": -15,
          "hoverlabel": {
           "bgcolor": "FireBrick"
          },
          "hovertext": "Step 9 [2018-05-15 14:00:00]<br>SELL 0.79602688 BTC @ 8517.77 USD MARKET<br>Total: 6780.37 USD - Comm.: 0.00239527 BTC",
          "opacity": 0.6,
          "showarrow": true,
          "x": 8,
          "xref": "x",
          "y": 8517.77,
          "yref": "y"
         },
         {
          "arrowcolor": "DarkGreen",
          "arrowhead": 2,
          "arrowsize": 0.8,
          "arrowwidth": 4,
          "ax": 0,
          "ay": 15,
          "hoverlabel": {
           "bgcolor": "DarkGreen"
          },
          "hovertext": "Step 1 [2018-05-15 06:00:00]<br>BUY 0.79842215 BTC @ 8740.99 USD MARKET<br>Total: 6979.0 USD - Comm.: 21.00 USD",
          "opacity": 0.6,
          "showarrow": true,
          "x": 0,
          "xref": "x",
          "y": 8740.99,
          "yref": "y"
         }
        ],
        "margin": {
         "t": 50
        },
        "template": {
         "data": {
          "bar": [
           {
            "error_x": {
             "color": "#2a3f5f"
            },
            "error_y": {
             "color": "#2a3f5f"
            },
            "marker": {
             "line": {
              "color": "white",
              "width": 0.5
             },
             "pattern": {
              "fillmode": "overlay",
              "size": 10,
              "solidity": 0.2
             }
            },
            "type": "bar"
           }
          ],
          "barpolar": [
           {
            "marker": {
             "line": {
              "color": "white",
              "width": 0.5
             },
             "pattern": {
              "fillmode": "overlay",
              "size": 10,
              "solidity": 0.2
             }
            },
            "type": "barpolar"
           }
          ],
          "carpet": [
           {
            "aaxis": {
             "endlinecolor": "#2a3f5f",
             "gridcolor": "#C8D4E3",
             "linecolor": "#C8D4E3",
             "minorgridcolor": "#C8D4E3",
             "startlinecolor": "#2a3f5f"
            },
            "baxis": {
             "endlinecolor": "#2a3f5f",
             "gridcolor": "#C8D4E3",
             "linecolor": "#C8D4E3",
             "minorgridcolor": "#C8D4E3",
             "startlinecolor": "#2a3f5f"
            },
            "type": "carpet"
           }
          ],
          "choropleth": [
           {
            "colorbar": {
             "outlinewidth": 0,
             "ticks": ""
            },
            "type": "choropleth"
           }
          ],
          "contour": [
           {
            "colorbar": {
             "outlinewidth": 0,
             "ticks": ""
            },
            "colorscale": [
             [
              0,
              "#0d0887"
             ],
             [
              0.1111111111111111,
              "#46039f"
             ],
             [
              0.2222222222222222,
              "#7201a8"
             ],
             [
              0.3333333333333333,
              "#9c179e"
             ],
             [
              0.4444444444444444,
              "#bd3786"
             ],
             [
              0.5555555555555556,
              "#d8576b"
             ],
             [
              0.6666666666666666,
              "#ed7953"
             ],
             [
              0.7777777777777778,
              "#fb9f3a"
             ],
             [
              0.8888888888888888,
              "#fdca26"
             ],
             [
              1,
              "#f0f921"
             ]
            ],
            "type": "contour"
           }
          ],
          "contourcarpet": [
           {
            "colorbar": {
             "outlinewidth": 0,
             "ticks": ""
            },
            "type": "contourcarpet"
           }
          ],
          "heatmap": [
           {
            "colorbar": {
             "outlinewidth": 0,
             "ticks": ""
            },
            "colorscale": [
             [
              0,
              "#0d0887"
             ],
             [
              0.1111111111111111,
              "#46039f"
             ],
             [
              0.2222222222222222,
              "#7201a8"
             ],
             [
              0.3333333333333333,
              "#9c179e"
             ],
             [
              0.4444444444444444,
              "#bd3786"
             ],
             [
              0.5555555555555556,
              "#d8576b"
             ],
             [
              0.6666666666666666,
              "#ed7953"
             ],
             [
              0.7777777777777778,
              "#fb9f3a"
             ],
             [
              0.8888888888888888,
              "#fdca26"
             ],
             [
              1,
              "#f0f921"
             ]
            ],
            "type": "heatmap"
           }
          ],
          "heatmapgl": [
           {
            "colorbar": {
             "outlinewidth": 0,
             "ticks": ""
            },
            "colorscale": [
             [
              0,
              "#0d0887"
             ],
             [
              0.1111111111111111,
              "#46039f"
             ],
             [
              0.2222222222222222,
              "#7201a8"
             ],
             [
              0.3333333333333333,
              "#9c179e"
             ],
             [
              0.4444444444444444,
              "#bd3786"
             ],
             [
              0.5555555555555556,
              "#d8576b"
             ],
             [
              0.6666666666666666,
              "#ed7953"
             ],
             [
              0.7777777777777778,
              "#fb9f3a"
             ],
             [
              0.8888888888888888,
              "#fdca26"
             ],
             [
              1,
              "#f0f921"
             ]
            ],
            "type": "heatmapgl"
           }
          ],
          "histogram": [
           {
            "marker": {
             "pattern": {
              "fillmode": "overlay",
              "size": 10,
              "solidity": 0.2
             }
            },
            "type": "histogram"
           }
          ],
          "histogram2d": [
           {
            "colorbar": {
             "outlinewidth": 0,
             "ticks": ""
            },
            "colorscale": [
             [
              0,
              "#0d0887"
             ],
             [
              0.1111111111111111,
              "#46039f"
             ],
             [
              0.2222222222222222,
              "#7201a8"
             ],
             [
              0.3333333333333333,
              "#9c179e"
             ],
             [
              0.4444444444444444,
              "#bd3786"
             ],
             [
              0.5555555555555556,
              "#d8576b"
             ],
             [
              0.6666666666666666,
              "#ed7953"
             ],
             [
              0.7777777777777778,
              "#fb9f3a"
             ],
             [
              0.8888888888888888,
              "#fdca26"
             ],
             [
              1,
              "#f0f921"
             ]
            ],
            "type": "histogram2d"
           }
          ],
          "histogram2dcontour": [
           {
            "colorbar": {
             "outlinewidth": 0,
             "ticks": ""
            },
            "colorscale": [
             [
              0,
              "#0d0887"
             ],
             [
              0.1111111111111111,
              "#46039f"
             ],
             [
              0.2222222222222222,
              "#7201a8"
             ],
             [
              0.3333333333333333,
              "#9c179e"
             ],
             [
              0.4444444444444444,
              "#bd3786"
             ],
             [
              0.5555555555555556,
              "#d8576b"
             ],
             [
              0.6666666666666666,
              "#ed7953"
             ],
             [
              0.7777777777777778,
              "#fb9f3a"
             ],
             [
              0.8888888888888888,
              "#fdca26"
             ],
             [
              1,
              "#f0f921"
             ]
            ],
            "type": "histogram2dcontour"
           }
          ],
          "mesh3d": [
           {
            "colorbar": {
             "outlinewidth": 0,
             "ticks": ""
            },
            "type": "mesh3d"
           }
          ],
          "parcoords": [
           {
            "line": {
             "colorbar": {
              "outlinewidth": 0,
              "ticks": ""
             }
            },
            "type": "parcoords"
           }
          ],
          "pie": [
           {
            "automargin": true,
            "type": "pie"
           }
          ],
          "scatter": [
           {
            "fillpattern": {
             "fillmode": "overlay",
             "size": 10,
             "solidity": 0.2
            },
            "type": "scatter"
           }
          ],
          "scatter3d": [
           {
            "line": {
             "colorbar": {
              "outlinewidth": 0,
              "ticks": ""
             }
            },
            "marker": {
             "colorbar": {
              "outlinewidth": 0,
              "ticks": ""
             }
            },
            "type": "scatter3d"
           }
          ],
          "scattercarpet": [
           {
            "marker": {
             "colorbar": {
              "outlinewidth": 0,
              "ticks": ""
             }
            },
            "type": "scattercarpet"
           }
          ],
          "scattergeo": [
           {
            "marker": {
             "colorbar": {
              "outlinewidth": 0,
              "ticks": ""
             }
            },
            "type": "scattergeo"
           }
          ],
          "scattergl": [
           {
            "marker": {
             "colorbar": {
              "outlinewidth": 0,
              "ticks": ""
             }
            },
            "type": "scattergl"
           }
          ],
          "scattermapbox": [
           {
            "marker": {
             "colorbar": {
              "outlinewidth": 0,
              "ticks": ""
             }
            },
            "type": "scattermapbox"
           }
          ],
          "scatterpolar": [
           {
            "marker": {
             "colorbar": {
              "outlinewidth": 0,
              "ticks": ""
             }
            },
            "type": "scatterpolar"
           }
          ],
          "scatterpolargl": [
           {
            "marker": {
             "colorbar": {
              "outlinewidth": 0,
              "ticks": ""
             }
            },
            "type": "scatterpolargl"
           }
          ],
          "scatterternary": [
           {
            "marker": {
             "colorbar": {
              "outlinewidth": 0,
              "ticks": ""
             }
            },
            "type": "scatterternary"
           }
          ],
          "surface": [
           {
            "colorbar": {
             "outlinewidth": 0,
             "ticks": ""
            },
            "colorscale": [
             [
              0,
              "#0d0887"
             ],
             [
              0.1111111111111111,
              "#46039f"
             ],
             [
              0.2222222222222222,
              "#7201a8"
             ],
             [
              0.3333333333333333,
              "#9c179e"
             ],
             [
              0.4444444444444444,
              "#bd3786"
             ],
             [
              0.5555555555555556,
              "#d8576b"
             ],
             [
              0.6666666666666666,
              "#ed7953"
             ],
             [
              0.7777777777777778,
              "#fb9f3a"
             ],
             [
              0.8888888888888888,
              "#fdca26"
             ],
             [
              1,
              "#f0f921"
             ]
            ],
            "type": "surface"
           }
          ],
          "table": [
           {
            "cells": {
             "fill": {
              "color": "#EBF0F8"
             },
             "line": {
              "color": "white"
             }
            },
            "header": {
             "fill": {
              "color": "#C8D4E3"
             },
             "line": {
              "color": "white"
             }
            },
            "type": "table"
           }
          ]
         },
         "layout": {
          "annotationdefaults": {
           "arrowcolor": "#2a3f5f",
           "arrowhead": 0,
           "arrowwidth": 1
          },
          "autotypenumbers": "strict",
          "coloraxis": {
           "colorbar": {
            "outlinewidth": 0,
            "ticks": ""
           }
          },
          "colorscale": {
           "diverging": [
            [
             0,
             "#8e0152"
            ],
            [
             0.1,
             "#c51b7d"
            ],
            [
             0.2,
             "#de77ae"
            ],
            [
             0.3,
             "#f1b6da"
            ],
            [
             0.4,
             "#fde0ef"
            ],
            [
             0.5,
             "#f7f7f7"
            ],
            [
             0.6,
             "#e6f5d0"
            ],
            [
             0.7,
             "#b8e186"
            ],
            [
             0.8,
             "#7fbc41"
            ],
            [
             0.9,
             "#4d9221"
            ],
            [
             1,
             "#276419"
            ]
           ],
           "sequential": [
            [
             0,
             "#0d0887"
            ],
            [
             0.1111111111111111,
             "#46039f"
            ],
            [
             0.2222222222222222,
             "#7201a8"
            ],
            [
             0.3333333333333333,
             "#9c179e"
            ],
            [
             0.4444444444444444,
             "#bd3786"
            ],
            [
             0.5555555555555556,
             "#d8576b"
            ],
            [
             0.6666666666666666,
             "#ed7953"
            ],
            [
             0.7777777777777778,
             "#fb9f3a"
            ],
            [
             0.8888888888888888,
             "#fdca26"
            ],
            [
             1,
             "#f0f921"
            ]
           ],
           "sequentialminus": [
            [
             0,
             "#0d0887"
            ],
            [
             0.1111111111111111,
             "#46039f"
            ],
            [
             0.2222222222222222,
             "#7201a8"
            ],
            [
             0.3333333333333333,
             "#9c179e"
            ],
            [
             0.4444444444444444,
             "#bd3786"
            ],
            [
             0.5555555555555556,
             "#d8576b"
            ],
            [
             0.6666666666666666,
             "#ed7953"
            ],
            [
             0.7777777777777778,
             "#fb9f3a"
            ],
            [
             0.8888888888888888,
             "#fdca26"
            ],
            [
             1,
             "#f0f921"
            ]
           ]
          },
          "colorway": [
           "#636efa",
           "#EF553B",
           "#00cc96",
           "#ab63fa",
           "#FFA15A",
           "#19d3f3",
           "#FF6692",
           "#B6E880",
           "#FF97FF",
           "#FECB52"
          ],
          "font": {
           "color": "#2a3f5f"
          },
          "geo": {
           "bgcolor": "white",
           "lakecolor": "white",
           "landcolor": "white",
           "showlakes": true,
           "showland": true,
           "subunitcolor": "#C8D4E3"
          },
          "hoverlabel": {
           "align": "left"
          },
          "hovermode": "closest",
          "mapbox": {
           "style": "light"
          },
          "paper_bgcolor": "white",
          "plot_bgcolor": "white",
          "polar": {
           "angularaxis": {
            "gridcolor": "#EBF0F8",
            "linecolor": "#EBF0F8",
            "ticks": ""
           },
           "bgcolor": "white",
           "radialaxis": {
            "gridcolor": "#EBF0F8",
            "linecolor": "#EBF0F8",
            "ticks": ""
           }
          },
          "scene": {
           "xaxis": {
            "backgroundcolor": "white",
            "gridcolor": "#DFE8F3",
            "gridwidth": 2,
            "linecolor": "#EBF0F8",
            "showbackground": true,
            "ticks": "",
            "zerolinecolor": "#EBF0F8"
           },
           "yaxis": {
            "backgroundcolor": "white",
            "gridcolor": "#DFE8F3",
            "gridwidth": 2,
            "linecolor": "#EBF0F8",
            "showbackground": true,
            "ticks": "",
            "zerolinecolor": "#EBF0F8"
           },
           "zaxis": {
            "backgroundcolor": "white",
            "gridcolor": "#DFE8F3",
            "gridwidth": 2,
            "linecolor": "#EBF0F8",
            "showbackground": true,
            "ticks": "",
            "zerolinecolor": "#EBF0F8"
           }
          },
          "shapedefaults": {
           "line": {
            "color": "#2a3f5f"
           }
          },
          "ternary": {
           "aaxis": {
            "gridcolor": "#DFE8F3",
            "linecolor": "#A2B1C6",
            "ticks": ""
           },
           "baxis": {
            "gridcolor": "#DFE8F3",
            "linecolor": "#A2B1C6",
            "ticks": ""
           },
           "bgcolor": "white",
           "caxis": {
            "gridcolor": "#DFE8F3",
            "linecolor": "#A2B1C6",
            "ticks": ""
           }
          },
          "title": {
           "x": 0.05
          },
          "xaxis": {
           "automargin": true,
           "gridcolor": "#EBF0F8",
           "linecolor": "#EBF0F8",
           "ticks": "",
           "title": {
            "standoff": 15
           },
           "zerolinecolor": "#EBF0F8",
           "zerolinewidth": 2
          },
          "yaxis": {
           "automargin": true,
           "gridcolor": "#EBF0F8",
           "linecolor": "#EBF0F8",
           "ticks": "",
           "title": {
            "standoff": 15
           },
           "zerolinecolor": "#EBF0F8",
           "zerolinewidth": 2
          }
         }
        },
        "title": {
         "text": "[2022-07-29 01:25:08] Episode: 2/2 Step: 21/200"
        },
        "xaxis": {
         "anchor": "y",
         "domain": [
          0,
          1
         ],
         "gridcolor": "Gainsboro",
         "linecolor": "Grey",
         "matches": "x4",
         "rangeslider": {
          "visible": false
         },
         "showticklabels": false,
         "title": {
          "font": {
           "size": 12
          },
          "standoff": 7,
          "text": "Price"
         }
        },
        "xaxis2": {
         "anchor": "y2",
         "domain": [
          0,
          1
         ],
         "gridcolor": "Gainsboro",
         "linecolor": "Grey",
         "matches": "x4",
         "showticklabels": false,
         "title": {
          "font": {
           "size": 12
          },
          "standoff": 7,
          "text": "Volume"
         }
        },
        "xaxis3": {
         "anchor": "y3",
         "domain": [
          0,
          1
         ],
         "gridcolor": "Gainsboro",
         "linecolor": "Grey",
         "matches": "x4",
         "showticklabels": false,
         "title": {
          "font": {
           "size": 12
          },
          "standoff": 7,
          "text": "Performance"
         }
        },
        "xaxis4": {
         "anchor": "y4",
         "domain": [
          0,
          1
         ],
         "gridcolor": "Gainsboro",
         "linecolor": "Grey",
         "title": {
          "font": {
           "size": 12
          },
          "standoff": 7,
          "text": "Net Worth"
         }
        },
        "yaxis": {
         "anchor": "x",
         "domain": [
          0.49950000000000006,
          1
         ],
         "gridcolor": "Gainsboro",
         "linecolor": "Grey"
        },
        "yaxis2": {
         "anchor": "x2",
         "domain": [
          0.333,
          0.46950000000000003
         ],
         "gridcolor": "Gainsboro",
         "linecolor": "Grey"
        },
        "yaxis3": {
         "anchor": "x3",
         "domain": [
          0.1665,
          0.30300000000000005
         ],
         "gridcolor": "Gainsboro",
         "linecolor": "Grey"
        },
        "yaxis4": {
         "anchor": "x4",
         "domain": [
          0,
          0.1365
         ],
         "gridcolor": "Gainsboro",
         "linecolor": "Grey"
        }
       }
      }
     },
     "metadata": {},
     "output_type": "display_data"
    },
    {
     "data": {
      "application/vnd.jupyter.widget-view+json": {
       "model_id": "5a95dff502e6465b97c42c73d4ef69fb",
       "version_major": 2,
       "version_minor": 0
      },
      "text/plain": [
       "FigureWidget({\n",
       "    'data': [{'close': array([8740.99, 8739.  , 8728.49, 8708.32, 8795.9 , 8760.  , 8760.  , 87…"
      ]
     },
     "metadata": {},
     "output_type": "display_data"
    },
    {
     "data": {
      "application/vnd.plotly.v1+json": {
       "config": {
        "plotlyServerURL": "https://plot.ly"
       },
       "data": [
        {
         "close": [
          8740.99,
          8739,
          8728.49,
          8708.32,
          8795.9,
          8760,
          8760,
          8759.23,
          8517.77,
          8520.3,
          8535.23,
          8546.34,
          8526.65,
          8555.6,
          8512.1,
          8492.28,
          8460,
          8474.99,
          8455.92,
          8326.28,
          8133.43,
          8164.79,
          8229.38,
          8220.4,
          8238.8,
          8232.99,
          8207.48,
          8243.45,
          8371.13,
          8373,
          8365.08,
          8179.99,
          8225,
          8285.8,
          8273.4,
          8297.4,
          8279.89,
          8252.72,
          8302.18,
          8295.85,
          8277.25
         ],
         "high": [
          8796.68,
          8766,
          8750.27,
          8754.4,
          8865,
          8821.19,
          8798.6,
          8771.02,
          8761.7,
          8553.67,
          8589.1,
          8579.48,
          8555.51,
          8583.6,
          8569.92,
          8555.54,
          8557.51,
          8505,
          8505.33,
          8478.29,
          8339.81,
          8217.44,
          8252.72,
          8248.63,
          8267.12,
          8255,
          8261.24,
          8263.93,
          8455.66,
          8439.44,
          8399.1,
          8381.73,
          8229.91,
          8377.29,
          8329.1,
          8350,
          8346.95,
          8377.29,
          8311.35,
          8319.96,
          8398.24
         ],
         "low": [
          8707.28,
          8721.11,
          8660.53,
          8701.35,
          8695.11,
          8740.54,
          8741.52,
          8700,
          8467.42,
          8477.89,
          8500.78,
          8500,
          8400,
          8451.05,
          8461.38,
          8481.24,
          8420.37,
          8450,
          8430.94,
          8275.02,
          8100.01,
          8122.56,
          8157.01,
          8166.25,
          8176.91,
          8213.79,
          8200,
          8207.48,
          8237.1,
          8370,
          8356.4,
          8145.1,
          8173.6,
          8211.8,
          8201,
          8250.9,
          8266.46,
          8252.72,
          8232.14,
          8268.37,
          8277.25
         ],
         "name": "Price",
         "open": [
          8733.86,
          8740.99,
          8739,
          8728.49,
          8708.32,
          8795.9,
          8760,
          8760,
          8759.23,
          8517.77,
          8520.3,
          8535.23,
          8546.34,
          8526.65,
          8555.6,
          8512.1,
          8492.28,
          8460,
          8474.99,
          8455.92,
          8326.28,
          8133.43,
          8164.79,
          8229.38,
          8220.4,
          8238.8,
          8232.99,
          8207.48,
          8243.45,
          8371.13,
          8373,
          8365.08,
          8179.99,
          8225,
          8285.8,
          8273.4,
          8297.4,
          8279.89,
          8252.72,
          8302.18,
          8295.85
         ],
         "showlegend": false,
         "type": "candlestick",
         "uid": "77128b01-1253-444b-9fba-d16797794175",
         "xaxis": "x",
         "yaxis": "y"
        },
        {
         "marker": {
          "color": "DodgerBlue"
         },
         "name": "Volume",
         "showlegend": false,
         "type": "bar",
         "uid": "9dcecade-0541-4a84-8f61-ce99015e488b",
         "xaxis": "x2",
         "y": [
          559.93,
          273.58,
          917.79,
          182.62,
          1260.69,
          324.11,
          324.2,
          730.67,
          1341.75,
          792.07,
          385.69,
          475.08,
          877.26,
          670.49,
          610.97,
          168.99,
          305.92,
          136.05,
          154.26,
          1070.93,
          1710.2,
          492.8,
          630.72,
          620.93,
          586.34,
          304.52,
          450.97,
          182.36,
          915.32,
          319.29,
          362.01,
          1046.38,
          357.91,
          561.2,
          322.53,
          1073.71,
          237.21,
          251.2,
          359.73,
          117.23,
          363.17
         ],
         "yaxis": "y2"
        },
        {
         "mode": "lines",
         "name": "bitstamp:/USD-BTC",
         "type": "scatter",
         "uid": "b3610eea-9870-4a75-8f30-1c3b9b68ccd1",
         "xaxis": "x3",
         "y": [
          8740.99,
          8739,
          8728.49,
          8708.32,
          8795.9,
          8760,
          8760,
          8759.23,
          8517.77,
          8520.3,
          8535.23,
          8546.34,
          8526.65,
          8555.6,
          8512.1,
          8492.28,
          8460,
          8474.99,
          8455.92,
          8326.28,
          8133.43,
          8164.79,
          8229.38,
          8220.4,
          8238.8,
          8232.99,
          8207.48,
          8243.45,
          8371.13,
          8373,
          8365.08,
          8179.99,
          8225,
          8285.8,
          8273.4,
          8297.4,
          8279.89,
          8252.72,
          8302.18,
          8295.85,
          8277.25
         ],
         "yaxis": "y3"
        },
        {
         "mode": "lines",
         "name": "bitstamp:/USD:/free",
         "type": "scatter",
         "uid": "ea66d02e-e037-4510-a457-e9bd74f24c2b",
         "xaxis": "x3",
         "y": [
          10000,
          3000,
          3000,
          3000,
          3000,
          3000,
          3000,
          3000,
          3000,
          9780.37,
          9780.37,
          9780.37,
          2934.11,
          2934.11,
          2934.11,
          2934.11,
          2934.11,
          293.41,
          293.41,
          293.41,
          6923.42,
          6923.42,
          6923.42,
          6923.42,
          2769.37,
          2769.37,
          2769.37,
          2769.37,
          2769.37,
          6974.25,
          6974.25,
          6974.25,
          6974.25,
          6974.25,
          6974.25,
          6974.25,
          6974.25,
          6974.25,
          6974.25,
          6974.25,
          6974.25
         ],
         "yaxis": "y3"
        },
        {
         "mode": "lines",
         "name": "bitstamp:/USD:/locked",
         "type": "scatter",
         "uid": "fb661c40-5608-44f7-99d3-e46afb27d1f9",
         "xaxis": "x3",
         "y": [
          0,
          0,
          0,
          0,
          0,
          0,
          0,
          0,
          0,
          0,
          0,
          0,
          0,
          0,
          0,
          0,
          0,
          0,
          0,
          0,
          0,
          0,
          0,
          0,
          0,
          0,
          0,
          0,
          0,
          0,
          0,
          0,
          0,
          0,
          0,
          0,
          0,
          0,
          0,
          0,
          0
         ],
         "yaxis": "y3"
        },
        {
         "mode": "lines",
         "name": "bitstamp:/USD:/total",
         "type": "scatter",
         "uid": "c0bf27d9-e1c6-4ca9-bee9-36b24eb2e6ef",
         "xaxis": "x3",
         "y": [
          10000,
          3000,
          3000,
          3000,
          3000,
          3000,
          3000,
          3000,
          3000,
          9780.37,
          9780.37,
          9780.37,
          2934.11,
          2934.11,
          2934.11,
          2934.11,
          2934.11,
          293.41,
          293.41,
          293.41,
          6923.42,
          6923.42,
          6923.42,
          6923.42,
          2769.37,
          2769.37,
          2769.37,
          2769.37,
          2769.37,
          6974.25,
          6974.25,
          6974.25,
          6974.25,
          6974.25,
          6974.25,
          6974.25,
          6974.25,
          6974.25,
          6974.25,
          6974.25,
          6974.25
         ],
         "yaxis": "y3"
        },
        {
         "mode": "lines",
         "name": "bitstamp:/BTC:/free",
         "type": "scatter",
         "uid": "aba4850a-d13f-43a5-b660-59886fc23ede",
         "xaxis": "x3",
         "y": [
          10,
          10,
          10,
          10,
          10,
          10,
          10,
          10,
          10,
          10,
          10,
          10,
          10,
          10,
          10,
          10,
          10,
          10,
          10,
          10,
          10,
          10,
          10,
          10,
          10,
          10,
          10,
          10,
          10,
          10,
          10,
          10,
          10,
          10,
          10,
          10,
          10,
          10,
          10,
          10,
          10
         ],
         "yaxis": "y3"
        },
        {
         "mode": "lines",
         "name": "bitstamp:/BTC:/locked",
         "type": "scatter",
         "uid": "9b3ce381-607d-44b8-aab1-3bf1923665b6",
         "xaxis": "x3",
         "y": [
          0,
          0.79842215,
          0.79842215,
          0.79842215,
          0.79842215,
          0.79842215,
          0.79842215,
          0.79842215,
          0.79842215,
          0,
          0,
          0,
          0.79867171,
          0.79867171,
          0.79867171,
          0.79867171,
          0.79867171,
          1.10987502,
          1.10987502,
          1.10987502,
          0.31120331,
          0.31120331,
          0.31120331,
          0.31120331,
          0.81502186,
          0.81502186,
          0.81502186,
          0.81502186,
          0.81502186,
          0.31120331,
          0.31120331,
          0.31120331,
          0.31120331,
          0.31120331,
          0.31120331,
          0.31120331,
          0.31120331,
          0.31120331,
          0.31120331,
          0.31120331,
          0.31120331
         ],
         "yaxis": "y3"
        },
        {
         "mode": "lines",
         "name": "bitstamp:/BTC:/total",
         "type": "scatter",
         "uid": "5557485e-c34e-494d-8bee-8951c37f8554",
         "xaxis": "x3",
         "y": [
          10,
          10.79842215,
          10.79842215,
          10.79842215,
          10.79842215,
          10.79842215,
          10.79842215,
          10.79842215,
          10.79842215,
          10,
          10,
          10,
          10.79867171,
          10.79867171,
          10.79867171,
          10.79867171,
          10.79867171,
          11.10987502,
          11.10987502,
          11.10987502,
          10.31120331,
          10.31120331,
          10.31120331,
          10.31120331,
          10.81502186,
          10.81502186,
          10.81502186,
          10.81502186,
          10.81502186,
          10.31120331,
          10.31120331,
          10.31120331,
          10.31120331,
          10.31120331,
          10.31120331,
          10.31120331,
          10.31120331,
          10.31120331,
          10.31120331,
          10.31120331,
          10.31120331
         ],
         "yaxis": "y3"
        },
        {
         "mode": "lines",
         "name": "bitstamp:/BTC:/worth",
         "type": "scatter",
         "uid": "321c3fe7-7849-4196-a1e0-fe124b314c73",
         "xaxis": "x3",
         "y": [
          87409.9,
          94367.41116885,
          94253.9197520535,
          94036.115577288,
          94981.84138918499,
          94594.178034,
          94594.178034,
          94585.8632489445,
          91978.47623660551,
          85203,
          85352.29999999999,
          85463.4,
          92076.4941360715,
          92389.11568207601,
          91919.37346269102,
          91705.34378939882,
          91356.7626666,
          94156.0796957498,
          93944.2143791184,
          92503.93018152562,
          83865.4503376533,
          84188.8096734549,
          84854.8102952478,
          84762.21568952399,
          89102.80210016799,
          89039.96682316139,
          88764.07561551279,
          89153.09195181701,
          90533.95394290179,
          86335.70531463,
          86254.0405844148,
          84345.53996376689,
          84809.64722474999,
          85436.56838599799,
          85308.709464954,
          85556.178344394,
          85375.62917443589,
          85095.47378050319,
          85605.4658962158,
          85540.1959792635,
          85348.4075976975
         ],
         "yaxis": "y3"
        },
        {
         "mode": "lines",
         "name": "net_worth",
         "type": "scatter",
         "uid": "df5e426b-c637-48ae-be80-38f810ca2956",
         "xaxis": "x3",
         "y": [
          97409.9,
          97367.41116885,
          97253.9197520535,
          97036.115577288,
          97981.84138918499,
          97594.178034,
          97594.178034,
          97585.8632489445,
          94978.47623660551,
          94983.37,
          95132.66999999998,
          95243.76999999999,
          95010.6041360715,
          95323.22568207601,
          94853.48346269102,
          94639.45378939882,
          94290.8726666,
          94449.4896957498,
          94237.62437911841,
          92797.34018152562,
          90788.8703376533,
          91112.2296734549,
          91778.23029524779,
          91685.63568952399,
          91872.17210016798,
          91809.33682316139,
          91533.44561551278,
          91922.46195181701,
          93303.32394290178,
          93309.95531463,
          93228.2905844148,
          91319.78996376689,
          91783.89722474999,
          92410.81838599799,
          92282.959464954,
          92530.428344394,
          92349.87917443589,
          92069.72378050319,
          92579.7158962158,
          92514.4459792635,
          92322.6575976975
         ],
         "yaxis": "y3"
        },
        {
         "marker": {
          "color": "DarkGreen"
         },
         "mode": "lines",
         "name": "Net Worth",
         "type": "scatter",
         "uid": "9c96b727-5230-4d89-be49-db2bef7e8edd",
         "xaxis": "x4",
         "y": [
          97409.9,
          97367.41116885,
          97253.9197520535,
          97036.115577288,
          97981.84138918499,
          97594.178034,
          97594.178034,
          97585.8632489445,
          94978.47623660551,
          94983.37,
          95132.66999999998,
          95243.76999999999,
          95010.6041360715,
          95323.22568207601,
          94853.48346269102,
          94639.45378939882,
          94290.8726666,
          94449.4896957498,
          94237.62437911841,
          92797.34018152562,
          90788.8703376533,
          91112.2296734549,
          91778.23029524779,
          91685.63568952399,
          91872.17210016798,
          91809.33682316139,
          91533.44561551278,
          91922.46195181701,
          93303.32394290178,
          93309.95531463,
          93228.2905844148,
          91319.78996376689,
          91783.89722474999,
          92410.81838599799,
          92282.959464954,
          92530.428344394,
          92349.87917443589,
          92069.72378050319,
          92579.7158962158,
          92514.4459792635,
          92322.6575976975
         ],
         "yaxis": "y4"
        }
       ],
       "layout": {
        "annotations": [
         {
          "arrowcolor": "FireBrick",
          "arrowhead": 2,
          "arrowsize": 0.8,
          "arrowwidth": 4,
          "ax": 0,
          "ay": -15,
          "hoverlabel": {
           "bgcolor": "FireBrick"
          },
          "hovertext": "Step 20 [2018-05-16 01:00:00]<br>SELL 0.79627569 BTC @ 8326.28 USD MARKET<br>Total: 6630.01 USD - Comm.: 0.00239602 BTC",
          "opacity": 0.6,
          "showarrow": true,
          "x": 19,
          "xref": "x",
          "y": 8326.28,
          "yref": "y"
         },
         {
          "arrowcolor": "DarkGreen",
          "arrowhead": 2,
          "arrowsize": 0.8,
          "arrowwidth": 4,
          "ax": 0,
          "ay": 15,
          "hoverlabel": {
           "bgcolor": "DarkGreen"
          },
          "hovertext": "Step 17 [2018-05-15 22:00:00]<br>BUY 0.31120331 BTC @ 8460.0 USD MARKET<br>Total: 2632.78 USD - Comm.: 7.92 USD",
          "opacity": 0.6,
          "showarrow": true,
          "x": 16,
          "xref": "x",
          "y": 8460,
          "yref": "y"
         },
         {
          "arrowcolor": "DarkGreen",
          "arrowhead": 2,
          "arrowsize": 0.8,
          "arrowwidth": 4,
          "ax": 0,
          "ay": 15,
          "hoverlabel": {
           "bgcolor": "DarkGreen"
          },
          "hovertext": "Step 12 [2018-05-15 17:00:00]<br>BUY 0.79867171 BTC @ 8546.34 USD MARKET<br>Total: 6825.72 USD - Comm.: 20.54 USD",
          "opacity": 0.6,
          "showarrow": true,
          "x": 11,
          "xref": "x",
          "y": 8546.34,
          "yref": "y"
         },
         {
          "arrowcolor": "FireBrick",
          "arrowhead": 2,
          "arrowsize": 0.8,
          "arrowwidth": 4,
          "ax": 0,
          "ay": -15,
          "hoverlabel": {
           "bgcolor": "FireBrick"
          },
          "hovertext": "Step 9 [2018-05-15 14:00:00]<br>SELL 0.79602688 BTC @ 8517.77 USD MARKET<br>Total: 6780.37 USD - Comm.: 0.00239527 BTC",
          "opacity": 0.6,
          "showarrow": true,
          "x": 8,
          "xref": "x",
          "y": 8517.77,
          "yref": "y"
         },
         {
          "arrowcolor": "DarkGreen",
          "arrowhead": 2,
          "arrowsize": 0.8,
          "arrowwidth": 4,
          "ax": 0,
          "ay": 15,
          "hoverlabel": {
           "bgcolor": "DarkGreen"
          },
          "hovertext": "Step 1 [2018-05-15 06:00:00]<br>BUY 0.79842215 BTC @ 8740.99 USD MARKET<br>Total: 6979.0 USD - Comm.: 21.00 USD",
          "opacity": 0.6,
          "showarrow": true,
          "x": 0,
          "xref": "x",
          "y": 8740.99,
          "yref": "y"
         },
         {
          "arrowcolor": "FireBrick",
          "arrowhead": 2,
          "arrowsize": 0.8,
          "arrowwidth": 4,
          "ax": 0,
          "ay": -15,
          "hoverlabel": {
           "bgcolor": "FireBrick"
          },
          "hovertext": "Step 29 [2018-05-16 10:00:00]<br>SELL 0.50230709 BTC @ 8371.13 USD MARKET<br>Total: 4204.88 USD - Comm.: 0.00151146 BTC",
          "opacity": 0.6,
          "showarrow": true,
          "x": 28,
          "xref": "x",
          "y": 8371.13,
          "yref": "y"
         },
         {
          "arrowcolor": "DarkGreen",
          "arrowhead": 2,
          "arrowsize": 0.8,
          "arrowwidth": 4,
          "ax": 0,
          "ay": 15,
          "hoverlabel": {
           "bgcolor": "DarkGreen"
          },
          "hovertext": "Step 24 [2018-05-16 05:00:00]<br>BUY 0.50381855 BTC @ 8220.4 USD MARKET<br>Total: 4141.59 USD - Comm.: 12.46 USD",
          "opacity": 0.6,
          "showarrow": true,
          "x": 23,
          "xref": "x",
          "y": 8220.4,
          "yref": "y"
         }
        ],
        "margin": {
         "t": 50
        },
        "template": {
         "data": {
          "bar": [
           {
            "error_x": {
             "color": "#2a3f5f"
            },
            "error_y": {
             "color": "#2a3f5f"
            },
            "marker": {
             "line": {
              "color": "white",
              "width": 0.5
             },
             "pattern": {
              "fillmode": "overlay",
              "size": 10,
              "solidity": 0.2
             }
            },
            "type": "bar"
           }
          ],
          "barpolar": [
           {
            "marker": {
             "line": {
              "color": "white",
              "width": 0.5
             },
             "pattern": {
              "fillmode": "overlay",
              "size": 10,
              "solidity": 0.2
             }
            },
            "type": "barpolar"
           }
          ],
          "carpet": [
           {
            "aaxis": {
             "endlinecolor": "#2a3f5f",
             "gridcolor": "#C8D4E3",
             "linecolor": "#C8D4E3",
             "minorgridcolor": "#C8D4E3",
             "startlinecolor": "#2a3f5f"
            },
            "baxis": {
             "endlinecolor": "#2a3f5f",
             "gridcolor": "#C8D4E3",
             "linecolor": "#C8D4E3",
             "minorgridcolor": "#C8D4E3",
             "startlinecolor": "#2a3f5f"
            },
            "type": "carpet"
           }
          ],
          "choropleth": [
           {
            "colorbar": {
             "outlinewidth": 0,
             "ticks": ""
            },
            "type": "choropleth"
           }
          ],
          "contour": [
           {
            "colorbar": {
             "outlinewidth": 0,
             "ticks": ""
            },
            "colorscale": [
             [
              0,
              "#0d0887"
             ],
             [
              0.1111111111111111,
              "#46039f"
             ],
             [
              0.2222222222222222,
              "#7201a8"
             ],
             [
              0.3333333333333333,
              "#9c179e"
             ],
             [
              0.4444444444444444,
              "#bd3786"
             ],
             [
              0.5555555555555556,
              "#d8576b"
             ],
             [
              0.6666666666666666,
              "#ed7953"
             ],
             [
              0.7777777777777778,
              "#fb9f3a"
             ],
             [
              0.8888888888888888,
              "#fdca26"
             ],
             [
              1,
              "#f0f921"
             ]
            ],
            "type": "contour"
           }
          ],
          "contourcarpet": [
           {
            "colorbar": {
             "outlinewidth": 0,
             "ticks": ""
            },
            "type": "contourcarpet"
           }
          ],
          "heatmap": [
           {
            "colorbar": {
             "outlinewidth": 0,
             "ticks": ""
            },
            "colorscale": [
             [
              0,
              "#0d0887"
             ],
             [
              0.1111111111111111,
              "#46039f"
             ],
             [
              0.2222222222222222,
              "#7201a8"
             ],
             [
              0.3333333333333333,
              "#9c179e"
             ],
             [
              0.4444444444444444,
              "#bd3786"
             ],
             [
              0.5555555555555556,
              "#d8576b"
             ],
             [
              0.6666666666666666,
              "#ed7953"
             ],
             [
              0.7777777777777778,
              "#fb9f3a"
             ],
             [
              0.8888888888888888,
              "#fdca26"
             ],
             [
              1,
              "#f0f921"
             ]
            ],
            "type": "heatmap"
           }
          ],
          "heatmapgl": [
           {
            "colorbar": {
             "outlinewidth": 0,
             "ticks": ""
            },
            "colorscale": [
             [
              0,
              "#0d0887"
             ],
             [
              0.1111111111111111,
              "#46039f"
             ],
             [
              0.2222222222222222,
              "#7201a8"
             ],
             [
              0.3333333333333333,
              "#9c179e"
             ],
             [
              0.4444444444444444,
              "#bd3786"
             ],
             [
              0.5555555555555556,
              "#d8576b"
             ],
             [
              0.6666666666666666,
              "#ed7953"
             ],
             [
              0.7777777777777778,
              "#fb9f3a"
             ],
             [
              0.8888888888888888,
              "#fdca26"
             ],
             [
              1,
              "#f0f921"
             ]
            ],
            "type": "heatmapgl"
           }
          ],
          "histogram": [
           {
            "marker": {
             "pattern": {
              "fillmode": "overlay",
              "size": 10,
              "solidity": 0.2
             }
            },
            "type": "histogram"
           }
          ],
          "histogram2d": [
           {
            "colorbar": {
             "outlinewidth": 0,
             "ticks": ""
            },
            "colorscale": [
             [
              0,
              "#0d0887"
             ],
             [
              0.1111111111111111,
              "#46039f"
             ],
             [
              0.2222222222222222,
              "#7201a8"
             ],
             [
              0.3333333333333333,
              "#9c179e"
             ],
             [
              0.4444444444444444,
              "#bd3786"
             ],
             [
              0.5555555555555556,
              "#d8576b"
             ],
             [
              0.6666666666666666,
              "#ed7953"
             ],
             [
              0.7777777777777778,
              "#fb9f3a"
             ],
             [
              0.8888888888888888,
              "#fdca26"
             ],
             [
              1,
              "#f0f921"
             ]
            ],
            "type": "histogram2d"
           }
          ],
          "histogram2dcontour": [
           {
            "colorbar": {
             "outlinewidth": 0,
             "ticks": ""
            },
            "colorscale": [
             [
              0,
              "#0d0887"
             ],
             [
              0.1111111111111111,
              "#46039f"
             ],
             [
              0.2222222222222222,
              "#7201a8"
             ],
             [
              0.3333333333333333,
              "#9c179e"
             ],
             [
              0.4444444444444444,
              "#bd3786"
             ],
             [
              0.5555555555555556,
              "#d8576b"
             ],
             [
              0.6666666666666666,
              "#ed7953"
             ],
             [
              0.7777777777777778,
              "#fb9f3a"
             ],
             [
              0.8888888888888888,
              "#fdca26"
             ],
             [
              1,
              "#f0f921"
             ]
            ],
            "type": "histogram2dcontour"
           }
          ],
          "mesh3d": [
           {
            "colorbar": {
             "outlinewidth": 0,
             "ticks": ""
            },
            "type": "mesh3d"
           }
          ],
          "parcoords": [
           {
            "line": {
             "colorbar": {
              "outlinewidth": 0,
              "ticks": ""
             }
            },
            "type": "parcoords"
           }
          ],
          "pie": [
           {
            "automargin": true,
            "type": "pie"
           }
          ],
          "scatter": [
           {
            "fillpattern": {
             "fillmode": "overlay",
             "size": 10,
             "solidity": 0.2
            },
            "type": "scatter"
           }
          ],
          "scatter3d": [
           {
            "line": {
             "colorbar": {
              "outlinewidth": 0,
              "ticks": ""
             }
            },
            "marker": {
             "colorbar": {
              "outlinewidth": 0,
              "ticks": ""
             }
            },
            "type": "scatter3d"
           }
          ],
          "scattercarpet": [
           {
            "marker": {
             "colorbar": {
              "outlinewidth": 0,
              "ticks": ""
             }
            },
            "type": "scattercarpet"
           }
          ],
          "scattergeo": [
           {
            "marker": {
             "colorbar": {
              "outlinewidth": 0,
              "ticks": ""
             }
            },
            "type": "scattergeo"
           }
          ],
          "scattergl": [
           {
            "marker": {
             "colorbar": {
              "outlinewidth": 0,
              "ticks": ""
             }
            },
            "type": "scattergl"
           }
          ],
          "scattermapbox": [
           {
            "marker": {
             "colorbar": {
              "outlinewidth": 0,
              "ticks": ""
             }
            },
            "type": "scattermapbox"
           }
          ],
          "scatterpolar": [
           {
            "marker": {
             "colorbar": {
              "outlinewidth": 0,
              "ticks": ""
             }
            },
            "type": "scatterpolar"
           }
          ],
          "scatterpolargl": [
           {
            "marker": {
             "colorbar": {
              "outlinewidth": 0,
              "ticks": ""
             }
            },
            "type": "scatterpolargl"
           }
          ],
          "scatterternary": [
           {
            "marker": {
             "colorbar": {
              "outlinewidth": 0,
              "ticks": ""
             }
            },
            "type": "scatterternary"
           }
          ],
          "surface": [
           {
            "colorbar": {
             "outlinewidth": 0,
             "ticks": ""
            },
            "colorscale": [
             [
              0,
              "#0d0887"
             ],
             [
              0.1111111111111111,
              "#46039f"
             ],
             [
              0.2222222222222222,
              "#7201a8"
             ],
             [
              0.3333333333333333,
              "#9c179e"
             ],
             [
              0.4444444444444444,
              "#bd3786"
             ],
             [
              0.5555555555555556,
              "#d8576b"
             ],
             [
              0.6666666666666666,
              "#ed7953"
             ],
             [
              0.7777777777777778,
              "#fb9f3a"
             ],
             [
              0.8888888888888888,
              "#fdca26"
             ],
             [
              1,
              "#f0f921"
             ]
            ],
            "type": "surface"
           }
          ],
          "table": [
           {
            "cells": {
             "fill": {
              "color": "#EBF0F8"
             },
             "line": {
              "color": "white"
             }
            },
            "header": {
             "fill": {
              "color": "#C8D4E3"
             },
             "line": {
              "color": "white"
             }
            },
            "type": "table"
           }
          ]
         },
         "layout": {
          "annotationdefaults": {
           "arrowcolor": "#2a3f5f",
           "arrowhead": 0,
           "arrowwidth": 1
          },
          "autotypenumbers": "strict",
          "coloraxis": {
           "colorbar": {
            "outlinewidth": 0,
            "ticks": ""
           }
          },
          "colorscale": {
           "diverging": [
            [
             0,
             "#8e0152"
            ],
            [
             0.1,
             "#c51b7d"
            ],
            [
             0.2,
             "#de77ae"
            ],
            [
             0.3,
             "#f1b6da"
            ],
            [
             0.4,
             "#fde0ef"
            ],
            [
             0.5,
             "#f7f7f7"
            ],
            [
             0.6,
             "#e6f5d0"
            ],
            [
             0.7,
             "#b8e186"
            ],
            [
             0.8,
             "#7fbc41"
            ],
            [
             0.9,
             "#4d9221"
            ],
            [
             1,
             "#276419"
            ]
           ],
           "sequential": [
            [
             0,
             "#0d0887"
            ],
            [
             0.1111111111111111,
             "#46039f"
            ],
            [
             0.2222222222222222,
             "#7201a8"
            ],
            [
             0.3333333333333333,
             "#9c179e"
            ],
            [
             0.4444444444444444,
             "#bd3786"
            ],
            [
             0.5555555555555556,
             "#d8576b"
            ],
            [
             0.6666666666666666,
             "#ed7953"
            ],
            [
             0.7777777777777778,
             "#fb9f3a"
            ],
            [
             0.8888888888888888,
             "#fdca26"
            ],
            [
             1,
             "#f0f921"
            ]
           ],
           "sequentialminus": [
            [
             0,
             "#0d0887"
            ],
            [
             0.1111111111111111,
             "#46039f"
            ],
            [
             0.2222222222222222,
             "#7201a8"
            ],
            [
             0.3333333333333333,
             "#9c179e"
            ],
            [
             0.4444444444444444,
             "#bd3786"
            ],
            [
             0.5555555555555556,
             "#d8576b"
            ],
            [
             0.6666666666666666,
             "#ed7953"
            ],
            [
             0.7777777777777778,
             "#fb9f3a"
            ],
            [
             0.8888888888888888,
             "#fdca26"
            ],
            [
             1,
             "#f0f921"
            ]
           ]
          },
          "colorway": [
           "#636efa",
           "#EF553B",
           "#00cc96",
           "#ab63fa",
           "#FFA15A",
           "#19d3f3",
           "#FF6692",
           "#B6E880",
           "#FF97FF",
           "#FECB52"
          ],
          "font": {
           "color": "#2a3f5f"
          },
          "geo": {
           "bgcolor": "white",
           "lakecolor": "white",
           "landcolor": "white",
           "showlakes": true,
           "showland": true,
           "subunitcolor": "#C8D4E3"
          },
          "hoverlabel": {
           "align": "left"
          },
          "hovermode": "closest",
          "mapbox": {
           "style": "light"
          },
          "paper_bgcolor": "white",
          "plot_bgcolor": "white",
          "polar": {
           "angularaxis": {
            "gridcolor": "#EBF0F8",
            "linecolor": "#EBF0F8",
            "ticks": ""
           },
           "bgcolor": "white",
           "radialaxis": {
            "gridcolor": "#EBF0F8",
            "linecolor": "#EBF0F8",
            "ticks": ""
           }
          },
          "scene": {
           "xaxis": {
            "backgroundcolor": "white",
            "gridcolor": "#DFE8F3",
            "gridwidth": 2,
            "linecolor": "#EBF0F8",
            "showbackground": true,
            "ticks": "",
            "zerolinecolor": "#EBF0F8"
           },
           "yaxis": {
            "backgroundcolor": "white",
            "gridcolor": "#DFE8F3",
            "gridwidth": 2,
            "linecolor": "#EBF0F8",
            "showbackground": true,
            "ticks": "",
            "zerolinecolor": "#EBF0F8"
           },
           "zaxis": {
            "backgroundcolor": "white",
            "gridcolor": "#DFE8F3",
            "gridwidth": 2,
            "linecolor": "#EBF0F8",
            "showbackground": true,
            "ticks": "",
            "zerolinecolor": "#EBF0F8"
           }
          },
          "shapedefaults": {
           "line": {
            "color": "#2a3f5f"
           }
          },
          "ternary": {
           "aaxis": {
            "gridcolor": "#DFE8F3",
            "linecolor": "#A2B1C6",
            "ticks": ""
           },
           "baxis": {
            "gridcolor": "#DFE8F3",
            "linecolor": "#A2B1C6",
            "ticks": ""
           },
           "bgcolor": "white",
           "caxis": {
            "gridcolor": "#DFE8F3",
            "linecolor": "#A2B1C6",
            "ticks": ""
           }
          },
          "title": {
           "x": 0.05
          },
          "xaxis": {
           "automargin": true,
           "gridcolor": "#EBF0F8",
           "linecolor": "#EBF0F8",
           "ticks": "",
           "title": {
            "standoff": 15
           },
           "zerolinecolor": "#EBF0F8",
           "zerolinewidth": 2
          },
          "yaxis": {
           "automargin": true,
           "gridcolor": "#EBF0F8",
           "linecolor": "#EBF0F8",
           "ticks": "",
           "title": {
            "standoff": 15
           },
           "zerolinecolor": "#EBF0F8",
           "zerolinewidth": 2
          }
         }
        },
        "title": {
         "text": "[2022-07-29 01:25:16] Episode: 2/2 Step: 41/200"
        },
        "xaxis": {
         "anchor": "y",
         "domain": [
          0,
          1
         ],
         "gridcolor": "Gainsboro",
         "linecolor": "Grey",
         "matches": "x4",
         "rangeslider": {
          "visible": false
         },
         "showticklabels": false,
         "title": {
          "font": {
           "size": 12
          },
          "standoff": 7,
          "text": "Price"
         }
        },
        "xaxis2": {
         "anchor": "y2",
         "domain": [
          0,
          1
         ],
         "gridcolor": "Gainsboro",
         "linecolor": "Grey",
         "matches": "x4",
         "showticklabels": false,
         "title": {
          "font": {
           "size": 12
          },
          "standoff": 7,
          "text": "Volume"
         }
        },
        "xaxis3": {
         "anchor": "y3",
         "domain": [
          0,
          1
         ],
         "gridcolor": "Gainsboro",
         "linecolor": "Grey",
         "matches": "x4",
         "showticklabels": false,
         "title": {
          "font": {
           "size": 12
          },
          "standoff": 7,
          "text": "Performance"
         }
        },
        "xaxis4": {
         "anchor": "y4",
         "domain": [
          0,
          1
         ],
         "gridcolor": "Gainsboro",
         "linecolor": "Grey",
         "title": {
          "font": {
           "size": 12
          },
          "standoff": 7,
          "text": "Net Worth"
         }
        },
        "yaxis": {
         "anchor": "x",
         "domain": [
          0.49950000000000006,
          1
         ],
         "gridcolor": "Gainsboro",
         "linecolor": "Grey"
        },
        "yaxis2": {
         "anchor": "x2",
         "domain": [
          0.333,
          0.46950000000000003
         ],
         "gridcolor": "Gainsboro",
         "linecolor": "Grey"
        },
        "yaxis3": {
         "anchor": "x3",
         "domain": [
          0.1665,
          0.30300000000000005
         ],
         "gridcolor": "Gainsboro",
         "linecolor": "Grey"
        },
        "yaxis4": {
         "anchor": "x4",
         "domain": [
          0,
          0.1365
         ],
         "gridcolor": "Gainsboro",
         "linecolor": "Grey"
        }
       }
      }
     },
     "metadata": {},
     "output_type": "display_data"
    },
    {
     "data": {
      "application/vnd.jupyter.widget-view+json": {
       "model_id": "5a95dff502e6465b97c42c73d4ef69fb",
       "version_major": 2,
       "version_minor": 0
      },
      "text/plain": [
       "FigureWidget({\n",
       "    'data': [{'close': array([8740.99, 8739.  , 8728.49, 8708.32, 8795.9 , 8760.  , 8760.  , 87…"
      ]
     },
     "metadata": {},
     "output_type": "display_data"
    },
    {
     "data": {
      "application/vnd.plotly.v1+json": {
       "config": {
        "plotlyServerURL": "https://plot.ly"
       },
       "data": [
        {
         "close": [
          8740.99,
          8739,
          8728.49,
          8708.32,
          8795.9,
          8760,
          8760,
          8759.23,
          8517.77,
          8520.3,
          8535.23,
          8546.34,
          8526.65,
          8555.6,
          8512.1,
          8492.28,
          8460,
          8474.99,
          8455.92,
          8326.28,
          8133.43,
          8164.79,
          8229.38,
          8220.4,
          8238.8,
          8232.99,
          8207.48,
          8243.45,
          8371.13,
          8373,
          8365.08,
          8179.99,
          8225,
          8285.8,
          8273.4,
          8297.4,
          8279.89,
          8252.72,
          8302.18,
          8295.85,
          8277.25,
          8346.59,
          8358.3,
          8375.1,
          8368.62,
          8366.72,
          8314.77,
          8363.7,
          8344.16,
          8247.4,
          8277.4,
          8291.67,
          8307.89,
          8298.9,
          8269.47,
          8300.98,
          8318.49,
          8306.39,
          8276.43,
          8257.69,
          8166
         ],
         "high": [
          8796.68,
          8766,
          8750.27,
          8754.4,
          8865,
          8821.19,
          8798.6,
          8771.02,
          8761.7,
          8553.67,
          8589.1,
          8579.48,
          8555.51,
          8583.6,
          8569.92,
          8555.54,
          8557.51,
          8505,
          8505.33,
          8478.29,
          8339.81,
          8217.44,
          8252.72,
          8248.63,
          8267.12,
          8255,
          8261.24,
          8263.93,
          8455.66,
          8439.44,
          8399.1,
          8381.73,
          8229.91,
          8377.29,
          8329.1,
          8350,
          8346.95,
          8377.29,
          8311.35,
          8319.96,
          8398.24,
          8372.58,
          8399.99,
          8386.53,
          8400,
          8500,
          8381,
          8371.3,
          8382.41,
          8351,
          8292.99,
          8325.8,
          8318.99,
          8324.9,
          8335.56,
          8309.4,
          8377.29,
          8330.41,
          8328.23,
          8284.36,
          8274.83
         ],
         "low": [
          8707.28,
          8721.11,
          8660.53,
          8701.35,
          8695.11,
          8740.54,
          8741.52,
          8700,
          8467.42,
          8477.89,
          8500.78,
          8500,
          8400,
          8451.05,
          8461.38,
          8481.24,
          8420.37,
          8450,
          8430.94,
          8275.02,
          8100.01,
          8122.56,
          8157.01,
          8166.25,
          8176.91,
          8213.79,
          8200,
          8207.48,
          8237.1,
          8370,
          8356.4,
          8145.1,
          8173.6,
          8211.8,
          8201,
          8250.9,
          8266.46,
          8252.72,
          8232.14,
          8268.37,
          8277.25,
          8277.25,
          8314.78,
          8314.77,
          8350.07,
          8331.39,
          8314.77,
          8275.45,
          8335.49,
          8191.14,
          8227.7,
          8264.13,
          8249.93,
          8269.52,
          8219.44,
          8262.68,
          8286.65,
          8289.87,
          8232.14,
          8232.14,
          8110.02
         ],
         "name": "Price",
         "open": [
          8733.86,
          8740.99,
          8739,
          8728.49,
          8708.32,
          8795.9,
          8760,
          8760,
          8759.23,
          8517.77,
          8520.3,
          8535.23,
          8546.34,
          8526.65,
          8555.6,
          8512.1,
          8492.28,
          8460,
          8474.99,
          8455.92,
          8326.28,
          8133.43,
          8164.79,
          8229.38,
          8220.4,
          8238.8,
          8232.99,
          8207.48,
          8243.45,
          8371.13,
          8373,
          8365.08,
          8179.99,
          8225,
          8285.8,
          8273.4,
          8297.4,
          8279.89,
          8252.72,
          8302.18,
          8295.85,
          8277.25,
          8346.59,
          8358.3,
          8375.1,
          8368.62,
          8366.72,
          8314.77,
          8363.7,
          8344.16,
          8247.4,
          8277.4,
          8291.67,
          8307.89,
          8298.9,
          8269.47,
          8300.98,
          8318.49,
          8306.39,
          8276.43,
          8257.69
         ],
         "showlegend": false,
         "type": "candlestick",
         "uid": "77128b01-1253-444b-9fba-d16797794175",
         "xaxis": "x",
         "yaxis": "y"
        },
        {
         "marker": {
          "color": "DodgerBlue"
         },
         "name": "Volume",
         "showlegend": false,
         "type": "bar",
         "uid": "9dcecade-0541-4a84-8f61-ce99015e488b",
         "xaxis": "x2",
         "y": [
          559.93,
          273.58,
          917.79,
          182.62,
          1260.69,
          324.11,
          324.2,
          730.67,
          1341.75,
          792.07,
          385.69,
          475.08,
          877.26,
          670.49,
          610.97,
          168.99,
          305.92,
          136.05,
          154.26,
          1070.93,
          1710.2,
          492.8,
          630.72,
          620.93,
          586.34,
          304.52,
          450.97,
          182.36,
          915.32,
          319.29,
          362.01,
          1046.38,
          357.91,
          561.2,
          322.53,
          1073.71,
          237.21,
          251.2,
          359.73,
          117.23,
          363.17,
          214.18,
          171.64,
          258.58,
          299.52,
          718.98,
          119.7,
          405.25,
          210.77,
          714.82,
          215.97,
          164.2,
          201.55,
          203.41,
          886.82,
          95.49,
          499.67,
          172.77,
          355.39,
          255.27,
          591.06
         ],
         "yaxis": "y2"
        },
        {
         "mode": "lines",
         "name": "bitstamp:/USD-BTC",
         "type": "scatter",
         "uid": "b3610eea-9870-4a75-8f30-1c3b9b68ccd1",
         "xaxis": "x3",
         "y": [
          8740.99,
          8739,
          8728.49,
          8708.32,
          8795.9,
          8760,
          8760,
          8759.23,
          8517.77,
          8520.3,
          8535.23,
          8546.34,
          8526.65,
          8555.6,
          8512.1,
          8492.28,
          8460,
          8474.99,
          8455.92,
          8326.28,
          8133.43,
          8164.79,
          8229.38,
          8220.4,
          8238.8,
          8232.99,
          8207.48,
          8243.45,
          8371.13,
          8373,
          8365.08,
          8179.99,
          8225,
          8285.8,
          8273.4,
          8297.4,
          8279.89,
          8252.72,
          8302.18,
          8295.85,
          8277.25,
          8346.59,
          8358.3,
          8375.1,
          8368.62,
          8366.72,
          8314.77,
          8363.7,
          8344.16,
          8247.4,
          8277.4,
          8291.67,
          8307.89,
          8298.9,
          8269.47,
          8300.98,
          8318.49,
          8306.39,
          8276.43,
          8257.69,
          8166
         ],
         "yaxis": "y3"
        },
        {
         "mode": "lines",
         "name": "bitstamp:/USD:/free",
         "type": "scatter",
         "uid": "ea66d02e-e037-4510-a457-e9bd74f24c2b",
         "xaxis": "x3",
         "y": [
          10000,
          3000,
          3000,
          3000,
          3000,
          3000,
          3000,
          3000,
          3000,
          9780.37,
          9780.37,
          9780.37,
          2934.11,
          2934.11,
          2934.11,
          2934.11,
          2934.11,
          293.41,
          293.41,
          293.41,
          6923.42,
          6923.42,
          6923.42,
          6923.42,
          2769.37,
          2769.37,
          2769.37,
          2769.37,
          2769.37,
          6974.25,
          6974.25,
          6974.25,
          6974.25,
          6974.25,
          6974.25,
          6974.25,
          6974.25,
          6974.25,
          6974.25,
          6974.25,
          6974.25,
          6974.25,
          6974.25,
          6974.25,
          6974.25,
          6974.25,
          697.43,
          697.43,
          697.43,
          697.43,
          697.43,
          697.43,
          697.43,
          697.43,
          697.43,
          697.43,
          697.43,
          697.43,
          697.43,
          697.43,
          697.43
         ],
         "yaxis": "y3"
        },
        {
         "mode": "lines",
         "name": "bitstamp:/USD:/locked",
         "type": "scatter",
         "uid": "fb661c40-5608-44f7-99d3-e46afb27d1f9",
         "xaxis": "x3",
         "y": [
          0,
          0,
          0,
          0,
          0,
          0,
          0,
          0,
          0,
          0,
          0,
          0,
          0,
          0,
          0,
          0,
          0,
          0,
          0,
          0,
          0,
          0,
          0,
          0,
          0,
          0,
          0,
          0,
          0,
          0,
          0,
          0,
          0,
          0,
          0,
          0,
          0,
          0,
          0,
          0,
          0,
          0,
          0,
          0,
          0,
          0,
          0,
          0,
          0,
          0,
          0,
          0,
          0,
          0,
          0,
          0,
          0,
          0,
          0,
          0,
          0
         ],
         "yaxis": "y3"
        },
        {
         "mode": "lines",
         "name": "bitstamp:/USD:/total",
         "type": "scatter",
         "uid": "c0bf27d9-e1c6-4ca9-bee9-36b24eb2e6ef",
         "xaxis": "x3",
         "y": [
          10000,
          3000,
          3000,
          3000,
          3000,
          3000,
          3000,
          3000,
          3000,
          9780.37,
          9780.37,
          9780.37,
          2934.11,
          2934.11,
          2934.11,
          2934.11,
          2934.11,
          293.41,
          293.41,
          293.41,
          6923.42,
          6923.42,
          6923.42,
          6923.42,
          2769.37,
          2769.37,
          2769.37,
          2769.37,
          2769.37,
          6974.25,
          6974.25,
          6974.25,
          6974.25,
          6974.25,
          6974.25,
          6974.25,
          6974.25,
          6974.25,
          6974.25,
          6974.25,
          6974.25,
          6974.25,
          6974.25,
          6974.25,
          6974.25,
          6974.25,
          697.43,
          697.43,
          697.43,
          697.43,
          697.43,
          697.43,
          697.43,
          697.43,
          697.43,
          697.43,
          697.43,
          697.43,
          697.43,
          697.43,
          697.43
         ],
         "yaxis": "y3"
        },
        {
         "mode": "lines",
         "name": "bitstamp:/BTC:/free",
         "type": "scatter",
         "uid": "aba4850a-d13f-43a5-b660-59886fc23ede",
         "xaxis": "x3",
         "y": [
          10,
          10,
          10,
          10,
          10,
          10,
          10,
          10,
          10,
          10,
          10,
          10,
          10,
          10,
          10,
          10,
          10,
          10,
          10,
          10,
          10,
          10,
          10,
          10,
          10,
          10,
          10,
          10,
          10,
          10,
          10,
          10,
          10,
          10,
          10,
          10,
          10,
          10,
          10,
          10,
          10,
          10,
          10,
          10,
          10,
          10,
          10,
          10,
          10,
          10,
          10,
          10,
          10,
          10,
          10,
          10,
          10,
          10,
          10,
          10,
          10
         ],
         "yaxis": "y3"
        },
        {
         "mode": "lines",
         "name": "bitstamp:/BTC:/locked",
         "type": "scatter",
         "uid": "9b3ce381-607d-44b8-aab1-3bf1923665b6",
         "xaxis": "x3",
         "y": [
          0,
          0.79842215,
          0.79842215,
          0.79842215,
          0.79842215,
          0.79842215,
          0.79842215,
          0.79842215,
          0.79842215,
          0,
          0,
          0,
          0.79867171,
          0.79867171,
          0.79867171,
          0.79867171,
          0.79867171,
          1.10987502,
          1.10987502,
          1.10987502,
          0.31120331,
          0.31120331,
          0.31120331,
          0.31120331,
          0.81502186,
          0.81502186,
          0.81502186,
          0.81502186,
          0.81502186,
          0.31120331,
          0.31120331,
          0.31120331,
          0.31120331,
          0.31120331,
          0.31120331,
          0.31120331,
          0.31120331,
          0.31120331,
          0.31120331,
          0.31120331,
          0.31120331,
          0.31120331,
          0.31120331,
          0.31120331,
          0.31120331,
          0.31120331,
          1.05916547,
          1.05916547,
          1.05916547,
          1.05916547,
          1.05916547,
          1.05916547,
          1.05916547,
          1.05916547,
          1.05916547,
          1.05916547,
          1.05916547,
          1.05916547,
          1.05916547,
          1.05916547,
          1.05916547
         ],
         "yaxis": "y3"
        },
        {
         "mode": "lines",
         "name": "bitstamp:/BTC:/total",
         "type": "scatter",
         "uid": "5557485e-c34e-494d-8bee-8951c37f8554",
         "xaxis": "x3",
         "y": [
          10,
          10.79842215,
          10.79842215,
          10.79842215,
          10.79842215,
          10.79842215,
          10.79842215,
          10.79842215,
          10.79842215,
          10,
          10,
          10,
          10.79867171,
          10.79867171,
          10.79867171,
          10.79867171,
          10.79867171,
          11.10987502,
          11.10987502,
          11.10987502,
          10.31120331,
          10.31120331,
          10.31120331,
          10.31120331,
          10.81502186,
          10.81502186,
          10.81502186,
          10.81502186,
          10.81502186,
          10.31120331,
          10.31120331,
          10.31120331,
          10.31120331,
          10.31120331,
          10.31120331,
          10.31120331,
          10.31120331,
          10.31120331,
          10.31120331,
          10.31120331,
          10.31120331,
          10.31120331,
          10.31120331,
          10.31120331,
          10.31120331,
          10.31120331,
          11.05916547,
          11.05916547,
          11.05916547,
          11.05916547,
          11.05916547,
          11.05916547,
          11.05916547,
          11.05916547,
          11.05916547,
          11.05916547,
          11.05916547,
          11.05916547,
          11.05916547,
          11.05916547,
          11.05916547
         ],
         "yaxis": "y3"
        },
        {
         "mode": "lines",
         "name": "bitstamp:/BTC:/worth",
         "type": "scatter",
         "uid": "321c3fe7-7849-4196-a1e0-fe124b314c73",
         "xaxis": "x3",
         "y": [
          87409.9,
          94367.41116885,
          94253.9197520535,
          94036.115577288,
          94981.84138918499,
          94594.178034,
          94594.178034,
          94585.8632489445,
          91978.47623660551,
          85203,
          85352.29999999999,
          85463.4,
          92076.4941360715,
          92389.11568207601,
          91919.37346269102,
          91705.34378939882,
          91356.7626666,
          94156.0796957498,
          93944.2143791184,
          92503.93018152562,
          83865.4503376533,
          84188.8096734549,
          84854.8102952478,
          84762.21568952399,
          89102.80210016799,
          89039.96682316139,
          88764.07561551279,
          89153.09195181701,
          90533.95394290179,
          86335.70531463,
          86254.0405844148,
          84345.53996376689,
          84809.64722474999,
          85436.56838599799,
          85308.709464954,
          85556.178344394,
          85375.62917443589,
          85095.47378050319,
          85605.4658962158,
          85540.1959792635,
          85348.4075976975,
          86063.3864352129,
          86184.13062597299,
          86357.35884158101,
          86290.5422441322,
          86270.95095784319,
          91954.41727499191,
          92495.542241439,
          92279.4461481552,
          91209.361297278,
          91541.136261378,
          91698.9505526349,
          91878.33021655829,
          91778.908318983,
          91453.4370792009,
          91801.9113831606,
          91995.5573705403,
          91861.7414683533,
          91530.4088708721,
          91323.1601099643,
          90309.14522802
         ],
         "yaxis": "y3"
        },
        {
         "mode": "lines",
         "name": "net_worth",
         "type": "scatter",
         "uid": "df5e426b-c637-48ae-be80-38f810ca2956",
         "xaxis": "x3",
         "y": [
          97409.9,
          97367.41116885,
          97253.9197520535,
          97036.115577288,
          97981.84138918499,
          97594.178034,
          97594.178034,
          97585.8632489445,
          94978.47623660551,
          94983.37,
          95132.66999999998,
          95243.76999999999,
          95010.6041360715,
          95323.22568207601,
          94853.48346269102,
          94639.45378939882,
          94290.8726666,
          94449.4896957498,
          94237.62437911841,
          92797.34018152562,
          90788.8703376533,
          91112.2296734549,
          91778.23029524779,
          91685.63568952399,
          91872.17210016798,
          91809.33682316139,
          91533.44561551278,
          91922.46195181701,
          93303.32394290178,
          93309.95531463,
          93228.2905844148,
          91319.78996376689,
          91783.89722474999,
          92410.81838599799,
          92282.959464954,
          92530.428344394,
          92349.87917443589,
          92069.72378050319,
          92579.7158962158,
          92514.4459792635,
          92322.6575976975,
          93037.6364352129,
          93158.38062597299,
          93331.60884158101,
          93264.7922441322,
          93245.20095784319,
          92651.8472749919,
          93192.972241439,
          92976.87614815519,
          91906.79129727799,
          92238.56626137799,
          92396.38055263489,
          92575.76021655828,
          92476.33831898299,
          92150.86707920089,
          92499.34138316059,
          92692.98737054029,
          92559.17146835329,
          92227.83887087209,
          92020.5901099643,
          91006.57522802
         ],
         "yaxis": "y3"
        },
        {
         "marker": {
          "color": "DarkGreen"
         },
         "mode": "lines",
         "name": "Net Worth",
         "type": "scatter",
         "uid": "9c96b727-5230-4d89-be49-db2bef7e8edd",
         "xaxis": "x4",
         "y": [
          97409.9,
          97367.41116885,
          97253.9197520535,
          97036.115577288,
          97981.84138918499,
          97594.178034,
          97594.178034,
          97585.8632489445,
          94978.47623660551,
          94983.37,
          95132.66999999998,
          95243.76999999999,
          95010.6041360715,
          95323.22568207601,
          94853.48346269102,
          94639.45378939882,
          94290.8726666,
          94449.4896957498,
          94237.62437911841,
          92797.34018152562,
          90788.8703376533,
          91112.2296734549,
          91778.23029524779,
          91685.63568952399,
          91872.17210016798,
          91809.33682316139,
          91533.44561551278,
          91922.46195181701,
          93303.32394290178,
          93309.95531463,
          93228.2905844148,
          91319.78996376689,
          91783.89722474999,
          92410.81838599799,
          92282.959464954,
          92530.428344394,
          92349.87917443589,
          92069.72378050319,
          92579.7158962158,
          92514.4459792635,
          92322.6575976975,
          93037.6364352129,
          93158.38062597299,
          93331.60884158101,
          93264.7922441322,
          93245.20095784319,
          92651.8472749919,
          93192.972241439,
          92976.87614815519,
          91906.79129727799,
          92238.56626137799,
          92396.38055263489,
          92575.76021655828,
          92476.33831898299,
          92150.86707920089,
          92499.34138316059,
          92692.98737054029,
          92559.17146835329,
          92227.83887087209,
          92020.5901099643,
          91006.57522802
         ],
         "yaxis": "y4"
        }
       ],
       "layout": {
        "annotations": [
         {
          "arrowcolor": "FireBrick",
          "arrowhead": 2,
          "arrowsize": 0.8,
          "arrowwidth": 4,
          "ax": 0,
          "ay": -15,
          "hoverlabel": {
           "bgcolor": "FireBrick"
          },
          "hovertext": "Step 20 [2018-05-16 01:00:00]<br>SELL 0.79627569 BTC @ 8326.28 USD MARKET<br>Total: 6630.01 USD - Comm.: 0.00239602 BTC",
          "opacity": 0.6,
          "showarrow": true,
          "x": 19,
          "xref": "x",
          "y": 8326.28,
          "yref": "y"
         },
         {
          "arrowcolor": "DarkGreen",
          "arrowhead": 2,
          "arrowsize": 0.8,
          "arrowwidth": 4,
          "ax": 0,
          "ay": 15,
          "hoverlabel": {
           "bgcolor": "DarkGreen"
          },
          "hovertext": "Step 17 [2018-05-15 22:00:00]<br>BUY 0.31120331 BTC @ 8460.0 USD MARKET<br>Total: 2632.78 USD - Comm.: 7.92 USD",
          "opacity": 0.6,
          "showarrow": true,
          "x": 16,
          "xref": "x",
          "y": 8460,
          "yref": "y"
         },
         {
          "arrowcolor": "DarkGreen",
          "arrowhead": 2,
          "arrowsize": 0.8,
          "arrowwidth": 4,
          "ax": 0,
          "ay": 15,
          "hoverlabel": {
           "bgcolor": "DarkGreen"
          },
          "hovertext": "Step 12 [2018-05-15 17:00:00]<br>BUY 0.79867171 BTC @ 8546.34 USD MARKET<br>Total: 6825.72 USD - Comm.: 20.54 USD",
          "opacity": 0.6,
          "showarrow": true,
          "x": 11,
          "xref": "x",
          "y": 8546.34,
          "yref": "y"
         },
         {
          "arrowcolor": "FireBrick",
          "arrowhead": 2,
          "arrowsize": 0.8,
          "arrowwidth": 4,
          "ax": 0,
          "ay": -15,
          "hoverlabel": {
           "bgcolor": "FireBrick"
          },
          "hovertext": "Step 9 [2018-05-15 14:00:00]<br>SELL 0.79602688 BTC @ 8517.77 USD MARKET<br>Total: 6780.37 USD - Comm.: 0.00239527 BTC",
          "opacity": 0.6,
          "showarrow": true,
          "x": 8,
          "xref": "x",
          "y": 8517.77,
          "yref": "y"
         },
         {
          "arrowcolor": "DarkGreen",
          "arrowhead": 2,
          "arrowsize": 0.8,
          "arrowwidth": 4,
          "ax": 0,
          "ay": 15,
          "hoverlabel": {
           "bgcolor": "DarkGreen"
          },
          "hovertext": "Step 1 [2018-05-15 06:00:00]<br>BUY 0.79842215 BTC @ 8740.99 USD MARKET<br>Total: 6979.0 USD - Comm.: 21.00 USD",
          "opacity": 0.6,
          "showarrow": true,
          "x": 0,
          "xref": "x",
          "y": 8740.99,
          "yref": "y"
         },
         {
          "arrowcolor": "FireBrick",
          "arrowhead": 2,
          "arrowsize": 0.8,
          "arrowwidth": 4,
          "ax": 0,
          "ay": -15,
          "hoverlabel": {
           "bgcolor": "FireBrick"
          },
          "hovertext": "Step 29 [2018-05-16 10:00:00]<br>SELL 0.50230709 BTC @ 8371.13 USD MARKET<br>Total: 4204.88 USD - Comm.: 0.00151146 BTC",
          "opacity": 0.6,
          "showarrow": true,
          "x": 28,
          "xref": "x",
          "y": 8371.13,
          "yref": "y"
         },
         {
          "arrowcolor": "DarkGreen",
          "arrowhead": 2,
          "arrowsize": 0.8,
          "arrowwidth": 4,
          "ax": 0,
          "ay": 15,
          "hoverlabel": {
           "bgcolor": "DarkGreen"
          },
          "hovertext": "Step 24 [2018-05-16 05:00:00]<br>BUY 0.50381855 BTC @ 8220.4 USD MARKET<br>Total: 4141.59 USD - Comm.: 12.46 USD",
          "opacity": 0.6,
          "showarrow": true,
          "x": 23,
          "xref": "x",
          "y": 8220.4,
          "yref": "y"
         },
         {
          "arrowcolor": "DarkGreen",
          "arrowhead": 2,
          "arrowsize": 0.8,
          "arrowwidth": 4,
          "ax": 0,
          "ay": 15,
          "hoverlabel": {
           "bgcolor": "DarkGreen"
          },
          "hovertext": "Step 46 [2018-05-17 03:00:00]<br>BUY 0.74796216 BTC @ 8366.72 USD MARKET<br>Total: 6257.99 USD - Comm.: 18.83 USD",
          "opacity": 0.6,
          "showarrow": true,
          "x": 45,
          "xref": "x",
          "y": 8366.72,
          "yref": "y"
         }
        ],
        "margin": {
         "t": 50
        },
        "template": {
         "data": {
          "bar": [
           {
            "error_x": {
             "color": "#2a3f5f"
            },
            "error_y": {
             "color": "#2a3f5f"
            },
            "marker": {
             "line": {
              "color": "white",
              "width": 0.5
             },
             "pattern": {
              "fillmode": "overlay",
              "size": 10,
              "solidity": 0.2
             }
            },
            "type": "bar"
           }
          ],
          "barpolar": [
           {
            "marker": {
             "line": {
              "color": "white",
              "width": 0.5
             },
             "pattern": {
              "fillmode": "overlay",
              "size": 10,
              "solidity": 0.2
             }
            },
            "type": "barpolar"
           }
          ],
          "carpet": [
           {
            "aaxis": {
             "endlinecolor": "#2a3f5f",
             "gridcolor": "#C8D4E3",
             "linecolor": "#C8D4E3",
             "minorgridcolor": "#C8D4E3",
             "startlinecolor": "#2a3f5f"
            },
            "baxis": {
             "endlinecolor": "#2a3f5f",
             "gridcolor": "#C8D4E3",
             "linecolor": "#C8D4E3",
             "minorgridcolor": "#C8D4E3",
             "startlinecolor": "#2a3f5f"
            },
            "type": "carpet"
           }
          ],
          "choropleth": [
           {
            "colorbar": {
             "outlinewidth": 0,
             "ticks": ""
            },
            "type": "choropleth"
           }
          ],
          "contour": [
           {
            "colorbar": {
             "outlinewidth": 0,
             "ticks": ""
            },
            "colorscale": [
             [
              0,
              "#0d0887"
             ],
             [
              0.1111111111111111,
              "#46039f"
             ],
             [
              0.2222222222222222,
              "#7201a8"
             ],
             [
              0.3333333333333333,
              "#9c179e"
             ],
             [
              0.4444444444444444,
              "#bd3786"
             ],
             [
              0.5555555555555556,
              "#d8576b"
             ],
             [
              0.6666666666666666,
              "#ed7953"
             ],
             [
              0.7777777777777778,
              "#fb9f3a"
             ],
             [
              0.8888888888888888,
              "#fdca26"
             ],
             [
              1,
              "#f0f921"
             ]
            ],
            "type": "contour"
           }
          ],
          "contourcarpet": [
           {
            "colorbar": {
             "outlinewidth": 0,
             "ticks": ""
            },
            "type": "contourcarpet"
           }
          ],
          "heatmap": [
           {
            "colorbar": {
             "outlinewidth": 0,
             "ticks": ""
            },
            "colorscale": [
             [
              0,
              "#0d0887"
             ],
             [
              0.1111111111111111,
              "#46039f"
             ],
             [
              0.2222222222222222,
              "#7201a8"
             ],
             [
              0.3333333333333333,
              "#9c179e"
             ],
             [
              0.4444444444444444,
              "#bd3786"
             ],
             [
              0.5555555555555556,
              "#d8576b"
             ],
             [
              0.6666666666666666,
              "#ed7953"
             ],
             [
              0.7777777777777778,
              "#fb9f3a"
             ],
             [
              0.8888888888888888,
              "#fdca26"
             ],
             [
              1,
              "#f0f921"
             ]
            ],
            "type": "heatmap"
           }
          ],
          "heatmapgl": [
           {
            "colorbar": {
             "outlinewidth": 0,
             "ticks": ""
            },
            "colorscale": [
             [
              0,
              "#0d0887"
             ],
             [
              0.1111111111111111,
              "#46039f"
             ],
             [
              0.2222222222222222,
              "#7201a8"
             ],
             [
              0.3333333333333333,
              "#9c179e"
             ],
             [
              0.4444444444444444,
              "#bd3786"
             ],
             [
              0.5555555555555556,
              "#d8576b"
             ],
             [
              0.6666666666666666,
              "#ed7953"
             ],
             [
              0.7777777777777778,
              "#fb9f3a"
             ],
             [
              0.8888888888888888,
              "#fdca26"
             ],
             [
              1,
              "#f0f921"
             ]
            ],
            "type": "heatmapgl"
           }
          ],
          "histogram": [
           {
            "marker": {
             "pattern": {
              "fillmode": "overlay",
              "size": 10,
              "solidity": 0.2
             }
            },
            "type": "histogram"
           }
          ],
          "histogram2d": [
           {
            "colorbar": {
             "outlinewidth": 0,
             "ticks": ""
            },
            "colorscale": [
             [
              0,
              "#0d0887"
             ],
             [
              0.1111111111111111,
              "#46039f"
             ],
             [
              0.2222222222222222,
              "#7201a8"
             ],
             [
              0.3333333333333333,
              "#9c179e"
             ],
             [
              0.4444444444444444,
              "#bd3786"
             ],
             [
              0.5555555555555556,
              "#d8576b"
             ],
             [
              0.6666666666666666,
              "#ed7953"
             ],
             [
              0.7777777777777778,
              "#fb9f3a"
             ],
             [
              0.8888888888888888,
              "#fdca26"
             ],
             [
              1,
              "#f0f921"
             ]
            ],
            "type": "histogram2d"
           }
          ],
          "histogram2dcontour": [
           {
            "colorbar": {
             "outlinewidth": 0,
             "ticks": ""
            },
            "colorscale": [
             [
              0,
              "#0d0887"
             ],
             [
              0.1111111111111111,
              "#46039f"
             ],
             [
              0.2222222222222222,
              "#7201a8"
             ],
             [
              0.3333333333333333,
              "#9c179e"
             ],
             [
              0.4444444444444444,
              "#bd3786"
             ],
             [
              0.5555555555555556,
              "#d8576b"
             ],
             [
              0.6666666666666666,
              "#ed7953"
             ],
             [
              0.7777777777777778,
              "#fb9f3a"
             ],
             [
              0.8888888888888888,
              "#fdca26"
             ],
             [
              1,
              "#f0f921"
             ]
            ],
            "type": "histogram2dcontour"
           }
          ],
          "mesh3d": [
           {
            "colorbar": {
             "outlinewidth": 0,
             "ticks": ""
            },
            "type": "mesh3d"
           }
          ],
          "parcoords": [
           {
            "line": {
             "colorbar": {
              "outlinewidth": 0,
              "ticks": ""
             }
            },
            "type": "parcoords"
           }
          ],
          "pie": [
           {
            "automargin": true,
            "type": "pie"
           }
          ],
          "scatter": [
           {
            "fillpattern": {
             "fillmode": "overlay",
             "size": 10,
             "solidity": 0.2
            },
            "type": "scatter"
           }
          ],
          "scatter3d": [
           {
            "line": {
             "colorbar": {
              "outlinewidth": 0,
              "ticks": ""
             }
            },
            "marker": {
             "colorbar": {
              "outlinewidth": 0,
              "ticks": ""
             }
            },
            "type": "scatter3d"
           }
          ],
          "scattercarpet": [
           {
            "marker": {
             "colorbar": {
              "outlinewidth": 0,
              "ticks": ""
             }
            },
            "type": "scattercarpet"
           }
          ],
          "scattergeo": [
           {
            "marker": {
             "colorbar": {
              "outlinewidth": 0,
              "ticks": ""
             }
            },
            "type": "scattergeo"
           }
          ],
          "scattergl": [
           {
            "marker": {
             "colorbar": {
              "outlinewidth": 0,
              "ticks": ""
             }
            },
            "type": "scattergl"
           }
          ],
          "scattermapbox": [
           {
            "marker": {
             "colorbar": {
              "outlinewidth": 0,
              "ticks": ""
             }
            },
            "type": "scattermapbox"
           }
          ],
          "scatterpolar": [
           {
            "marker": {
             "colorbar": {
              "outlinewidth": 0,
              "ticks": ""
             }
            },
            "type": "scatterpolar"
           }
          ],
          "scatterpolargl": [
           {
            "marker": {
             "colorbar": {
              "outlinewidth": 0,
              "ticks": ""
             }
            },
            "type": "scatterpolargl"
           }
          ],
          "scatterternary": [
           {
            "marker": {
             "colorbar": {
              "outlinewidth": 0,
              "ticks": ""
             }
            },
            "type": "scatterternary"
           }
          ],
          "surface": [
           {
            "colorbar": {
             "outlinewidth": 0,
             "ticks": ""
            },
            "colorscale": [
             [
              0,
              "#0d0887"
             ],
             [
              0.1111111111111111,
              "#46039f"
             ],
             [
              0.2222222222222222,
              "#7201a8"
             ],
             [
              0.3333333333333333,
              "#9c179e"
             ],
             [
              0.4444444444444444,
              "#bd3786"
             ],
             [
              0.5555555555555556,
              "#d8576b"
             ],
             [
              0.6666666666666666,
              "#ed7953"
             ],
             [
              0.7777777777777778,
              "#fb9f3a"
             ],
             [
              0.8888888888888888,
              "#fdca26"
             ],
             [
              1,
              "#f0f921"
             ]
            ],
            "type": "surface"
           }
          ],
          "table": [
           {
            "cells": {
             "fill": {
              "color": "#EBF0F8"
             },
             "line": {
              "color": "white"
             }
            },
            "header": {
             "fill": {
              "color": "#C8D4E3"
             },
             "line": {
              "color": "white"
             }
            },
            "type": "table"
           }
          ]
         },
         "layout": {
          "annotationdefaults": {
           "arrowcolor": "#2a3f5f",
           "arrowhead": 0,
           "arrowwidth": 1
          },
          "autotypenumbers": "strict",
          "coloraxis": {
           "colorbar": {
            "outlinewidth": 0,
            "ticks": ""
           }
          },
          "colorscale": {
           "diverging": [
            [
             0,
             "#8e0152"
            ],
            [
             0.1,
             "#c51b7d"
            ],
            [
             0.2,
             "#de77ae"
            ],
            [
             0.3,
             "#f1b6da"
            ],
            [
             0.4,
             "#fde0ef"
            ],
            [
             0.5,
             "#f7f7f7"
            ],
            [
             0.6,
             "#e6f5d0"
            ],
            [
             0.7,
             "#b8e186"
            ],
            [
             0.8,
             "#7fbc41"
            ],
            [
             0.9,
             "#4d9221"
            ],
            [
             1,
             "#276419"
            ]
           ],
           "sequential": [
            [
             0,
             "#0d0887"
            ],
            [
             0.1111111111111111,
             "#46039f"
            ],
            [
             0.2222222222222222,
             "#7201a8"
            ],
            [
             0.3333333333333333,
             "#9c179e"
            ],
            [
             0.4444444444444444,
             "#bd3786"
            ],
            [
             0.5555555555555556,
             "#d8576b"
            ],
            [
             0.6666666666666666,
             "#ed7953"
            ],
            [
             0.7777777777777778,
             "#fb9f3a"
            ],
            [
             0.8888888888888888,
             "#fdca26"
            ],
            [
             1,
             "#f0f921"
            ]
           ],
           "sequentialminus": [
            [
             0,
             "#0d0887"
            ],
            [
             0.1111111111111111,
             "#46039f"
            ],
            [
             0.2222222222222222,
             "#7201a8"
            ],
            [
             0.3333333333333333,
             "#9c179e"
            ],
            [
             0.4444444444444444,
             "#bd3786"
            ],
            [
             0.5555555555555556,
             "#d8576b"
            ],
            [
             0.6666666666666666,
             "#ed7953"
            ],
            [
             0.7777777777777778,
             "#fb9f3a"
            ],
            [
             0.8888888888888888,
             "#fdca26"
            ],
            [
             1,
             "#f0f921"
            ]
           ]
          },
          "colorway": [
           "#636efa",
           "#EF553B",
           "#00cc96",
           "#ab63fa",
           "#FFA15A",
           "#19d3f3",
           "#FF6692",
           "#B6E880",
           "#FF97FF",
           "#FECB52"
          ],
          "font": {
           "color": "#2a3f5f"
          },
          "geo": {
           "bgcolor": "white",
           "lakecolor": "white",
           "landcolor": "white",
           "showlakes": true,
           "showland": true,
           "subunitcolor": "#C8D4E3"
          },
          "hoverlabel": {
           "align": "left"
          },
          "hovermode": "closest",
          "mapbox": {
           "style": "light"
          },
          "paper_bgcolor": "white",
          "plot_bgcolor": "white",
          "polar": {
           "angularaxis": {
            "gridcolor": "#EBF0F8",
            "linecolor": "#EBF0F8",
            "ticks": ""
           },
           "bgcolor": "white",
           "radialaxis": {
            "gridcolor": "#EBF0F8",
            "linecolor": "#EBF0F8",
            "ticks": ""
           }
          },
          "scene": {
           "xaxis": {
            "backgroundcolor": "white",
            "gridcolor": "#DFE8F3",
            "gridwidth": 2,
            "linecolor": "#EBF0F8",
            "showbackground": true,
            "ticks": "",
            "zerolinecolor": "#EBF0F8"
           },
           "yaxis": {
            "backgroundcolor": "white",
            "gridcolor": "#DFE8F3",
            "gridwidth": 2,
            "linecolor": "#EBF0F8",
            "showbackground": true,
            "ticks": "",
            "zerolinecolor": "#EBF0F8"
           },
           "zaxis": {
            "backgroundcolor": "white",
            "gridcolor": "#DFE8F3",
            "gridwidth": 2,
            "linecolor": "#EBF0F8",
            "showbackground": true,
            "ticks": "",
            "zerolinecolor": "#EBF0F8"
           }
          },
          "shapedefaults": {
           "line": {
            "color": "#2a3f5f"
           }
          },
          "ternary": {
           "aaxis": {
            "gridcolor": "#DFE8F3",
            "linecolor": "#A2B1C6",
            "ticks": ""
           },
           "baxis": {
            "gridcolor": "#DFE8F3",
            "linecolor": "#A2B1C6",
            "ticks": ""
           },
           "bgcolor": "white",
           "caxis": {
            "gridcolor": "#DFE8F3",
            "linecolor": "#A2B1C6",
            "ticks": ""
           }
          },
          "title": {
           "x": 0.05
          },
          "xaxis": {
           "automargin": true,
           "gridcolor": "#EBF0F8",
           "linecolor": "#EBF0F8",
           "ticks": "",
           "title": {
            "standoff": 15
           },
           "zerolinecolor": "#EBF0F8",
           "zerolinewidth": 2
          },
          "yaxis": {
           "automargin": true,
           "gridcolor": "#EBF0F8",
           "linecolor": "#EBF0F8",
           "ticks": "",
           "title": {
            "standoff": 15
           },
           "zerolinecolor": "#EBF0F8",
           "zerolinewidth": 2
          }
         }
        },
        "title": {
         "text": "[2022-07-29 01:25:24] Episode: 2/2 Step: 61/200"
        },
        "xaxis": {
         "anchor": "y",
         "domain": [
          0,
          1
         ],
         "gridcolor": "Gainsboro",
         "linecolor": "Grey",
         "matches": "x4",
         "rangeslider": {
          "visible": false
         },
         "showticklabels": false,
         "title": {
          "font": {
           "size": 12
          },
          "standoff": 7,
          "text": "Price"
         }
        },
        "xaxis2": {
         "anchor": "y2",
         "domain": [
          0,
          1
         ],
         "gridcolor": "Gainsboro",
         "linecolor": "Grey",
         "matches": "x4",
         "showticklabels": false,
         "title": {
          "font": {
           "size": 12
          },
          "standoff": 7,
          "text": "Volume"
         }
        },
        "xaxis3": {
         "anchor": "y3",
         "domain": [
          0,
          1
         ],
         "gridcolor": "Gainsboro",
         "linecolor": "Grey",
         "matches": "x4",
         "showticklabels": false,
         "title": {
          "font": {
           "size": 12
          },
          "standoff": 7,
          "text": "Performance"
         }
        },
        "xaxis4": {
         "anchor": "y4",
         "domain": [
          0,
          1
         ],
         "gridcolor": "Gainsboro",
         "linecolor": "Grey",
         "title": {
          "font": {
           "size": 12
          },
          "standoff": 7,
          "text": "Net Worth"
         }
        },
        "yaxis": {
         "anchor": "x",
         "domain": [
          0.49950000000000006,
          1
         ],
         "gridcolor": "Gainsboro",
         "linecolor": "Grey"
        },
        "yaxis2": {
         "anchor": "x2",
         "domain": [
          0.333,
          0.46950000000000003
         ],
         "gridcolor": "Gainsboro",
         "linecolor": "Grey"
        },
        "yaxis3": {
         "anchor": "x3",
         "domain": [
          0.1665,
          0.30300000000000005
         ],
         "gridcolor": "Gainsboro",
         "linecolor": "Grey"
        },
        "yaxis4": {
         "anchor": "x4",
         "domain": [
          0,
          0.1365
         ],
         "gridcolor": "Gainsboro",
         "linecolor": "Grey"
        }
       }
      }
     },
     "metadata": {},
     "output_type": "display_data"
    },
    {
     "data": {
      "application/vnd.jupyter.widget-view+json": {
       "model_id": "5a95dff502e6465b97c42c73d4ef69fb",
       "version_major": 2,
       "version_minor": 0
      },
      "text/plain": [
       "FigureWidget({\n",
       "    'data': [{'close': array([8740.99, 8739.  , 8728.49, 8708.32, 8795.9 , 8760.  , 8760.  , 87…"
      ]
     },
     "metadata": {},
     "output_type": "display_data"
    },
    {
     "data": {
      "application/vnd.plotly.v1+json": {
       "config": {
        "plotlyServerURL": "https://plot.ly"
       },
       "data": [
        {
         "close": [
          8740.99,
          8739,
          8728.49,
          8708.32,
          8795.9,
          8760,
          8760,
          8759.23,
          8517.77,
          8520.3,
          8535.23,
          8546.34,
          8526.65,
          8555.6,
          8512.1,
          8492.28,
          8460,
          8474.99,
          8455.92,
          8326.28,
          8133.43,
          8164.79,
          8229.38,
          8220.4,
          8238.8,
          8232.99,
          8207.48,
          8243.45,
          8371.13,
          8373,
          8365.08,
          8179.99,
          8225,
          8285.8,
          8273.4,
          8297.4,
          8279.89,
          8252.72,
          8302.18,
          8295.85,
          8277.25,
          8346.59,
          8358.3,
          8375.1,
          8368.62,
          8366.72,
          8314.77,
          8363.7,
          8344.16,
          8247.4,
          8277.4,
          8291.67,
          8307.89,
          8298.9,
          8269.47,
          8300.98,
          8318.49,
          8306.39,
          8276.43,
          8257.69,
          8166,
          8176.33,
          8200.7,
          8155.41,
          8080,
          8067.03,
          7958.08,
          7974.25,
          7998.5,
          7991.99,
          8022.7,
          8042.97,
          7965.67,
          8088.95,
          8122.19,
          8107.99,
          8137.73,
          8115,
          8107,
          8094.4,
          8080.01
         ],
         "high": [
          8796.68,
          8766,
          8750.27,
          8754.4,
          8865,
          8821.19,
          8798.6,
          8771.02,
          8761.7,
          8553.67,
          8589.1,
          8579.48,
          8555.51,
          8583.6,
          8569.92,
          8555.54,
          8557.51,
          8505,
          8505.33,
          8478.29,
          8339.81,
          8217.44,
          8252.72,
          8248.63,
          8267.12,
          8255,
          8261.24,
          8263.93,
          8455.66,
          8439.44,
          8399.1,
          8381.73,
          8229.91,
          8377.29,
          8329.1,
          8350,
          8346.95,
          8377.29,
          8311.35,
          8319.96,
          8398.24,
          8372.58,
          8399.99,
          8386.53,
          8400,
          8500,
          8381,
          8371.3,
          8382.41,
          8351,
          8292.99,
          8325.8,
          8318.99,
          8324.9,
          8335.56,
          8309.4,
          8377.29,
          8330.41,
          8328.23,
          8284.36,
          8274.83,
          8200,
          8232.14,
          8213.97,
          8155.41,
          8108.28,
          8068.92,
          8019.9,
          8026.66,
          8025,
          8104.69,
          8061.39,
          8045.99,
          8170.71,
          8144.16,
          8139.99,
          8152.99,
          8137.73,
          8143.72,
          8129.99,
          8106.76
         ],
         "low": [
          8707.28,
          8721.11,
          8660.53,
          8701.35,
          8695.11,
          8740.54,
          8741.52,
          8700,
          8467.42,
          8477.89,
          8500.78,
          8500,
          8400,
          8451.05,
          8461.38,
          8481.24,
          8420.37,
          8450,
          8430.94,
          8275.02,
          8100.01,
          8122.56,
          8157.01,
          8166.25,
          8176.91,
          8213.79,
          8200,
          8207.48,
          8237.1,
          8370,
          8356.4,
          8145.1,
          8173.6,
          8211.8,
          8201,
          8250.9,
          8266.46,
          8252.72,
          8232.14,
          8268.37,
          8277.25,
          8277.25,
          8314.78,
          8314.77,
          8350.07,
          8331.39,
          8314.77,
          8275.45,
          8335.49,
          8191.14,
          8227.7,
          8264.13,
          8249.93,
          8269.52,
          8219.44,
          8262.68,
          8286.65,
          8289.87,
          8232.14,
          8232.14,
          8110.02,
          8154.95,
          8168.6,
          8151,
          7980,
          8005.95,
          7929.53,
          7931.03,
          7950,
          7980.58,
          7991.99,
          7992.75,
          7953.4,
          7965.67,
          8085.94,
          8078.48,
          8092.9,
          8049.22,
          8079.46,
          8062.12,
          8043.96
         ],
         "name": "Price",
         "open": [
          8733.86,
          8740.99,
          8739,
          8728.49,
          8708.32,
          8795.9,
          8760,
          8760,
          8759.23,
          8517.77,
          8520.3,
          8535.23,
          8546.34,
          8526.65,
          8555.6,
          8512.1,
          8492.28,
          8460,
          8474.99,
          8455.92,
          8326.28,
          8133.43,
          8164.79,
          8229.38,
          8220.4,
          8238.8,
          8232.99,
          8207.48,
          8243.45,
          8371.13,
          8373,
          8365.08,
          8179.99,
          8225,
          8285.8,
          8273.4,
          8297.4,
          8279.89,
          8252.72,
          8302.18,
          8295.85,
          8277.25,
          8346.59,
          8358.3,
          8375.1,
          8368.62,
          8366.72,
          8314.77,
          8363.7,
          8344.16,
          8247.4,
          8277.4,
          8291.67,
          8307.89,
          8298.9,
          8269.47,
          8300.98,
          8318.49,
          8306.39,
          8276.43,
          8257.69,
          8166,
          8176.33,
          8200.7,
          8155.41,
          8080,
          8067.03,
          7958.08,
          7974.25,
          7998.5,
          7991.99,
          8022.7,
          8042.97,
          7965.67,
          8088.95,
          8122.19,
          8107.99,
          8137.73,
          8115,
          8107,
          8094.4
         ],
         "showlegend": false,
         "type": "candlestick",
         "uid": "77128b01-1253-444b-9fba-d16797794175",
         "xaxis": "x",
         "yaxis": "y"
        },
        {
         "marker": {
          "color": "DodgerBlue"
         },
         "name": "Volume",
         "showlegend": false,
         "type": "bar",
         "uid": "9dcecade-0541-4a84-8f61-ce99015e488b",
         "xaxis": "x2",
         "y": [
          559.93,
          273.58,
          917.79,
          182.62,
          1260.69,
          324.11,
          324.2,
          730.67,
          1341.75,
          792.07,
          385.69,
          475.08,
          877.26,
          670.49,
          610.97,
          168.99,
          305.92,
          136.05,
          154.26,
          1070.93,
          1710.2,
          492.8,
          630.72,
          620.93,
          586.34,
          304.52,
          450.97,
          182.36,
          915.32,
          319.29,
          362.01,
          1046.38,
          357.91,
          561.2,
          322.53,
          1073.71,
          237.21,
          251.2,
          359.73,
          117.23,
          363.17,
          214.18,
          171.64,
          258.58,
          299.52,
          718.98,
          119.7,
          405.25,
          210.77,
          714.82,
          215.97,
          164.2,
          201.55,
          203.41,
          886.82,
          95.49,
          499.67,
          172.77,
          355.39,
          255.27,
          591.06,
          133.1,
          149.13,
          87.55,
          1061.54,
          286.94,
          524.42,
          316,
          441.43,
          189.7,
          844.94,
          155.34,
          257.56,
          610.69,
          217.97,
          173.18,
          218.06,
          372.97,
          484.39,
          248.1,
          162.35
         ],
         "yaxis": "y2"
        },
        {
         "mode": "lines",
         "name": "bitstamp:/USD-BTC",
         "type": "scatter",
         "uid": "b3610eea-9870-4a75-8f30-1c3b9b68ccd1",
         "xaxis": "x3",
         "y": [
          8740.99,
          8739,
          8728.49,
          8708.32,
          8795.9,
          8760,
          8760,
          8759.23,
          8517.77,
          8520.3,
          8535.23,
          8546.34,
          8526.65,
          8555.6,
          8512.1,
          8492.28,
          8460,
          8474.99,
          8455.92,
          8326.28,
          8133.43,
          8164.79,
          8229.38,
          8220.4,
          8238.8,
          8232.99,
          8207.48,
          8243.45,
          8371.13,
          8373,
          8365.08,
          8179.99,
          8225,
          8285.8,
          8273.4,
          8297.4,
          8279.89,
          8252.72,
          8302.18,
          8295.85,
          8277.25,
          8346.59,
          8358.3,
          8375.1,
          8368.62,
          8366.72,
          8314.77,
          8363.7,
          8344.16,
          8247.4,
          8277.4,
          8291.67,
          8307.89,
          8298.9,
          8269.47,
          8300.98,
          8318.49,
          8306.39,
          8276.43,
          8257.69,
          8166,
          8176.33,
          8200.7,
          8155.41,
          8080,
          8067.03,
          7958.08,
          7974.25,
          7998.5,
          7991.99,
          8022.7,
          8042.97,
          7965.67,
          8088.95,
          8122.19,
          8107.99,
          8137.73,
          8115,
          8107,
          8094.4,
          8080.01
         ],
         "yaxis": "y3"
        },
        {
         "mode": "lines",
         "name": "bitstamp:/USD:/free",
         "type": "scatter",
         "uid": "ea66d02e-e037-4510-a457-e9bd74f24c2b",
         "xaxis": "x3",
         "y": [
          10000,
          3000,
          3000,
          3000,
          3000,
          3000,
          3000,
          3000,
          3000,
          9780.37,
          9780.37,
          9780.37,
          2934.11,
          2934.11,
          2934.11,
          2934.11,
          2934.11,
          293.41,
          293.41,
          293.41,
          6923.42,
          6923.42,
          6923.42,
          6923.42,
          2769.37,
          2769.37,
          2769.37,
          2769.37,
          2769.37,
          6974.25,
          6974.25,
          6974.25,
          6974.25,
          6974.25,
          6974.25,
          6974.25,
          6974.25,
          6974.25,
          6974.25,
          6974.25,
          6974.25,
          6974.25,
          6974.25,
          6974.25,
          6974.25,
          6974.25,
          697.43,
          697.43,
          697.43,
          697.43,
          697.43,
          697.43,
          697.43,
          697.43,
          697.43,
          697.43,
          697.43,
          697.43,
          697.43,
          697.43,
          697.43,
          697.43,
          697.43,
          697.43,
          697.43,
          697.43,
          697.43,
          6631.92,
          6631.92,
          6631.92,
          6631.92,
          6631.92,
          6631.92,
          6631.92,
          6631.92,
          6631.92,
          6631.92,
          2652.77,
          2652.77,
          2652.77,
          2652.77
         ],
         "yaxis": "y3"
        },
        {
         "mode": "lines",
         "name": "bitstamp:/USD:/locked",
         "type": "scatter",
         "uid": "fb661c40-5608-44f7-99d3-e46afb27d1f9",
         "xaxis": "x3",
         "y": [
          0,
          0,
          0,
          0,
          0,
          0,
          0,
          0,
          0,
          0,
          0,
          0,
          0,
          0,
          0,
          0,
          0,
          0,
          0,
          0,
          0,
          0,
          0,
          0,
          0,
          0,
          0,
          0,
          0,
          0,
          0,
          0,
          0,
          0,
          0,
          0,
          0,
          0,
          0,
          0,
          0,
          0,
          0,
          0,
          0,
          0,
          0,
          0,
          0,
          0,
          0,
          0,
          0,
          0,
          0,
          0,
          0,
          0,
          0,
          0,
          0,
          0,
          0,
          0,
          0,
          0,
          0,
          0,
          0,
          0,
          0,
          0,
          0,
          0,
          0,
          0,
          0,
          0,
          0,
          0,
          0
         ],
         "yaxis": "y3"
        },
        {
         "mode": "lines",
         "name": "bitstamp:/USD:/total",
         "type": "scatter",
         "uid": "c0bf27d9-e1c6-4ca9-bee9-36b24eb2e6ef",
         "xaxis": "x3",
         "y": [
          10000,
          3000,
          3000,
          3000,
          3000,
          3000,
          3000,
          3000,
          3000,
          9780.37,
          9780.37,
          9780.37,
          2934.11,
          2934.11,
          2934.11,
          2934.11,
          2934.11,
          293.41,
          293.41,
          293.41,
          6923.42,
          6923.42,
          6923.42,
          6923.42,
          2769.37,
          2769.37,
          2769.37,
          2769.37,
          2769.37,
          6974.25,
          6974.25,
          6974.25,
          6974.25,
          6974.25,
          6974.25,
          6974.25,
          6974.25,
          6974.25,
          6974.25,
          6974.25,
          6974.25,
          6974.25,
          6974.25,
          6974.25,
          6974.25,
          6974.25,
          697.43,
          697.43,
          697.43,
          697.43,
          697.43,
          697.43,
          697.43,
          697.43,
          697.43,
          697.43,
          697.43,
          697.43,
          697.43,
          697.43,
          697.43,
          697.43,
          697.43,
          697.43,
          697.43,
          697.43,
          697.43,
          6631.92,
          6631.92,
          6631.92,
          6631.92,
          6631.92,
          6631.92,
          6631.92,
          6631.92,
          6631.92,
          6631.92,
          2652.77,
          2652.77,
          2652.77,
          2652.77
         ],
         "yaxis": "y3"
        },
        {
         "mode": "lines",
         "name": "bitstamp:/BTC:/free",
         "type": "scatter",
         "uid": "aba4850a-d13f-43a5-b660-59886fc23ede",
         "xaxis": "x3",
         "y": [
          10,
          10,
          10,
          10,
          10,
          10,
          10,
          10,
          10,
          10,
          10,
          10,
          10,
          10,
          10,
          10,
          10,
          10,
          10,
          10,
          10,
          10,
          10,
          10,
          10,
          10,
          10,
          10,
          10,
          10,
          10,
          10,
          10,
          10,
          10,
          10,
          10,
          10,
          10,
          10,
          10,
          10,
          10,
          10,
          10,
          10,
          10,
          10,
          10,
          10,
          10,
          10,
          10,
          10,
          10,
          10,
          10,
          10,
          10,
          10,
          10,
          10,
          10,
          10,
          10,
          10,
          10,
          10,
          10,
          10,
          10,
          10,
          10,
          10,
          10,
          10,
          10,
          10,
          10,
          10,
          10
         ],
         "yaxis": "y3"
        },
        {
         "mode": "lines",
         "name": "bitstamp:/BTC:/locked",
         "type": "scatter",
         "uid": "9b3ce381-607d-44b8-aab1-3bf1923665b6",
         "xaxis": "x3",
         "y": [
          0,
          0.79842215,
          0.79842215,
          0.79842215,
          0.79842215,
          0.79842215,
          0.79842215,
          0.79842215,
          0.79842215,
          0,
          0,
          0,
          0.79867171,
          0.79867171,
          0.79867171,
          0.79867171,
          0.79867171,
          1.10987502,
          1.10987502,
          1.10987502,
          0.31120331,
          0.31120331,
          0.31120331,
          0.31120331,
          0.81502186,
          0.81502186,
          0.81502186,
          0.81502186,
          0.81502186,
          0.31120331,
          0.31120331,
          0.31120331,
          0.31120331,
          0.31120331,
          0.31120331,
          0.31120331,
          0.31120331,
          0.31120331,
          0.31120331,
          0.31120331,
          0.31120331,
          0.31120331,
          0.31120331,
          0.31120331,
          0.31120331,
          0.31120331,
          1.05916547,
          1.05916547,
          1.05916547,
          1.05916547,
          1.05916547,
          1.05916547,
          1.05916547,
          1.05916547,
          1.05916547,
          1.05916547,
          1.05916547,
          1.05916547,
          1.05916547,
          1.05916547,
          1.05916547,
          1.05916547,
          1.05916547,
          1.05916547,
          1.05916547,
          1.05916547,
          1.05916547,
          0.31120331,
          0.31120331,
          0.31120331,
          0.31120331,
          0.31120331,
          0.31120331,
          0.31120331,
          0.31120331,
          0.31120331,
          0.31120331,
          0.7987115,
          0.7987115,
          0.7987115,
          0.7987115
         ],
         "yaxis": "y3"
        },
        {
         "mode": "lines",
         "name": "bitstamp:/BTC:/total",
         "type": "scatter",
         "uid": "5557485e-c34e-494d-8bee-8951c37f8554",
         "xaxis": "x3",
         "y": [
          10,
          10.79842215,
          10.79842215,
          10.79842215,
          10.79842215,
          10.79842215,
          10.79842215,
          10.79842215,
          10.79842215,
          10,
          10,
          10,
          10.79867171,
          10.79867171,
          10.79867171,
          10.79867171,
          10.79867171,
          11.10987502,
          11.10987502,
          11.10987502,
          10.31120331,
          10.31120331,
          10.31120331,
          10.31120331,
          10.81502186,
          10.81502186,
          10.81502186,
          10.81502186,
          10.81502186,
          10.31120331,
          10.31120331,
          10.31120331,
          10.31120331,
          10.31120331,
          10.31120331,
          10.31120331,
          10.31120331,
          10.31120331,
          10.31120331,
          10.31120331,
          10.31120331,
          10.31120331,
          10.31120331,
          10.31120331,
          10.31120331,
          10.31120331,
          11.05916547,
          11.05916547,
          11.05916547,
          11.05916547,
          11.05916547,
          11.05916547,
          11.05916547,
          11.05916547,
          11.05916547,
          11.05916547,
          11.05916547,
          11.05916547,
          11.05916547,
          11.05916547,
          11.05916547,
          11.05916547,
          11.05916547,
          11.05916547,
          11.05916547,
          11.05916547,
          11.05916547,
          10.31120331,
          10.31120331,
          10.31120331,
          10.31120331,
          10.31120331,
          10.31120331,
          10.31120331,
          10.31120331,
          10.31120331,
          10.31120331,
          10.7987115,
          10.7987115,
          10.7987115,
          10.7987115
         ],
         "yaxis": "y3"
        },
        {
         "mode": "lines",
         "name": "bitstamp:/BTC:/worth",
         "type": "scatter",
         "uid": "321c3fe7-7849-4196-a1e0-fe124b314c73",
         "xaxis": "x3",
         "y": [
          87409.9,
          94367.41116885,
          94253.9197520535,
          94036.115577288,
          94981.84138918499,
          94594.178034,
          94594.178034,
          94585.8632489445,
          91978.47623660551,
          85203,
          85352.29999999999,
          85463.4,
          92076.4941360715,
          92389.11568207601,
          91919.37346269102,
          91705.34378939882,
          91356.7626666,
          94156.0796957498,
          93944.2143791184,
          92503.93018152562,
          83865.4503376533,
          84188.8096734549,
          84854.8102952478,
          84762.21568952399,
          89102.80210016799,
          89039.96682316139,
          88764.07561551279,
          89153.09195181701,
          90533.95394290179,
          86335.70531463,
          86254.0405844148,
          84345.53996376689,
          84809.64722474999,
          85436.56838599799,
          85308.709464954,
          85556.178344394,
          85375.62917443589,
          85095.47378050319,
          85605.4658962158,
          85540.1959792635,
          85348.4075976975,
          86063.3864352129,
          86184.13062597299,
          86357.35884158101,
          86290.5422441322,
          86270.95095784319,
          91954.41727499191,
          92495.542241439,
          92279.4461481552,
          91209.361297278,
          91541.136261378,
          91698.9505526349,
          91878.33021655829,
          91778.908318983,
          91453.4370792009,
          91801.9113831606,
          91995.5573705403,
          91861.7414683533,
          91530.4088708721,
          91323.1601099643,
          90309.14522802,
          90423.3864073251,
          90692.898269829,
          90192.02866569269,
          89358.0569976,
          89214.6196214541,
          88009.7235434976,
          82224.11299476749,
          82474.159675035,
          82407.0337414869,
          82723.690795137,
          82932.6988862307,
          82135.6428703677,
          83406.8080144245,
          83749.55241244889,
          83603.13332544689,
          83909.78851188629,
          87631.5438225,
          87545.1541305,
          87409.09036559999,
          87253.696907115
         ],
         "yaxis": "y3"
        },
        {
         "mode": "lines",
         "name": "net_worth",
         "type": "scatter",
         "uid": "df5e426b-c637-48ae-be80-38f810ca2956",
         "xaxis": "x3",
         "y": [
          97409.9,
          97367.41116885,
          97253.9197520535,
          97036.115577288,
          97981.84138918499,
          97594.178034,
          97594.178034,
          97585.8632489445,
          94978.47623660551,
          94983.37,
          95132.66999999998,
          95243.76999999999,
          95010.6041360715,
          95323.22568207601,
          94853.48346269102,
          94639.45378939882,
          94290.8726666,
          94449.4896957498,
          94237.62437911841,
          92797.34018152562,
          90788.8703376533,
          91112.2296734549,
          91778.23029524779,
          91685.63568952399,
          91872.17210016798,
          91809.33682316139,
          91533.44561551278,
          91922.46195181701,
          93303.32394290178,
          93309.95531463,
          93228.2905844148,
          91319.78996376689,
          91783.89722474999,
          92410.81838599799,
          92282.959464954,
          92530.428344394,
          92349.87917443589,
          92069.72378050319,
          92579.7158962158,
          92514.4459792635,
          92322.6575976975,
          93037.6364352129,
          93158.38062597299,
          93331.60884158101,
          93264.7922441322,
          93245.20095784319,
          92651.8472749919,
          93192.972241439,
          92976.87614815519,
          91906.79129727799,
          92238.56626137799,
          92396.38055263489,
          92575.76021655828,
          92476.33831898299,
          92150.86707920089,
          92499.34138316059,
          92692.98737054029,
          92559.17146835329,
          92227.83887087209,
          92020.5901099643,
          91006.57522802,
          91120.8164073251,
          91390.328269829,
          90889.45866569268,
          90055.48699759999,
          89912.04962145409,
          88707.1535434976,
          88856.03299476749,
          89106.079675035,
          89038.9537414869,
          89355.61079513699,
          89564.6188862307,
          88767.56287036769,
          90038.7280144245,
          90381.47241244889,
          90235.05332544689,
          90541.70851188629,
          90284.3138225,
          90197.9241305,
          90061.86036559999,
          89906.466907115
         ],
         "yaxis": "y3"
        },
        {
         "marker": {
          "color": "DarkGreen"
         },
         "mode": "lines",
         "name": "Net Worth",
         "type": "scatter",
         "uid": "9c96b727-5230-4d89-be49-db2bef7e8edd",
         "xaxis": "x4",
         "y": [
          97409.9,
          97367.41116885,
          97253.9197520535,
          97036.115577288,
          97981.84138918499,
          97594.178034,
          97594.178034,
          97585.8632489445,
          94978.47623660551,
          94983.37,
          95132.66999999998,
          95243.76999999999,
          95010.6041360715,
          95323.22568207601,
          94853.48346269102,
          94639.45378939882,
          94290.8726666,
          94449.4896957498,
          94237.62437911841,
          92797.34018152562,
          90788.8703376533,
          91112.2296734549,
          91778.23029524779,
          91685.63568952399,
          91872.17210016798,
          91809.33682316139,
          91533.44561551278,
          91922.46195181701,
          93303.32394290178,
          93309.95531463,
          93228.2905844148,
          91319.78996376689,
          91783.89722474999,
          92410.81838599799,
          92282.959464954,
          92530.428344394,
          92349.87917443589,
          92069.72378050319,
          92579.7158962158,
          92514.4459792635,
          92322.6575976975,
          93037.6364352129,
          93158.38062597299,
          93331.60884158101,
          93264.7922441322,
          93245.20095784319,
          92651.8472749919,
          93192.972241439,
          92976.87614815519,
          91906.79129727799,
          92238.56626137799,
          92396.38055263489,
          92575.76021655828,
          92476.33831898299,
          92150.86707920089,
          92499.34138316059,
          92692.98737054029,
          92559.17146835329,
          92227.83887087209,
          92020.5901099643,
          91006.57522802,
          91120.8164073251,
          91390.328269829,
          90889.45866569268,
          90055.48699759999,
          89912.04962145409,
          88707.1535434976,
          88856.03299476749,
          89106.079675035,
          89038.9537414869,
          89355.61079513699,
          89564.6188862307,
          88767.56287036769,
          90038.7280144245,
          90381.47241244889,
          90235.05332544689,
          90541.70851188629,
          90284.3138225,
          90197.9241305,
          90061.86036559999,
          89906.466907115
         ],
         "yaxis": "y4"
        }
       ],
       "layout": {
        "annotations": [
         {
          "arrowcolor": "FireBrick",
          "arrowhead": 2,
          "arrowsize": 0.8,
          "arrowwidth": 4,
          "ax": 0,
          "ay": -15,
          "hoverlabel": {
           "bgcolor": "FireBrick"
          },
          "hovertext": "Step 20 [2018-05-16 01:00:00]<br>SELL 0.79627569 BTC @ 8326.28 USD MARKET<br>Total: 6630.01 USD - Comm.: 0.00239602 BTC",
          "opacity": 0.6,
          "showarrow": true,
          "x": 19,
          "xref": "x",
          "y": 8326.28,
          "yref": "y"
         },
         {
          "arrowcolor": "DarkGreen",
          "arrowhead": 2,
          "arrowsize": 0.8,
          "arrowwidth": 4,
          "ax": 0,
          "ay": 15,
          "hoverlabel": {
           "bgcolor": "DarkGreen"
          },
          "hovertext": "Step 17 [2018-05-15 22:00:00]<br>BUY 0.31120331 BTC @ 8460.0 USD MARKET<br>Total: 2632.78 USD - Comm.: 7.92 USD",
          "opacity": 0.6,
          "showarrow": true,
          "x": 16,
          "xref": "x",
          "y": 8460,
          "yref": "y"
         },
         {
          "arrowcolor": "DarkGreen",
          "arrowhead": 2,
          "arrowsize": 0.8,
          "arrowwidth": 4,
          "ax": 0,
          "ay": 15,
          "hoverlabel": {
           "bgcolor": "DarkGreen"
          },
          "hovertext": "Step 12 [2018-05-15 17:00:00]<br>BUY 0.79867171 BTC @ 8546.34 USD MARKET<br>Total: 6825.72 USD - Comm.: 20.54 USD",
          "opacity": 0.6,
          "showarrow": true,
          "x": 11,
          "xref": "x",
          "y": 8546.34,
          "yref": "y"
         },
         {
          "arrowcolor": "FireBrick",
          "arrowhead": 2,
          "arrowsize": 0.8,
          "arrowwidth": 4,
          "ax": 0,
          "ay": -15,
          "hoverlabel": {
           "bgcolor": "FireBrick"
          },
          "hovertext": "Step 9 [2018-05-15 14:00:00]<br>SELL 0.79602688 BTC @ 8517.77 USD MARKET<br>Total: 6780.37 USD - Comm.: 0.00239527 BTC",
          "opacity": 0.6,
          "showarrow": true,
          "x": 8,
          "xref": "x",
          "y": 8517.77,
          "yref": "y"
         },
         {
          "arrowcolor": "DarkGreen",
          "arrowhead": 2,
          "arrowsize": 0.8,
          "arrowwidth": 4,
          "ax": 0,
          "ay": 15,
          "hoverlabel": {
           "bgcolor": "DarkGreen"
          },
          "hovertext": "Step 1 [2018-05-15 06:00:00]<br>BUY 0.79842215 BTC @ 8740.99 USD MARKET<br>Total: 6979.0 USD - Comm.: 21.00 USD",
          "opacity": 0.6,
          "showarrow": true,
          "x": 0,
          "xref": "x",
          "y": 8740.99,
          "yref": "y"
         },
         {
          "arrowcolor": "FireBrick",
          "arrowhead": 2,
          "arrowsize": 0.8,
          "arrowwidth": 4,
          "ax": 0,
          "ay": -15,
          "hoverlabel": {
           "bgcolor": "FireBrick"
          },
          "hovertext": "Step 29 [2018-05-16 10:00:00]<br>SELL 0.50230709 BTC @ 8371.13 USD MARKET<br>Total: 4204.88 USD - Comm.: 0.00151146 BTC",
          "opacity": 0.6,
          "showarrow": true,
          "x": 28,
          "xref": "x",
          "y": 8371.13,
          "yref": "y"
         },
         {
          "arrowcolor": "DarkGreen",
          "arrowhead": 2,
          "arrowsize": 0.8,
          "arrowwidth": 4,
          "ax": 0,
          "ay": 15,
          "hoverlabel": {
           "bgcolor": "DarkGreen"
          },
          "hovertext": "Step 24 [2018-05-16 05:00:00]<br>BUY 0.50381855 BTC @ 8220.4 USD MARKET<br>Total: 4141.59 USD - Comm.: 12.46 USD",
          "opacity": 0.6,
          "showarrow": true,
          "x": 23,
          "xref": "x",
          "y": 8220.4,
          "yref": "y"
         },
         {
          "arrowcolor": "DarkGreen",
          "arrowhead": 2,
          "arrowsize": 0.8,
          "arrowwidth": 4,
          "ax": 0,
          "ay": 15,
          "hoverlabel": {
           "bgcolor": "DarkGreen"
          },
          "hovertext": "Step 46 [2018-05-17 03:00:00]<br>BUY 0.74796216 BTC @ 8366.72 USD MARKET<br>Total: 6257.99 USD - Comm.: 18.83 USD",
          "opacity": 0.6,
          "showarrow": true,
          "x": 45,
          "xref": "x",
          "y": 8366.72,
          "yref": "y"
         },
         {
          "arrowcolor": "DarkGreen",
          "arrowhead": 2,
          "arrowsize": 0.8,
          "arrowwidth": 4,
          "ax": 0,
          "ay": 15,
          "hoverlabel": {
           "bgcolor": "DarkGreen"
          },
          "hovertext": "Step 77 [2018-05-18 10:00:00]<br>BUY 0.48750819 BTC @ 8137.73 USD MARKET<br>Total: 3967.21 USD - Comm.: 11.94 USD",
          "opacity": 0.6,
          "showarrow": true,
          "x": 76,
          "xref": "x",
          "y": 8137.73,
          "yref": "y"
         },
         {
          "arrowcolor": "FireBrick",
          "arrowhead": 2,
          "arrowsize": 0.8,
          "arrowwidth": 4,
          "ax": 0,
          "ay": -15,
          "hoverlabel": {
           "bgcolor": "FireBrick"
          },
          "hovertext": "Step 67 [2018-05-18 00:00:00]<br>SELL 0.74571827 BTC @ 7958.08 USD MARKET<br>Total: 5934.49 USD - Comm.: 0.00224389 BTC",
          "opacity": 0.6,
          "showarrow": true,
          "x": 66,
          "xref": "x",
          "y": 7958.08,
          "yref": "y"
         }
        ],
        "margin": {
         "t": 50
        },
        "template": {
         "data": {
          "bar": [
           {
            "error_x": {
             "color": "#2a3f5f"
            },
            "error_y": {
             "color": "#2a3f5f"
            },
            "marker": {
             "line": {
              "color": "white",
              "width": 0.5
             },
             "pattern": {
              "fillmode": "overlay",
              "size": 10,
              "solidity": 0.2
             }
            },
            "type": "bar"
           }
          ],
          "barpolar": [
           {
            "marker": {
             "line": {
              "color": "white",
              "width": 0.5
             },
             "pattern": {
              "fillmode": "overlay",
              "size": 10,
              "solidity": 0.2
             }
            },
            "type": "barpolar"
           }
          ],
          "carpet": [
           {
            "aaxis": {
             "endlinecolor": "#2a3f5f",
             "gridcolor": "#C8D4E3",
             "linecolor": "#C8D4E3",
             "minorgridcolor": "#C8D4E3",
             "startlinecolor": "#2a3f5f"
            },
            "baxis": {
             "endlinecolor": "#2a3f5f",
             "gridcolor": "#C8D4E3",
             "linecolor": "#C8D4E3",
             "minorgridcolor": "#C8D4E3",
             "startlinecolor": "#2a3f5f"
            },
            "type": "carpet"
           }
          ],
          "choropleth": [
           {
            "colorbar": {
             "outlinewidth": 0,
             "ticks": ""
            },
            "type": "choropleth"
           }
          ],
          "contour": [
           {
            "colorbar": {
             "outlinewidth": 0,
             "ticks": ""
            },
            "colorscale": [
             [
              0,
              "#0d0887"
             ],
             [
              0.1111111111111111,
              "#46039f"
             ],
             [
              0.2222222222222222,
              "#7201a8"
             ],
             [
              0.3333333333333333,
              "#9c179e"
             ],
             [
              0.4444444444444444,
              "#bd3786"
             ],
             [
              0.5555555555555556,
              "#d8576b"
             ],
             [
              0.6666666666666666,
              "#ed7953"
             ],
             [
              0.7777777777777778,
              "#fb9f3a"
             ],
             [
              0.8888888888888888,
              "#fdca26"
             ],
             [
              1,
              "#f0f921"
             ]
            ],
            "type": "contour"
           }
          ],
          "contourcarpet": [
           {
            "colorbar": {
             "outlinewidth": 0,
             "ticks": ""
            },
            "type": "contourcarpet"
           }
          ],
          "heatmap": [
           {
            "colorbar": {
             "outlinewidth": 0,
             "ticks": ""
            },
            "colorscale": [
             [
              0,
              "#0d0887"
             ],
             [
              0.1111111111111111,
              "#46039f"
             ],
             [
              0.2222222222222222,
              "#7201a8"
             ],
             [
              0.3333333333333333,
              "#9c179e"
             ],
             [
              0.4444444444444444,
              "#bd3786"
             ],
             [
              0.5555555555555556,
              "#d8576b"
             ],
             [
              0.6666666666666666,
              "#ed7953"
             ],
             [
              0.7777777777777778,
              "#fb9f3a"
             ],
             [
              0.8888888888888888,
              "#fdca26"
             ],
             [
              1,
              "#f0f921"
             ]
            ],
            "type": "heatmap"
           }
          ],
          "heatmapgl": [
           {
            "colorbar": {
             "outlinewidth": 0,
             "ticks": ""
            },
            "colorscale": [
             [
              0,
              "#0d0887"
             ],
             [
              0.1111111111111111,
              "#46039f"
             ],
             [
              0.2222222222222222,
              "#7201a8"
             ],
             [
              0.3333333333333333,
              "#9c179e"
             ],
             [
              0.4444444444444444,
              "#bd3786"
             ],
             [
              0.5555555555555556,
              "#d8576b"
             ],
             [
              0.6666666666666666,
              "#ed7953"
             ],
             [
              0.7777777777777778,
              "#fb9f3a"
             ],
             [
              0.8888888888888888,
              "#fdca26"
             ],
             [
              1,
              "#f0f921"
             ]
            ],
            "type": "heatmapgl"
           }
          ],
          "histogram": [
           {
            "marker": {
             "pattern": {
              "fillmode": "overlay",
              "size": 10,
              "solidity": 0.2
             }
            },
            "type": "histogram"
           }
          ],
          "histogram2d": [
           {
            "colorbar": {
             "outlinewidth": 0,
             "ticks": ""
            },
            "colorscale": [
             [
              0,
              "#0d0887"
             ],
             [
              0.1111111111111111,
              "#46039f"
             ],
             [
              0.2222222222222222,
              "#7201a8"
             ],
             [
              0.3333333333333333,
              "#9c179e"
             ],
             [
              0.4444444444444444,
              "#bd3786"
             ],
             [
              0.5555555555555556,
              "#d8576b"
             ],
             [
              0.6666666666666666,
              "#ed7953"
             ],
             [
              0.7777777777777778,
              "#fb9f3a"
             ],
             [
              0.8888888888888888,
              "#fdca26"
             ],
             [
              1,
              "#f0f921"
             ]
            ],
            "type": "histogram2d"
           }
          ],
          "histogram2dcontour": [
           {
            "colorbar": {
             "outlinewidth": 0,
             "ticks": ""
            },
            "colorscale": [
             [
              0,
              "#0d0887"
             ],
             [
              0.1111111111111111,
              "#46039f"
             ],
             [
              0.2222222222222222,
              "#7201a8"
             ],
             [
              0.3333333333333333,
              "#9c179e"
             ],
             [
              0.4444444444444444,
              "#bd3786"
             ],
             [
              0.5555555555555556,
              "#d8576b"
             ],
             [
              0.6666666666666666,
              "#ed7953"
             ],
             [
              0.7777777777777778,
              "#fb9f3a"
             ],
             [
              0.8888888888888888,
              "#fdca26"
             ],
             [
              1,
              "#f0f921"
             ]
            ],
            "type": "histogram2dcontour"
           }
          ],
          "mesh3d": [
           {
            "colorbar": {
             "outlinewidth": 0,
             "ticks": ""
            },
            "type": "mesh3d"
           }
          ],
          "parcoords": [
           {
            "line": {
             "colorbar": {
              "outlinewidth": 0,
              "ticks": ""
             }
            },
            "type": "parcoords"
           }
          ],
          "pie": [
           {
            "automargin": true,
            "type": "pie"
           }
          ],
          "scatter": [
           {
            "fillpattern": {
             "fillmode": "overlay",
             "size": 10,
             "solidity": 0.2
            },
            "type": "scatter"
           }
          ],
          "scatter3d": [
           {
            "line": {
             "colorbar": {
              "outlinewidth": 0,
              "ticks": ""
             }
            },
            "marker": {
             "colorbar": {
              "outlinewidth": 0,
              "ticks": ""
             }
            },
            "type": "scatter3d"
           }
          ],
          "scattercarpet": [
           {
            "marker": {
             "colorbar": {
              "outlinewidth": 0,
              "ticks": ""
             }
            },
            "type": "scattercarpet"
           }
          ],
          "scattergeo": [
           {
            "marker": {
             "colorbar": {
              "outlinewidth": 0,
              "ticks": ""
             }
            },
            "type": "scattergeo"
           }
          ],
          "scattergl": [
           {
            "marker": {
             "colorbar": {
              "outlinewidth": 0,
              "ticks": ""
             }
            },
            "type": "scattergl"
           }
          ],
          "scattermapbox": [
           {
            "marker": {
             "colorbar": {
              "outlinewidth": 0,
              "ticks": ""
             }
            },
            "type": "scattermapbox"
           }
          ],
          "scatterpolar": [
           {
            "marker": {
             "colorbar": {
              "outlinewidth": 0,
              "ticks": ""
             }
            },
            "type": "scatterpolar"
           }
          ],
          "scatterpolargl": [
           {
            "marker": {
             "colorbar": {
              "outlinewidth": 0,
              "ticks": ""
             }
            },
            "type": "scatterpolargl"
           }
          ],
          "scatterternary": [
           {
            "marker": {
             "colorbar": {
              "outlinewidth": 0,
              "ticks": ""
             }
            },
            "type": "scatterternary"
           }
          ],
          "surface": [
           {
            "colorbar": {
             "outlinewidth": 0,
             "ticks": ""
            },
            "colorscale": [
             [
              0,
              "#0d0887"
             ],
             [
              0.1111111111111111,
              "#46039f"
             ],
             [
              0.2222222222222222,
              "#7201a8"
             ],
             [
              0.3333333333333333,
              "#9c179e"
             ],
             [
              0.4444444444444444,
              "#bd3786"
             ],
             [
              0.5555555555555556,
              "#d8576b"
             ],
             [
              0.6666666666666666,
              "#ed7953"
             ],
             [
              0.7777777777777778,
              "#fb9f3a"
             ],
             [
              0.8888888888888888,
              "#fdca26"
             ],
             [
              1,
              "#f0f921"
             ]
            ],
            "type": "surface"
           }
          ],
          "table": [
           {
            "cells": {
             "fill": {
              "color": "#EBF0F8"
             },
             "line": {
              "color": "white"
             }
            },
            "header": {
             "fill": {
              "color": "#C8D4E3"
             },
             "line": {
              "color": "white"
             }
            },
            "type": "table"
           }
          ]
         },
         "layout": {
          "annotationdefaults": {
           "arrowcolor": "#2a3f5f",
           "arrowhead": 0,
           "arrowwidth": 1
          },
          "autotypenumbers": "strict",
          "coloraxis": {
           "colorbar": {
            "outlinewidth": 0,
            "ticks": ""
           }
          },
          "colorscale": {
           "diverging": [
            [
             0,
             "#8e0152"
            ],
            [
             0.1,
             "#c51b7d"
            ],
            [
             0.2,
             "#de77ae"
            ],
            [
             0.3,
             "#f1b6da"
            ],
            [
             0.4,
             "#fde0ef"
            ],
            [
             0.5,
             "#f7f7f7"
            ],
            [
             0.6,
             "#e6f5d0"
            ],
            [
             0.7,
             "#b8e186"
            ],
            [
             0.8,
             "#7fbc41"
            ],
            [
             0.9,
             "#4d9221"
            ],
            [
             1,
             "#276419"
            ]
           ],
           "sequential": [
            [
             0,
             "#0d0887"
            ],
            [
             0.1111111111111111,
             "#46039f"
            ],
            [
             0.2222222222222222,
             "#7201a8"
            ],
            [
             0.3333333333333333,
             "#9c179e"
            ],
            [
             0.4444444444444444,
             "#bd3786"
            ],
            [
             0.5555555555555556,
             "#d8576b"
            ],
            [
             0.6666666666666666,
             "#ed7953"
            ],
            [
             0.7777777777777778,
             "#fb9f3a"
            ],
            [
             0.8888888888888888,
             "#fdca26"
            ],
            [
             1,
             "#f0f921"
            ]
           ],
           "sequentialminus": [
            [
             0,
             "#0d0887"
            ],
            [
             0.1111111111111111,
             "#46039f"
            ],
            [
             0.2222222222222222,
             "#7201a8"
            ],
            [
             0.3333333333333333,
             "#9c179e"
            ],
            [
             0.4444444444444444,
             "#bd3786"
            ],
            [
             0.5555555555555556,
             "#d8576b"
            ],
            [
             0.6666666666666666,
             "#ed7953"
            ],
            [
             0.7777777777777778,
             "#fb9f3a"
            ],
            [
             0.8888888888888888,
             "#fdca26"
            ],
            [
             1,
             "#f0f921"
            ]
           ]
          },
          "colorway": [
           "#636efa",
           "#EF553B",
           "#00cc96",
           "#ab63fa",
           "#FFA15A",
           "#19d3f3",
           "#FF6692",
           "#B6E880",
           "#FF97FF",
           "#FECB52"
          ],
          "font": {
           "color": "#2a3f5f"
          },
          "geo": {
           "bgcolor": "white",
           "lakecolor": "white",
           "landcolor": "white",
           "showlakes": true,
           "showland": true,
           "subunitcolor": "#C8D4E3"
          },
          "hoverlabel": {
           "align": "left"
          },
          "hovermode": "closest",
          "mapbox": {
           "style": "light"
          },
          "paper_bgcolor": "white",
          "plot_bgcolor": "white",
          "polar": {
           "angularaxis": {
            "gridcolor": "#EBF0F8",
            "linecolor": "#EBF0F8",
            "ticks": ""
           },
           "bgcolor": "white",
           "radialaxis": {
            "gridcolor": "#EBF0F8",
            "linecolor": "#EBF0F8",
            "ticks": ""
           }
          },
          "scene": {
           "xaxis": {
            "backgroundcolor": "white",
            "gridcolor": "#DFE8F3",
            "gridwidth": 2,
            "linecolor": "#EBF0F8",
            "showbackground": true,
            "ticks": "",
            "zerolinecolor": "#EBF0F8"
           },
           "yaxis": {
            "backgroundcolor": "white",
            "gridcolor": "#DFE8F3",
            "gridwidth": 2,
            "linecolor": "#EBF0F8",
            "showbackground": true,
            "ticks": "",
            "zerolinecolor": "#EBF0F8"
           },
           "zaxis": {
            "backgroundcolor": "white",
            "gridcolor": "#DFE8F3",
            "gridwidth": 2,
            "linecolor": "#EBF0F8",
            "showbackground": true,
            "ticks": "",
            "zerolinecolor": "#EBF0F8"
           }
          },
          "shapedefaults": {
           "line": {
            "color": "#2a3f5f"
           }
          },
          "ternary": {
           "aaxis": {
            "gridcolor": "#DFE8F3",
            "linecolor": "#A2B1C6",
            "ticks": ""
           },
           "baxis": {
            "gridcolor": "#DFE8F3",
            "linecolor": "#A2B1C6",
            "ticks": ""
           },
           "bgcolor": "white",
           "caxis": {
            "gridcolor": "#DFE8F3",
            "linecolor": "#A2B1C6",
            "ticks": ""
           }
          },
          "title": {
           "x": 0.05
          },
          "xaxis": {
           "automargin": true,
           "gridcolor": "#EBF0F8",
           "linecolor": "#EBF0F8",
           "ticks": "",
           "title": {
            "standoff": 15
           },
           "zerolinecolor": "#EBF0F8",
           "zerolinewidth": 2
          },
          "yaxis": {
           "automargin": true,
           "gridcolor": "#EBF0F8",
           "linecolor": "#EBF0F8",
           "ticks": "",
           "title": {
            "standoff": 15
           },
           "zerolinecolor": "#EBF0F8",
           "zerolinewidth": 2
          }
         }
        },
        "title": {
         "text": "[2022-07-29 01:25:32] Episode: 2/2 Step: 81/200"
        },
        "xaxis": {
         "anchor": "y",
         "domain": [
          0,
          1
         ],
         "gridcolor": "Gainsboro",
         "linecolor": "Grey",
         "matches": "x4",
         "rangeslider": {
          "visible": false
         },
         "showticklabels": false,
         "title": {
          "font": {
           "size": 12
          },
          "standoff": 7,
          "text": "Price"
         }
        },
        "xaxis2": {
         "anchor": "y2",
         "domain": [
          0,
          1
         ],
         "gridcolor": "Gainsboro",
         "linecolor": "Grey",
         "matches": "x4",
         "showticklabels": false,
         "title": {
          "font": {
           "size": 12
          },
          "standoff": 7,
          "text": "Volume"
         }
        },
        "xaxis3": {
         "anchor": "y3",
         "domain": [
          0,
          1
         ],
         "gridcolor": "Gainsboro",
         "linecolor": "Grey",
         "matches": "x4",
         "showticklabels": false,
         "title": {
          "font": {
           "size": 12
          },
          "standoff": 7,
          "text": "Performance"
         }
        },
        "xaxis4": {
         "anchor": "y4",
         "domain": [
          0,
          1
         ],
         "gridcolor": "Gainsboro",
         "linecolor": "Grey",
         "title": {
          "font": {
           "size": 12
          },
          "standoff": 7,
          "text": "Net Worth"
         }
        },
        "yaxis": {
         "anchor": "x",
         "domain": [
          0.49950000000000006,
          1
         ],
         "gridcolor": "Gainsboro",
         "linecolor": "Grey"
        },
        "yaxis2": {
         "anchor": "x2",
         "domain": [
          0.333,
          0.46950000000000003
         ],
         "gridcolor": "Gainsboro",
         "linecolor": "Grey"
        },
        "yaxis3": {
         "anchor": "x3",
         "domain": [
          0.1665,
          0.30300000000000005
         ],
         "gridcolor": "Gainsboro",
         "linecolor": "Grey"
        },
        "yaxis4": {
         "anchor": "x4",
         "domain": [
          0,
          0.1365
         ],
         "gridcolor": "Gainsboro",
         "linecolor": "Grey"
        }
       }
      }
     },
     "metadata": {},
     "output_type": "display_data"
    },
    {
     "data": {
      "application/vnd.jupyter.widget-view+json": {
       "model_id": "5a95dff502e6465b97c42c73d4ef69fb",
       "version_major": 2,
       "version_minor": 0
      },
      "text/plain": [
       "FigureWidget({\n",
       "    'data': [{'close': array([8740.99, 8739.  , 8728.49, 8708.32, 8795.9 , 8760.  , 8760.  , 87…"
      ]
     },
     "metadata": {},
     "output_type": "display_data"
    },
    {
     "data": {
      "application/vnd.plotly.v1+json": {
       "config": {
        "plotlyServerURL": "https://plot.ly"
       },
       "data": [
        {
         "close": [
          8740.99,
          8739,
          8728.49,
          8708.32,
          8795.9,
          8760,
          8760,
          8759.23,
          8517.77,
          8520.3,
          8535.23,
          8546.34,
          8526.65,
          8555.6,
          8512.1,
          8492.28,
          8460,
          8474.99,
          8455.92,
          8326.28,
          8133.43,
          8164.79,
          8229.38,
          8220.4,
          8238.8,
          8232.99,
          8207.48,
          8243.45,
          8371.13,
          8373,
          8365.08,
          8179.99,
          8225,
          8285.8,
          8273.4,
          8297.4,
          8279.89,
          8252.72,
          8302.18,
          8295.85,
          8277.25,
          8346.59,
          8358.3,
          8375.1,
          8368.62,
          8366.72,
          8314.77,
          8363.7,
          8344.16,
          8247.4,
          8277.4,
          8291.67,
          8307.89,
          8298.9,
          8269.47,
          8300.98,
          8318.49,
          8306.39,
          8276.43,
          8257.69,
          8166,
          8176.33,
          8200.7,
          8155.41,
          8080,
          8067.03,
          7958.08,
          7974.25,
          7998.5,
          7991.99,
          8022.7,
          8042.97,
          7965.67,
          8088.95,
          8122.19,
          8107.99,
          8137.73,
          8115,
          8107,
          8094.4,
          8080.01,
          8117.09,
          8126.99,
          8110.95,
          8215.39,
          8231.42,
          8240.13,
          8235,
          8219.9,
          8248.87,
          8213.5,
          8200.99,
          8200,
          8237.3,
          8228.13,
          8240.83,
          8214.9,
          8170.07,
          8229.87,
          8205.87,
          8252.56
         ],
         "high": [
          8796.68,
          8766,
          8750.27,
          8754.4,
          8865,
          8821.19,
          8798.6,
          8771.02,
          8761.7,
          8553.67,
          8589.1,
          8579.48,
          8555.51,
          8583.6,
          8569.92,
          8555.54,
          8557.51,
          8505,
          8505.33,
          8478.29,
          8339.81,
          8217.44,
          8252.72,
          8248.63,
          8267.12,
          8255,
          8261.24,
          8263.93,
          8455.66,
          8439.44,
          8399.1,
          8381.73,
          8229.91,
          8377.29,
          8329.1,
          8350,
          8346.95,
          8377.29,
          8311.35,
          8319.96,
          8398.24,
          8372.58,
          8399.99,
          8386.53,
          8400,
          8500,
          8381,
          8371.3,
          8382.41,
          8351,
          8292.99,
          8325.8,
          8318.99,
          8324.9,
          8335.56,
          8309.4,
          8377.29,
          8330.41,
          8328.23,
          8284.36,
          8274.83,
          8200,
          8232.14,
          8213.97,
          8155.41,
          8108.28,
          8068.92,
          8019.9,
          8026.66,
          8025,
          8104.69,
          8061.39,
          8045.99,
          8170.71,
          8144.16,
          8139.99,
          8152.99,
          8137.73,
          8143.72,
          8129.99,
          8106.76,
          8139,
          8152.04,
          8146.99,
          8232.14,
          8275.1,
          8256.12,
          8274.1,
          8255.8,
          8253.97,
          8261.09,
          8235.76,
          8227,
          8273.36,
          8264.21,
          8250,
          8250.86,
          8235.77,
          8232.12,
          8232.14,
          8252.72
         ],
         "low": [
          8707.28,
          8721.11,
          8660.53,
          8701.35,
          8695.11,
          8740.54,
          8741.52,
          8700,
          8467.42,
          8477.89,
          8500.78,
          8500,
          8400,
          8451.05,
          8461.38,
          8481.24,
          8420.37,
          8450,
          8430.94,
          8275.02,
          8100.01,
          8122.56,
          8157.01,
          8166.25,
          8176.91,
          8213.79,
          8200,
          8207.48,
          8237.1,
          8370,
          8356.4,
          8145.1,
          8173.6,
          8211.8,
          8201,
          8250.9,
          8266.46,
          8252.72,
          8232.14,
          8268.37,
          8277.25,
          8277.25,
          8314.78,
          8314.77,
          8350.07,
          8331.39,
          8314.77,
          8275.45,
          8335.49,
          8191.14,
          8227.7,
          8264.13,
          8249.93,
          8269.52,
          8219.44,
          8262.68,
          8286.65,
          8289.87,
          8232.14,
          8232.14,
          8110.02,
          8154.95,
          8168.6,
          8151,
          7980,
          8005.95,
          7929.53,
          7931.03,
          7950,
          7980.58,
          7991.99,
          7992.75,
          7953.4,
          7965.67,
          8085.94,
          8078.48,
          8092.9,
          8049.22,
          8079.46,
          8062.12,
          8043.96,
          8063.1,
          8088.46,
          8094.43,
          8088.46,
          8191.14,
          8212,
          8224.5,
          8211,
          8211.01,
          8210.03,
          8158.27,
          8177.65,
          8179.41,
          8221.92,
          8217.32,
          8213.52,
          8141.08,
          8146.1,
          8186.03,
          8197.09
         ],
         "name": "Price",
         "open": [
          8733.86,
          8740.99,
          8739,
          8728.49,
          8708.32,
          8795.9,
          8760,
          8760,
          8759.23,
          8517.77,
          8520.3,
          8535.23,
          8546.34,
          8526.65,
          8555.6,
          8512.1,
          8492.28,
          8460,
          8474.99,
          8455.92,
          8326.28,
          8133.43,
          8164.79,
          8229.38,
          8220.4,
          8238.8,
          8232.99,
          8207.48,
          8243.45,
          8371.13,
          8373,
          8365.08,
          8179.99,
          8225,
          8285.8,
          8273.4,
          8297.4,
          8279.89,
          8252.72,
          8302.18,
          8295.85,
          8277.25,
          8346.59,
          8358.3,
          8375.1,
          8368.62,
          8366.72,
          8314.77,
          8363.7,
          8344.16,
          8247.4,
          8277.4,
          8291.67,
          8307.89,
          8298.9,
          8269.47,
          8300.98,
          8318.49,
          8306.39,
          8276.43,
          8257.69,
          8166,
          8176.33,
          8200.7,
          8155.41,
          8080,
          8067.03,
          7958.08,
          7974.25,
          7998.5,
          7991.99,
          8022.7,
          8042.97,
          7965.67,
          8088.95,
          8122.19,
          8107.99,
          8137.73,
          8115,
          8107,
          8094.4,
          8080.01,
          8117.09,
          8126.99,
          8110.95,
          8215.39,
          8231.42,
          8240.13,
          8235,
          8219.9,
          8248.87,
          8213.5,
          8200.99,
          8200,
          8237.3,
          8228.13,
          8240.83,
          8214.9,
          8170.07,
          8229.87,
          8205.87
         ],
         "showlegend": false,
         "type": "candlestick",
         "uid": "77128b01-1253-444b-9fba-d16797794175",
         "xaxis": "x",
         "yaxis": "y"
        },
        {
         "marker": {
          "color": "DodgerBlue"
         },
         "name": "Volume",
         "showlegend": false,
         "type": "bar",
         "uid": "9dcecade-0541-4a84-8f61-ce99015e488b",
         "xaxis": "x2",
         "y": [
          559.93,
          273.58,
          917.79,
          182.62,
          1260.69,
          324.11,
          324.2,
          730.67,
          1341.75,
          792.07,
          385.69,
          475.08,
          877.26,
          670.49,
          610.97,
          168.99,
          305.92,
          136.05,
          154.26,
          1070.93,
          1710.2,
          492.8,
          630.72,
          620.93,
          586.34,
          304.52,
          450.97,
          182.36,
          915.32,
          319.29,
          362.01,
          1046.38,
          357.91,
          561.2,
          322.53,
          1073.71,
          237.21,
          251.2,
          359.73,
          117.23,
          363.17,
          214.18,
          171.64,
          258.58,
          299.52,
          718.98,
          119.7,
          405.25,
          210.77,
          714.82,
          215.97,
          164.2,
          201.55,
          203.41,
          886.82,
          95.49,
          499.67,
          172.77,
          355.39,
          255.27,
          591.06,
          133.1,
          149.13,
          87.55,
          1061.54,
          286.94,
          524.42,
          316,
          441.43,
          189.7,
          844.94,
          155.34,
          257.56,
          610.69,
          217.97,
          173.18,
          218.06,
          372.97,
          484.39,
          248.1,
          162.35,
          303.42,
          290.69,
          160.93,
          369.4,
          487.27,
          93.35,
          96.68,
          72.14,
          90.22,
          168.52,
          203.15,
          71.42,
          464.56,
          57,
          89.42,
          49.47,
          200.05,
          254.37,
          65.05,
          118.19
         ],
         "yaxis": "y2"
        },
        {
         "mode": "lines",
         "name": "bitstamp:/USD-BTC",
         "type": "scatter",
         "uid": "b3610eea-9870-4a75-8f30-1c3b9b68ccd1",
         "xaxis": "x3",
         "y": [
          8740.99,
          8739,
          8728.49,
          8708.32,
          8795.9,
          8760,
          8760,
          8759.23,
          8517.77,
          8520.3,
          8535.23,
          8546.34,
          8526.65,
          8555.6,
          8512.1,
          8492.28,
          8460,
          8474.99,
          8455.92,
          8326.28,
          8133.43,
          8164.79,
          8229.38,
          8220.4,
          8238.8,
          8232.99,
          8207.48,
          8243.45,
          8371.13,
          8373,
          8365.08,
          8179.99,
          8225,
          8285.8,
          8273.4,
          8297.4,
          8279.89,
          8252.72,
          8302.18,
          8295.85,
          8277.25,
          8346.59,
          8358.3,
          8375.1,
          8368.62,
          8366.72,
          8314.77,
          8363.7,
          8344.16,
          8247.4,
          8277.4,
          8291.67,
          8307.89,
          8298.9,
          8269.47,
          8300.98,
          8318.49,
          8306.39,
          8276.43,
          8257.69,
          8166,
          8176.33,
          8200.7,
          8155.41,
          8080,
          8067.03,
          7958.08,
          7974.25,
          7998.5,
          7991.99,
          8022.7,
          8042.97,
          7965.67,
          8088.95,
          8122.19,
          8107.99,
          8137.73,
          8115,
          8107,
          8094.4,
          8080.01,
          8117.09,
          8126.99,
          8110.95,
          8215.39,
          8231.42,
          8240.13,
          8235,
          8219.9,
          8248.87,
          8213.5,
          8200.99,
          8200,
          8237.3,
          8228.13,
          8240.83,
          8214.9,
          8170.07,
          8229.87,
          8205.87,
          8252.56
         ],
         "yaxis": "y3"
        },
        {
         "mode": "lines",
         "name": "bitstamp:/USD:/free",
         "type": "scatter",
         "uid": "ea66d02e-e037-4510-a457-e9bd74f24c2b",
         "xaxis": "x3",
         "y": [
          10000,
          3000,
          3000,
          3000,
          3000,
          3000,
          3000,
          3000,
          3000,
          9780.37,
          9780.37,
          9780.37,
          2934.11,
          2934.11,
          2934.11,
          2934.11,
          2934.11,
          293.41,
          293.41,
          293.41,
          6923.42,
          6923.42,
          6923.42,
          6923.42,
          2769.37,
          2769.37,
          2769.37,
          2769.37,
          2769.37,
          6974.25,
          6974.25,
          6974.25,
          6974.25,
          6974.25,
          6974.25,
          6974.25,
          6974.25,
          6974.25,
          6974.25,
          6974.25,
          6974.25,
          6974.25,
          6974.25,
          6974.25,
          6974.25,
          6974.25,
          697.43,
          697.43,
          697.43,
          697.43,
          697.43,
          697.43,
          697.43,
          697.43,
          697.43,
          697.43,
          697.43,
          697.43,
          697.43,
          697.43,
          697.43,
          697.43,
          697.43,
          697.43,
          697.43,
          697.43,
          697.43,
          6631.92,
          6631.92,
          6631.92,
          6631.92,
          6631.92,
          6631.92,
          6631.92,
          6631.92,
          6631.92,
          6631.92,
          2652.77,
          2652.77,
          2652.77,
          2652.77,
          2652.77,
          2652.77,
          2652.77,
          2652.77,
          2652.77,
          6653.62,
          6653.62,
          6653.62,
          6653.62,
          6653.62,
          6653.62,
          6653.62,
          6653.62,
          0,
          0,
          0,
          0,
          0,
          0,
          0
         ],
         "yaxis": "y3"
        },
        {
         "mode": "lines",
         "name": "bitstamp:/USD:/locked",
         "type": "scatter",
         "uid": "fb661c40-5608-44f7-99d3-e46afb27d1f9",
         "xaxis": "x3",
         "y": [
          0,
          0,
          0,
          0,
          0,
          0,
          0,
          0,
          0,
          0,
          0,
          0,
          0,
          0,
          0,
          0,
          0,
          0,
          0,
          0,
          0,
          0,
          0,
          0,
          0,
          0,
          0,
          0,
          0,
          0,
          0,
          0,
          0,
          0,
          0,
          0,
          0,
          0,
          0,
          0,
          0,
          0,
          0,
          0,
          0,
          0,
          0,
          0,
          0,
          0,
          0,
          0,
          0,
          0,
          0,
          0,
          0,
          0,
          0,
          0,
          0,
          0,
          0,
          0,
          0,
          0,
          0,
          0,
          0,
          0,
          0,
          0,
          0,
          0,
          0,
          0,
          0,
          0,
          0,
          0,
          0,
          0,
          0,
          0,
          0,
          0,
          0,
          0,
          0,
          0,
          0,
          0,
          0,
          0,
          0,
          0,
          0,
          0,
          0,
          0,
          0
         ],
         "yaxis": "y3"
        },
        {
         "mode": "lines",
         "name": "bitstamp:/USD:/total",
         "type": "scatter",
         "uid": "c0bf27d9-e1c6-4ca9-bee9-36b24eb2e6ef",
         "xaxis": "x3",
         "y": [
          10000,
          3000,
          3000,
          3000,
          3000,
          3000,
          3000,
          3000,
          3000,
          9780.37,
          9780.37,
          9780.37,
          2934.11,
          2934.11,
          2934.11,
          2934.11,
          2934.11,
          293.41,
          293.41,
          293.41,
          6923.42,
          6923.42,
          6923.42,
          6923.42,
          2769.37,
          2769.37,
          2769.37,
          2769.37,
          2769.37,
          6974.25,
          6974.25,
          6974.25,
          6974.25,
          6974.25,
          6974.25,
          6974.25,
          6974.25,
          6974.25,
          6974.25,
          6974.25,
          6974.25,
          6974.25,
          6974.25,
          6974.25,
          6974.25,
          6974.25,
          697.43,
          697.43,
          697.43,
          697.43,
          697.43,
          697.43,
          697.43,
          697.43,
          697.43,
          697.43,
          697.43,
          697.43,
          697.43,
          697.43,
          697.43,
          697.43,
          697.43,
          697.43,
          697.43,
          697.43,
          697.43,
          6631.92,
          6631.92,
          6631.92,
          6631.92,
          6631.92,
          6631.92,
          6631.92,
          6631.92,
          6631.92,
          6631.92,
          2652.77,
          2652.77,
          2652.77,
          2652.77,
          2652.77,
          2652.77,
          2652.77,
          2652.77,
          2652.77,
          6653.62,
          6653.62,
          6653.62,
          6653.62,
          6653.62,
          6653.62,
          6653.62,
          6653.62,
          0,
          0,
          0,
          0,
          0,
          0,
          0
         ],
         "yaxis": "y3"
        },
        {
         "mode": "lines",
         "name": "bitstamp:/BTC:/free",
         "type": "scatter",
         "uid": "aba4850a-d13f-43a5-b660-59886fc23ede",
         "xaxis": "x3",
         "y": [
          10,
          10,
          10,
          10,
          10,
          10,
          10,
          10,
          10,
          10,
          10,
          10,
          10,
          10,
          10,
          10,
          10,
          10,
          10,
          10,
          10,
          10,
          10,
          10,
          10,
          10,
          10,
          10,
          10,
          10,
          10,
          10,
          10,
          10,
          10,
          10,
          10,
          10,
          10,
          10,
          10,
          10,
          10,
          10,
          10,
          10,
          10,
          10,
          10,
          10,
          10,
          10,
          10,
          10,
          10,
          10,
          10,
          10,
          10,
          10,
          10,
          10,
          10,
          10,
          10,
          10,
          10,
          10,
          10,
          10,
          10,
          10,
          10,
          10,
          10,
          10,
          10,
          10,
          10,
          10,
          10,
          10,
          10,
          10,
          10,
          10,
          10,
          10,
          10,
          10,
          10,
          10,
          10,
          10,
          10,
          10,
          10,
          10,
          10,
          10,
          10
         ],
         "yaxis": "y3"
        },
        {
         "mode": "lines",
         "name": "bitstamp:/BTC:/locked",
         "type": "scatter",
         "uid": "9b3ce381-607d-44b8-aab1-3bf1923665b6",
         "xaxis": "x3",
         "y": [
          0,
          0.79842215,
          0.79842215,
          0.79842215,
          0.79842215,
          0.79842215,
          0.79842215,
          0.79842215,
          0.79842215,
          0,
          0,
          0,
          0.79867171,
          0.79867171,
          0.79867171,
          0.79867171,
          0.79867171,
          1.10987502,
          1.10987502,
          1.10987502,
          0.31120331,
          0.31120331,
          0.31120331,
          0.31120331,
          0.81502186,
          0.81502186,
          0.81502186,
          0.81502186,
          0.81502186,
          0.31120331,
          0.31120331,
          0.31120331,
          0.31120331,
          0.31120331,
          0.31120331,
          0.31120331,
          0.31120331,
          0.31120331,
          0.31120331,
          0.31120331,
          0.31120331,
          0.31120331,
          0.31120331,
          0.31120331,
          0.31120331,
          0.31120331,
          1.05916547,
          1.05916547,
          1.05916547,
          1.05916547,
          1.05916547,
          1.05916547,
          1.05916547,
          1.05916547,
          1.05916547,
          1.05916547,
          1.05916547,
          1.05916547,
          1.05916547,
          1.05916547,
          1.05916547,
          1.05916547,
          1.05916547,
          1.05916547,
          1.05916547,
          1.05916547,
          1.05916547,
          0.31120331,
          0.31120331,
          0.31120331,
          0.31120331,
          0.31120331,
          0.31120331,
          0.31120331,
          0.31120331,
          0.31120331,
          0.31120331,
          0.7987115,
          0.7987115,
          0.7987115,
          0.7987115,
          0.7987115,
          0.7987115,
          0.7987115,
          0.7987115,
          0.7987115,
          0.31120331,
          0.31120331,
          0.31120331,
          0.31120331,
          0.31120331,
          0.31120331,
          0.31120331,
          0.31120331,
          1.11652301,
          1.11652301,
          1.11652301,
          1.11652301,
          1.11652301,
          1.11652301,
          1.11652301
         ],
         "yaxis": "y3"
        },
        {
         "mode": "lines",
         "name": "bitstamp:/BTC:/total",
         "type": "scatter",
         "uid": "5557485e-c34e-494d-8bee-8951c37f8554",
         "xaxis": "x3",
         "y": [
          10,
          10.79842215,
          10.79842215,
          10.79842215,
          10.79842215,
          10.79842215,
          10.79842215,
          10.79842215,
          10.79842215,
          10,
          10,
          10,
          10.79867171,
          10.79867171,
          10.79867171,
          10.79867171,
          10.79867171,
          11.10987502,
          11.10987502,
          11.10987502,
          10.31120331,
          10.31120331,
          10.31120331,
          10.31120331,
          10.81502186,
          10.81502186,
          10.81502186,
          10.81502186,
          10.81502186,
          10.31120331,
          10.31120331,
          10.31120331,
          10.31120331,
          10.31120331,
          10.31120331,
          10.31120331,
          10.31120331,
          10.31120331,
          10.31120331,
          10.31120331,
          10.31120331,
          10.31120331,
          10.31120331,
          10.31120331,
          10.31120331,
          10.31120331,
          11.05916547,
          11.05916547,
          11.05916547,
          11.05916547,
          11.05916547,
          11.05916547,
          11.05916547,
          11.05916547,
          11.05916547,
          11.05916547,
          11.05916547,
          11.05916547,
          11.05916547,
          11.05916547,
          11.05916547,
          11.05916547,
          11.05916547,
          11.05916547,
          11.05916547,
          11.05916547,
          11.05916547,
          10.31120331,
          10.31120331,
          10.31120331,
          10.31120331,
          10.31120331,
          10.31120331,
          10.31120331,
          10.31120331,
          10.31120331,
          10.31120331,
          10.7987115,
          10.7987115,
          10.7987115,
          10.7987115,
          10.7987115,
          10.7987115,
          10.7987115,
          10.7987115,
          10.7987115,
          10.31120331,
          10.31120331,
          10.31120331,
          10.31120331,
          10.31120331,
          10.31120331,
          10.31120331,
          10.31120331,
          11.11652301,
          11.11652301,
          11.11652301,
          11.11652301,
          11.11652301,
          11.11652301,
          11.11652301
         ],
         "yaxis": "y3"
        },
        {
         "mode": "lines",
         "name": "bitstamp:/BTC:/worth",
         "type": "scatter",
         "uid": "321c3fe7-7849-4196-a1e0-fe124b314c73",
         "xaxis": "x3",
         "y": [
          87409.9,
          94367.41116885,
          94253.9197520535,
          94036.115577288,
          94981.84138918499,
          94594.178034,
          94594.178034,
          94585.8632489445,
          91978.47623660551,
          85203,
          85352.29999999999,
          85463.4,
          92076.4941360715,
          92389.11568207601,
          91919.37346269102,
          91705.34378939882,
          91356.7626666,
          94156.0796957498,
          93944.2143791184,
          92503.93018152562,
          83865.4503376533,
          84188.8096734549,
          84854.8102952478,
          84762.21568952399,
          89102.80210016799,
          89039.96682316139,
          88764.07561551279,
          89153.09195181701,
          90533.95394290179,
          86335.70531463,
          86254.0405844148,
          84345.53996376689,
          84809.64722474999,
          85436.56838599799,
          85308.709464954,
          85556.178344394,
          85375.62917443589,
          85095.47378050319,
          85605.4658962158,
          85540.1959792635,
          85348.4075976975,
          86063.3864352129,
          86184.13062597299,
          86357.35884158101,
          86290.5422441322,
          86270.95095784319,
          91954.41727499191,
          92495.542241439,
          92279.4461481552,
          91209.361297278,
          91541.136261378,
          91698.9505526349,
          91878.33021655829,
          91778.908318983,
          91453.4370792009,
          91801.9113831606,
          91995.5573705403,
          91861.7414683533,
          91530.4088708721,
          91323.1601099643,
          90309.14522802,
          90423.3864073251,
          90692.898269829,
          90192.02866569269,
          89358.0569976,
          89214.6196214541,
          88009.7235434976,
          82224.11299476749,
          82474.159675035,
          82407.0337414869,
          82723.690795137,
          82932.6988862307,
          82135.6428703677,
          83406.8080144245,
          83749.55241244889,
          83603.13332544689,
          83909.78851188629,
          87631.5438225,
          87545.1541305,
          87409.09036559999,
          87253.696907115,
          87654.11312953499,
          87761.02037338499,
          87587.809040925,
          88715.62646998499,
          88888.72981532999,
          84965.65573083029,
          84912.75925785,
          84757.06008786899,
          85055.7756477597,
          84691.068386685,
          84562.07523327689,
          84551.867142,
          84936.47502546299,
          91468.19647427129,
          91609.3763164983,
          91321.12487484899,
          90822.7711483107,
          91487.53922430871,
          91220.7426720687,
          91739.7731314056
         ],
         "yaxis": "y3"
        },
        {
         "mode": "lines",
         "name": "net_worth",
         "type": "scatter",
         "uid": "df5e426b-c637-48ae-be80-38f810ca2956",
         "xaxis": "x3",
         "y": [
          97409.9,
          97367.41116885,
          97253.9197520535,
          97036.115577288,
          97981.84138918499,
          97594.178034,
          97594.178034,
          97585.8632489445,
          94978.47623660551,
          94983.37,
          95132.66999999998,
          95243.76999999999,
          95010.6041360715,
          95323.22568207601,
          94853.48346269102,
          94639.45378939882,
          94290.8726666,
          94449.4896957498,
          94237.62437911841,
          92797.34018152562,
          90788.8703376533,
          91112.2296734549,
          91778.23029524779,
          91685.63568952399,
          91872.17210016798,
          91809.33682316139,
          91533.44561551278,
          91922.46195181701,
          93303.32394290178,
          93309.95531463,
          93228.2905844148,
          91319.78996376689,
          91783.89722474999,
          92410.81838599799,
          92282.959464954,
          92530.428344394,
          92349.87917443589,
          92069.72378050319,
          92579.7158962158,
          92514.4459792635,
          92322.6575976975,
          93037.6364352129,
          93158.38062597299,
          93331.60884158101,
          93264.7922441322,
          93245.20095784319,
          92651.8472749919,
          93192.972241439,
          92976.87614815519,
          91906.79129727799,
          92238.56626137799,
          92396.38055263489,
          92575.76021655828,
          92476.33831898299,
          92150.86707920089,
          92499.34138316059,
          92692.98737054029,
          92559.17146835329,
          92227.83887087209,
          92020.5901099643,
          91006.57522802,
          91120.8164073251,
          91390.328269829,
          90889.45866569268,
          90055.48699759999,
          89912.04962145409,
          88707.1535434976,
          88856.03299476749,
          89106.079675035,
          89038.9537414869,
          89355.61079513699,
          89564.6188862307,
          88767.56287036769,
          90038.7280144245,
          90381.47241244889,
          90235.05332544689,
          90541.70851188629,
          90284.3138225,
          90197.9241305,
          90061.86036559999,
          89906.466907115,
          90306.883129535,
          90413.790373385,
          90240.579040925,
          91368.39646998499,
          91541.49981533,
          91619.27573083028,
          91566.37925785,
          91410.68008786898,
          91709.3956477597,
          91344.688386685,
          91215.69523327689,
          91205.487142,
          91590.09502546299,
          91468.19647427129,
          91609.3763164983,
          91321.12487484899,
          90822.7711483107,
          91487.53922430871,
          91220.7426720687,
          91739.7731314056
         ],
         "yaxis": "y3"
        },
        {
         "marker": {
          "color": "DarkGreen"
         },
         "mode": "lines",
         "name": "Net Worth",
         "type": "scatter",
         "uid": "9c96b727-5230-4d89-be49-db2bef7e8edd",
         "xaxis": "x4",
         "y": [
          97409.9,
          97367.41116885,
          97253.9197520535,
          97036.115577288,
          97981.84138918499,
          97594.178034,
          97594.178034,
          97585.8632489445,
          94978.47623660551,
          94983.37,
          95132.66999999998,
          95243.76999999999,
          95010.6041360715,
          95323.22568207601,
          94853.48346269102,
          94639.45378939882,
          94290.8726666,
          94449.4896957498,
          94237.62437911841,
          92797.34018152562,
          90788.8703376533,
          91112.2296734549,
          91778.23029524779,
          91685.63568952399,
          91872.17210016798,
          91809.33682316139,
          91533.44561551278,
          91922.46195181701,
          93303.32394290178,
          93309.95531463,
          93228.2905844148,
          91319.78996376689,
          91783.89722474999,
          92410.81838599799,
          92282.959464954,
          92530.428344394,
          92349.87917443589,
          92069.72378050319,
          92579.7158962158,
          92514.4459792635,
          92322.6575976975,
          93037.6364352129,
          93158.38062597299,
          93331.60884158101,
          93264.7922441322,
          93245.20095784319,
          92651.8472749919,
          93192.972241439,
          92976.87614815519,
          91906.79129727799,
          92238.56626137799,
          92396.38055263489,
          92575.76021655828,
          92476.33831898299,
          92150.86707920089,
          92499.34138316059,
          92692.98737054029,
          92559.17146835329,
          92227.83887087209,
          92020.5901099643,
          91006.57522802,
          91120.8164073251,
          91390.328269829,
          90889.45866569268,
          90055.48699759999,
          89912.04962145409,
          88707.1535434976,
          88856.03299476749,
          89106.079675035,
          89038.9537414869,
          89355.61079513699,
          89564.6188862307,
          88767.56287036769,
          90038.7280144245,
          90381.47241244889,
          90235.05332544689,
          90541.70851188629,
          90284.3138225,
          90197.9241305,
          90061.86036559999,
          89906.466907115,
          90306.883129535,
          90413.790373385,
          90240.579040925,
          91368.39646998499,
          91541.49981533,
          91619.27573083028,
          91566.37925785,
          91410.68008786898,
          91709.3956477597,
          91344.688386685,
          91215.69523327689,
          91205.487142,
          91590.09502546299,
          91468.19647427129,
          91609.3763164983,
          91321.12487484899,
          90822.7711483107,
          91487.53922430871,
          91220.7426720687,
          91739.7731314056
         ],
         "yaxis": "y4"
        }
       ],
       "layout": {
        "annotations": [
         {
          "arrowcolor": "FireBrick",
          "arrowhead": 2,
          "arrowsize": 0.8,
          "arrowwidth": 4,
          "ax": 0,
          "ay": -15,
          "hoverlabel": {
           "bgcolor": "FireBrick"
          },
          "hovertext": "Step 20 [2018-05-16 01:00:00]<br>SELL 0.79627569 BTC @ 8326.28 USD MARKET<br>Total: 6630.01 USD - Comm.: 0.00239602 BTC",
          "opacity": 0.6,
          "showarrow": true,
          "x": 19,
          "xref": "x",
          "y": 8326.28,
          "yref": "y"
         },
         {
          "arrowcolor": "DarkGreen",
          "arrowhead": 2,
          "arrowsize": 0.8,
          "arrowwidth": 4,
          "ax": 0,
          "ay": 15,
          "hoverlabel": {
           "bgcolor": "DarkGreen"
          },
          "hovertext": "Step 17 [2018-05-15 22:00:00]<br>BUY 0.31120331 BTC @ 8460.0 USD MARKET<br>Total: 2632.78 USD - Comm.: 7.92 USD",
          "opacity": 0.6,
          "showarrow": true,
          "x": 16,
          "xref": "x",
          "y": 8460,
          "yref": "y"
         },
         {
          "arrowcolor": "DarkGreen",
          "arrowhead": 2,
          "arrowsize": 0.8,
          "arrowwidth": 4,
          "ax": 0,
          "ay": 15,
          "hoverlabel": {
           "bgcolor": "DarkGreen"
          },
          "hovertext": "Step 12 [2018-05-15 17:00:00]<br>BUY 0.79867171 BTC @ 8546.34 USD MARKET<br>Total: 6825.72 USD - Comm.: 20.54 USD",
          "opacity": 0.6,
          "showarrow": true,
          "x": 11,
          "xref": "x",
          "y": 8546.34,
          "yref": "y"
         },
         {
          "arrowcolor": "FireBrick",
          "arrowhead": 2,
          "arrowsize": 0.8,
          "arrowwidth": 4,
          "ax": 0,
          "ay": -15,
          "hoverlabel": {
           "bgcolor": "FireBrick"
          },
          "hovertext": "Step 9 [2018-05-15 14:00:00]<br>SELL 0.79602688 BTC @ 8517.77 USD MARKET<br>Total: 6780.37 USD - Comm.: 0.00239527 BTC",
          "opacity": 0.6,
          "showarrow": true,
          "x": 8,
          "xref": "x",
          "y": 8517.77,
          "yref": "y"
         },
         {
          "arrowcolor": "DarkGreen",
          "arrowhead": 2,
          "arrowsize": 0.8,
          "arrowwidth": 4,
          "ax": 0,
          "ay": 15,
          "hoverlabel": {
           "bgcolor": "DarkGreen"
          },
          "hovertext": "Step 1 [2018-05-15 06:00:00]<br>BUY 0.79842215 BTC @ 8740.99 USD MARKET<br>Total: 6979.0 USD - Comm.: 21.00 USD",
          "opacity": 0.6,
          "showarrow": true,
          "x": 0,
          "xref": "x",
          "y": 8740.99,
          "yref": "y"
         },
         {
          "arrowcolor": "FireBrick",
          "arrowhead": 2,
          "arrowsize": 0.8,
          "arrowwidth": 4,
          "ax": 0,
          "ay": -15,
          "hoverlabel": {
           "bgcolor": "FireBrick"
          },
          "hovertext": "Step 29 [2018-05-16 10:00:00]<br>SELL 0.50230709 BTC @ 8371.13 USD MARKET<br>Total: 4204.88 USD - Comm.: 0.00151146 BTC",
          "opacity": 0.6,
          "showarrow": true,
          "x": 28,
          "xref": "x",
          "y": 8371.13,
          "yref": "y"
         },
         {
          "arrowcolor": "DarkGreen",
          "arrowhead": 2,
          "arrowsize": 0.8,
          "arrowwidth": 4,
          "ax": 0,
          "ay": 15,
          "hoverlabel": {
           "bgcolor": "DarkGreen"
          },
          "hovertext": "Step 24 [2018-05-16 05:00:00]<br>BUY 0.50381855 BTC @ 8220.4 USD MARKET<br>Total: 4141.59 USD - Comm.: 12.46 USD",
          "opacity": 0.6,
          "showarrow": true,
          "x": 23,
          "xref": "x",
          "y": 8220.4,
          "yref": "y"
         },
         {
          "arrowcolor": "DarkGreen",
          "arrowhead": 2,
          "arrowsize": 0.8,
          "arrowwidth": 4,
          "ax": 0,
          "ay": 15,
          "hoverlabel": {
           "bgcolor": "DarkGreen"
          },
          "hovertext": "Step 46 [2018-05-17 03:00:00]<br>BUY 0.74796216 BTC @ 8366.72 USD MARKET<br>Total: 6257.99 USD - Comm.: 18.83 USD",
          "opacity": 0.6,
          "showarrow": true,
          "x": 45,
          "xref": "x",
          "y": 8366.72,
          "yref": "y"
         },
         {
          "arrowcolor": "DarkGreen",
          "arrowhead": 2,
          "arrowsize": 0.8,
          "arrowwidth": 4,
          "ax": 0,
          "ay": 15,
          "hoverlabel": {
           "bgcolor": "DarkGreen"
          },
          "hovertext": "Step 77 [2018-05-18 10:00:00]<br>BUY 0.48750819 BTC @ 8137.73 USD MARKET<br>Total: 3967.21 USD - Comm.: 11.94 USD",
          "opacity": 0.6,
          "showarrow": true,
          "x": 76,
          "xref": "x",
          "y": 8137.73,
          "yref": "y"
         },
         {
          "arrowcolor": "FireBrick",
          "arrowhead": 2,
          "arrowsize": 0.8,
          "arrowwidth": 4,
          "ax": 0,
          "ay": -15,
          "hoverlabel": {
           "bgcolor": "FireBrick"
          },
          "hovertext": "Step 67 [2018-05-18 00:00:00]<br>SELL 0.74571827 BTC @ 7958.08 USD MARKET<br>Total: 5934.49 USD - Comm.: 0.00224389 BTC",
          "opacity": 0.6,
          "showarrow": true,
          "x": 66,
          "xref": "x",
          "y": 7958.08,
          "yref": "y"
         },
         {
          "arrowcolor": "DarkGreen",
          "arrowhead": 2,
          "arrowsize": 0.8,
          "arrowwidth": 4,
          "ax": 0,
          "ay": 15,
          "hoverlabel": {
           "bgcolor": "DarkGreen"
          },
          "hovertext": "Step 94 [2018-05-19 03:00:00]<br>BUY 0.8053197 BTC @ 8237.3 USD MARKET<br>Total: 6633.66 USD - Comm.: 19.96 USD",
          "opacity": 0.6,
          "showarrow": true,
          "x": 93,
          "xref": "x",
          "y": 8237.3,
          "yref": "y"
         },
         {
          "arrowcolor": "FireBrick",
          "arrowhead": 2,
          "arrowsize": 0.8,
          "arrowwidth": 4,
          "ax": 0,
          "ay": -15,
          "hoverlabel": {
           "bgcolor": "FireBrick"
          },
          "hovertext": "Step 86 [2018-05-18 19:00:00]<br>SELL 0.48604567 BTC @ 8231.42 USD MARKET<br>Total: 4000.85 USD - Comm.: 0.00146252 BTC",
          "opacity": 0.6,
          "showarrow": true,
          "x": 85,
          "xref": "x",
          "y": 8231.42,
          "yref": "y"
         }
        ],
        "margin": {
         "t": 50
        },
        "template": {
         "data": {
          "bar": [
           {
            "error_x": {
             "color": "#2a3f5f"
            },
            "error_y": {
             "color": "#2a3f5f"
            },
            "marker": {
             "line": {
              "color": "white",
              "width": 0.5
             },
             "pattern": {
              "fillmode": "overlay",
              "size": 10,
              "solidity": 0.2
             }
            },
            "type": "bar"
           }
          ],
          "barpolar": [
           {
            "marker": {
             "line": {
              "color": "white",
              "width": 0.5
             },
             "pattern": {
              "fillmode": "overlay",
              "size": 10,
              "solidity": 0.2
             }
            },
            "type": "barpolar"
           }
          ],
          "carpet": [
           {
            "aaxis": {
             "endlinecolor": "#2a3f5f",
             "gridcolor": "#C8D4E3",
             "linecolor": "#C8D4E3",
             "minorgridcolor": "#C8D4E3",
             "startlinecolor": "#2a3f5f"
            },
            "baxis": {
             "endlinecolor": "#2a3f5f",
             "gridcolor": "#C8D4E3",
             "linecolor": "#C8D4E3",
             "minorgridcolor": "#C8D4E3",
             "startlinecolor": "#2a3f5f"
            },
            "type": "carpet"
           }
          ],
          "choropleth": [
           {
            "colorbar": {
             "outlinewidth": 0,
             "ticks": ""
            },
            "type": "choropleth"
           }
          ],
          "contour": [
           {
            "colorbar": {
             "outlinewidth": 0,
             "ticks": ""
            },
            "colorscale": [
             [
              0,
              "#0d0887"
             ],
             [
              0.1111111111111111,
              "#46039f"
             ],
             [
              0.2222222222222222,
              "#7201a8"
             ],
             [
              0.3333333333333333,
              "#9c179e"
             ],
             [
              0.4444444444444444,
              "#bd3786"
             ],
             [
              0.5555555555555556,
              "#d8576b"
             ],
             [
              0.6666666666666666,
              "#ed7953"
             ],
             [
              0.7777777777777778,
              "#fb9f3a"
             ],
             [
              0.8888888888888888,
              "#fdca26"
             ],
             [
              1,
              "#f0f921"
             ]
            ],
            "type": "contour"
           }
          ],
          "contourcarpet": [
           {
            "colorbar": {
             "outlinewidth": 0,
             "ticks": ""
            },
            "type": "contourcarpet"
           }
          ],
          "heatmap": [
           {
            "colorbar": {
             "outlinewidth": 0,
             "ticks": ""
            },
            "colorscale": [
             [
              0,
              "#0d0887"
             ],
             [
              0.1111111111111111,
              "#46039f"
             ],
             [
              0.2222222222222222,
              "#7201a8"
             ],
             [
              0.3333333333333333,
              "#9c179e"
             ],
             [
              0.4444444444444444,
              "#bd3786"
             ],
             [
              0.5555555555555556,
              "#d8576b"
             ],
             [
              0.6666666666666666,
              "#ed7953"
             ],
             [
              0.7777777777777778,
              "#fb9f3a"
             ],
             [
              0.8888888888888888,
              "#fdca26"
             ],
             [
              1,
              "#f0f921"
             ]
            ],
            "type": "heatmap"
           }
          ],
          "heatmapgl": [
           {
            "colorbar": {
             "outlinewidth": 0,
             "ticks": ""
            },
            "colorscale": [
             [
              0,
              "#0d0887"
             ],
             [
              0.1111111111111111,
              "#46039f"
             ],
             [
              0.2222222222222222,
              "#7201a8"
             ],
             [
              0.3333333333333333,
              "#9c179e"
             ],
             [
              0.4444444444444444,
              "#bd3786"
             ],
             [
              0.5555555555555556,
              "#d8576b"
             ],
             [
              0.6666666666666666,
              "#ed7953"
             ],
             [
              0.7777777777777778,
              "#fb9f3a"
             ],
             [
              0.8888888888888888,
              "#fdca26"
             ],
             [
              1,
              "#f0f921"
             ]
            ],
            "type": "heatmapgl"
           }
          ],
          "histogram": [
           {
            "marker": {
             "pattern": {
              "fillmode": "overlay",
              "size": 10,
              "solidity": 0.2
             }
            },
            "type": "histogram"
           }
          ],
          "histogram2d": [
           {
            "colorbar": {
             "outlinewidth": 0,
             "ticks": ""
            },
            "colorscale": [
             [
              0,
              "#0d0887"
             ],
             [
              0.1111111111111111,
              "#46039f"
             ],
             [
              0.2222222222222222,
              "#7201a8"
             ],
             [
              0.3333333333333333,
              "#9c179e"
             ],
             [
              0.4444444444444444,
              "#bd3786"
             ],
             [
              0.5555555555555556,
              "#d8576b"
             ],
             [
              0.6666666666666666,
              "#ed7953"
             ],
             [
              0.7777777777777778,
              "#fb9f3a"
             ],
             [
              0.8888888888888888,
              "#fdca26"
             ],
             [
              1,
              "#f0f921"
             ]
            ],
            "type": "histogram2d"
           }
          ],
          "histogram2dcontour": [
           {
            "colorbar": {
             "outlinewidth": 0,
             "ticks": ""
            },
            "colorscale": [
             [
              0,
              "#0d0887"
             ],
             [
              0.1111111111111111,
              "#46039f"
             ],
             [
              0.2222222222222222,
              "#7201a8"
             ],
             [
              0.3333333333333333,
              "#9c179e"
             ],
             [
              0.4444444444444444,
              "#bd3786"
             ],
             [
              0.5555555555555556,
              "#d8576b"
             ],
             [
              0.6666666666666666,
              "#ed7953"
             ],
             [
              0.7777777777777778,
              "#fb9f3a"
             ],
             [
              0.8888888888888888,
              "#fdca26"
             ],
             [
              1,
              "#f0f921"
             ]
            ],
            "type": "histogram2dcontour"
           }
          ],
          "mesh3d": [
           {
            "colorbar": {
             "outlinewidth": 0,
             "ticks": ""
            },
            "type": "mesh3d"
           }
          ],
          "parcoords": [
           {
            "line": {
             "colorbar": {
              "outlinewidth": 0,
              "ticks": ""
             }
            },
            "type": "parcoords"
           }
          ],
          "pie": [
           {
            "automargin": true,
            "type": "pie"
           }
          ],
          "scatter": [
           {
            "fillpattern": {
             "fillmode": "overlay",
             "size": 10,
             "solidity": 0.2
            },
            "type": "scatter"
           }
          ],
          "scatter3d": [
           {
            "line": {
             "colorbar": {
              "outlinewidth": 0,
              "ticks": ""
             }
            },
            "marker": {
             "colorbar": {
              "outlinewidth": 0,
              "ticks": ""
             }
            },
            "type": "scatter3d"
           }
          ],
          "scattercarpet": [
           {
            "marker": {
             "colorbar": {
              "outlinewidth": 0,
              "ticks": ""
             }
            },
            "type": "scattercarpet"
           }
          ],
          "scattergeo": [
           {
            "marker": {
             "colorbar": {
              "outlinewidth": 0,
              "ticks": ""
             }
            },
            "type": "scattergeo"
           }
          ],
          "scattergl": [
           {
            "marker": {
             "colorbar": {
              "outlinewidth": 0,
              "ticks": ""
             }
            },
            "type": "scattergl"
           }
          ],
          "scattermapbox": [
           {
            "marker": {
             "colorbar": {
              "outlinewidth": 0,
              "ticks": ""
             }
            },
            "type": "scattermapbox"
           }
          ],
          "scatterpolar": [
           {
            "marker": {
             "colorbar": {
              "outlinewidth": 0,
              "ticks": ""
             }
            },
            "type": "scatterpolar"
           }
          ],
          "scatterpolargl": [
           {
            "marker": {
             "colorbar": {
              "outlinewidth": 0,
              "ticks": ""
             }
            },
            "type": "scatterpolargl"
           }
          ],
          "scatterternary": [
           {
            "marker": {
             "colorbar": {
              "outlinewidth": 0,
              "ticks": ""
             }
            },
            "type": "scatterternary"
           }
          ],
          "surface": [
           {
            "colorbar": {
             "outlinewidth": 0,
             "ticks": ""
            },
            "colorscale": [
             [
              0,
              "#0d0887"
             ],
             [
              0.1111111111111111,
              "#46039f"
             ],
             [
              0.2222222222222222,
              "#7201a8"
             ],
             [
              0.3333333333333333,
              "#9c179e"
             ],
             [
              0.4444444444444444,
              "#bd3786"
             ],
             [
              0.5555555555555556,
              "#d8576b"
             ],
             [
              0.6666666666666666,
              "#ed7953"
             ],
             [
              0.7777777777777778,
              "#fb9f3a"
             ],
             [
              0.8888888888888888,
              "#fdca26"
             ],
             [
              1,
              "#f0f921"
             ]
            ],
            "type": "surface"
           }
          ],
          "table": [
           {
            "cells": {
             "fill": {
              "color": "#EBF0F8"
             },
             "line": {
              "color": "white"
             }
            },
            "header": {
             "fill": {
              "color": "#C8D4E3"
             },
             "line": {
              "color": "white"
             }
            },
            "type": "table"
           }
          ]
         },
         "layout": {
          "annotationdefaults": {
           "arrowcolor": "#2a3f5f",
           "arrowhead": 0,
           "arrowwidth": 1
          },
          "autotypenumbers": "strict",
          "coloraxis": {
           "colorbar": {
            "outlinewidth": 0,
            "ticks": ""
           }
          },
          "colorscale": {
           "diverging": [
            [
             0,
             "#8e0152"
            ],
            [
             0.1,
             "#c51b7d"
            ],
            [
             0.2,
             "#de77ae"
            ],
            [
             0.3,
             "#f1b6da"
            ],
            [
             0.4,
             "#fde0ef"
            ],
            [
             0.5,
             "#f7f7f7"
            ],
            [
             0.6,
             "#e6f5d0"
            ],
            [
             0.7,
             "#b8e186"
            ],
            [
             0.8,
             "#7fbc41"
            ],
            [
             0.9,
             "#4d9221"
            ],
            [
             1,
             "#276419"
            ]
           ],
           "sequential": [
            [
             0,
             "#0d0887"
            ],
            [
             0.1111111111111111,
             "#46039f"
            ],
            [
             0.2222222222222222,
             "#7201a8"
            ],
            [
             0.3333333333333333,
             "#9c179e"
            ],
            [
             0.4444444444444444,
             "#bd3786"
            ],
            [
             0.5555555555555556,
             "#d8576b"
            ],
            [
             0.6666666666666666,
             "#ed7953"
            ],
            [
             0.7777777777777778,
             "#fb9f3a"
            ],
            [
             0.8888888888888888,
             "#fdca26"
            ],
            [
             1,
             "#f0f921"
            ]
           ],
           "sequentialminus": [
            [
             0,
             "#0d0887"
            ],
            [
             0.1111111111111111,
             "#46039f"
            ],
            [
             0.2222222222222222,
             "#7201a8"
            ],
            [
             0.3333333333333333,
             "#9c179e"
            ],
            [
             0.4444444444444444,
             "#bd3786"
            ],
            [
             0.5555555555555556,
             "#d8576b"
            ],
            [
             0.6666666666666666,
             "#ed7953"
            ],
            [
             0.7777777777777778,
             "#fb9f3a"
            ],
            [
             0.8888888888888888,
             "#fdca26"
            ],
            [
             1,
             "#f0f921"
            ]
           ]
          },
          "colorway": [
           "#636efa",
           "#EF553B",
           "#00cc96",
           "#ab63fa",
           "#FFA15A",
           "#19d3f3",
           "#FF6692",
           "#B6E880",
           "#FF97FF",
           "#FECB52"
          ],
          "font": {
           "color": "#2a3f5f"
          },
          "geo": {
           "bgcolor": "white",
           "lakecolor": "white",
           "landcolor": "white",
           "showlakes": true,
           "showland": true,
           "subunitcolor": "#C8D4E3"
          },
          "hoverlabel": {
           "align": "left"
          },
          "hovermode": "closest",
          "mapbox": {
           "style": "light"
          },
          "paper_bgcolor": "white",
          "plot_bgcolor": "white",
          "polar": {
           "angularaxis": {
            "gridcolor": "#EBF0F8",
            "linecolor": "#EBF0F8",
            "ticks": ""
           },
           "bgcolor": "white",
           "radialaxis": {
            "gridcolor": "#EBF0F8",
            "linecolor": "#EBF0F8",
            "ticks": ""
           }
          },
          "scene": {
           "xaxis": {
            "backgroundcolor": "white",
            "gridcolor": "#DFE8F3",
            "gridwidth": 2,
            "linecolor": "#EBF0F8",
            "showbackground": true,
            "ticks": "",
            "zerolinecolor": "#EBF0F8"
           },
           "yaxis": {
            "backgroundcolor": "white",
            "gridcolor": "#DFE8F3",
            "gridwidth": 2,
            "linecolor": "#EBF0F8",
            "showbackground": true,
            "ticks": "",
            "zerolinecolor": "#EBF0F8"
           },
           "zaxis": {
            "backgroundcolor": "white",
            "gridcolor": "#DFE8F3",
            "gridwidth": 2,
            "linecolor": "#EBF0F8",
            "showbackground": true,
            "ticks": "",
            "zerolinecolor": "#EBF0F8"
           }
          },
          "shapedefaults": {
           "line": {
            "color": "#2a3f5f"
           }
          },
          "ternary": {
           "aaxis": {
            "gridcolor": "#DFE8F3",
            "linecolor": "#A2B1C6",
            "ticks": ""
           },
           "baxis": {
            "gridcolor": "#DFE8F3",
            "linecolor": "#A2B1C6",
            "ticks": ""
           },
           "bgcolor": "white",
           "caxis": {
            "gridcolor": "#DFE8F3",
            "linecolor": "#A2B1C6",
            "ticks": ""
           }
          },
          "title": {
           "x": 0.05
          },
          "xaxis": {
           "automargin": true,
           "gridcolor": "#EBF0F8",
           "linecolor": "#EBF0F8",
           "ticks": "",
           "title": {
            "standoff": 15
           },
           "zerolinecolor": "#EBF0F8",
           "zerolinewidth": 2
          },
          "yaxis": {
           "automargin": true,
           "gridcolor": "#EBF0F8",
           "linecolor": "#EBF0F8",
           "ticks": "",
           "title": {
            "standoff": 15
           },
           "zerolinecolor": "#EBF0F8",
           "zerolinewidth": 2
          }
         }
        },
        "title": {
         "text": "[2022-07-29 01:25:40] Episode: 2/2 Step: 101/200"
        },
        "xaxis": {
         "anchor": "y",
         "domain": [
          0,
          1
         ],
         "gridcolor": "Gainsboro",
         "linecolor": "Grey",
         "matches": "x4",
         "rangeslider": {
          "visible": false
         },
         "showticklabels": false,
         "title": {
          "font": {
           "size": 12
          },
          "standoff": 7,
          "text": "Price"
         }
        },
        "xaxis2": {
         "anchor": "y2",
         "domain": [
          0,
          1
         ],
         "gridcolor": "Gainsboro",
         "linecolor": "Grey",
         "matches": "x4",
         "showticklabels": false,
         "title": {
          "font": {
           "size": 12
          },
          "standoff": 7,
          "text": "Volume"
         }
        },
        "xaxis3": {
         "anchor": "y3",
         "domain": [
          0,
          1
         ],
         "gridcolor": "Gainsboro",
         "linecolor": "Grey",
         "matches": "x4",
         "showticklabels": false,
         "title": {
          "font": {
           "size": 12
          },
          "standoff": 7,
          "text": "Performance"
         }
        },
        "xaxis4": {
         "anchor": "y4",
         "domain": [
          0,
          1
         ],
         "gridcolor": "Gainsboro",
         "linecolor": "Grey",
         "title": {
          "font": {
           "size": 12
          },
          "standoff": 7,
          "text": "Net Worth"
         }
        },
        "yaxis": {
         "anchor": "x",
         "domain": [
          0.49950000000000006,
          1
         ],
         "gridcolor": "Gainsboro",
         "linecolor": "Grey"
        },
        "yaxis2": {
         "anchor": "x2",
         "domain": [
          0.333,
          0.46950000000000003
         ],
         "gridcolor": "Gainsboro",
         "linecolor": "Grey"
        },
        "yaxis3": {
         "anchor": "x3",
         "domain": [
          0.1665,
          0.30300000000000005
         ],
         "gridcolor": "Gainsboro",
         "linecolor": "Grey"
        },
        "yaxis4": {
         "anchor": "x4",
         "domain": [
          0,
          0.1365
         ],
         "gridcolor": "Gainsboro",
         "linecolor": "Grey"
        }
       }
      }
     },
     "metadata": {},
     "output_type": "display_data"
    },
    {
     "data": {
      "application/vnd.jupyter.widget-view+json": {
       "model_id": "5a95dff502e6465b97c42c73d4ef69fb",
       "version_major": 2,
       "version_minor": 0
      },
      "text/plain": [
       "FigureWidget({\n",
       "    'data': [{'close': array([8740.99, 8739.  , 8728.49, 8708.32, 8795.9 , 8760.  , 8760.  , 87…"
      ]
     },
     "metadata": {},
     "output_type": "display_data"
    },
    {
     "data": {
      "application/vnd.plotly.v1+json": {
       "config": {
        "plotlyServerURL": "https://plot.ly"
       },
       "data": [
        {
         "close": [
          8740.99,
          8739,
          8728.49,
          8708.32,
          8795.9,
          8760,
          8760,
          8759.23,
          8517.77,
          8520.3,
          8535.23,
          8546.34,
          8526.65,
          8555.6,
          8512.1,
          8492.28,
          8460,
          8474.99,
          8455.92,
          8326.28,
          8133.43,
          8164.79,
          8229.38,
          8220.4,
          8238.8,
          8232.99,
          8207.48,
          8243.45,
          8371.13,
          8373,
          8365.08,
          8179.99,
          8225,
          8285.8,
          8273.4,
          8297.4,
          8279.89,
          8252.72,
          8302.18,
          8295.85,
          8277.25,
          8346.59,
          8358.3,
          8375.1,
          8368.62,
          8366.72,
          8314.77,
          8363.7,
          8344.16,
          8247.4,
          8277.4,
          8291.67,
          8307.89,
          8298.9,
          8269.47,
          8300.98,
          8318.49,
          8306.39,
          8276.43,
          8257.69,
          8166,
          8176.33,
          8200.7,
          8155.41,
          8080,
          8067.03,
          7958.08,
          7974.25,
          7998.5,
          7991.99,
          8022.7,
          8042.97,
          7965.67,
          8088.95,
          8122.19,
          8107.99,
          8137.73,
          8115,
          8107,
          8094.4,
          8080.01,
          8117.09,
          8126.99,
          8110.95,
          8215.39,
          8231.42,
          8240.13,
          8235,
          8219.9,
          8248.87,
          8213.5,
          8200.99,
          8200,
          8237.3,
          8228.13,
          8240.83,
          8214.9,
          8170.07,
          8229.87,
          8205.87,
          8252.56,
          8365,
          8348.65,
          8303.99,
          8310.48,
          8310,
          8289.87,
          8304.99,
          8301.35,
          8313.12,
          8240.07,
          8199.99,
          8226.98,
          8231.2,
          8198.89,
          8215.85,
          8279.99,
          8255.08,
          8270.4,
          8244.24,
          8239.12
         ],
         "high": [
          8796.68,
          8766,
          8750.27,
          8754.4,
          8865,
          8821.19,
          8798.6,
          8771.02,
          8761.7,
          8553.67,
          8589.1,
          8579.48,
          8555.51,
          8583.6,
          8569.92,
          8555.54,
          8557.51,
          8505,
          8505.33,
          8478.29,
          8339.81,
          8217.44,
          8252.72,
          8248.63,
          8267.12,
          8255,
          8261.24,
          8263.93,
          8455.66,
          8439.44,
          8399.1,
          8381.73,
          8229.91,
          8377.29,
          8329.1,
          8350,
          8346.95,
          8377.29,
          8311.35,
          8319.96,
          8398.24,
          8372.58,
          8399.99,
          8386.53,
          8400,
          8500,
          8381,
          8371.3,
          8382.41,
          8351,
          8292.99,
          8325.8,
          8318.99,
          8324.9,
          8335.56,
          8309.4,
          8377.29,
          8330.41,
          8328.23,
          8284.36,
          8274.83,
          8200,
          8232.14,
          8213.97,
          8155.41,
          8108.28,
          8068.92,
          8019.9,
          8026.66,
          8025,
          8104.69,
          8061.39,
          8045.99,
          8170.71,
          8144.16,
          8139.99,
          8152.99,
          8137.73,
          8143.72,
          8129.99,
          8106.76,
          8139,
          8152.04,
          8146.99,
          8232.14,
          8275.1,
          8256.12,
          8274.1,
          8255.8,
          8253.97,
          8261.09,
          8235.76,
          8227,
          8273.36,
          8264.21,
          8250,
          8250.86,
          8235.77,
          8232.12,
          8232.14,
          8252.72,
          8370,
          8395,
          8374.48,
          8331,
          8319.43,
          8323.4,
          8314.55,
          8330.62,
          8314.8,
          8323.99,
          8263.03,
          8247.78,
          8253.75,
          8237.89,
          8235,
          8279.99,
          8290,
          8278.71,
          8275.34,
          8279.31
         ],
         "low": [
          8707.28,
          8721.11,
          8660.53,
          8701.35,
          8695.11,
          8740.54,
          8741.52,
          8700,
          8467.42,
          8477.89,
          8500.78,
          8500,
          8400,
          8451.05,
          8461.38,
          8481.24,
          8420.37,
          8450,
          8430.94,
          8275.02,
          8100.01,
          8122.56,
          8157.01,
          8166.25,
          8176.91,
          8213.79,
          8200,
          8207.48,
          8237.1,
          8370,
          8356.4,
          8145.1,
          8173.6,
          8211.8,
          8201,
          8250.9,
          8266.46,
          8252.72,
          8232.14,
          8268.37,
          8277.25,
          8277.25,
          8314.78,
          8314.77,
          8350.07,
          8331.39,
          8314.77,
          8275.45,
          8335.49,
          8191.14,
          8227.7,
          8264.13,
          8249.93,
          8269.52,
          8219.44,
          8262.68,
          8286.65,
          8289.87,
          8232.14,
          8232.14,
          8110.02,
          8154.95,
          8168.6,
          8151,
          7980,
          8005.95,
          7929.53,
          7931.03,
          7950,
          7980.58,
          7991.99,
          7992.75,
          7953.4,
          7965.67,
          8085.94,
          8078.48,
          8092.9,
          8049.22,
          8079.46,
          8062.12,
          8043.96,
          8063.1,
          8088.46,
          8094.43,
          8088.46,
          8191.14,
          8212,
          8224.5,
          8211,
          8211.01,
          8210.03,
          8158.27,
          8177.65,
          8179.41,
          8221.92,
          8217.32,
          8213.52,
          8141.08,
          8146.1,
          8186.03,
          8197.09,
          8231.21,
          8323.82,
          8296,
          8296.31,
          8282.65,
          8280,
          8273.36,
          8290.08,
          8277.93,
          8240.07,
          8191.14,
          8178,
          8193.7,
          8180,
          8170.71,
          8215.53,
          8240.02,
          8237.17,
          8237.17,
          8239.12
         ],
         "name": "Price",
         "open": [
          8733.86,
          8740.99,
          8739,
          8728.49,
          8708.32,
          8795.9,
          8760,
          8760,
          8759.23,
          8517.77,
          8520.3,
          8535.23,
          8546.34,
          8526.65,
          8555.6,
          8512.1,
          8492.28,
          8460,
          8474.99,
          8455.92,
          8326.28,
          8133.43,
          8164.79,
          8229.38,
          8220.4,
          8238.8,
          8232.99,
          8207.48,
          8243.45,
          8371.13,
          8373,
          8365.08,
          8179.99,
          8225,
          8285.8,
          8273.4,
          8297.4,
          8279.89,
          8252.72,
          8302.18,
          8295.85,
          8277.25,
          8346.59,
          8358.3,
          8375.1,
          8368.62,
          8366.72,
          8314.77,
          8363.7,
          8344.16,
          8247.4,
          8277.4,
          8291.67,
          8307.89,
          8298.9,
          8269.47,
          8300.98,
          8318.49,
          8306.39,
          8276.43,
          8257.69,
          8166,
          8176.33,
          8200.7,
          8155.41,
          8080,
          8067.03,
          7958.08,
          7974.25,
          7998.5,
          7991.99,
          8022.7,
          8042.97,
          7965.67,
          8088.95,
          8122.19,
          8107.99,
          8137.73,
          8115,
          8107,
          8094.4,
          8080.01,
          8117.09,
          8126.99,
          8110.95,
          8215.39,
          8231.42,
          8240.13,
          8235,
          8219.9,
          8248.87,
          8213.5,
          8200.99,
          8200,
          8237.3,
          8228.13,
          8240.83,
          8214.9,
          8170.07,
          8229.87,
          8205.87,
          8252.56,
          8365,
          8348.65,
          8303.99,
          8310.48,
          8310,
          8289.87,
          8304.99,
          8301.35,
          8313.12,
          8240.07,
          8199.99,
          8226.98,
          8231.2,
          8198.89,
          8215.85,
          8279.99,
          8255.08,
          8270.4,
          8244.24
         ],
         "showlegend": false,
         "type": "candlestick",
         "uid": "77128b01-1253-444b-9fba-d16797794175",
         "xaxis": "x",
         "yaxis": "y"
        },
        {
         "marker": {
          "color": "DodgerBlue"
         },
         "name": "Volume",
         "showlegend": false,
         "type": "bar",
         "uid": "9dcecade-0541-4a84-8f61-ce99015e488b",
         "xaxis": "x2",
         "y": [
          559.93,
          273.58,
          917.79,
          182.62,
          1260.69,
          324.11,
          324.2,
          730.67,
          1341.75,
          792.07,
          385.69,
          475.08,
          877.26,
          670.49,
          610.97,
          168.99,
          305.92,
          136.05,
          154.26,
          1070.93,
          1710.2,
          492.8,
          630.72,
          620.93,
          586.34,
          304.52,
          450.97,
          182.36,
          915.32,
          319.29,
          362.01,
          1046.38,
          357.91,
          561.2,
          322.53,
          1073.71,
          237.21,
          251.2,
          359.73,
          117.23,
          363.17,
          214.18,
          171.64,
          258.58,
          299.52,
          718.98,
          119.7,
          405.25,
          210.77,
          714.82,
          215.97,
          164.2,
          201.55,
          203.41,
          886.82,
          95.49,
          499.67,
          172.77,
          355.39,
          255.27,
          591.06,
          133.1,
          149.13,
          87.55,
          1061.54,
          286.94,
          524.42,
          316,
          441.43,
          189.7,
          844.94,
          155.34,
          257.56,
          610.69,
          217.97,
          173.18,
          218.06,
          372.97,
          484.39,
          248.1,
          162.35,
          303.42,
          290.69,
          160.93,
          369.4,
          487.27,
          93.35,
          96.68,
          72.14,
          90.22,
          168.52,
          203.15,
          71.42,
          464.56,
          57,
          89.42,
          49.47,
          200.05,
          254.37,
          65.05,
          118.19,
          452.4,
          181.03,
          288.04,
          145.78,
          110.14,
          55.48,
          80.87,
          67.01,
          59.16,
          121.26,
          244.37,
          156.87,
          80.48,
          139.32,
          93.52,
          200.23,
          97.4,
          68.08,
          47,
          36.65
         ],
         "yaxis": "y2"
        },
        {
         "mode": "lines",
         "name": "bitstamp:/USD-BTC",
         "type": "scatter",
         "uid": "b3610eea-9870-4a75-8f30-1c3b9b68ccd1",
         "xaxis": "x3",
         "y": [
          8740.99,
          8739,
          8728.49,
          8708.32,
          8795.9,
          8760,
          8760,
          8759.23,
          8517.77,
          8520.3,
          8535.23,
          8546.34,
          8526.65,
          8555.6,
          8512.1,
          8492.28,
          8460,
          8474.99,
          8455.92,
          8326.28,
          8133.43,
          8164.79,
          8229.38,
          8220.4,
          8238.8,
          8232.99,
          8207.48,
          8243.45,
          8371.13,
          8373,
          8365.08,
          8179.99,
          8225,
          8285.8,
          8273.4,
          8297.4,
          8279.89,
          8252.72,
          8302.18,
          8295.85,
          8277.25,
          8346.59,
          8358.3,
          8375.1,
          8368.62,
          8366.72,
          8314.77,
          8363.7,
          8344.16,
          8247.4,
          8277.4,
          8291.67,
          8307.89,
          8298.9,
          8269.47,
          8300.98,
          8318.49,
          8306.39,
          8276.43,
          8257.69,
          8166,
          8176.33,
          8200.7,
          8155.41,
          8080,
          8067.03,
          7958.08,
          7974.25,
          7998.5,
          7991.99,
          8022.7,
          8042.97,
          7965.67,
          8088.95,
          8122.19,
          8107.99,
          8137.73,
          8115,
          8107,
          8094.4,
          8080.01,
          8117.09,
          8126.99,
          8110.95,
          8215.39,
          8231.42,
          8240.13,
          8235,
          8219.9,
          8248.87,
          8213.5,
          8200.99,
          8200,
          8237.3,
          8228.13,
          8240.83,
          8214.9,
          8170.07,
          8229.87,
          8205.87,
          8252.56,
          8365,
          8348.65,
          8303.99,
          8310.48,
          8310,
          8289.87,
          8304.99,
          8301.35,
          8313.12,
          8240.07,
          8199.99,
          8226.98,
          8231.2,
          8198.89,
          8215.85,
          8279.99,
          8255.08,
          8270.4,
          8244.24,
          8239.12
         ],
         "yaxis": "y3"
        },
        {
         "mode": "lines",
         "name": "bitstamp:/USD:/free",
         "type": "scatter",
         "uid": "ea66d02e-e037-4510-a457-e9bd74f24c2b",
         "xaxis": "x3",
         "y": [
          10000,
          3000,
          3000,
          3000,
          3000,
          3000,
          3000,
          3000,
          3000,
          9780.37,
          9780.37,
          9780.37,
          2934.11,
          2934.11,
          2934.11,
          2934.11,
          2934.11,
          293.41,
          293.41,
          293.41,
          6923.42,
          6923.42,
          6923.42,
          6923.42,
          2769.37,
          2769.37,
          2769.37,
          2769.37,
          2769.37,
          6974.25,
          6974.25,
          6974.25,
          6974.25,
          6974.25,
          6974.25,
          6974.25,
          6974.25,
          6974.25,
          6974.25,
          6974.25,
          6974.25,
          6974.25,
          6974.25,
          6974.25,
          6974.25,
          6974.25,
          697.43,
          697.43,
          697.43,
          697.43,
          697.43,
          697.43,
          697.43,
          697.43,
          697.43,
          697.43,
          697.43,
          697.43,
          697.43,
          697.43,
          697.43,
          697.43,
          697.43,
          697.43,
          697.43,
          697.43,
          697.43,
          6631.92,
          6631.92,
          6631.92,
          6631.92,
          6631.92,
          6631.92,
          6631.92,
          6631.92,
          6631.92,
          6631.92,
          2652.77,
          2652.77,
          2652.77,
          2652.77,
          2652.77,
          2652.77,
          2652.77,
          2652.77,
          2652.77,
          6653.62,
          6653.62,
          6653.62,
          6653.62,
          6653.62,
          6653.62,
          6653.62,
          6653.62,
          0,
          0,
          0,
          0,
          0,
          0,
          0,
          0,
          6716.29,
          6716.29,
          6716.29,
          6716.29,
          6716.29,
          6716.29,
          6716.29,
          6716.29,
          6716.29,
          6716.29,
          6716.29,
          6716.29,
          6716.29,
          6716.29,
          6716.29,
          6716.29,
          6716.29,
          6716.29,
          6716.29
         ],
         "yaxis": "y3"
        },
        {
         "mode": "lines",
         "name": "bitstamp:/USD:/locked",
         "type": "scatter",
         "uid": "fb661c40-5608-44f7-99d3-e46afb27d1f9",
         "xaxis": "x3",
         "y": [
          0,
          0,
          0,
          0,
          0,
          0,
          0,
          0,
          0,
          0,
          0,
          0,
          0,
          0,
          0,
          0,
          0,
          0,
          0,
          0,
          0,
          0,
          0,
          0,
          0,
          0,
          0,
          0,
          0,
          0,
          0,
          0,
          0,
          0,
          0,
          0,
          0,
          0,
          0,
          0,
          0,
          0,
          0,
          0,
          0,
          0,
          0,
          0,
          0,
          0,
          0,
          0,
          0,
          0,
          0,
          0,
          0,
          0,
          0,
          0,
          0,
          0,
          0,
          0,
          0,
          0,
          0,
          0,
          0,
          0,
          0,
          0,
          0,
          0,
          0,
          0,
          0,
          0,
          0,
          0,
          0,
          0,
          0,
          0,
          0,
          0,
          0,
          0,
          0,
          0,
          0,
          0,
          0,
          0,
          0,
          0,
          0,
          0,
          0,
          0,
          0,
          0,
          0,
          0,
          0,
          0,
          0,
          0,
          0,
          0,
          0,
          0,
          0,
          0,
          0,
          0,
          0,
          0,
          0,
          0,
          0
         ],
         "yaxis": "y3"
        },
        {
         "mode": "lines",
         "name": "bitstamp:/USD:/total",
         "type": "scatter",
         "uid": "c0bf27d9-e1c6-4ca9-bee9-36b24eb2e6ef",
         "xaxis": "x3",
         "y": [
          10000,
          3000,
          3000,
          3000,
          3000,
          3000,
          3000,
          3000,
          3000,
          9780.37,
          9780.37,
          9780.37,
          2934.11,
          2934.11,
          2934.11,
          2934.11,
          2934.11,
          293.41,
          293.41,
          293.41,
          6923.42,
          6923.42,
          6923.42,
          6923.42,
          2769.37,
          2769.37,
          2769.37,
          2769.37,
          2769.37,
          6974.25,
          6974.25,
          6974.25,
          6974.25,
          6974.25,
          6974.25,
          6974.25,
          6974.25,
          6974.25,
          6974.25,
          6974.25,
          6974.25,
          6974.25,
          6974.25,
          6974.25,
          6974.25,
          6974.25,
          697.43,
          697.43,
          697.43,
          697.43,
          697.43,
          697.43,
          697.43,
          697.43,
          697.43,
          697.43,
          697.43,
          697.43,
          697.43,
          697.43,
          697.43,
          697.43,
          697.43,
          697.43,
          697.43,
          697.43,
          697.43,
          6631.92,
          6631.92,
          6631.92,
          6631.92,
          6631.92,
          6631.92,
          6631.92,
          6631.92,
          6631.92,
          6631.92,
          2652.77,
          2652.77,
          2652.77,
          2652.77,
          2652.77,
          2652.77,
          2652.77,
          2652.77,
          2652.77,
          6653.62,
          6653.62,
          6653.62,
          6653.62,
          6653.62,
          6653.62,
          6653.62,
          6653.62,
          0,
          0,
          0,
          0,
          0,
          0,
          0,
          0,
          6716.29,
          6716.29,
          6716.29,
          6716.29,
          6716.29,
          6716.29,
          6716.29,
          6716.29,
          6716.29,
          6716.29,
          6716.29,
          6716.29,
          6716.29,
          6716.29,
          6716.29,
          6716.29,
          6716.29,
          6716.29,
          6716.29
         ],
         "yaxis": "y3"
        },
        {
         "mode": "lines",
         "name": "bitstamp:/BTC:/free",
         "type": "scatter",
         "uid": "aba4850a-d13f-43a5-b660-59886fc23ede",
         "xaxis": "x3",
         "y": [
          10,
          10,
          10,
          10,
          10,
          10,
          10,
          10,
          10,
          10,
          10,
          10,
          10,
          10,
          10,
          10,
          10,
          10,
          10,
          10,
          10,
          10,
          10,
          10,
          10,
          10,
          10,
          10,
          10,
          10,
          10,
          10,
          10,
          10,
          10,
          10,
          10,
          10,
          10,
          10,
          10,
          10,
          10,
          10,
          10,
          10,
          10,
          10,
          10,
          10,
          10,
          10,
          10,
          10,
          10,
          10,
          10,
          10,
          10,
          10,
          10,
          10,
          10,
          10,
          10,
          10,
          10,
          10,
          10,
          10,
          10,
          10,
          10,
          10,
          10,
          10,
          10,
          10,
          10,
          10,
          10,
          10,
          10,
          10,
          10,
          10,
          10,
          10,
          10,
          10,
          10,
          10,
          10,
          10,
          10,
          10,
          10,
          10,
          10,
          10,
          10,
          10,
          10,
          10,
          10,
          10,
          10,
          10,
          10,
          10,
          10,
          10,
          10,
          10,
          10,
          10,
          10,
          10,
          10,
          10,
          10
         ],
         "yaxis": "y3"
        },
        {
         "mode": "lines",
         "name": "bitstamp:/BTC:/locked",
         "type": "scatter",
         "uid": "9b3ce381-607d-44b8-aab1-3bf1923665b6",
         "xaxis": "x3",
         "y": [
          0,
          0.79842215,
          0.79842215,
          0.79842215,
          0.79842215,
          0.79842215,
          0.79842215,
          0.79842215,
          0.79842215,
          0,
          0,
          0,
          0.79867171,
          0.79867171,
          0.79867171,
          0.79867171,
          0.79867171,
          1.10987502,
          1.10987502,
          1.10987502,
          0.31120331,
          0.31120331,
          0.31120331,
          0.31120331,
          0.81502186,
          0.81502186,
          0.81502186,
          0.81502186,
          0.81502186,
          0.31120331,
          0.31120331,
          0.31120331,
          0.31120331,
          0.31120331,
          0.31120331,
          0.31120331,
          0.31120331,
          0.31120331,
          0.31120331,
          0.31120331,
          0.31120331,
          0.31120331,
          0.31120331,
          0.31120331,
          0.31120331,
          0.31120331,
          1.05916547,
          1.05916547,
          1.05916547,
          1.05916547,
          1.05916547,
          1.05916547,
          1.05916547,
          1.05916547,
          1.05916547,
          1.05916547,
          1.05916547,
          1.05916547,
          1.05916547,
          1.05916547,
          1.05916547,
          1.05916547,
          1.05916547,
          1.05916547,
          1.05916547,
          1.05916547,
          1.05916547,
          0.31120331,
          0.31120331,
          0.31120331,
          0.31120331,
          0.31120331,
          0.31120331,
          0.31120331,
          0.31120331,
          0.31120331,
          0.31120331,
          0.7987115,
          0.7987115,
          0.7987115,
          0.7987115,
          0.7987115,
          0.7987115,
          0.7987115,
          0.7987115,
          0.7987115,
          0.31120331,
          0.31120331,
          0.31120331,
          0.31120331,
          0.31120331,
          0.31120331,
          0.31120331,
          0.31120331,
          1.11652301,
          1.11652301,
          1.11652301,
          1.11652301,
          1.11652301,
          1.11652301,
          1.11652301,
          1.11652301,
          0.31120331,
          0.31120331,
          0.31120331,
          0.31120331,
          0.31120331,
          0.31120331,
          0.31120331,
          0.31120331,
          0.31120331,
          0.31120331,
          0.31120331,
          0.31120331,
          0.31120331,
          0.31120331,
          0.31120331,
          0.31120331,
          0.31120331,
          0.31120331,
          0.31120331
         ],
         "yaxis": "y3"
        },
        {
         "mode": "lines",
         "name": "bitstamp:/BTC:/total",
         "type": "scatter",
         "uid": "5557485e-c34e-494d-8bee-8951c37f8554",
         "xaxis": "x3",
         "y": [
          10,
          10.79842215,
          10.79842215,
          10.79842215,
          10.79842215,
          10.79842215,
          10.79842215,
          10.79842215,
          10.79842215,
          10,
          10,
          10,
          10.79867171,
          10.79867171,
          10.79867171,
          10.79867171,
          10.79867171,
          11.10987502,
          11.10987502,
          11.10987502,
          10.31120331,
          10.31120331,
          10.31120331,
          10.31120331,
          10.81502186,
          10.81502186,
          10.81502186,
          10.81502186,
          10.81502186,
          10.31120331,
          10.31120331,
          10.31120331,
          10.31120331,
          10.31120331,
          10.31120331,
          10.31120331,
          10.31120331,
          10.31120331,
          10.31120331,
          10.31120331,
          10.31120331,
          10.31120331,
          10.31120331,
          10.31120331,
          10.31120331,
          10.31120331,
          11.05916547,
          11.05916547,
          11.05916547,
          11.05916547,
          11.05916547,
          11.05916547,
          11.05916547,
          11.05916547,
          11.05916547,
          11.05916547,
          11.05916547,
          11.05916547,
          11.05916547,
          11.05916547,
          11.05916547,
          11.05916547,
          11.05916547,
          11.05916547,
          11.05916547,
          11.05916547,
          11.05916547,
          10.31120331,
          10.31120331,
          10.31120331,
          10.31120331,
          10.31120331,
          10.31120331,
          10.31120331,
          10.31120331,
          10.31120331,
          10.31120331,
          10.7987115,
          10.7987115,
          10.7987115,
          10.7987115,
          10.7987115,
          10.7987115,
          10.7987115,
          10.7987115,
          10.7987115,
          10.31120331,
          10.31120331,
          10.31120331,
          10.31120331,
          10.31120331,
          10.31120331,
          10.31120331,
          10.31120331,
          11.11652301,
          11.11652301,
          11.11652301,
          11.11652301,
          11.11652301,
          11.11652301,
          11.11652301,
          11.11652301,
          10.31120331,
          10.31120331,
          10.31120331,
          10.31120331,
          10.31120331,
          10.31120331,
          10.31120331,
          10.31120331,
          10.31120331,
          10.31120331,
          10.31120331,
          10.31120331,
          10.31120331,
          10.31120331,
          10.31120331,
          10.31120331,
          10.31120331,
          10.31120331,
          10.31120331
         ],
         "yaxis": "y3"
        },
        {
         "mode": "lines",
         "name": "bitstamp:/BTC:/worth",
         "type": "scatter",
         "uid": "321c3fe7-7849-4196-a1e0-fe124b314c73",
         "xaxis": "x3",
         "y": [
          87409.9,
          94367.41116885,
          94253.9197520535,
          94036.115577288,
          94981.84138918499,
          94594.178034,
          94594.178034,
          94585.8632489445,
          91978.47623660551,
          85203,
          85352.29999999999,
          85463.4,
          92076.4941360715,
          92389.11568207601,
          91919.37346269102,
          91705.34378939882,
          91356.7626666,
          94156.0796957498,
          93944.2143791184,
          92503.93018152562,
          83865.4503376533,
          84188.8096734549,
          84854.8102952478,
          84762.21568952399,
          89102.80210016799,
          89039.96682316139,
          88764.07561551279,
          89153.09195181701,
          90533.95394290179,
          86335.70531463,
          86254.0405844148,
          84345.53996376689,
          84809.64722474999,
          85436.56838599799,
          85308.709464954,
          85556.178344394,
          85375.62917443589,
          85095.47378050319,
          85605.4658962158,
          85540.1959792635,
          85348.4075976975,
          86063.3864352129,
          86184.13062597299,
          86357.35884158101,
          86290.5422441322,
          86270.95095784319,
          91954.41727499191,
          92495.542241439,
          92279.4461481552,
          91209.361297278,
          91541.136261378,
          91698.9505526349,
          91878.33021655829,
          91778.908318983,
          91453.4370792009,
          91801.9113831606,
          91995.5573705403,
          91861.7414683533,
          91530.4088708721,
          91323.1601099643,
          90309.14522802,
          90423.3864073251,
          90692.898269829,
          90192.02866569269,
          89358.0569976,
          89214.6196214541,
          88009.7235434976,
          82224.11299476749,
          82474.159675035,
          82407.0337414869,
          82723.690795137,
          82932.6988862307,
          82135.6428703677,
          83406.8080144245,
          83749.55241244889,
          83603.13332544689,
          83909.78851188629,
          87631.5438225,
          87545.1541305,
          87409.09036559999,
          87253.696907115,
          87654.11312953499,
          87761.02037338499,
          87587.809040925,
          88715.62646998499,
          88888.72981532999,
          84965.65573083029,
          84912.75925785,
          84757.06008786899,
          85055.7756477597,
          84691.068386685,
          84562.07523327689,
          84551.867142,
          84936.47502546299,
          91468.19647427129,
          91609.3763164983,
          91321.12487484899,
          90822.7711483107,
          91487.53922430871,
          91220.7426720687,
          91739.7731314056,
          92989.71497865,
          86084.6275140315,
          85624.1291742069,
          85691.0488836888,
          85686.0995061,
          85478.53498346971,
          85634.44037751689,
          85596.9075974685,
          85718.2704604272,
          84965.0370586317,
          84551.7640299669,
          84830.0634073038,
          84873.57668527201,
          84540.4217063259,
          84715.2997144635,
          85376.6602947669,
          85119.8082203148,
          85277.775855024,
          85008.03477643439,
          84955.24141548721
         ],
         "yaxis": "y3"
        },
        {
         "mode": "lines",
         "name": "net_worth",
         "type": "scatter",
         "uid": "df5e426b-c637-48ae-be80-38f810ca2956",
         "xaxis": "x3",
         "y": [
          97409.9,
          97367.41116885,
          97253.9197520535,
          97036.115577288,
          97981.84138918499,
          97594.178034,
          97594.178034,
          97585.8632489445,
          94978.47623660551,
          94983.37,
          95132.66999999998,
          95243.76999999999,
          95010.6041360715,
          95323.22568207601,
          94853.48346269102,
          94639.45378939882,
          94290.8726666,
          94449.4896957498,
          94237.62437911841,
          92797.34018152562,
          90788.8703376533,
          91112.2296734549,
          91778.23029524779,
          91685.63568952399,
          91872.17210016798,
          91809.33682316139,
          91533.44561551278,
          91922.46195181701,
          93303.32394290178,
          93309.95531463,
          93228.2905844148,
          91319.78996376689,
          91783.89722474999,
          92410.81838599799,
          92282.959464954,
          92530.428344394,
          92349.87917443589,
          92069.72378050319,
          92579.7158962158,
          92514.4459792635,
          92322.6575976975,
          93037.6364352129,
          93158.38062597299,
          93331.60884158101,
          93264.7922441322,
          93245.20095784319,
          92651.8472749919,
          93192.972241439,
          92976.87614815519,
          91906.79129727799,
          92238.56626137799,
          92396.38055263489,
          92575.76021655828,
          92476.33831898299,
          92150.86707920089,
          92499.34138316059,
          92692.98737054029,
          92559.17146835329,
          92227.83887087209,
          92020.5901099643,
          91006.57522802,
          91120.8164073251,
          91390.328269829,
          90889.45866569268,
          90055.48699759999,
          89912.04962145409,
          88707.1535434976,
          88856.03299476749,
          89106.079675035,
          89038.9537414869,
          89355.61079513699,
          89564.6188862307,
          88767.56287036769,
          90038.7280144245,
          90381.47241244889,
          90235.05332544689,
          90541.70851188629,
          90284.3138225,
          90197.9241305,
          90061.86036559999,
          89906.466907115,
          90306.883129535,
          90413.790373385,
          90240.579040925,
          91368.39646998499,
          91541.49981533,
          91619.27573083028,
          91566.37925785,
          91410.68008786898,
          91709.3956477597,
          91344.688386685,
          91215.69523327689,
          91205.487142,
          91590.09502546299,
          91468.19647427129,
          91609.3763164983,
          91321.12487484899,
          90822.7711483107,
          91487.53922430871,
          91220.7426720687,
          91739.7731314056,
          92989.71497865,
          92800.91751403149,
          92340.4191742069,
          92407.33888368879,
          92402.3895061,
          92194.8249834697,
          92350.73037751688,
          92313.19759746849,
          92434.5604604272,
          91681.3270586317,
          91268.0540299669,
          91546.35340730379,
          91589.866685272,
          91256.71170632589,
          91431.5897144635,
          92092.9502947669,
          91836.09822031479,
          91994.06585502399,
          91724.32477643438,
          91671.5314154872
         ],
         "yaxis": "y3"
        },
        {
         "marker": {
          "color": "DarkGreen"
         },
         "mode": "lines",
         "name": "Net Worth",
         "type": "scatter",
         "uid": "9c96b727-5230-4d89-be49-db2bef7e8edd",
         "xaxis": "x4",
         "y": [
          97409.9,
          97367.41116885,
          97253.9197520535,
          97036.115577288,
          97981.84138918499,
          97594.178034,
          97594.178034,
          97585.8632489445,
          94978.47623660551,
          94983.37,
          95132.66999999998,
          95243.76999999999,
          95010.6041360715,
          95323.22568207601,
          94853.48346269102,
          94639.45378939882,
          94290.8726666,
          94449.4896957498,
          94237.62437911841,
          92797.34018152562,
          90788.8703376533,
          91112.2296734549,
          91778.23029524779,
          91685.63568952399,
          91872.17210016798,
          91809.33682316139,
          91533.44561551278,
          91922.46195181701,
          93303.32394290178,
          93309.95531463,
          93228.2905844148,
          91319.78996376689,
          91783.89722474999,
          92410.81838599799,
          92282.959464954,
          92530.428344394,
          92349.87917443589,
          92069.72378050319,
          92579.7158962158,
          92514.4459792635,
          92322.6575976975,
          93037.6364352129,
          93158.38062597299,
          93331.60884158101,
          93264.7922441322,
          93245.20095784319,
          92651.8472749919,
          93192.972241439,
          92976.87614815519,
          91906.79129727799,
          92238.56626137799,
          92396.38055263489,
          92575.76021655828,
          92476.33831898299,
          92150.86707920089,
          92499.34138316059,
          92692.98737054029,
          92559.17146835329,
          92227.83887087209,
          92020.5901099643,
          91006.57522802,
          91120.8164073251,
          91390.328269829,
          90889.45866569268,
          90055.48699759999,
          89912.04962145409,
          88707.1535434976,
          88856.03299476749,
          89106.079675035,
          89038.9537414869,
          89355.61079513699,
          89564.6188862307,
          88767.56287036769,
          90038.7280144245,
          90381.47241244889,
          90235.05332544689,
          90541.70851188629,
          90284.3138225,
          90197.9241305,
          90061.86036559999,
          89906.466907115,
          90306.883129535,
          90413.790373385,
          90240.579040925,
          91368.39646998499,
          91541.49981533,
          91619.27573083028,
          91566.37925785,
          91410.68008786898,
          91709.3956477597,
          91344.688386685,
          91215.69523327689,
          91205.487142,
          91590.09502546299,
          91468.19647427129,
          91609.3763164983,
          91321.12487484899,
          90822.7711483107,
          91487.53922430871,
          91220.7426720687,
          91739.7731314056,
          92989.71497865,
          92800.91751403149,
          92340.4191742069,
          92407.33888368879,
          92402.3895061,
          92194.8249834697,
          92350.73037751688,
          92313.19759746849,
          92434.5604604272,
          91681.3270586317,
          91268.0540299669,
          91546.35340730379,
          91589.866685272,
          91256.71170632589,
          91431.5897144635,
          92092.9502947669,
          91836.09822031479,
          91994.06585502399,
          91724.32477643438,
          91671.5314154872
         ],
         "yaxis": "y4"
        }
       ],
       "layout": {
        "annotations": [
         {
          "arrowcolor": "FireBrick",
          "arrowhead": 2,
          "arrowsize": 0.8,
          "arrowwidth": 4,
          "ax": 0,
          "ay": -15,
          "hoverlabel": {
           "bgcolor": "FireBrick"
          },
          "hovertext": "Step 20 [2018-05-16 01:00:00]<br>SELL 0.79627569 BTC @ 8326.28 USD MARKET<br>Total: 6630.01 USD - Comm.: 0.00239602 BTC",
          "opacity": 0.6,
          "showarrow": true,
          "x": 19,
          "xref": "x",
          "y": 8326.28,
          "yref": "y"
         },
         {
          "arrowcolor": "DarkGreen",
          "arrowhead": 2,
          "arrowsize": 0.8,
          "arrowwidth": 4,
          "ax": 0,
          "ay": 15,
          "hoverlabel": {
           "bgcolor": "DarkGreen"
          },
          "hovertext": "Step 17 [2018-05-15 22:00:00]<br>BUY 0.31120331 BTC @ 8460.0 USD MARKET<br>Total: 2632.78 USD - Comm.: 7.92 USD",
          "opacity": 0.6,
          "showarrow": true,
          "x": 16,
          "xref": "x",
          "y": 8460,
          "yref": "y"
         },
         {
          "arrowcolor": "DarkGreen",
          "arrowhead": 2,
          "arrowsize": 0.8,
          "arrowwidth": 4,
          "ax": 0,
          "ay": 15,
          "hoverlabel": {
           "bgcolor": "DarkGreen"
          },
          "hovertext": "Step 12 [2018-05-15 17:00:00]<br>BUY 0.79867171 BTC @ 8546.34 USD MARKET<br>Total: 6825.72 USD - Comm.: 20.54 USD",
          "opacity": 0.6,
          "showarrow": true,
          "x": 11,
          "xref": "x",
          "y": 8546.34,
          "yref": "y"
         },
         {
          "arrowcolor": "FireBrick",
          "arrowhead": 2,
          "arrowsize": 0.8,
          "arrowwidth": 4,
          "ax": 0,
          "ay": -15,
          "hoverlabel": {
           "bgcolor": "FireBrick"
          },
          "hovertext": "Step 9 [2018-05-15 14:00:00]<br>SELL 0.79602688 BTC @ 8517.77 USD MARKET<br>Total: 6780.37 USD - Comm.: 0.00239527 BTC",
          "opacity": 0.6,
          "showarrow": true,
          "x": 8,
          "xref": "x",
          "y": 8517.77,
          "yref": "y"
         },
         {
          "arrowcolor": "DarkGreen",
          "arrowhead": 2,
          "arrowsize": 0.8,
          "arrowwidth": 4,
          "ax": 0,
          "ay": 15,
          "hoverlabel": {
           "bgcolor": "DarkGreen"
          },
          "hovertext": "Step 1 [2018-05-15 06:00:00]<br>BUY 0.79842215 BTC @ 8740.99 USD MARKET<br>Total: 6979.0 USD - Comm.: 21.00 USD",
          "opacity": 0.6,
          "showarrow": true,
          "x": 0,
          "xref": "x",
          "y": 8740.99,
          "yref": "y"
         },
         {
          "arrowcolor": "FireBrick",
          "arrowhead": 2,
          "arrowsize": 0.8,
          "arrowwidth": 4,
          "ax": 0,
          "ay": -15,
          "hoverlabel": {
           "bgcolor": "FireBrick"
          },
          "hovertext": "Step 29 [2018-05-16 10:00:00]<br>SELL 0.50230709 BTC @ 8371.13 USD MARKET<br>Total: 4204.88 USD - Comm.: 0.00151146 BTC",
          "opacity": 0.6,
          "showarrow": true,
          "x": 28,
          "xref": "x",
          "y": 8371.13,
          "yref": "y"
         },
         {
          "arrowcolor": "DarkGreen",
          "arrowhead": 2,
          "arrowsize": 0.8,
          "arrowwidth": 4,
          "ax": 0,
          "ay": 15,
          "hoverlabel": {
           "bgcolor": "DarkGreen"
          },
          "hovertext": "Step 24 [2018-05-16 05:00:00]<br>BUY 0.50381855 BTC @ 8220.4 USD MARKET<br>Total: 4141.59 USD - Comm.: 12.46 USD",
          "opacity": 0.6,
          "showarrow": true,
          "x": 23,
          "xref": "x",
          "y": 8220.4,
          "yref": "y"
         },
         {
          "arrowcolor": "DarkGreen",
          "arrowhead": 2,
          "arrowsize": 0.8,
          "arrowwidth": 4,
          "ax": 0,
          "ay": 15,
          "hoverlabel": {
           "bgcolor": "DarkGreen"
          },
          "hovertext": "Step 46 [2018-05-17 03:00:00]<br>BUY 0.74796216 BTC @ 8366.72 USD MARKET<br>Total: 6257.99 USD - Comm.: 18.83 USD",
          "opacity": 0.6,
          "showarrow": true,
          "x": 45,
          "xref": "x",
          "y": 8366.72,
          "yref": "y"
         },
         {
          "arrowcolor": "DarkGreen",
          "arrowhead": 2,
          "arrowsize": 0.8,
          "arrowwidth": 4,
          "ax": 0,
          "ay": 15,
          "hoverlabel": {
           "bgcolor": "DarkGreen"
          },
          "hovertext": "Step 77 [2018-05-18 10:00:00]<br>BUY 0.48750819 BTC @ 8137.73 USD MARKET<br>Total: 3967.21 USD - Comm.: 11.94 USD",
          "opacity": 0.6,
          "showarrow": true,
          "x": 76,
          "xref": "x",
          "y": 8137.73,
          "yref": "y"
         },
         {
          "arrowcolor": "FireBrick",
          "arrowhead": 2,
          "arrowsize": 0.8,
          "arrowwidth": 4,
          "ax": 0,
          "ay": -15,
          "hoverlabel": {
           "bgcolor": "FireBrick"
          },
          "hovertext": "Step 67 [2018-05-18 00:00:00]<br>SELL 0.74571827 BTC @ 7958.08 USD MARKET<br>Total: 5934.49 USD - Comm.: 0.00224389 BTC",
          "opacity": 0.6,
          "showarrow": true,
          "x": 66,
          "xref": "x",
          "y": 7958.08,
          "yref": "y"
         },
         {
          "arrowcolor": "DarkGreen",
          "arrowhead": 2,
          "arrowsize": 0.8,
          "arrowwidth": 4,
          "ax": 0,
          "ay": 15,
          "hoverlabel": {
           "bgcolor": "DarkGreen"
          },
          "hovertext": "Step 94 [2018-05-19 03:00:00]<br>BUY 0.8053197 BTC @ 8237.3 USD MARKET<br>Total: 6633.66 USD - Comm.: 19.96 USD",
          "opacity": 0.6,
          "showarrow": true,
          "x": 93,
          "xref": "x",
          "y": 8237.3,
          "yref": "y"
         },
         {
          "arrowcolor": "FireBrick",
          "arrowhead": 2,
          "arrowsize": 0.8,
          "arrowwidth": 4,
          "ax": 0,
          "ay": -15,
          "hoverlabel": {
           "bgcolor": "FireBrick"
          },
          "hovertext": "Step 86 [2018-05-18 19:00:00]<br>SELL 0.48604567 BTC @ 8231.42 USD MARKET<br>Total: 4000.85 USD - Comm.: 0.00146252 BTC",
          "opacity": 0.6,
          "showarrow": true,
          "x": 85,
          "xref": "x",
          "y": 8231.42,
          "yref": "y"
         },
         {
          "arrowcolor": "FireBrick",
          "arrowhead": 2,
          "arrowsize": 0.8,
          "arrowwidth": 4,
          "ax": 0,
          "ay": -15,
          "hoverlabel": {
           "bgcolor": "FireBrick"
          },
          "hovertext": "Step 102 [2018-05-19 11:00:00]<br>SELL 0.80290374 BTC @ 8365.0 USD MARKET<br>Total: 6716.29 USD - Comm.: 0.00241596 BTC",
          "opacity": 0.6,
          "showarrow": true,
          "x": 101,
          "xref": "x",
          "y": 8365,
          "yref": "y"
         }
        ],
        "margin": {
         "t": 50
        },
        "template": {
         "data": {
          "bar": [
           {
            "error_x": {
             "color": "#2a3f5f"
            },
            "error_y": {
             "color": "#2a3f5f"
            },
            "marker": {
             "line": {
              "color": "white",
              "width": 0.5
             },
             "pattern": {
              "fillmode": "overlay",
              "size": 10,
              "solidity": 0.2
             }
            },
            "type": "bar"
           }
          ],
          "barpolar": [
           {
            "marker": {
             "line": {
              "color": "white",
              "width": 0.5
             },
             "pattern": {
              "fillmode": "overlay",
              "size": 10,
              "solidity": 0.2
             }
            },
            "type": "barpolar"
           }
          ],
          "carpet": [
           {
            "aaxis": {
             "endlinecolor": "#2a3f5f",
             "gridcolor": "#C8D4E3",
             "linecolor": "#C8D4E3",
             "minorgridcolor": "#C8D4E3",
             "startlinecolor": "#2a3f5f"
            },
            "baxis": {
             "endlinecolor": "#2a3f5f",
             "gridcolor": "#C8D4E3",
             "linecolor": "#C8D4E3",
             "minorgridcolor": "#C8D4E3",
             "startlinecolor": "#2a3f5f"
            },
            "type": "carpet"
           }
          ],
          "choropleth": [
           {
            "colorbar": {
             "outlinewidth": 0,
             "ticks": ""
            },
            "type": "choropleth"
           }
          ],
          "contour": [
           {
            "colorbar": {
             "outlinewidth": 0,
             "ticks": ""
            },
            "colorscale": [
             [
              0,
              "#0d0887"
             ],
             [
              0.1111111111111111,
              "#46039f"
             ],
             [
              0.2222222222222222,
              "#7201a8"
             ],
             [
              0.3333333333333333,
              "#9c179e"
             ],
             [
              0.4444444444444444,
              "#bd3786"
             ],
             [
              0.5555555555555556,
              "#d8576b"
             ],
             [
              0.6666666666666666,
              "#ed7953"
             ],
             [
              0.7777777777777778,
              "#fb9f3a"
             ],
             [
              0.8888888888888888,
              "#fdca26"
             ],
             [
              1,
              "#f0f921"
             ]
            ],
            "type": "contour"
           }
          ],
          "contourcarpet": [
           {
            "colorbar": {
             "outlinewidth": 0,
             "ticks": ""
            },
            "type": "contourcarpet"
           }
          ],
          "heatmap": [
           {
            "colorbar": {
             "outlinewidth": 0,
             "ticks": ""
            },
            "colorscale": [
             [
              0,
              "#0d0887"
             ],
             [
              0.1111111111111111,
              "#46039f"
             ],
             [
              0.2222222222222222,
              "#7201a8"
             ],
             [
              0.3333333333333333,
              "#9c179e"
             ],
             [
              0.4444444444444444,
              "#bd3786"
             ],
             [
              0.5555555555555556,
              "#d8576b"
             ],
             [
              0.6666666666666666,
              "#ed7953"
             ],
             [
              0.7777777777777778,
              "#fb9f3a"
             ],
             [
              0.8888888888888888,
              "#fdca26"
             ],
             [
              1,
              "#f0f921"
             ]
            ],
            "type": "heatmap"
           }
          ],
          "heatmapgl": [
           {
            "colorbar": {
             "outlinewidth": 0,
             "ticks": ""
            },
            "colorscale": [
             [
              0,
              "#0d0887"
             ],
             [
              0.1111111111111111,
              "#46039f"
             ],
             [
              0.2222222222222222,
              "#7201a8"
             ],
             [
              0.3333333333333333,
              "#9c179e"
             ],
             [
              0.4444444444444444,
              "#bd3786"
             ],
             [
              0.5555555555555556,
              "#d8576b"
             ],
             [
              0.6666666666666666,
              "#ed7953"
             ],
             [
              0.7777777777777778,
              "#fb9f3a"
             ],
             [
              0.8888888888888888,
              "#fdca26"
             ],
             [
              1,
              "#f0f921"
             ]
            ],
            "type": "heatmapgl"
           }
          ],
          "histogram": [
           {
            "marker": {
             "pattern": {
              "fillmode": "overlay",
              "size": 10,
              "solidity": 0.2
             }
            },
            "type": "histogram"
           }
          ],
          "histogram2d": [
           {
            "colorbar": {
             "outlinewidth": 0,
             "ticks": ""
            },
            "colorscale": [
             [
              0,
              "#0d0887"
             ],
             [
              0.1111111111111111,
              "#46039f"
             ],
             [
              0.2222222222222222,
              "#7201a8"
             ],
             [
              0.3333333333333333,
              "#9c179e"
             ],
             [
              0.4444444444444444,
              "#bd3786"
             ],
             [
              0.5555555555555556,
              "#d8576b"
             ],
             [
              0.6666666666666666,
              "#ed7953"
             ],
             [
              0.7777777777777778,
              "#fb9f3a"
             ],
             [
              0.8888888888888888,
              "#fdca26"
             ],
             [
              1,
              "#f0f921"
             ]
            ],
            "type": "histogram2d"
           }
          ],
          "histogram2dcontour": [
           {
            "colorbar": {
             "outlinewidth": 0,
             "ticks": ""
            },
            "colorscale": [
             [
              0,
              "#0d0887"
             ],
             [
              0.1111111111111111,
              "#46039f"
             ],
             [
              0.2222222222222222,
              "#7201a8"
             ],
             [
              0.3333333333333333,
              "#9c179e"
             ],
             [
              0.4444444444444444,
              "#bd3786"
             ],
             [
              0.5555555555555556,
              "#d8576b"
             ],
             [
              0.6666666666666666,
              "#ed7953"
             ],
             [
              0.7777777777777778,
              "#fb9f3a"
             ],
             [
              0.8888888888888888,
              "#fdca26"
             ],
             [
              1,
              "#f0f921"
             ]
            ],
            "type": "histogram2dcontour"
           }
          ],
          "mesh3d": [
           {
            "colorbar": {
             "outlinewidth": 0,
             "ticks": ""
            },
            "type": "mesh3d"
           }
          ],
          "parcoords": [
           {
            "line": {
             "colorbar": {
              "outlinewidth": 0,
              "ticks": ""
             }
            },
            "type": "parcoords"
           }
          ],
          "pie": [
           {
            "automargin": true,
            "type": "pie"
           }
          ],
          "scatter": [
           {
            "fillpattern": {
             "fillmode": "overlay",
             "size": 10,
             "solidity": 0.2
            },
            "type": "scatter"
           }
          ],
          "scatter3d": [
           {
            "line": {
             "colorbar": {
              "outlinewidth": 0,
              "ticks": ""
             }
            },
            "marker": {
             "colorbar": {
              "outlinewidth": 0,
              "ticks": ""
             }
            },
            "type": "scatter3d"
           }
          ],
          "scattercarpet": [
           {
            "marker": {
             "colorbar": {
              "outlinewidth": 0,
              "ticks": ""
             }
            },
            "type": "scattercarpet"
           }
          ],
          "scattergeo": [
           {
            "marker": {
             "colorbar": {
              "outlinewidth": 0,
              "ticks": ""
             }
            },
            "type": "scattergeo"
           }
          ],
          "scattergl": [
           {
            "marker": {
             "colorbar": {
              "outlinewidth": 0,
              "ticks": ""
             }
            },
            "type": "scattergl"
           }
          ],
          "scattermapbox": [
           {
            "marker": {
             "colorbar": {
              "outlinewidth": 0,
              "ticks": ""
             }
            },
            "type": "scattermapbox"
           }
          ],
          "scatterpolar": [
           {
            "marker": {
             "colorbar": {
              "outlinewidth": 0,
              "ticks": ""
             }
            },
            "type": "scatterpolar"
           }
          ],
          "scatterpolargl": [
           {
            "marker": {
             "colorbar": {
              "outlinewidth": 0,
              "ticks": ""
             }
            },
            "type": "scatterpolargl"
           }
          ],
          "scatterternary": [
           {
            "marker": {
             "colorbar": {
              "outlinewidth": 0,
              "ticks": ""
             }
            },
            "type": "scatterternary"
           }
          ],
          "surface": [
           {
            "colorbar": {
             "outlinewidth": 0,
             "ticks": ""
            },
            "colorscale": [
             [
              0,
              "#0d0887"
             ],
             [
              0.1111111111111111,
              "#46039f"
             ],
             [
              0.2222222222222222,
              "#7201a8"
             ],
             [
              0.3333333333333333,
              "#9c179e"
             ],
             [
              0.4444444444444444,
              "#bd3786"
             ],
             [
              0.5555555555555556,
              "#d8576b"
             ],
             [
              0.6666666666666666,
              "#ed7953"
             ],
             [
              0.7777777777777778,
              "#fb9f3a"
             ],
             [
              0.8888888888888888,
              "#fdca26"
             ],
             [
              1,
              "#f0f921"
             ]
            ],
            "type": "surface"
           }
          ],
          "table": [
           {
            "cells": {
             "fill": {
              "color": "#EBF0F8"
             },
             "line": {
              "color": "white"
             }
            },
            "header": {
             "fill": {
              "color": "#C8D4E3"
             },
             "line": {
              "color": "white"
             }
            },
            "type": "table"
           }
          ]
         },
         "layout": {
          "annotationdefaults": {
           "arrowcolor": "#2a3f5f",
           "arrowhead": 0,
           "arrowwidth": 1
          },
          "autotypenumbers": "strict",
          "coloraxis": {
           "colorbar": {
            "outlinewidth": 0,
            "ticks": ""
           }
          },
          "colorscale": {
           "diverging": [
            [
             0,
             "#8e0152"
            ],
            [
             0.1,
             "#c51b7d"
            ],
            [
             0.2,
             "#de77ae"
            ],
            [
             0.3,
             "#f1b6da"
            ],
            [
             0.4,
             "#fde0ef"
            ],
            [
             0.5,
             "#f7f7f7"
            ],
            [
             0.6,
             "#e6f5d0"
            ],
            [
             0.7,
             "#b8e186"
            ],
            [
             0.8,
             "#7fbc41"
            ],
            [
             0.9,
             "#4d9221"
            ],
            [
             1,
             "#276419"
            ]
           ],
           "sequential": [
            [
             0,
             "#0d0887"
            ],
            [
             0.1111111111111111,
             "#46039f"
            ],
            [
             0.2222222222222222,
             "#7201a8"
            ],
            [
             0.3333333333333333,
             "#9c179e"
            ],
            [
             0.4444444444444444,
             "#bd3786"
            ],
            [
             0.5555555555555556,
             "#d8576b"
            ],
            [
             0.6666666666666666,
             "#ed7953"
            ],
            [
             0.7777777777777778,
             "#fb9f3a"
            ],
            [
             0.8888888888888888,
             "#fdca26"
            ],
            [
             1,
             "#f0f921"
            ]
           ],
           "sequentialminus": [
            [
             0,
             "#0d0887"
            ],
            [
             0.1111111111111111,
             "#46039f"
            ],
            [
             0.2222222222222222,
             "#7201a8"
            ],
            [
             0.3333333333333333,
             "#9c179e"
            ],
            [
             0.4444444444444444,
             "#bd3786"
            ],
            [
             0.5555555555555556,
             "#d8576b"
            ],
            [
             0.6666666666666666,
             "#ed7953"
            ],
            [
             0.7777777777777778,
             "#fb9f3a"
            ],
            [
             0.8888888888888888,
             "#fdca26"
            ],
            [
             1,
             "#f0f921"
            ]
           ]
          },
          "colorway": [
           "#636efa",
           "#EF553B",
           "#00cc96",
           "#ab63fa",
           "#FFA15A",
           "#19d3f3",
           "#FF6692",
           "#B6E880",
           "#FF97FF",
           "#FECB52"
          ],
          "font": {
           "color": "#2a3f5f"
          },
          "geo": {
           "bgcolor": "white",
           "lakecolor": "white",
           "landcolor": "white",
           "showlakes": true,
           "showland": true,
           "subunitcolor": "#C8D4E3"
          },
          "hoverlabel": {
           "align": "left"
          },
          "hovermode": "closest",
          "mapbox": {
           "style": "light"
          },
          "paper_bgcolor": "white",
          "plot_bgcolor": "white",
          "polar": {
           "angularaxis": {
            "gridcolor": "#EBF0F8",
            "linecolor": "#EBF0F8",
            "ticks": ""
           },
           "bgcolor": "white",
           "radialaxis": {
            "gridcolor": "#EBF0F8",
            "linecolor": "#EBF0F8",
            "ticks": ""
           }
          },
          "scene": {
           "xaxis": {
            "backgroundcolor": "white",
            "gridcolor": "#DFE8F3",
            "gridwidth": 2,
            "linecolor": "#EBF0F8",
            "showbackground": true,
            "ticks": "",
            "zerolinecolor": "#EBF0F8"
           },
           "yaxis": {
            "backgroundcolor": "white",
            "gridcolor": "#DFE8F3",
            "gridwidth": 2,
            "linecolor": "#EBF0F8",
            "showbackground": true,
            "ticks": "",
            "zerolinecolor": "#EBF0F8"
           },
           "zaxis": {
            "backgroundcolor": "white",
            "gridcolor": "#DFE8F3",
            "gridwidth": 2,
            "linecolor": "#EBF0F8",
            "showbackground": true,
            "ticks": "",
            "zerolinecolor": "#EBF0F8"
           }
          },
          "shapedefaults": {
           "line": {
            "color": "#2a3f5f"
           }
          },
          "ternary": {
           "aaxis": {
            "gridcolor": "#DFE8F3",
            "linecolor": "#A2B1C6",
            "ticks": ""
           },
           "baxis": {
            "gridcolor": "#DFE8F3",
            "linecolor": "#A2B1C6",
            "ticks": ""
           },
           "bgcolor": "white",
           "caxis": {
            "gridcolor": "#DFE8F3",
            "linecolor": "#A2B1C6",
            "ticks": ""
           }
          },
          "title": {
           "x": 0.05
          },
          "xaxis": {
           "automargin": true,
           "gridcolor": "#EBF0F8",
           "linecolor": "#EBF0F8",
           "ticks": "",
           "title": {
            "standoff": 15
           },
           "zerolinecolor": "#EBF0F8",
           "zerolinewidth": 2
          },
          "yaxis": {
           "automargin": true,
           "gridcolor": "#EBF0F8",
           "linecolor": "#EBF0F8",
           "ticks": "",
           "title": {
            "standoff": 15
           },
           "zerolinecolor": "#EBF0F8",
           "zerolinewidth": 2
          }
         }
        },
        "title": {
         "text": "[2022-07-29 01:25:48] Episode: 2/2 Step: 121/200"
        },
        "xaxis": {
         "anchor": "y",
         "domain": [
          0,
          1
         ],
         "gridcolor": "Gainsboro",
         "linecolor": "Grey",
         "matches": "x4",
         "rangeslider": {
          "visible": false
         },
         "showticklabels": false,
         "title": {
          "font": {
           "size": 12
          },
          "standoff": 7,
          "text": "Price"
         }
        },
        "xaxis2": {
         "anchor": "y2",
         "domain": [
          0,
          1
         ],
         "gridcolor": "Gainsboro",
         "linecolor": "Grey",
         "matches": "x4",
         "showticklabels": false,
         "title": {
          "font": {
           "size": 12
          },
          "standoff": 7,
          "text": "Volume"
         }
        },
        "xaxis3": {
         "anchor": "y3",
         "domain": [
          0,
          1
         ],
         "gridcolor": "Gainsboro",
         "linecolor": "Grey",
         "matches": "x4",
         "showticklabels": false,
         "title": {
          "font": {
           "size": 12
          },
          "standoff": 7,
          "text": "Performance"
         }
        },
        "xaxis4": {
         "anchor": "y4",
         "domain": [
          0,
          1
         ],
         "gridcolor": "Gainsboro",
         "linecolor": "Grey",
         "title": {
          "font": {
           "size": 12
          },
          "standoff": 7,
          "text": "Net Worth"
         }
        },
        "yaxis": {
         "anchor": "x",
         "domain": [
          0.49950000000000006,
          1
         ],
         "gridcolor": "Gainsboro",
         "linecolor": "Grey"
        },
        "yaxis2": {
         "anchor": "x2",
         "domain": [
          0.333,
          0.46950000000000003
         ],
         "gridcolor": "Gainsboro",
         "linecolor": "Grey"
        },
        "yaxis3": {
         "anchor": "x3",
         "domain": [
          0.1665,
          0.30300000000000005
         ],
         "gridcolor": "Gainsboro",
         "linecolor": "Grey"
        },
        "yaxis4": {
         "anchor": "x4",
         "domain": [
          0,
          0.1365
         ],
         "gridcolor": "Gainsboro",
         "linecolor": "Grey"
        }
       }
      }
     },
     "metadata": {},
     "output_type": "display_data"
    },
    {
     "data": {
      "application/vnd.jupyter.widget-view+json": {
       "model_id": "5a95dff502e6465b97c42c73d4ef69fb",
       "version_major": 2,
       "version_minor": 0
      },
      "text/plain": [
       "FigureWidget({\n",
       "    'data': [{'close': array([8740.99, 8739.  , 8728.49, 8708.32, 8795.9 , 8760.  , 8760.  , 87…"
      ]
     },
     "metadata": {},
     "output_type": "display_data"
    },
    {
     "data": {
      "application/vnd.plotly.v1+json": {
       "config": {
        "plotlyServerURL": "https://plot.ly"
       },
       "data": [
        {
         "close": [
          8740.99,
          8739,
          8728.49,
          8708.32,
          8795.9,
          8760,
          8760,
          8759.23,
          8517.77,
          8520.3,
          8535.23,
          8546.34,
          8526.65,
          8555.6,
          8512.1,
          8492.28,
          8460,
          8474.99,
          8455.92,
          8326.28,
          8133.43,
          8164.79,
          8229.38,
          8220.4,
          8238.8,
          8232.99,
          8207.48,
          8243.45,
          8371.13,
          8373,
          8365.08,
          8179.99,
          8225,
          8285.8,
          8273.4,
          8297.4,
          8279.89,
          8252.72,
          8302.18,
          8295.85,
          8277.25,
          8346.59,
          8358.3,
          8375.1,
          8368.62,
          8366.72,
          8314.77,
          8363.7,
          8344.16,
          8247.4,
          8277.4,
          8291.67,
          8307.89,
          8298.9,
          8269.47,
          8300.98,
          8318.49,
          8306.39,
          8276.43,
          8257.69,
          8166,
          8176.33,
          8200.7,
          8155.41,
          8080,
          8067.03,
          7958.08,
          7974.25,
          7998.5,
          7991.99,
          8022.7,
          8042.97,
          7965.67,
          8088.95,
          8122.19,
          8107.99,
          8137.73,
          8115,
          8107,
          8094.4,
          8080.01,
          8117.09,
          8126.99,
          8110.95,
          8215.39,
          8231.42,
          8240.13,
          8235,
          8219.9,
          8248.87,
          8213.5,
          8200.99,
          8200,
          8237.3,
          8228.13,
          8240.83,
          8214.9,
          8170.07,
          8229.87,
          8205.87,
          8252.56,
          8365,
          8348.65,
          8303.99,
          8310.48,
          8310,
          8289.87,
          8304.99,
          8301.35,
          8313.12,
          8240.07,
          8199.99,
          8226.98,
          8231.2,
          8198.89,
          8215.85,
          8279.99,
          8255.08,
          8270.4,
          8244.24,
          8239.12,
          8267.14,
          8282.27,
          8350.62,
          8336.6,
          8336.91,
          8311.21,
          8312.09,
          8345.19,
          8377.2,
          8481.11,
          8516.36,
          8524,
          8517.04,
          8558.5,
          8521.99,
          8484.93,
          8518.48,
          8488.99,
          8466.72,
          8492.55
         ],
         "high": [
          8796.68,
          8766,
          8750.27,
          8754.4,
          8865,
          8821.19,
          8798.6,
          8771.02,
          8761.7,
          8553.67,
          8589.1,
          8579.48,
          8555.51,
          8583.6,
          8569.92,
          8555.54,
          8557.51,
          8505,
          8505.33,
          8478.29,
          8339.81,
          8217.44,
          8252.72,
          8248.63,
          8267.12,
          8255,
          8261.24,
          8263.93,
          8455.66,
          8439.44,
          8399.1,
          8381.73,
          8229.91,
          8377.29,
          8329.1,
          8350,
          8346.95,
          8377.29,
          8311.35,
          8319.96,
          8398.24,
          8372.58,
          8399.99,
          8386.53,
          8400,
          8500,
          8381,
          8371.3,
          8382.41,
          8351,
          8292.99,
          8325.8,
          8318.99,
          8324.9,
          8335.56,
          8309.4,
          8377.29,
          8330.41,
          8328.23,
          8284.36,
          8274.83,
          8200,
          8232.14,
          8213.97,
          8155.41,
          8108.28,
          8068.92,
          8019.9,
          8026.66,
          8025,
          8104.69,
          8061.39,
          8045.99,
          8170.71,
          8144.16,
          8139.99,
          8152.99,
          8137.73,
          8143.72,
          8129.99,
          8106.76,
          8139,
          8152.04,
          8146.99,
          8232.14,
          8275.1,
          8256.12,
          8274.1,
          8255.8,
          8253.97,
          8261.09,
          8235.76,
          8227,
          8273.36,
          8264.21,
          8250,
          8250.86,
          8235.77,
          8232.12,
          8232.14,
          8252.72,
          8370,
          8395,
          8374.48,
          8331,
          8319.43,
          8323.4,
          8314.55,
          8330.62,
          8314.8,
          8323.99,
          8263.03,
          8247.78,
          8253.75,
          8237.89,
          8235,
          8279.99,
          8290,
          8278.71,
          8275.34,
          8279.31,
          8279.98,
          8294.04,
          8356.4,
          8374.94,
          8354.83,
          8360.45,
          8337.14,
          8351.97,
          8377.29,
          8549,
          8531.9,
          8551.79,
          8529.9,
          8590,
          8576.1,
          8549.89,
          8531.89,
          8550,
          8493.29,
          8522.98
         ],
         "low": [
          8707.28,
          8721.11,
          8660.53,
          8701.35,
          8695.11,
          8740.54,
          8741.52,
          8700,
          8467.42,
          8477.89,
          8500.78,
          8500,
          8400,
          8451.05,
          8461.38,
          8481.24,
          8420.37,
          8450,
          8430.94,
          8275.02,
          8100.01,
          8122.56,
          8157.01,
          8166.25,
          8176.91,
          8213.79,
          8200,
          8207.48,
          8237.1,
          8370,
          8356.4,
          8145.1,
          8173.6,
          8211.8,
          8201,
          8250.9,
          8266.46,
          8252.72,
          8232.14,
          8268.37,
          8277.25,
          8277.25,
          8314.78,
          8314.77,
          8350.07,
          8331.39,
          8314.77,
          8275.45,
          8335.49,
          8191.14,
          8227.7,
          8264.13,
          8249.93,
          8269.52,
          8219.44,
          8262.68,
          8286.65,
          8289.87,
          8232.14,
          8232.14,
          8110.02,
          8154.95,
          8168.6,
          8151,
          7980,
          8005.95,
          7929.53,
          7931.03,
          7950,
          7980.58,
          7991.99,
          7992.75,
          7953.4,
          7965.67,
          8085.94,
          8078.48,
          8092.9,
          8049.22,
          8079.46,
          8062.12,
          8043.96,
          8063.1,
          8088.46,
          8094.43,
          8088.46,
          8191.14,
          8212,
          8224.5,
          8211,
          8211.01,
          8210.03,
          8158.27,
          8177.65,
          8179.41,
          8221.92,
          8217.32,
          8213.52,
          8141.08,
          8146.1,
          8186.03,
          8197.09,
          8231.21,
          8323.82,
          8296,
          8296.31,
          8282.65,
          8280,
          8273.36,
          8290.08,
          8277.93,
          8240.07,
          8191.14,
          8178,
          8193.7,
          8180,
          8170.71,
          8215.53,
          8240.02,
          8237.17,
          8237.17,
          8239.12,
          8227.79,
          8247.57,
          8274.24,
          8326.1,
          8320.61,
          8281.31,
          8269.85,
          8311.16,
          8336.11,
          8369.86,
          8471.51,
          8511,
          8476.66,
          8507.68,
          8509.24,
          8482.53,
          8484.93,
          8450,
          8434.47,
          8461.1
         ],
         "name": "Price",
         "open": [
          8733.86,
          8740.99,
          8739,
          8728.49,
          8708.32,
          8795.9,
          8760,
          8760,
          8759.23,
          8517.77,
          8520.3,
          8535.23,
          8546.34,
          8526.65,
          8555.6,
          8512.1,
          8492.28,
          8460,
          8474.99,
          8455.92,
          8326.28,
          8133.43,
          8164.79,
          8229.38,
          8220.4,
          8238.8,
          8232.99,
          8207.48,
          8243.45,
          8371.13,
          8373,
          8365.08,
          8179.99,
          8225,
          8285.8,
          8273.4,
          8297.4,
          8279.89,
          8252.72,
          8302.18,
          8295.85,
          8277.25,
          8346.59,
          8358.3,
          8375.1,
          8368.62,
          8366.72,
          8314.77,
          8363.7,
          8344.16,
          8247.4,
          8277.4,
          8291.67,
          8307.89,
          8298.9,
          8269.47,
          8300.98,
          8318.49,
          8306.39,
          8276.43,
          8257.69,
          8166,
          8176.33,
          8200.7,
          8155.41,
          8080,
          8067.03,
          7958.08,
          7974.25,
          7998.5,
          7991.99,
          8022.7,
          8042.97,
          7965.67,
          8088.95,
          8122.19,
          8107.99,
          8137.73,
          8115,
          8107,
          8094.4,
          8080.01,
          8117.09,
          8126.99,
          8110.95,
          8215.39,
          8231.42,
          8240.13,
          8235,
          8219.9,
          8248.87,
          8213.5,
          8200.99,
          8200,
          8237.3,
          8228.13,
          8240.83,
          8214.9,
          8170.07,
          8229.87,
          8205.87,
          8252.56,
          8365,
          8348.65,
          8303.99,
          8310.48,
          8310,
          8289.87,
          8304.99,
          8301.35,
          8313.12,
          8240.07,
          8199.99,
          8226.98,
          8231.2,
          8198.89,
          8215.85,
          8279.99,
          8255.08,
          8270.4,
          8244.24,
          8239.12,
          8267.14,
          8282.27,
          8350.62,
          8336.6,
          8336.91,
          8311.21,
          8312.09,
          8345.19,
          8377.2,
          8481.11,
          8516.36,
          8524,
          8517.04,
          8558.5,
          8521.99,
          8484.93,
          8518.48,
          8488.99,
          8466.72
         ],
         "showlegend": false,
         "type": "candlestick",
         "uid": "77128b01-1253-444b-9fba-d16797794175",
         "xaxis": "x",
         "yaxis": "y"
        },
        {
         "marker": {
          "color": "DodgerBlue"
         },
         "name": "Volume",
         "showlegend": false,
         "type": "bar",
         "uid": "9dcecade-0541-4a84-8f61-ce99015e488b",
         "xaxis": "x2",
         "y": [
          559.93,
          273.58,
          917.79,
          182.62,
          1260.69,
          324.11,
          324.2,
          730.67,
          1341.75,
          792.07,
          385.69,
          475.08,
          877.26,
          670.49,
          610.97,
          168.99,
          305.92,
          136.05,
          154.26,
          1070.93,
          1710.2,
          492.8,
          630.72,
          620.93,
          586.34,
          304.52,
          450.97,
          182.36,
          915.32,
          319.29,
          362.01,
          1046.38,
          357.91,
          561.2,
          322.53,
          1073.71,
          237.21,
          251.2,
          359.73,
          117.23,
          363.17,
          214.18,
          171.64,
          258.58,
          299.52,
          718.98,
          119.7,
          405.25,
          210.77,
          714.82,
          215.97,
          164.2,
          201.55,
          203.41,
          886.82,
          95.49,
          499.67,
          172.77,
          355.39,
          255.27,
          591.06,
          133.1,
          149.13,
          87.55,
          1061.54,
          286.94,
          524.42,
          316,
          441.43,
          189.7,
          844.94,
          155.34,
          257.56,
          610.69,
          217.97,
          173.18,
          218.06,
          372.97,
          484.39,
          248.1,
          162.35,
          303.42,
          290.69,
          160.93,
          369.4,
          487.27,
          93.35,
          96.68,
          72.14,
          90.22,
          168.52,
          203.15,
          71.42,
          464.56,
          57,
          89.42,
          49.47,
          200.05,
          254.37,
          65.05,
          118.19,
          452.4,
          181.03,
          288.04,
          145.78,
          110.14,
          55.48,
          80.87,
          67.01,
          59.16,
          121.26,
          244.37,
          156.87,
          80.48,
          139.32,
          93.52,
          200.23,
          97.4,
          68.08,
          47,
          36.65,
          28.75,
          182.85,
          400.18,
          288.1,
          182.94,
          777.81,
          493.59,
          118.63,
          174.37,
          901.75,
          222.45,
          113.8,
          84.2,
          261.44,
          168.78,
          111.07,
          122.12,
          267.32,
          210.39,
          211.36
         ],
         "yaxis": "y2"
        },
        {
         "mode": "lines",
         "name": "bitstamp:/USD-BTC",
         "type": "scatter",
         "uid": "b3610eea-9870-4a75-8f30-1c3b9b68ccd1",
         "xaxis": "x3",
         "y": [
          8740.99,
          8739,
          8728.49,
          8708.32,
          8795.9,
          8760,
          8760,
          8759.23,
          8517.77,
          8520.3,
          8535.23,
          8546.34,
          8526.65,
          8555.6,
          8512.1,
          8492.28,
          8460,
          8474.99,
          8455.92,
          8326.28,
          8133.43,
          8164.79,
          8229.38,
          8220.4,
          8238.8,
          8232.99,
          8207.48,
          8243.45,
          8371.13,
          8373,
          8365.08,
          8179.99,
          8225,
          8285.8,
          8273.4,
          8297.4,
          8279.89,
          8252.72,
          8302.18,
          8295.85,
          8277.25,
          8346.59,
          8358.3,
          8375.1,
          8368.62,
          8366.72,
          8314.77,
          8363.7,
          8344.16,
          8247.4,
          8277.4,
          8291.67,
          8307.89,
          8298.9,
          8269.47,
          8300.98,
          8318.49,
          8306.39,
          8276.43,
          8257.69,
          8166,
          8176.33,
          8200.7,
          8155.41,
          8080,
          8067.03,
          7958.08,
          7974.25,
          7998.5,
          7991.99,
          8022.7,
          8042.97,
          7965.67,
          8088.95,
          8122.19,
          8107.99,
          8137.73,
          8115,
          8107,
          8094.4,
          8080.01,
          8117.09,
          8126.99,
          8110.95,
          8215.39,
          8231.42,
          8240.13,
          8235,
          8219.9,
          8248.87,
          8213.5,
          8200.99,
          8200,
          8237.3,
          8228.13,
          8240.83,
          8214.9,
          8170.07,
          8229.87,
          8205.87,
          8252.56,
          8365,
          8348.65,
          8303.99,
          8310.48,
          8310,
          8289.87,
          8304.99,
          8301.35,
          8313.12,
          8240.07,
          8199.99,
          8226.98,
          8231.2,
          8198.89,
          8215.85,
          8279.99,
          8255.08,
          8270.4,
          8244.24,
          8239.12,
          8267.14,
          8282.27,
          8350.62,
          8336.6,
          8336.91,
          8311.21,
          8312.09,
          8345.19,
          8377.2,
          8481.11,
          8516.36,
          8524,
          8517.04,
          8558.5,
          8521.99,
          8484.93,
          8518.48,
          8488.99,
          8466.72,
          8492.55
         ],
         "yaxis": "y3"
        },
        {
         "mode": "lines",
         "name": "bitstamp:/USD:/free",
         "type": "scatter",
         "uid": "ea66d02e-e037-4510-a457-e9bd74f24c2b",
         "xaxis": "x3",
         "y": [
          10000,
          3000,
          3000,
          3000,
          3000,
          3000,
          3000,
          3000,
          3000,
          9780.37,
          9780.37,
          9780.37,
          2934.11,
          2934.11,
          2934.11,
          2934.11,
          2934.11,
          293.41,
          293.41,
          293.41,
          6923.42,
          6923.42,
          6923.42,
          6923.42,
          2769.37,
          2769.37,
          2769.37,
          2769.37,
          2769.37,
          6974.25,
          6974.25,
          6974.25,
          6974.25,
          6974.25,
          6974.25,
          6974.25,
          6974.25,
          6974.25,
          6974.25,
          6974.25,
          6974.25,
          6974.25,
          6974.25,
          6974.25,
          6974.25,
          6974.25,
          697.43,
          697.43,
          697.43,
          697.43,
          697.43,
          697.43,
          697.43,
          697.43,
          697.43,
          697.43,
          697.43,
          697.43,
          697.43,
          697.43,
          697.43,
          697.43,
          697.43,
          697.43,
          697.43,
          697.43,
          697.43,
          6631.92,
          6631.92,
          6631.92,
          6631.92,
          6631.92,
          6631.92,
          6631.92,
          6631.92,
          6631.92,
          6631.92,
          2652.77,
          2652.77,
          2652.77,
          2652.77,
          2652.77,
          2652.77,
          2652.77,
          2652.77,
          2652.77,
          6653.62,
          6653.62,
          6653.62,
          6653.62,
          6653.62,
          6653.62,
          6653.62,
          6653.62,
          0,
          0,
          0,
          0,
          0,
          0,
          0,
          0,
          6716.29,
          6716.29,
          6716.29,
          6716.29,
          6716.29,
          6716.29,
          6716.29,
          6716.29,
          6716.29,
          6716.29,
          6716.29,
          6716.29,
          6716.29,
          6716.29,
          6716.29,
          6716.29,
          6716.29,
          6716.29,
          6716.29,
          6716.29,
          6716.29,
          6716.29,
          6716.29,
          6716.29,
          1343.26,
          1343.26,
          1343.26,
          1343.26,
          1343.26,
          6776.48,
          6776.48,
          6776.48,
          6776.48,
          9431.92,
          9431.92,
          9431.92,
          9431.92,
          9431.92,
          9431.92
         ],
         "yaxis": "y3"
        },
        {
         "mode": "lines",
         "name": "bitstamp:/USD:/locked",
         "type": "scatter",
         "uid": "fb661c40-5608-44f7-99d3-e46afb27d1f9",
         "xaxis": "x3",
         "y": [
          0,
          0,
          0,
          0,
          0,
          0,
          0,
          0,
          0,
          0,
          0,
          0,
          0,
          0,
          0,
          0,
          0,
          0,
          0,
          0,
          0,
          0,
          0,
          0,
          0,
          0,
          0,
          0,
          0,
          0,
          0,
          0,
          0,
          0,
          0,
          0,
          0,
          0,
          0,
          0,
          0,
          0,
          0,
          0,
          0,
          0,
          0,
          0,
          0,
          0,
          0,
          0,
          0,
          0,
          0,
          0,
          0,
          0,
          0,
          0,
          0,
          0,
          0,
          0,
          0,
          0,
          0,
          0,
          0,
          0,
          0,
          0,
          0,
          0,
          0,
          0,
          0,
          0,
          0,
          0,
          0,
          0,
          0,
          0,
          0,
          0,
          0,
          0,
          0,
          0,
          0,
          0,
          0,
          0,
          0,
          0,
          0,
          0,
          0,
          0,
          0,
          0,
          0,
          0,
          0,
          0,
          0,
          0,
          0,
          0,
          0,
          0,
          0,
          0,
          0,
          0,
          0,
          0,
          0,
          0,
          0,
          0,
          0,
          0,
          0,
          0,
          0,
          0,
          0,
          0,
          0,
          0,
          0,
          0,
          0,
          0,
          0,
          0,
          0,
          0,
          0
         ],
         "yaxis": "y3"
        },
        {
         "mode": "lines",
         "name": "bitstamp:/USD:/total",
         "type": "scatter",
         "uid": "c0bf27d9-e1c6-4ca9-bee9-36b24eb2e6ef",
         "xaxis": "x3",
         "y": [
          10000,
          3000,
          3000,
          3000,
          3000,
          3000,
          3000,
          3000,
          3000,
          9780.37,
          9780.37,
          9780.37,
          2934.11,
          2934.11,
          2934.11,
          2934.11,
          2934.11,
          293.41,
          293.41,
          293.41,
          6923.42,
          6923.42,
          6923.42,
          6923.42,
          2769.37,
          2769.37,
          2769.37,
          2769.37,
          2769.37,
          6974.25,
          6974.25,
          6974.25,
          6974.25,
          6974.25,
          6974.25,
          6974.25,
          6974.25,
          6974.25,
          6974.25,
          6974.25,
          6974.25,
          6974.25,
          6974.25,
          6974.25,
          6974.25,
          6974.25,
          697.43,
          697.43,
          697.43,
          697.43,
          697.43,
          697.43,
          697.43,
          697.43,
          697.43,
          697.43,
          697.43,
          697.43,
          697.43,
          697.43,
          697.43,
          697.43,
          697.43,
          697.43,
          697.43,
          697.43,
          697.43,
          6631.92,
          6631.92,
          6631.92,
          6631.92,
          6631.92,
          6631.92,
          6631.92,
          6631.92,
          6631.92,
          6631.92,
          2652.77,
          2652.77,
          2652.77,
          2652.77,
          2652.77,
          2652.77,
          2652.77,
          2652.77,
          2652.77,
          6653.62,
          6653.62,
          6653.62,
          6653.62,
          6653.62,
          6653.62,
          6653.62,
          6653.62,
          0,
          0,
          0,
          0,
          0,
          0,
          0,
          0,
          6716.29,
          6716.29,
          6716.29,
          6716.29,
          6716.29,
          6716.29,
          6716.29,
          6716.29,
          6716.29,
          6716.29,
          6716.29,
          6716.29,
          6716.29,
          6716.29,
          6716.29,
          6716.29,
          6716.29,
          6716.29,
          6716.29,
          6716.29,
          6716.29,
          6716.29,
          6716.29,
          6716.29,
          1343.26,
          1343.26,
          1343.26,
          1343.26,
          1343.26,
          6776.48,
          6776.48,
          6776.48,
          6776.48,
          9431.92,
          9431.92,
          9431.92,
          9431.92,
          9431.92,
          9431.92
         ],
         "yaxis": "y3"
        },
        {
         "mode": "lines",
         "name": "bitstamp:/BTC:/free",
         "type": "scatter",
         "uid": "aba4850a-d13f-43a5-b660-59886fc23ede",
         "xaxis": "x3",
         "y": [
          10,
          10,
          10,
          10,
          10,
          10,
          10,
          10,
          10,
          10,
          10,
          10,
          10,
          10,
          10,
          10,
          10,
          10,
          10,
          10,
          10,
          10,
          10,
          10,
          10,
          10,
          10,
          10,
          10,
          10,
          10,
          10,
          10,
          10,
          10,
          10,
          10,
          10,
          10,
          10,
          10,
          10,
          10,
          10,
          10,
          10,
          10,
          10,
          10,
          10,
          10,
          10,
          10,
          10,
          10,
          10,
          10,
          10,
          10,
          10,
          10,
          10,
          10,
          10,
          10,
          10,
          10,
          10,
          10,
          10,
          10,
          10,
          10,
          10,
          10,
          10,
          10,
          10,
          10,
          10,
          10,
          10,
          10,
          10,
          10,
          10,
          10,
          10,
          10,
          10,
          10,
          10,
          10,
          10,
          10,
          10,
          10,
          10,
          10,
          10,
          10,
          10,
          10,
          10,
          10,
          10,
          10,
          10,
          10,
          10,
          10,
          10,
          10,
          10,
          10,
          10,
          10,
          10,
          10,
          10,
          10,
          10,
          10,
          10,
          10,
          10,
          10,
          10,
          10,
          10,
          10,
          10,
          10,
          10,
          10,
          10,
          10,
          10,
          10,
          10,
          10
         ],
         "yaxis": "y3"
        },
        {
         "mode": "lines",
         "name": "bitstamp:/BTC:/locked",
         "type": "scatter",
         "uid": "9b3ce381-607d-44b8-aab1-3bf1923665b6",
         "xaxis": "x3",
         "y": [
          0,
          0.79842215,
          0.79842215,
          0.79842215,
          0.79842215,
          0.79842215,
          0.79842215,
          0.79842215,
          0.79842215,
          0,
          0,
          0,
          0.79867171,
          0.79867171,
          0.79867171,
          0.79867171,
          0.79867171,
          1.10987502,
          1.10987502,
          1.10987502,
          0.31120331,
          0.31120331,
          0.31120331,
          0.31120331,
          0.81502186,
          0.81502186,
          0.81502186,
          0.81502186,
          0.81502186,
          0.31120331,
          0.31120331,
          0.31120331,
          0.31120331,
          0.31120331,
          0.31120331,
          0.31120331,
          0.31120331,
          0.31120331,
          0.31120331,
          0.31120331,
          0.31120331,
          0.31120331,
          0.31120331,
          0.31120331,
          0.31120331,
          0.31120331,
          1.05916547,
          1.05916547,
          1.05916547,
          1.05916547,
          1.05916547,
          1.05916547,
          1.05916547,
          1.05916547,
          1.05916547,
          1.05916547,
          1.05916547,
          1.05916547,
          1.05916547,
          1.05916547,
          1.05916547,
          1.05916547,
          1.05916547,
          1.05916547,
          1.05916547,
          1.05916547,
          1.05916547,
          0.31120331,
          0.31120331,
          0.31120331,
          0.31120331,
          0.31120331,
          0.31120331,
          0.31120331,
          0.31120331,
          0.31120331,
          0.31120331,
          0.7987115,
          0.7987115,
          0.7987115,
          0.7987115,
          0.7987115,
          0.7987115,
          0.7987115,
          0.7987115,
          0.7987115,
          0.31120331,
          0.31120331,
          0.31120331,
          0.31120331,
          0.31120331,
          0.31120331,
          0.31120331,
          0.31120331,
          1.11652301,
          1.11652301,
          1.11652301,
          1.11652301,
          1.11652301,
          1.11652301,
          1.11652301,
          1.11652301,
          0.31120331,
          0.31120331,
          0.31120331,
          0.31120331,
          0.31120331,
          0.31120331,
          0.31120331,
          0.31120331,
          0.31120331,
          0.31120331,
          0.31120331,
          0.31120331,
          0.31120331,
          0.31120331,
          0.31120331,
          0.31120331,
          0.31120331,
          0.31120331,
          0.31120331,
          0.31120331,
          0.31120331,
          0.31120331,
          0.31120331,
          0.31120331,
          0.95375673,
          0.95375673,
          0.95375673,
          0.95375673,
          0.95375673,
          0.31120331,
          0.31120331,
          0.31120331,
          0.31120331,
          0,
          0,
          0,
          0,
          0,
          0
         ],
         "yaxis": "y3"
        },
        {
         "mode": "lines",
         "name": "bitstamp:/BTC:/total",
         "type": "scatter",
         "uid": "5557485e-c34e-494d-8bee-8951c37f8554",
         "xaxis": "x3",
         "y": [
          10,
          10.79842215,
          10.79842215,
          10.79842215,
          10.79842215,
          10.79842215,
          10.79842215,
          10.79842215,
          10.79842215,
          10,
          10,
          10,
          10.79867171,
          10.79867171,
          10.79867171,
          10.79867171,
          10.79867171,
          11.10987502,
          11.10987502,
          11.10987502,
          10.31120331,
          10.31120331,
          10.31120331,
          10.31120331,
          10.81502186,
          10.81502186,
          10.81502186,
          10.81502186,
          10.81502186,
          10.31120331,
          10.31120331,
          10.31120331,
          10.31120331,
          10.31120331,
          10.31120331,
          10.31120331,
          10.31120331,
          10.31120331,
          10.31120331,
          10.31120331,
          10.31120331,
          10.31120331,
          10.31120331,
          10.31120331,
          10.31120331,
          10.31120331,
          11.05916547,
          11.05916547,
          11.05916547,
          11.05916547,
          11.05916547,
          11.05916547,
          11.05916547,
          11.05916547,
          11.05916547,
          11.05916547,
          11.05916547,
          11.05916547,
          11.05916547,
          11.05916547,
          11.05916547,
          11.05916547,
          11.05916547,
          11.05916547,
          11.05916547,
          11.05916547,
          11.05916547,
          10.31120331,
          10.31120331,
          10.31120331,
          10.31120331,
          10.31120331,
          10.31120331,
          10.31120331,
          10.31120331,
          10.31120331,
          10.31120331,
          10.7987115,
          10.7987115,
          10.7987115,
          10.7987115,
          10.7987115,
          10.7987115,
          10.7987115,
          10.7987115,
          10.7987115,
          10.31120331,
          10.31120331,
          10.31120331,
          10.31120331,
          10.31120331,
          10.31120331,
          10.31120331,
          10.31120331,
          11.11652301,
          11.11652301,
          11.11652301,
          11.11652301,
          11.11652301,
          11.11652301,
          11.11652301,
          11.11652301,
          10.31120331,
          10.31120331,
          10.31120331,
          10.31120331,
          10.31120331,
          10.31120331,
          10.31120331,
          10.31120331,
          10.31120331,
          10.31120331,
          10.31120331,
          10.31120331,
          10.31120331,
          10.31120331,
          10.31120331,
          10.31120331,
          10.31120331,
          10.31120331,
          10.31120331,
          10.31120331,
          10.31120331,
          10.31120331,
          10.31120331,
          10.31120331,
          10.95375673,
          10.95375673,
          10.95375673,
          10.95375673,
          10.95375673,
          10.31120331,
          10.31120331,
          10.31120331,
          10.31120331,
          10,
          10,
          10,
          10,
          10,
          10
         ],
         "yaxis": "y3"
        },
        {
         "mode": "lines",
         "name": "bitstamp:/BTC:/worth",
         "type": "scatter",
         "uid": "321c3fe7-7849-4196-a1e0-fe124b314c73",
         "xaxis": "x3",
         "y": [
          87409.9,
          94367.41116885,
          94253.9197520535,
          94036.115577288,
          94981.84138918499,
          94594.178034,
          94594.178034,
          94585.8632489445,
          91978.47623660551,
          85203,
          85352.29999999999,
          85463.4,
          92076.4941360715,
          92389.11568207601,
          91919.37346269102,
          91705.34378939882,
          91356.7626666,
          94156.0796957498,
          93944.2143791184,
          92503.93018152562,
          83865.4503376533,
          84188.8096734549,
          84854.8102952478,
          84762.21568952399,
          89102.80210016799,
          89039.96682316139,
          88764.07561551279,
          89153.09195181701,
          90533.95394290179,
          86335.70531463,
          86254.0405844148,
          84345.53996376689,
          84809.64722474999,
          85436.56838599799,
          85308.709464954,
          85556.178344394,
          85375.62917443589,
          85095.47378050319,
          85605.4658962158,
          85540.1959792635,
          85348.4075976975,
          86063.3864352129,
          86184.13062597299,
          86357.35884158101,
          86290.5422441322,
          86270.95095784319,
          91954.41727499191,
          92495.542241439,
          92279.4461481552,
          91209.361297278,
          91541.136261378,
          91698.9505526349,
          91878.33021655829,
          91778.908318983,
          91453.4370792009,
          91801.9113831606,
          91995.5573705403,
          91861.7414683533,
          91530.4088708721,
          91323.1601099643,
          90309.14522802,
          90423.3864073251,
          90692.898269829,
          90192.02866569269,
          89358.0569976,
          89214.6196214541,
          88009.7235434976,
          82224.11299476749,
          82474.159675035,
          82407.0337414869,
          82723.690795137,
          82932.6988862307,
          82135.6428703677,
          83406.8080144245,
          83749.55241244889,
          83603.13332544689,
          83909.78851188629,
          87631.5438225,
          87545.1541305,
          87409.09036559999,
          87253.696907115,
          87654.11312953499,
          87761.02037338499,
          87587.809040925,
          88715.62646998499,
          88888.72981532999,
          84965.65573083029,
          84912.75925785,
          84757.06008786899,
          85055.7756477597,
          84691.068386685,
          84562.07523327689,
          84551.867142,
          84936.47502546299,
          91468.19647427129,
          91609.3763164983,
          91321.12487484899,
          90822.7711483107,
          91487.53922430871,
          91220.7426720687,
          91739.7731314056,
          92989.71497865,
          86084.6275140315,
          85624.1291742069,
          85691.0488836888,
          85686.0995061,
          85478.53498346971,
          85634.44037751689,
          85596.9075974685,
          85718.2704604272,
          84965.0370586317,
          84551.7640299669,
          84830.0634073038,
          84873.57668527201,
          84540.4217063259,
          84715.2997144635,
          85376.6602947669,
          85119.8082203148,
          85277.775855024,
          85008.03477643439,
          84955.24141548721,
          85244.16133223339,
          85400.1698383137,
          86104.94058455221,
          85960.377514146,
          85963.5739871721,
          91038.9724719433,
          91048.6117778657,
          91411.1811256287,
          91761.810878556,
          92900.0157403703,
          87813.9194211516,
          87892.69701444,
          87820.9310394024,
          88248.433528635,
          85219.9,
          84849.3,
          85184.79999999999,
          84889.9,
          84667.2,
          84925.5
         ],
         "yaxis": "y3"
        },
        {
         "mode": "lines",
         "name": "net_worth",
         "type": "scatter",
         "uid": "df5e426b-c637-48ae-be80-38f810ca2956",
         "xaxis": "x3",
         "y": [
          97409.9,
          97367.41116885,
          97253.9197520535,
          97036.115577288,
          97981.84138918499,
          97594.178034,
          97594.178034,
          97585.8632489445,
          94978.47623660551,
          94983.37,
          95132.66999999998,
          95243.76999999999,
          95010.6041360715,
          95323.22568207601,
          94853.48346269102,
          94639.45378939882,
          94290.8726666,
          94449.4896957498,
          94237.62437911841,
          92797.34018152562,
          90788.8703376533,
          91112.2296734549,
          91778.23029524779,
          91685.63568952399,
          91872.17210016798,
          91809.33682316139,
          91533.44561551278,
          91922.46195181701,
          93303.32394290178,
          93309.95531463,
          93228.2905844148,
          91319.78996376689,
          91783.89722474999,
          92410.81838599799,
          92282.959464954,
          92530.428344394,
          92349.87917443589,
          92069.72378050319,
          92579.7158962158,
          92514.4459792635,
          92322.6575976975,
          93037.6364352129,
          93158.38062597299,
          93331.60884158101,
          93264.7922441322,
          93245.20095784319,
          92651.8472749919,
          93192.972241439,
          92976.87614815519,
          91906.79129727799,
          92238.56626137799,
          92396.38055263489,
          92575.76021655828,
          92476.33831898299,
          92150.86707920089,
          92499.34138316059,
          92692.98737054029,
          92559.17146835329,
          92227.83887087209,
          92020.5901099643,
          91006.57522802,
          91120.8164073251,
          91390.328269829,
          90889.45866569268,
          90055.48699759999,
          89912.04962145409,
          88707.1535434976,
          88856.03299476749,
          89106.079675035,
          89038.9537414869,
          89355.61079513699,
          89564.6188862307,
          88767.56287036769,
          90038.7280144245,
          90381.47241244889,
          90235.05332544689,
          90541.70851188629,
          90284.3138225,
          90197.9241305,
          90061.86036559999,
          89906.466907115,
          90306.883129535,
          90413.790373385,
          90240.579040925,
          91368.39646998499,
          91541.49981533,
          91619.27573083028,
          91566.37925785,
          91410.68008786898,
          91709.3956477597,
          91344.688386685,
          91215.69523327689,
          91205.487142,
          91590.09502546299,
          91468.19647427129,
          91609.3763164983,
          91321.12487484899,
          90822.7711483107,
          91487.53922430871,
          91220.7426720687,
          91739.7731314056,
          92989.71497865,
          92800.91751403149,
          92340.4191742069,
          92407.33888368879,
          92402.3895061,
          92194.8249834697,
          92350.73037751688,
          92313.19759746849,
          92434.5604604272,
          91681.3270586317,
          91268.0540299669,
          91546.35340730379,
          91589.866685272,
          91256.71170632589,
          91431.5897144635,
          92092.9502947669,
          91836.09822031479,
          91994.06585502399,
          91724.32477643438,
          91671.5314154872,
          91960.45133223338,
          92116.45983831369,
          92821.2305845522,
          92676.667514146,
          92679.8639871721,
          92382.2324719433,
          92391.8717778657,
          92754.4411256287,
          93105.070878556,
          94243.2757403703,
          94590.3994211516,
          94669.17701443999,
          94597.4110394024,
          95024.91352863499,
          94651.81999999999,
          94281.22,
          94616.71999999999,
          94321.81999999999,
          94099.12,
          94357.42
         ],
         "yaxis": "y3"
        },
        {
         "marker": {
          "color": "DarkGreen"
         },
         "mode": "lines",
         "name": "Net Worth",
         "type": "scatter",
         "uid": "9c96b727-5230-4d89-be49-db2bef7e8edd",
         "xaxis": "x4",
         "y": [
          97409.9,
          97367.41116885,
          97253.9197520535,
          97036.115577288,
          97981.84138918499,
          97594.178034,
          97594.178034,
          97585.8632489445,
          94978.47623660551,
          94983.37,
          95132.66999999998,
          95243.76999999999,
          95010.6041360715,
          95323.22568207601,
          94853.48346269102,
          94639.45378939882,
          94290.8726666,
          94449.4896957498,
          94237.62437911841,
          92797.34018152562,
          90788.8703376533,
          91112.2296734549,
          91778.23029524779,
          91685.63568952399,
          91872.17210016798,
          91809.33682316139,
          91533.44561551278,
          91922.46195181701,
          93303.32394290178,
          93309.95531463,
          93228.2905844148,
          91319.78996376689,
          91783.89722474999,
          92410.81838599799,
          92282.959464954,
          92530.428344394,
          92349.87917443589,
          92069.72378050319,
          92579.7158962158,
          92514.4459792635,
          92322.6575976975,
          93037.6364352129,
          93158.38062597299,
          93331.60884158101,
          93264.7922441322,
          93245.20095784319,
          92651.8472749919,
          93192.972241439,
          92976.87614815519,
          91906.79129727799,
          92238.56626137799,
          92396.38055263489,
          92575.76021655828,
          92476.33831898299,
          92150.86707920089,
          92499.34138316059,
          92692.98737054029,
          92559.17146835329,
          92227.83887087209,
          92020.5901099643,
          91006.57522802,
          91120.8164073251,
          91390.328269829,
          90889.45866569268,
          90055.48699759999,
          89912.04962145409,
          88707.1535434976,
          88856.03299476749,
          89106.079675035,
          89038.9537414869,
          89355.61079513699,
          89564.6188862307,
          88767.56287036769,
          90038.7280144245,
          90381.47241244889,
          90235.05332544689,
          90541.70851188629,
          90284.3138225,
          90197.9241305,
          90061.86036559999,
          89906.466907115,
          90306.883129535,
          90413.790373385,
          90240.579040925,
          91368.39646998499,
          91541.49981533,
          91619.27573083028,
          91566.37925785,
          91410.68008786898,
          91709.3956477597,
          91344.688386685,
          91215.69523327689,
          91205.487142,
          91590.09502546299,
          91468.19647427129,
          91609.3763164983,
          91321.12487484899,
          90822.7711483107,
          91487.53922430871,
          91220.7426720687,
          91739.7731314056,
          92989.71497865,
          92800.91751403149,
          92340.4191742069,
          92407.33888368879,
          92402.3895061,
          92194.8249834697,
          92350.73037751688,
          92313.19759746849,
          92434.5604604272,
          91681.3270586317,
          91268.0540299669,
          91546.35340730379,
          91589.866685272,
          91256.71170632589,
          91431.5897144635,
          92092.9502947669,
          91836.09822031479,
          91994.06585502399,
          91724.32477643438,
          91671.5314154872,
          91960.45133223338,
          92116.45983831369,
          92821.2305845522,
          92676.667514146,
          92679.8639871721,
          92382.2324719433,
          92391.8717778657,
          92754.4411256287,
          93105.070878556,
          94243.2757403703,
          94590.3994211516,
          94669.17701443999,
          94597.4110394024,
          95024.91352863499,
          94651.81999999999,
          94281.22,
          94616.71999999999,
          94321.81999999999,
          94099.12,
          94357.42
         ],
         "yaxis": "y4"
        }
       ],
       "layout": {
        "annotations": [
         {
          "arrowcolor": "FireBrick",
          "arrowhead": 2,
          "arrowsize": 0.8,
          "arrowwidth": 4,
          "ax": 0,
          "ay": -15,
          "hoverlabel": {
           "bgcolor": "FireBrick"
          },
          "hovertext": "Step 20 [2018-05-16 01:00:00]<br>SELL 0.79627569 BTC @ 8326.28 USD MARKET<br>Total: 6630.01 USD - Comm.: 0.00239602 BTC",
          "opacity": 0.6,
          "showarrow": true,
          "x": 19,
          "xref": "x",
          "y": 8326.28,
          "yref": "y"
         },
         {
          "arrowcolor": "DarkGreen",
          "arrowhead": 2,
          "arrowsize": 0.8,
          "arrowwidth": 4,
          "ax": 0,
          "ay": 15,
          "hoverlabel": {
           "bgcolor": "DarkGreen"
          },
          "hovertext": "Step 17 [2018-05-15 22:00:00]<br>BUY 0.31120331 BTC @ 8460.0 USD MARKET<br>Total: 2632.78 USD - Comm.: 7.92 USD",
          "opacity": 0.6,
          "showarrow": true,
          "x": 16,
          "xref": "x",
          "y": 8460,
          "yref": "y"
         },
         {
          "arrowcolor": "DarkGreen",
          "arrowhead": 2,
          "arrowsize": 0.8,
          "arrowwidth": 4,
          "ax": 0,
          "ay": 15,
          "hoverlabel": {
           "bgcolor": "DarkGreen"
          },
          "hovertext": "Step 12 [2018-05-15 17:00:00]<br>BUY 0.79867171 BTC @ 8546.34 USD MARKET<br>Total: 6825.72 USD - Comm.: 20.54 USD",
          "opacity": 0.6,
          "showarrow": true,
          "x": 11,
          "xref": "x",
          "y": 8546.34,
          "yref": "y"
         },
         {
          "arrowcolor": "FireBrick",
          "arrowhead": 2,
          "arrowsize": 0.8,
          "arrowwidth": 4,
          "ax": 0,
          "ay": -15,
          "hoverlabel": {
           "bgcolor": "FireBrick"
          },
          "hovertext": "Step 9 [2018-05-15 14:00:00]<br>SELL 0.79602688 BTC @ 8517.77 USD MARKET<br>Total: 6780.37 USD - Comm.: 0.00239527 BTC",
          "opacity": 0.6,
          "showarrow": true,
          "x": 8,
          "xref": "x",
          "y": 8517.77,
          "yref": "y"
         },
         {
          "arrowcolor": "DarkGreen",
          "arrowhead": 2,
          "arrowsize": 0.8,
          "arrowwidth": 4,
          "ax": 0,
          "ay": 15,
          "hoverlabel": {
           "bgcolor": "DarkGreen"
          },
          "hovertext": "Step 1 [2018-05-15 06:00:00]<br>BUY 0.79842215 BTC @ 8740.99 USD MARKET<br>Total: 6979.0 USD - Comm.: 21.00 USD",
          "opacity": 0.6,
          "showarrow": true,
          "x": 0,
          "xref": "x",
          "y": 8740.99,
          "yref": "y"
         },
         {
          "arrowcolor": "FireBrick",
          "arrowhead": 2,
          "arrowsize": 0.8,
          "arrowwidth": 4,
          "ax": 0,
          "ay": -15,
          "hoverlabel": {
           "bgcolor": "FireBrick"
          },
          "hovertext": "Step 29 [2018-05-16 10:00:00]<br>SELL 0.50230709 BTC @ 8371.13 USD MARKET<br>Total: 4204.88 USD - Comm.: 0.00151146 BTC",
          "opacity": 0.6,
          "showarrow": true,
          "x": 28,
          "xref": "x",
          "y": 8371.13,
          "yref": "y"
         },
         {
          "arrowcolor": "DarkGreen",
          "arrowhead": 2,
          "arrowsize": 0.8,
          "arrowwidth": 4,
          "ax": 0,
          "ay": 15,
          "hoverlabel": {
           "bgcolor": "DarkGreen"
          },
          "hovertext": "Step 24 [2018-05-16 05:00:00]<br>BUY 0.50381855 BTC @ 8220.4 USD MARKET<br>Total: 4141.59 USD - Comm.: 12.46 USD",
          "opacity": 0.6,
          "showarrow": true,
          "x": 23,
          "xref": "x",
          "y": 8220.4,
          "yref": "y"
         },
         {
          "arrowcolor": "DarkGreen",
          "arrowhead": 2,
          "arrowsize": 0.8,
          "arrowwidth": 4,
          "ax": 0,
          "ay": 15,
          "hoverlabel": {
           "bgcolor": "DarkGreen"
          },
          "hovertext": "Step 46 [2018-05-17 03:00:00]<br>BUY 0.74796216 BTC @ 8366.72 USD MARKET<br>Total: 6257.99 USD - Comm.: 18.83 USD",
          "opacity": 0.6,
          "showarrow": true,
          "x": 45,
          "xref": "x",
          "y": 8366.72,
          "yref": "y"
         },
         {
          "arrowcolor": "DarkGreen",
          "arrowhead": 2,
          "arrowsize": 0.8,
          "arrowwidth": 4,
          "ax": 0,
          "ay": 15,
          "hoverlabel": {
           "bgcolor": "DarkGreen"
          },
          "hovertext": "Step 77 [2018-05-18 10:00:00]<br>BUY 0.48750819 BTC @ 8137.73 USD MARKET<br>Total: 3967.21 USD - Comm.: 11.94 USD",
          "opacity": 0.6,
          "showarrow": true,
          "x": 76,
          "xref": "x",
          "y": 8137.73,
          "yref": "y"
         },
         {
          "arrowcolor": "FireBrick",
          "arrowhead": 2,
          "arrowsize": 0.8,
          "arrowwidth": 4,
          "ax": 0,
          "ay": -15,
          "hoverlabel": {
           "bgcolor": "FireBrick"
          },
          "hovertext": "Step 67 [2018-05-18 00:00:00]<br>SELL 0.74571827 BTC @ 7958.08 USD MARKET<br>Total: 5934.49 USD - Comm.: 0.00224389 BTC",
          "opacity": 0.6,
          "showarrow": true,
          "x": 66,
          "xref": "x",
          "y": 7958.08,
          "yref": "y"
         },
         {
          "arrowcolor": "DarkGreen",
          "arrowhead": 2,
          "arrowsize": 0.8,
          "arrowwidth": 4,
          "ax": 0,
          "ay": 15,
          "hoverlabel": {
           "bgcolor": "DarkGreen"
          },
          "hovertext": "Step 94 [2018-05-19 03:00:00]<br>BUY 0.8053197 BTC @ 8237.3 USD MARKET<br>Total: 6633.66 USD - Comm.: 19.96 USD",
          "opacity": 0.6,
          "showarrow": true,
          "x": 93,
          "xref": "x",
          "y": 8237.3,
          "yref": "y"
         },
         {
          "arrowcolor": "FireBrick",
          "arrowhead": 2,
          "arrowsize": 0.8,
          "arrowwidth": 4,
          "ax": 0,
          "ay": -15,
          "hoverlabel": {
           "bgcolor": "FireBrick"
          },
          "hovertext": "Step 86 [2018-05-18 19:00:00]<br>SELL 0.48604567 BTC @ 8231.42 USD MARKET<br>Total: 4000.85 USD - Comm.: 0.00146252 BTC",
          "opacity": 0.6,
          "showarrow": true,
          "x": 85,
          "xref": "x",
          "y": 8231.42,
          "yref": "y"
         },
         {
          "arrowcolor": "FireBrick",
          "arrowhead": 2,
          "arrowsize": 0.8,
          "arrowwidth": 4,
          "ax": 0,
          "ay": -15,
          "hoverlabel": {
           "bgcolor": "FireBrick"
          },
          "hovertext": "Step 102 [2018-05-19 11:00:00]<br>SELL 0.80290374 BTC @ 8365.0 USD MARKET<br>Total: 6716.29 USD - Comm.: 0.00241596 BTC",
          "opacity": 0.6,
          "showarrow": true,
          "x": 101,
          "xref": "x",
          "y": 8365,
          "yref": "y"
         },
         {
          "arrowcolor": "FireBrick",
          "arrowhead": 2,
          "arrowsize": 0.8,
          "arrowwidth": 4,
          "ax": 0,
          "ay": -15,
          "hoverlabel": {
           "bgcolor": "FireBrick"
          },
          "hovertext": "Step 135 [2018-05-20 20:00:00]<br>SELL 0.3102697 BTC @ 8558.5 USD MARKET<br>Total: 2655.44 USD - Comm.: 0.00093361 BTC",
          "opacity": 0.6,
          "showarrow": true,
          "x": 134,
          "xref": "x",
          "y": 8558.5,
          "yref": "y"
         },
         {
          "arrowcolor": "FireBrick",
          "arrowhead": 2,
          "arrowsize": 0.8,
          "arrowwidth": 4,
          "ax": 0,
          "ay": -15,
          "hoverlabel": {
           "bgcolor": "FireBrick"
          },
          "hovertext": "Step 131 [2018-05-20 16:00:00]<br>SELL 0.64062576 BTC @ 8481.11 USD MARKET<br>Total: 5433.22 USD - Comm.: 0.00192766 BTC",
          "opacity": 0.6,
          "showarrow": true,
          "x": 130,
          "xref": "x",
          "y": 8481.11,
          "yref": "y"
         },
         {
          "arrowcolor": "DarkGreen",
          "arrowhead": 2,
          "arrowsize": 0.8,
          "arrowwidth": 4,
          "ax": 0,
          "ay": 15,
          "hoverlabel": {
           "bgcolor": "DarkGreen"
          },
          "hovertext": "Step 126 [2018-05-20 11:00:00]<br>BUY 0.64255342 BTC @ 8336.91 USD MARKET<br>Total: 5356.91 USD - Comm.: 16.12 USD",
          "opacity": 0.6,
          "showarrow": true,
          "x": 125,
          "xref": "x",
          "y": 8336.91,
          "yref": "y"
         }
        ],
        "margin": {
         "t": 50
        },
        "template": {
         "data": {
          "bar": [
           {
            "error_x": {
             "color": "#2a3f5f"
            },
            "error_y": {
             "color": "#2a3f5f"
            },
            "marker": {
             "line": {
              "color": "white",
              "width": 0.5
             },
             "pattern": {
              "fillmode": "overlay",
              "size": 10,
              "solidity": 0.2
             }
            },
            "type": "bar"
           }
          ],
          "barpolar": [
           {
            "marker": {
             "line": {
              "color": "white",
              "width": 0.5
             },
             "pattern": {
              "fillmode": "overlay",
              "size": 10,
              "solidity": 0.2
             }
            },
            "type": "barpolar"
           }
          ],
          "carpet": [
           {
            "aaxis": {
             "endlinecolor": "#2a3f5f",
             "gridcolor": "#C8D4E3",
             "linecolor": "#C8D4E3",
             "minorgridcolor": "#C8D4E3",
             "startlinecolor": "#2a3f5f"
            },
            "baxis": {
             "endlinecolor": "#2a3f5f",
             "gridcolor": "#C8D4E3",
             "linecolor": "#C8D4E3",
             "minorgridcolor": "#C8D4E3",
             "startlinecolor": "#2a3f5f"
            },
            "type": "carpet"
           }
          ],
          "choropleth": [
           {
            "colorbar": {
             "outlinewidth": 0,
             "ticks": ""
            },
            "type": "choropleth"
           }
          ],
          "contour": [
           {
            "colorbar": {
             "outlinewidth": 0,
             "ticks": ""
            },
            "colorscale": [
             [
              0,
              "#0d0887"
             ],
             [
              0.1111111111111111,
              "#46039f"
             ],
             [
              0.2222222222222222,
              "#7201a8"
             ],
             [
              0.3333333333333333,
              "#9c179e"
             ],
             [
              0.4444444444444444,
              "#bd3786"
             ],
             [
              0.5555555555555556,
              "#d8576b"
             ],
             [
              0.6666666666666666,
              "#ed7953"
             ],
             [
              0.7777777777777778,
              "#fb9f3a"
             ],
             [
              0.8888888888888888,
              "#fdca26"
             ],
             [
              1,
              "#f0f921"
             ]
            ],
            "type": "contour"
           }
          ],
          "contourcarpet": [
           {
            "colorbar": {
             "outlinewidth": 0,
             "ticks": ""
            },
            "type": "contourcarpet"
           }
          ],
          "heatmap": [
           {
            "colorbar": {
             "outlinewidth": 0,
             "ticks": ""
            },
            "colorscale": [
             [
              0,
              "#0d0887"
             ],
             [
              0.1111111111111111,
              "#46039f"
             ],
             [
              0.2222222222222222,
              "#7201a8"
             ],
             [
              0.3333333333333333,
              "#9c179e"
             ],
             [
              0.4444444444444444,
              "#bd3786"
             ],
             [
              0.5555555555555556,
              "#d8576b"
             ],
             [
              0.6666666666666666,
              "#ed7953"
             ],
             [
              0.7777777777777778,
              "#fb9f3a"
             ],
             [
              0.8888888888888888,
              "#fdca26"
             ],
             [
              1,
              "#f0f921"
             ]
            ],
            "type": "heatmap"
           }
          ],
          "heatmapgl": [
           {
            "colorbar": {
             "outlinewidth": 0,
             "ticks": ""
            },
            "colorscale": [
             [
              0,
              "#0d0887"
             ],
             [
              0.1111111111111111,
              "#46039f"
             ],
             [
              0.2222222222222222,
              "#7201a8"
             ],
             [
              0.3333333333333333,
              "#9c179e"
             ],
             [
              0.4444444444444444,
              "#bd3786"
             ],
             [
              0.5555555555555556,
              "#d8576b"
             ],
             [
              0.6666666666666666,
              "#ed7953"
             ],
             [
              0.7777777777777778,
              "#fb9f3a"
             ],
             [
              0.8888888888888888,
              "#fdca26"
             ],
             [
              1,
              "#f0f921"
             ]
            ],
            "type": "heatmapgl"
           }
          ],
          "histogram": [
           {
            "marker": {
             "pattern": {
              "fillmode": "overlay",
              "size": 10,
              "solidity": 0.2
             }
            },
            "type": "histogram"
           }
          ],
          "histogram2d": [
           {
            "colorbar": {
             "outlinewidth": 0,
             "ticks": ""
            },
            "colorscale": [
             [
              0,
              "#0d0887"
             ],
             [
              0.1111111111111111,
              "#46039f"
             ],
             [
              0.2222222222222222,
              "#7201a8"
             ],
             [
              0.3333333333333333,
              "#9c179e"
             ],
             [
              0.4444444444444444,
              "#bd3786"
             ],
             [
              0.5555555555555556,
              "#d8576b"
             ],
             [
              0.6666666666666666,
              "#ed7953"
             ],
             [
              0.7777777777777778,
              "#fb9f3a"
             ],
             [
              0.8888888888888888,
              "#fdca26"
             ],
             [
              1,
              "#f0f921"
             ]
            ],
            "type": "histogram2d"
           }
          ],
          "histogram2dcontour": [
           {
            "colorbar": {
             "outlinewidth": 0,
             "ticks": ""
            },
            "colorscale": [
             [
              0,
              "#0d0887"
             ],
             [
              0.1111111111111111,
              "#46039f"
             ],
             [
              0.2222222222222222,
              "#7201a8"
             ],
             [
              0.3333333333333333,
              "#9c179e"
             ],
             [
              0.4444444444444444,
              "#bd3786"
             ],
             [
              0.5555555555555556,
              "#d8576b"
             ],
             [
              0.6666666666666666,
              "#ed7953"
             ],
             [
              0.7777777777777778,
              "#fb9f3a"
             ],
             [
              0.8888888888888888,
              "#fdca26"
             ],
             [
              1,
              "#f0f921"
             ]
            ],
            "type": "histogram2dcontour"
           }
          ],
          "mesh3d": [
           {
            "colorbar": {
             "outlinewidth": 0,
             "ticks": ""
            },
            "type": "mesh3d"
           }
          ],
          "parcoords": [
           {
            "line": {
             "colorbar": {
              "outlinewidth": 0,
              "ticks": ""
             }
            },
            "type": "parcoords"
           }
          ],
          "pie": [
           {
            "automargin": true,
            "type": "pie"
           }
          ],
          "scatter": [
           {
            "fillpattern": {
             "fillmode": "overlay",
             "size": 10,
             "solidity": 0.2
            },
            "type": "scatter"
           }
          ],
          "scatter3d": [
           {
            "line": {
             "colorbar": {
              "outlinewidth": 0,
              "ticks": ""
             }
            },
            "marker": {
             "colorbar": {
              "outlinewidth": 0,
              "ticks": ""
             }
            },
            "type": "scatter3d"
           }
          ],
          "scattercarpet": [
           {
            "marker": {
             "colorbar": {
              "outlinewidth": 0,
              "ticks": ""
             }
            },
            "type": "scattercarpet"
           }
          ],
          "scattergeo": [
           {
            "marker": {
             "colorbar": {
              "outlinewidth": 0,
              "ticks": ""
             }
            },
            "type": "scattergeo"
           }
          ],
          "scattergl": [
           {
            "marker": {
             "colorbar": {
              "outlinewidth": 0,
              "ticks": ""
             }
            },
            "type": "scattergl"
           }
          ],
          "scattermapbox": [
           {
            "marker": {
             "colorbar": {
              "outlinewidth": 0,
              "ticks": ""
             }
            },
            "type": "scattermapbox"
           }
          ],
          "scatterpolar": [
           {
            "marker": {
             "colorbar": {
              "outlinewidth": 0,
              "ticks": ""
             }
            },
            "type": "scatterpolar"
           }
          ],
          "scatterpolargl": [
           {
            "marker": {
             "colorbar": {
              "outlinewidth": 0,
              "ticks": ""
             }
            },
            "type": "scatterpolargl"
           }
          ],
          "scatterternary": [
           {
            "marker": {
             "colorbar": {
              "outlinewidth": 0,
              "ticks": ""
             }
            },
            "type": "scatterternary"
           }
          ],
          "surface": [
           {
            "colorbar": {
             "outlinewidth": 0,
             "ticks": ""
            },
            "colorscale": [
             [
              0,
              "#0d0887"
             ],
             [
              0.1111111111111111,
              "#46039f"
             ],
             [
              0.2222222222222222,
              "#7201a8"
             ],
             [
              0.3333333333333333,
              "#9c179e"
             ],
             [
              0.4444444444444444,
              "#bd3786"
             ],
             [
              0.5555555555555556,
              "#d8576b"
             ],
             [
              0.6666666666666666,
              "#ed7953"
             ],
             [
              0.7777777777777778,
              "#fb9f3a"
             ],
             [
              0.8888888888888888,
              "#fdca26"
             ],
             [
              1,
              "#f0f921"
             ]
            ],
            "type": "surface"
           }
          ],
          "table": [
           {
            "cells": {
             "fill": {
              "color": "#EBF0F8"
             },
             "line": {
              "color": "white"
             }
            },
            "header": {
             "fill": {
              "color": "#C8D4E3"
             },
             "line": {
              "color": "white"
             }
            },
            "type": "table"
           }
          ]
         },
         "layout": {
          "annotationdefaults": {
           "arrowcolor": "#2a3f5f",
           "arrowhead": 0,
           "arrowwidth": 1
          },
          "autotypenumbers": "strict",
          "coloraxis": {
           "colorbar": {
            "outlinewidth": 0,
            "ticks": ""
           }
          },
          "colorscale": {
           "diverging": [
            [
             0,
             "#8e0152"
            ],
            [
             0.1,
             "#c51b7d"
            ],
            [
             0.2,
             "#de77ae"
            ],
            [
             0.3,
             "#f1b6da"
            ],
            [
             0.4,
             "#fde0ef"
            ],
            [
             0.5,
             "#f7f7f7"
            ],
            [
             0.6,
             "#e6f5d0"
            ],
            [
             0.7,
             "#b8e186"
            ],
            [
             0.8,
             "#7fbc41"
            ],
            [
             0.9,
             "#4d9221"
            ],
            [
             1,
             "#276419"
            ]
           ],
           "sequential": [
            [
             0,
             "#0d0887"
            ],
            [
             0.1111111111111111,
             "#46039f"
            ],
            [
             0.2222222222222222,
             "#7201a8"
            ],
            [
             0.3333333333333333,
             "#9c179e"
            ],
            [
             0.4444444444444444,
             "#bd3786"
            ],
            [
             0.5555555555555556,
             "#d8576b"
            ],
            [
             0.6666666666666666,
             "#ed7953"
            ],
            [
             0.7777777777777778,
             "#fb9f3a"
            ],
            [
             0.8888888888888888,
             "#fdca26"
            ],
            [
             1,
             "#f0f921"
            ]
           ],
           "sequentialminus": [
            [
             0,
             "#0d0887"
            ],
            [
             0.1111111111111111,
             "#46039f"
            ],
            [
             0.2222222222222222,
             "#7201a8"
            ],
            [
             0.3333333333333333,
             "#9c179e"
            ],
            [
             0.4444444444444444,
             "#bd3786"
            ],
            [
             0.5555555555555556,
             "#d8576b"
            ],
            [
             0.6666666666666666,
             "#ed7953"
            ],
            [
             0.7777777777777778,
             "#fb9f3a"
            ],
            [
             0.8888888888888888,
             "#fdca26"
            ],
            [
             1,
             "#f0f921"
            ]
           ]
          },
          "colorway": [
           "#636efa",
           "#EF553B",
           "#00cc96",
           "#ab63fa",
           "#FFA15A",
           "#19d3f3",
           "#FF6692",
           "#B6E880",
           "#FF97FF",
           "#FECB52"
          ],
          "font": {
           "color": "#2a3f5f"
          },
          "geo": {
           "bgcolor": "white",
           "lakecolor": "white",
           "landcolor": "white",
           "showlakes": true,
           "showland": true,
           "subunitcolor": "#C8D4E3"
          },
          "hoverlabel": {
           "align": "left"
          },
          "hovermode": "closest",
          "mapbox": {
           "style": "light"
          },
          "paper_bgcolor": "white",
          "plot_bgcolor": "white",
          "polar": {
           "angularaxis": {
            "gridcolor": "#EBF0F8",
            "linecolor": "#EBF0F8",
            "ticks": ""
           },
           "bgcolor": "white",
           "radialaxis": {
            "gridcolor": "#EBF0F8",
            "linecolor": "#EBF0F8",
            "ticks": ""
           }
          },
          "scene": {
           "xaxis": {
            "backgroundcolor": "white",
            "gridcolor": "#DFE8F3",
            "gridwidth": 2,
            "linecolor": "#EBF0F8",
            "showbackground": true,
            "ticks": "",
            "zerolinecolor": "#EBF0F8"
           },
           "yaxis": {
            "backgroundcolor": "white",
            "gridcolor": "#DFE8F3",
            "gridwidth": 2,
            "linecolor": "#EBF0F8",
            "showbackground": true,
            "ticks": "",
            "zerolinecolor": "#EBF0F8"
           },
           "zaxis": {
            "backgroundcolor": "white",
            "gridcolor": "#DFE8F3",
            "gridwidth": 2,
            "linecolor": "#EBF0F8",
            "showbackground": true,
            "ticks": "",
            "zerolinecolor": "#EBF0F8"
           }
          },
          "shapedefaults": {
           "line": {
            "color": "#2a3f5f"
           }
          },
          "ternary": {
           "aaxis": {
            "gridcolor": "#DFE8F3",
            "linecolor": "#A2B1C6",
            "ticks": ""
           },
           "baxis": {
            "gridcolor": "#DFE8F3",
            "linecolor": "#A2B1C6",
            "ticks": ""
           },
           "bgcolor": "white",
           "caxis": {
            "gridcolor": "#DFE8F3",
            "linecolor": "#A2B1C6",
            "ticks": ""
           }
          },
          "title": {
           "x": 0.05
          },
          "xaxis": {
           "automargin": true,
           "gridcolor": "#EBF0F8",
           "linecolor": "#EBF0F8",
           "ticks": "",
           "title": {
            "standoff": 15
           },
           "zerolinecolor": "#EBF0F8",
           "zerolinewidth": 2
          },
          "yaxis": {
           "automargin": true,
           "gridcolor": "#EBF0F8",
           "linecolor": "#EBF0F8",
           "ticks": "",
           "title": {
            "standoff": 15
           },
           "zerolinecolor": "#EBF0F8",
           "zerolinewidth": 2
          }
         }
        },
        "title": {
         "text": "[2022-07-29 01:25:57] Episode: 2/2 Step: 141/200"
        },
        "xaxis": {
         "anchor": "y",
         "domain": [
          0,
          1
         ],
         "gridcolor": "Gainsboro",
         "linecolor": "Grey",
         "matches": "x4",
         "rangeslider": {
          "visible": false
         },
         "showticklabels": false,
         "title": {
          "font": {
           "size": 12
          },
          "standoff": 7,
          "text": "Price"
         }
        },
        "xaxis2": {
         "anchor": "y2",
         "domain": [
          0,
          1
         ],
         "gridcolor": "Gainsboro",
         "linecolor": "Grey",
         "matches": "x4",
         "showticklabels": false,
         "title": {
          "font": {
           "size": 12
          },
          "standoff": 7,
          "text": "Volume"
         }
        },
        "xaxis3": {
         "anchor": "y3",
         "domain": [
          0,
          1
         ],
         "gridcolor": "Gainsboro",
         "linecolor": "Grey",
         "matches": "x4",
         "showticklabels": false,
         "title": {
          "font": {
           "size": 12
          },
          "standoff": 7,
          "text": "Performance"
         }
        },
        "xaxis4": {
         "anchor": "y4",
         "domain": [
          0,
          1
         ],
         "gridcolor": "Gainsboro",
         "linecolor": "Grey",
         "title": {
          "font": {
           "size": 12
          },
          "standoff": 7,
          "text": "Net Worth"
         }
        },
        "yaxis": {
         "anchor": "x",
         "domain": [
          0.49950000000000006,
          1
         ],
         "gridcolor": "Gainsboro",
         "linecolor": "Grey"
        },
        "yaxis2": {
         "anchor": "x2",
         "domain": [
          0.333,
          0.46950000000000003
         ],
         "gridcolor": "Gainsboro",
         "linecolor": "Grey"
        },
        "yaxis3": {
         "anchor": "x3",
         "domain": [
          0.1665,
          0.30300000000000005
         ],
         "gridcolor": "Gainsboro",
         "linecolor": "Grey"
        },
        "yaxis4": {
         "anchor": "x4",
         "domain": [
          0,
          0.1365
         ],
         "gridcolor": "Gainsboro",
         "linecolor": "Grey"
        }
       }
      }
     },
     "metadata": {},
     "output_type": "display_data"
    },
    {
     "data": {
      "application/vnd.jupyter.widget-view+json": {
       "model_id": "5a95dff502e6465b97c42c73d4ef69fb",
       "version_major": 2,
       "version_minor": 0
      },
      "text/plain": [
       "FigureWidget({\n",
       "    'data': [{'close': array([8740.99, 8739.  , 8728.49, 8708.32, 8795.9 , 8760.  , 8760.  , 87…"
      ]
     },
     "metadata": {},
     "output_type": "display_data"
    },
    {
     "data": {
      "application/vnd.plotly.v1+json": {
       "config": {
        "plotlyServerURL": "https://plot.ly"
       },
       "data": [
        {
         "close": [
          8740.99,
          8739,
          8728.49,
          8708.32,
          8795.9,
          8760,
          8760,
          8759.23,
          8517.77,
          8520.3,
          8535.23,
          8546.34,
          8526.65,
          8555.6,
          8512.1,
          8492.28,
          8460,
          8474.99,
          8455.92,
          8326.28,
          8133.43,
          8164.79,
          8229.38,
          8220.4,
          8238.8,
          8232.99,
          8207.48,
          8243.45,
          8371.13,
          8373,
          8365.08,
          8179.99,
          8225,
          8285.8,
          8273.4,
          8297.4,
          8279.89,
          8252.72,
          8302.18,
          8295.85,
          8277.25,
          8346.59,
          8358.3,
          8375.1,
          8368.62,
          8366.72,
          8314.77,
          8363.7,
          8344.16,
          8247.4,
          8277.4,
          8291.67,
          8307.89,
          8298.9,
          8269.47,
          8300.98,
          8318.49,
          8306.39,
          8276.43,
          8257.69,
          8166,
          8176.33,
          8200.7,
          8155.41,
          8080,
          8067.03,
          7958.08,
          7974.25,
          7998.5,
          7991.99,
          8022.7,
          8042.97,
          7965.67,
          8088.95,
          8122.19,
          8107.99,
          8137.73,
          8115,
          8107,
          8094.4,
          8080.01,
          8117.09,
          8126.99,
          8110.95,
          8215.39,
          8231.42,
          8240.13,
          8235,
          8219.9,
          8248.87,
          8213.5,
          8200.99,
          8200,
          8237.3,
          8228.13,
          8240.83,
          8214.9,
          8170.07,
          8229.87,
          8205.87,
          8252.56,
          8365,
          8348.65,
          8303.99,
          8310.48,
          8310,
          8289.87,
          8304.99,
          8301.35,
          8313.12,
          8240.07,
          8199.99,
          8226.98,
          8231.2,
          8198.89,
          8215.85,
          8279.99,
          8255.08,
          8270.4,
          8244.24,
          8239.12,
          8267.14,
          8282.27,
          8350.62,
          8336.6,
          8336.91,
          8311.21,
          8312.09,
          8345.19,
          8377.2,
          8481.11,
          8516.36,
          8524,
          8517.04,
          8558.5,
          8521.99,
          8484.93,
          8518.48,
          8488.99,
          8466.72,
          8492.55,
          8494.28,
          8510.95,
          8498.64,
          8551.1,
          8524.22,
          8510.11,
          8475.62,
          8476.58,
          8467.13,
          8499.84,
          8490.42,
          8407.09,
          8409.42,
          8400.96,
          8383.14,
          8350,
          8373.01,
          8412.8,
          8385.57,
          8408.53
         ],
         "high": [
          8796.68,
          8766,
          8750.27,
          8754.4,
          8865,
          8821.19,
          8798.6,
          8771.02,
          8761.7,
          8553.67,
          8589.1,
          8579.48,
          8555.51,
          8583.6,
          8569.92,
          8555.54,
          8557.51,
          8505,
          8505.33,
          8478.29,
          8339.81,
          8217.44,
          8252.72,
          8248.63,
          8267.12,
          8255,
          8261.24,
          8263.93,
          8455.66,
          8439.44,
          8399.1,
          8381.73,
          8229.91,
          8377.29,
          8329.1,
          8350,
          8346.95,
          8377.29,
          8311.35,
          8319.96,
          8398.24,
          8372.58,
          8399.99,
          8386.53,
          8400,
          8500,
          8381,
          8371.3,
          8382.41,
          8351,
          8292.99,
          8325.8,
          8318.99,
          8324.9,
          8335.56,
          8309.4,
          8377.29,
          8330.41,
          8328.23,
          8284.36,
          8274.83,
          8200,
          8232.14,
          8213.97,
          8155.41,
          8108.28,
          8068.92,
          8019.9,
          8026.66,
          8025,
          8104.69,
          8061.39,
          8045.99,
          8170.71,
          8144.16,
          8139.99,
          8152.99,
          8137.73,
          8143.72,
          8129.99,
          8106.76,
          8139,
          8152.04,
          8146.99,
          8232.14,
          8275.1,
          8256.12,
          8274.1,
          8255.8,
          8253.97,
          8261.09,
          8235.76,
          8227,
          8273.36,
          8264.21,
          8250,
          8250.86,
          8235.77,
          8232.12,
          8232.14,
          8252.72,
          8370,
          8395,
          8374.48,
          8331,
          8319.43,
          8323.4,
          8314.55,
          8330.62,
          8314.8,
          8323.99,
          8263.03,
          8247.78,
          8253.75,
          8237.89,
          8235,
          8279.99,
          8290,
          8278.71,
          8275.34,
          8279.31,
          8279.98,
          8294.04,
          8356.4,
          8374.94,
          8354.83,
          8360.45,
          8337.14,
          8351.97,
          8377.29,
          8549,
          8531.9,
          8551.79,
          8529.9,
          8590,
          8576.1,
          8549.89,
          8531.89,
          8550,
          8493.29,
          8522.98,
          8517,
          8537.29,
          8524.51,
          8589.1,
          8589.07,
          8536.92,
          8524.03,
          8497.8,
          8498,
          8513.5,
          8510,
          8494.7,
          8427.29,
          8419.03,
          8415.47,
          8389.99,
          8397.57,
          8455,
          8429.66,
          8412.61
         ],
         "low": [
          8707.28,
          8721.11,
          8660.53,
          8701.35,
          8695.11,
          8740.54,
          8741.52,
          8700,
          8467.42,
          8477.89,
          8500.78,
          8500,
          8400,
          8451.05,
          8461.38,
          8481.24,
          8420.37,
          8450,
          8430.94,
          8275.02,
          8100.01,
          8122.56,
          8157.01,
          8166.25,
          8176.91,
          8213.79,
          8200,
          8207.48,
          8237.1,
          8370,
          8356.4,
          8145.1,
          8173.6,
          8211.8,
          8201,
          8250.9,
          8266.46,
          8252.72,
          8232.14,
          8268.37,
          8277.25,
          8277.25,
          8314.78,
          8314.77,
          8350.07,
          8331.39,
          8314.77,
          8275.45,
          8335.49,
          8191.14,
          8227.7,
          8264.13,
          8249.93,
          8269.52,
          8219.44,
          8262.68,
          8286.65,
          8289.87,
          8232.14,
          8232.14,
          8110.02,
          8154.95,
          8168.6,
          8151,
          7980,
          8005.95,
          7929.53,
          7931.03,
          7950,
          7980.58,
          7991.99,
          7992.75,
          7953.4,
          7965.67,
          8085.94,
          8078.48,
          8092.9,
          8049.22,
          8079.46,
          8062.12,
          8043.96,
          8063.1,
          8088.46,
          8094.43,
          8088.46,
          8191.14,
          8212,
          8224.5,
          8211,
          8211.01,
          8210.03,
          8158.27,
          8177.65,
          8179.41,
          8221.92,
          8217.32,
          8213.52,
          8141.08,
          8146.1,
          8186.03,
          8197.09,
          8231.21,
          8323.82,
          8296,
          8296.31,
          8282.65,
          8280,
          8273.36,
          8290.08,
          8277.93,
          8240.07,
          8191.14,
          8178,
          8193.7,
          8180,
          8170.71,
          8215.53,
          8240.02,
          8237.17,
          8237.17,
          8239.12,
          8227.79,
          8247.57,
          8274.24,
          8326.1,
          8320.61,
          8281.31,
          8269.85,
          8311.16,
          8336.11,
          8369.86,
          8471.51,
          8511,
          8476.66,
          8507.68,
          8509.24,
          8482.53,
          8484.93,
          8450,
          8434.47,
          8461.1,
          8481,
          8480,
          8488.1,
          8471.09,
          8509.2,
          8482.64,
          8469,
          8440.4,
          8440.52,
          8461.8,
          8480,
          8358.17,
          8380.73,
          8370,
          8383.12,
          8320,
          8349.17,
          8357.11,
          8370.58,
          8367.21
         ],
         "name": "Price",
         "open": [
          8733.86,
          8740.99,
          8739,
          8728.49,
          8708.32,
          8795.9,
          8760,
          8760,
          8759.23,
          8517.77,
          8520.3,
          8535.23,
          8546.34,
          8526.65,
          8555.6,
          8512.1,
          8492.28,
          8460,
          8474.99,
          8455.92,
          8326.28,
          8133.43,
          8164.79,
          8229.38,
          8220.4,
          8238.8,
          8232.99,
          8207.48,
          8243.45,
          8371.13,
          8373,
          8365.08,
          8179.99,
          8225,
          8285.8,
          8273.4,
          8297.4,
          8279.89,
          8252.72,
          8302.18,
          8295.85,
          8277.25,
          8346.59,
          8358.3,
          8375.1,
          8368.62,
          8366.72,
          8314.77,
          8363.7,
          8344.16,
          8247.4,
          8277.4,
          8291.67,
          8307.89,
          8298.9,
          8269.47,
          8300.98,
          8318.49,
          8306.39,
          8276.43,
          8257.69,
          8166,
          8176.33,
          8200.7,
          8155.41,
          8080,
          8067.03,
          7958.08,
          7974.25,
          7998.5,
          7991.99,
          8022.7,
          8042.97,
          7965.67,
          8088.95,
          8122.19,
          8107.99,
          8137.73,
          8115,
          8107,
          8094.4,
          8080.01,
          8117.09,
          8126.99,
          8110.95,
          8215.39,
          8231.42,
          8240.13,
          8235,
          8219.9,
          8248.87,
          8213.5,
          8200.99,
          8200,
          8237.3,
          8228.13,
          8240.83,
          8214.9,
          8170.07,
          8229.87,
          8205.87,
          8252.56,
          8365,
          8348.65,
          8303.99,
          8310.48,
          8310,
          8289.87,
          8304.99,
          8301.35,
          8313.12,
          8240.07,
          8199.99,
          8226.98,
          8231.2,
          8198.89,
          8215.85,
          8279.99,
          8255.08,
          8270.4,
          8244.24,
          8239.12,
          8267.14,
          8282.27,
          8350.62,
          8336.6,
          8336.91,
          8311.21,
          8312.09,
          8345.19,
          8377.2,
          8481.11,
          8516.36,
          8524,
          8517.04,
          8558.5,
          8521.99,
          8484.93,
          8518.48,
          8488.99,
          8466.72,
          8492.55,
          8494.28,
          8510.95,
          8498.64,
          8551.1,
          8524.22,
          8510.11,
          8475.62,
          8476.58,
          8467.13,
          8499.84,
          8490.42,
          8407.09,
          8409.42,
          8400.96,
          8383.14,
          8350,
          8373.01,
          8412.8,
          8385.57
         ],
         "showlegend": false,
         "type": "candlestick",
         "uid": "77128b01-1253-444b-9fba-d16797794175",
         "xaxis": "x",
         "yaxis": "y"
        },
        {
         "marker": {
          "color": "DodgerBlue"
         },
         "name": "Volume",
         "showlegend": false,
         "type": "bar",
         "uid": "9dcecade-0541-4a84-8f61-ce99015e488b",
         "xaxis": "x2",
         "y": [
          559.93,
          273.58,
          917.79,
          182.62,
          1260.69,
          324.11,
          324.2,
          730.67,
          1341.75,
          792.07,
          385.69,
          475.08,
          877.26,
          670.49,
          610.97,
          168.99,
          305.92,
          136.05,
          154.26,
          1070.93,
          1710.2,
          492.8,
          630.72,
          620.93,
          586.34,
          304.52,
          450.97,
          182.36,
          915.32,
          319.29,
          362.01,
          1046.38,
          357.91,
          561.2,
          322.53,
          1073.71,
          237.21,
          251.2,
          359.73,
          117.23,
          363.17,
          214.18,
          171.64,
          258.58,
          299.52,
          718.98,
          119.7,
          405.25,
          210.77,
          714.82,
          215.97,
          164.2,
          201.55,
          203.41,
          886.82,
          95.49,
          499.67,
          172.77,
          355.39,
          255.27,
          591.06,
          133.1,
          149.13,
          87.55,
          1061.54,
          286.94,
          524.42,
          316,
          441.43,
          189.7,
          844.94,
          155.34,
          257.56,
          610.69,
          217.97,
          173.18,
          218.06,
          372.97,
          484.39,
          248.1,
          162.35,
          303.42,
          290.69,
          160.93,
          369.4,
          487.27,
          93.35,
          96.68,
          72.14,
          90.22,
          168.52,
          203.15,
          71.42,
          464.56,
          57,
          89.42,
          49.47,
          200.05,
          254.37,
          65.05,
          118.19,
          452.4,
          181.03,
          288.04,
          145.78,
          110.14,
          55.48,
          80.87,
          67.01,
          59.16,
          121.26,
          244.37,
          156.87,
          80.48,
          139.32,
          93.52,
          200.23,
          97.4,
          68.08,
          47,
          36.65,
          28.75,
          182.85,
          400.18,
          288.1,
          182.94,
          777.81,
          493.59,
          118.63,
          174.37,
          901.75,
          222.45,
          113.8,
          84.2,
          261.44,
          168.78,
          111.07,
          122.12,
          267.32,
          210.39,
          211.36,
          146.22,
          93.39,
          89.04,
          307.59,
          307.2,
          164.24,
          151.21,
          399.77,
          362.01,
          260.85,
          232.32,
          1109.45,
          348.5,
          210.57,
          274.92,
          277.83,
          99.57,
          273.12,
          129.47,
          113.05
         ],
         "yaxis": "y2"
        },
        {
         "mode": "lines",
         "name": "bitstamp:/USD-BTC",
         "type": "scatter",
         "uid": "b3610eea-9870-4a75-8f30-1c3b9b68ccd1",
         "xaxis": "x3",
         "y": [
          8740.99,
          8739,
          8728.49,
          8708.32,
          8795.9,
          8760,
          8760,
          8759.23,
          8517.77,
          8520.3,
          8535.23,
          8546.34,
          8526.65,
          8555.6,
          8512.1,
          8492.28,
          8460,
          8474.99,
          8455.92,
          8326.28,
          8133.43,
          8164.79,
          8229.38,
          8220.4,
          8238.8,
          8232.99,
          8207.48,
          8243.45,
          8371.13,
          8373,
          8365.08,
          8179.99,
          8225,
          8285.8,
          8273.4,
          8297.4,
          8279.89,
          8252.72,
          8302.18,
          8295.85,
          8277.25,
          8346.59,
          8358.3,
          8375.1,
          8368.62,
          8366.72,
          8314.77,
          8363.7,
          8344.16,
          8247.4,
          8277.4,
          8291.67,
          8307.89,
          8298.9,
          8269.47,
          8300.98,
          8318.49,
          8306.39,
          8276.43,
          8257.69,
          8166,
          8176.33,
          8200.7,
          8155.41,
          8080,
          8067.03,
          7958.08,
          7974.25,
          7998.5,
          7991.99,
          8022.7,
          8042.97,
          7965.67,
          8088.95,
          8122.19,
          8107.99,
          8137.73,
          8115,
          8107,
          8094.4,
          8080.01,
          8117.09,
          8126.99,
          8110.95,
          8215.39,
          8231.42,
          8240.13,
          8235,
          8219.9,
          8248.87,
          8213.5,
          8200.99,
          8200,
          8237.3,
          8228.13,
          8240.83,
          8214.9,
          8170.07,
          8229.87,
          8205.87,
          8252.56,
          8365,
          8348.65,
          8303.99,
          8310.48,
          8310,
          8289.87,
          8304.99,
          8301.35,
          8313.12,
          8240.07,
          8199.99,
          8226.98,
          8231.2,
          8198.89,
          8215.85,
          8279.99,
          8255.08,
          8270.4,
          8244.24,
          8239.12,
          8267.14,
          8282.27,
          8350.62,
          8336.6,
          8336.91,
          8311.21,
          8312.09,
          8345.19,
          8377.2,
          8481.11,
          8516.36,
          8524,
          8517.04,
          8558.5,
          8521.99,
          8484.93,
          8518.48,
          8488.99,
          8466.72,
          8492.55,
          8494.28,
          8510.95,
          8498.64,
          8551.1,
          8524.22,
          8510.11,
          8475.62,
          8476.58,
          8467.13,
          8499.84,
          8490.42,
          8407.09,
          8409.42,
          8400.96,
          8383.14,
          8350,
          8373.01,
          8412.8,
          8385.57,
          8408.53
         ],
         "yaxis": "y3"
        },
        {
         "mode": "lines",
         "name": "bitstamp:/USD:/free",
         "type": "scatter",
         "uid": "ea66d02e-e037-4510-a457-e9bd74f24c2b",
         "xaxis": "x3",
         "y": [
          10000,
          3000,
          3000,
          3000,
          3000,
          3000,
          3000,
          3000,
          3000,
          9780.37,
          9780.37,
          9780.37,
          2934.11,
          2934.11,
          2934.11,
          2934.11,
          2934.11,
          293.41,
          293.41,
          293.41,
          6923.42,
          6923.42,
          6923.42,
          6923.42,
          2769.37,
          2769.37,
          2769.37,
          2769.37,
          2769.37,
          6974.25,
          6974.25,
          6974.25,
          6974.25,
          6974.25,
          6974.25,
          6974.25,
          6974.25,
          6974.25,
          6974.25,
          6974.25,
          6974.25,
          6974.25,
          6974.25,
          6974.25,
          6974.25,
          6974.25,
          697.43,
          697.43,
          697.43,
          697.43,
          697.43,
          697.43,
          697.43,
          697.43,
          697.43,
          697.43,
          697.43,
          697.43,
          697.43,
          697.43,
          697.43,
          697.43,
          697.43,
          697.43,
          697.43,
          697.43,
          697.43,
          6631.92,
          6631.92,
          6631.92,
          6631.92,
          6631.92,
          6631.92,
          6631.92,
          6631.92,
          6631.92,
          6631.92,
          2652.77,
          2652.77,
          2652.77,
          2652.77,
          2652.77,
          2652.77,
          2652.77,
          2652.77,
          2652.77,
          6653.62,
          6653.62,
          6653.62,
          6653.62,
          6653.62,
          6653.62,
          6653.62,
          6653.62,
          0,
          0,
          0,
          0,
          0,
          0,
          0,
          0,
          6716.29,
          6716.29,
          6716.29,
          6716.29,
          6716.29,
          6716.29,
          6716.29,
          6716.29,
          6716.29,
          6716.29,
          6716.29,
          6716.29,
          6716.29,
          6716.29,
          6716.29,
          6716.29,
          6716.29,
          6716.29,
          6716.29,
          6716.29,
          6716.29,
          6716.29,
          6716.29,
          6716.29,
          1343.26,
          1343.26,
          1343.26,
          1343.26,
          1343.26,
          6776.48,
          6776.48,
          6776.48,
          6776.48,
          9431.92,
          9431.92,
          9431.92,
          9431.92,
          9431.92,
          9431.92,
          9431.92,
          5659.15,
          5659.15,
          5659.15,
          5659.15,
          5659.15,
          5659.15,
          5659.15,
          5659.15,
          5659.15,
          565.92,
          565.92,
          565.92,
          565.92,
          565.92,
          565.92,
          565.92,
          565.92,
          565.92,
          565.92
         ],
         "yaxis": "y3"
        },
        {
         "mode": "lines",
         "name": "bitstamp:/USD:/locked",
         "type": "scatter",
         "uid": "fb661c40-5608-44f7-99d3-e46afb27d1f9",
         "xaxis": "x3",
         "y": [
          0,
          0,
          0,
          0,
          0,
          0,
          0,
          0,
          0,
          0,
          0,
          0,
          0,
          0,
          0,
          0,
          0,
          0,
          0,
          0,
          0,
          0,
          0,
          0,
          0,
          0,
          0,
          0,
          0,
          0,
          0,
          0,
          0,
          0,
          0,
          0,
          0,
          0,
          0,
          0,
          0,
          0,
          0,
          0,
          0,
          0,
          0,
          0,
          0,
          0,
          0,
          0,
          0,
          0,
          0,
          0,
          0,
          0,
          0,
          0,
          0,
          0,
          0,
          0,
          0,
          0,
          0,
          0,
          0,
          0,
          0,
          0,
          0,
          0,
          0,
          0,
          0,
          0,
          0,
          0,
          0,
          0,
          0,
          0,
          0,
          0,
          0,
          0,
          0,
          0,
          0,
          0,
          0,
          0,
          0,
          0,
          0,
          0,
          0,
          0,
          0,
          0,
          0,
          0,
          0,
          0,
          0,
          0,
          0,
          0,
          0,
          0,
          0,
          0,
          0,
          0,
          0,
          0,
          0,
          0,
          0,
          0,
          0,
          0,
          0,
          0,
          0,
          0,
          0,
          0,
          0,
          0,
          0,
          0,
          0,
          0,
          0,
          0,
          0,
          0,
          0,
          0,
          0,
          0,
          0,
          0,
          0,
          0,
          0,
          0,
          0,
          0,
          0,
          0,
          0,
          0,
          0,
          0,
          0,
          0,
          0
         ],
         "yaxis": "y3"
        },
        {
         "mode": "lines",
         "name": "bitstamp:/USD:/total",
         "type": "scatter",
         "uid": "c0bf27d9-e1c6-4ca9-bee9-36b24eb2e6ef",
         "xaxis": "x3",
         "y": [
          10000,
          3000,
          3000,
          3000,
          3000,
          3000,
          3000,
          3000,
          3000,
          9780.37,
          9780.37,
          9780.37,
          2934.11,
          2934.11,
          2934.11,
          2934.11,
          2934.11,
          293.41,
          293.41,
          293.41,
          6923.42,
          6923.42,
          6923.42,
          6923.42,
          2769.37,
          2769.37,
          2769.37,
          2769.37,
          2769.37,
          6974.25,
          6974.25,
          6974.25,
          6974.25,
          6974.25,
          6974.25,
          6974.25,
          6974.25,
          6974.25,
          6974.25,
          6974.25,
          6974.25,
          6974.25,
          6974.25,
          6974.25,
          6974.25,
          6974.25,
          697.43,
          697.43,
          697.43,
          697.43,
          697.43,
          697.43,
          697.43,
          697.43,
          697.43,
          697.43,
          697.43,
          697.43,
          697.43,
          697.43,
          697.43,
          697.43,
          697.43,
          697.43,
          697.43,
          697.43,
          697.43,
          6631.92,
          6631.92,
          6631.92,
          6631.92,
          6631.92,
          6631.92,
          6631.92,
          6631.92,
          6631.92,
          6631.92,
          2652.77,
          2652.77,
          2652.77,
          2652.77,
          2652.77,
          2652.77,
          2652.77,
          2652.77,
          2652.77,
          6653.62,
          6653.62,
          6653.62,
          6653.62,
          6653.62,
          6653.62,
          6653.62,
          6653.62,
          0,
          0,
          0,
          0,
          0,
          0,
          0,
          0,
          6716.29,
          6716.29,
          6716.29,
          6716.29,
          6716.29,
          6716.29,
          6716.29,
          6716.29,
          6716.29,
          6716.29,
          6716.29,
          6716.29,
          6716.29,
          6716.29,
          6716.29,
          6716.29,
          6716.29,
          6716.29,
          6716.29,
          6716.29,
          6716.29,
          6716.29,
          6716.29,
          6716.29,
          1343.26,
          1343.26,
          1343.26,
          1343.26,
          1343.26,
          6776.48,
          6776.48,
          6776.48,
          6776.48,
          9431.92,
          9431.92,
          9431.92,
          9431.92,
          9431.92,
          9431.92,
          9431.92,
          5659.15,
          5659.15,
          5659.15,
          5659.15,
          5659.15,
          5659.15,
          5659.15,
          5659.15,
          5659.15,
          565.92,
          565.92,
          565.92,
          565.92,
          565.92,
          565.92,
          565.92,
          565.92,
          565.92,
          565.92
         ],
         "yaxis": "y3"
        },
        {
         "mode": "lines",
         "name": "bitstamp:/BTC:/free",
         "type": "scatter",
         "uid": "aba4850a-d13f-43a5-b660-59886fc23ede",
         "xaxis": "x3",
         "y": [
          10,
          10,
          10,
          10,
          10,
          10,
          10,
          10,
          10,
          10,
          10,
          10,
          10,
          10,
          10,
          10,
          10,
          10,
          10,
          10,
          10,
          10,
          10,
          10,
          10,
          10,
          10,
          10,
          10,
          10,
          10,
          10,
          10,
          10,
          10,
          10,
          10,
          10,
          10,
          10,
          10,
          10,
          10,
          10,
          10,
          10,
          10,
          10,
          10,
          10,
          10,
          10,
          10,
          10,
          10,
          10,
          10,
          10,
          10,
          10,
          10,
          10,
          10,
          10,
          10,
          10,
          10,
          10,
          10,
          10,
          10,
          10,
          10,
          10,
          10,
          10,
          10,
          10,
          10,
          10,
          10,
          10,
          10,
          10,
          10,
          10,
          10,
          10,
          10,
          10,
          10,
          10,
          10,
          10,
          10,
          10,
          10,
          10,
          10,
          10,
          10,
          10,
          10,
          10,
          10,
          10,
          10,
          10,
          10,
          10,
          10,
          10,
          10,
          10,
          10,
          10,
          10,
          10,
          10,
          10,
          10,
          10,
          10,
          10,
          10,
          10,
          10,
          10,
          10,
          10,
          10,
          10,
          10,
          10,
          10,
          10,
          10,
          10,
          10,
          10,
          10,
          10,
          10,
          10,
          10,
          10,
          10,
          10,
          10,
          10,
          10,
          10,
          10,
          10,
          10,
          10,
          10,
          10,
          10,
          10,
          10
         ],
         "yaxis": "y3"
        },
        {
         "mode": "lines",
         "name": "bitstamp:/BTC:/locked",
         "type": "scatter",
         "uid": "9b3ce381-607d-44b8-aab1-3bf1923665b6",
         "xaxis": "x3",
         "y": [
          0,
          0.79842215,
          0.79842215,
          0.79842215,
          0.79842215,
          0.79842215,
          0.79842215,
          0.79842215,
          0.79842215,
          0,
          0,
          0,
          0.79867171,
          0.79867171,
          0.79867171,
          0.79867171,
          0.79867171,
          1.10987502,
          1.10987502,
          1.10987502,
          0.31120331,
          0.31120331,
          0.31120331,
          0.31120331,
          0.81502186,
          0.81502186,
          0.81502186,
          0.81502186,
          0.81502186,
          0.31120331,
          0.31120331,
          0.31120331,
          0.31120331,
          0.31120331,
          0.31120331,
          0.31120331,
          0.31120331,
          0.31120331,
          0.31120331,
          0.31120331,
          0.31120331,
          0.31120331,
          0.31120331,
          0.31120331,
          0.31120331,
          0.31120331,
          1.05916547,
          1.05916547,
          1.05916547,
          1.05916547,
          1.05916547,
          1.05916547,
          1.05916547,
          1.05916547,
          1.05916547,
          1.05916547,
          1.05916547,
          1.05916547,
          1.05916547,
          1.05916547,
          1.05916547,
          1.05916547,
          1.05916547,
          1.05916547,
          1.05916547,
          1.05916547,
          1.05916547,
          0.31120331,
          0.31120331,
          0.31120331,
          0.31120331,
          0.31120331,
          0.31120331,
          0.31120331,
          0.31120331,
          0.31120331,
          0.31120331,
          0.7987115,
          0.7987115,
          0.7987115,
          0.7987115,
          0.7987115,
          0.7987115,
          0.7987115,
          0.7987115,
          0.7987115,
          0.31120331,
          0.31120331,
          0.31120331,
          0.31120331,
          0.31120331,
          0.31120331,
          0.31120331,
          0.31120331,
          1.11652301,
          1.11652301,
          1.11652301,
          1.11652301,
          1.11652301,
          1.11652301,
          1.11652301,
          1.11652301,
          0.31120331,
          0.31120331,
          0.31120331,
          0.31120331,
          0.31120331,
          0.31120331,
          0.31120331,
          0.31120331,
          0.31120331,
          0.31120331,
          0.31120331,
          0.31120331,
          0.31120331,
          0.31120331,
          0.31120331,
          0.31120331,
          0.31120331,
          0.31120331,
          0.31120331,
          0.31120331,
          0.31120331,
          0.31120331,
          0.31120331,
          0.31120331,
          0.95375673,
          0.95375673,
          0.95375673,
          0.95375673,
          0.95375673,
          0.31120331,
          0.31120331,
          0.31120331,
          0.31120331,
          0,
          0,
          0,
          0,
          0,
          0,
          0,
          0.44282152,
          0.44282152,
          0.44282152,
          0.44282152,
          0.44282152,
          0.44282152,
          0.44282152,
          0.44282152,
          0.44282152,
          1.04023865,
          1.04023865,
          1.04023865,
          1.04023865,
          1.04023865,
          1.04023865,
          1.04023865,
          1.04023865,
          1.04023865,
          1.04023865
         ],
         "yaxis": "y3"
        },
        {
         "mode": "lines",
         "name": "bitstamp:/BTC:/total",
         "type": "scatter",
         "uid": "5557485e-c34e-494d-8bee-8951c37f8554",
         "xaxis": "x3",
         "y": [
          10,
          10.79842215,
          10.79842215,
          10.79842215,
          10.79842215,
          10.79842215,
          10.79842215,
          10.79842215,
          10.79842215,
          10,
          10,
          10,
          10.79867171,
          10.79867171,
          10.79867171,
          10.79867171,
          10.79867171,
          11.10987502,
          11.10987502,
          11.10987502,
          10.31120331,
          10.31120331,
          10.31120331,
          10.31120331,
          10.81502186,
          10.81502186,
          10.81502186,
          10.81502186,
          10.81502186,
          10.31120331,
          10.31120331,
          10.31120331,
          10.31120331,
          10.31120331,
          10.31120331,
          10.31120331,
          10.31120331,
          10.31120331,
          10.31120331,
          10.31120331,
          10.31120331,
          10.31120331,
          10.31120331,
          10.31120331,
          10.31120331,
          10.31120331,
          11.05916547,
          11.05916547,
          11.05916547,
          11.05916547,
          11.05916547,
          11.05916547,
          11.05916547,
          11.05916547,
          11.05916547,
          11.05916547,
          11.05916547,
          11.05916547,
          11.05916547,
          11.05916547,
          11.05916547,
          11.05916547,
          11.05916547,
          11.05916547,
          11.05916547,
          11.05916547,
          11.05916547,
          10.31120331,
          10.31120331,
          10.31120331,
          10.31120331,
          10.31120331,
          10.31120331,
          10.31120331,
          10.31120331,
          10.31120331,
          10.31120331,
          10.7987115,
          10.7987115,
          10.7987115,
          10.7987115,
          10.7987115,
          10.7987115,
          10.7987115,
          10.7987115,
          10.7987115,
          10.31120331,
          10.31120331,
          10.31120331,
          10.31120331,
          10.31120331,
          10.31120331,
          10.31120331,
          10.31120331,
          11.11652301,
          11.11652301,
          11.11652301,
          11.11652301,
          11.11652301,
          11.11652301,
          11.11652301,
          11.11652301,
          10.31120331,
          10.31120331,
          10.31120331,
          10.31120331,
          10.31120331,
          10.31120331,
          10.31120331,
          10.31120331,
          10.31120331,
          10.31120331,
          10.31120331,
          10.31120331,
          10.31120331,
          10.31120331,
          10.31120331,
          10.31120331,
          10.31120331,
          10.31120331,
          10.31120331,
          10.31120331,
          10.31120331,
          10.31120331,
          10.31120331,
          10.31120331,
          10.95375673,
          10.95375673,
          10.95375673,
          10.95375673,
          10.95375673,
          10.31120331,
          10.31120331,
          10.31120331,
          10.31120331,
          10,
          10,
          10,
          10,
          10,
          10,
          10,
          10.44282152,
          10.44282152,
          10.44282152,
          10.44282152,
          10.44282152,
          10.44282152,
          10.44282152,
          10.44282152,
          10.44282152,
          11.04023865,
          11.04023865,
          11.04023865,
          11.04023865,
          11.04023865,
          11.04023865,
          11.04023865,
          11.04023865,
          11.04023865,
          11.04023865
         ],
         "yaxis": "y3"
        },
        {
         "mode": "lines",
         "name": "bitstamp:/BTC:/worth",
         "type": "scatter",
         "uid": "321c3fe7-7849-4196-a1e0-fe124b314c73",
         "xaxis": "x3",
         "y": [
          87409.9,
          94367.41116885,
          94253.9197520535,
          94036.115577288,
          94981.84138918499,
          94594.178034,
          94594.178034,
          94585.8632489445,
          91978.47623660551,
          85203,
          85352.29999999999,
          85463.4,
          92076.4941360715,
          92389.11568207601,
          91919.37346269102,
          91705.34378939882,
          91356.7626666,
          94156.0796957498,
          93944.2143791184,
          92503.93018152562,
          83865.4503376533,
          84188.8096734549,
          84854.8102952478,
          84762.21568952399,
          89102.80210016799,
          89039.96682316139,
          88764.07561551279,
          89153.09195181701,
          90533.95394290179,
          86335.70531463,
          86254.0405844148,
          84345.53996376689,
          84809.64722474999,
          85436.56838599799,
          85308.709464954,
          85556.178344394,
          85375.62917443589,
          85095.47378050319,
          85605.4658962158,
          85540.1959792635,
          85348.4075976975,
          86063.3864352129,
          86184.13062597299,
          86357.35884158101,
          86290.5422441322,
          86270.95095784319,
          91954.41727499191,
          92495.542241439,
          92279.4461481552,
          91209.361297278,
          91541.136261378,
          91698.9505526349,
          91878.33021655829,
          91778.908318983,
          91453.4370792009,
          91801.9113831606,
          91995.5573705403,
          91861.7414683533,
          91530.4088708721,
          91323.1601099643,
          90309.14522802,
          90423.3864073251,
          90692.898269829,
          90192.02866569269,
          89358.0569976,
          89214.6196214541,
          88009.7235434976,
          82224.11299476749,
          82474.159675035,
          82407.0337414869,
          82723.690795137,
          82932.6988862307,
          82135.6428703677,
          83406.8080144245,
          83749.55241244889,
          83603.13332544689,
          83909.78851188629,
          87631.5438225,
          87545.1541305,
          87409.09036559999,
          87253.696907115,
          87654.11312953499,
          87761.02037338499,
          87587.809040925,
          88715.62646998499,
          88888.72981532999,
          84965.65573083029,
          84912.75925785,
          84757.06008786899,
          85055.7756477597,
          84691.068386685,
          84562.07523327689,
          84551.867142,
          84936.47502546299,
          91468.19647427129,
          91609.3763164983,
          91321.12487484899,
          90822.7711483107,
          91487.53922430871,
          91220.7426720687,
          91739.7731314056,
          92989.71497865,
          86084.6275140315,
          85624.1291742069,
          85691.0488836888,
          85686.0995061,
          85478.53498346971,
          85634.44037751689,
          85596.9075974685,
          85718.2704604272,
          84965.0370586317,
          84551.7640299669,
          84830.0634073038,
          84873.57668527201,
          84540.4217063259,
          84715.2997144635,
          85376.6602947669,
          85119.8082203148,
          85277.775855024,
          85008.03477643439,
          84955.24141548721,
          85244.16133223339,
          85400.1698383137,
          86104.94058455221,
          85960.377514146,
          85963.5739871721,
          91038.9724719433,
          91048.6117778657,
          91411.1811256287,
          91761.810878556,
          92900.0157403703,
          87813.9194211516,
          87892.69701444,
          87820.9310394024,
          88248.433528635,
          85219.9,
          84849.3,
          85184.79999999999,
          84889.9,
          84667.2,
          84925.5,
          84942.8,
          88878.33181564401,
          88749.7806827328,
          89297.61109967201,
          89016.9080572144,
          88869.55984556722,
          88509.38693134241,
          88519.41204000161,
          88420.7273766376,
          88762.31206855681,
          93736.263038733,
          92816.27995202849,
          92842.003708083,
          92748.60328910398,
          92551.86623636099,
          92185.9927275,
          92440.0286188365,
          92879.31971471998,
          92578.6940162805,
          92832.1778956845
         ],
         "yaxis": "y3"
        },
        {
         "mode": "lines",
         "name": "net_worth",
         "type": "scatter",
         "uid": "df5e426b-c637-48ae-be80-38f810ca2956",
         "xaxis": "x3",
         "y": [
          97409.9,
          97367.41116885,
          97253.9197520535,
          97036.115577288,
          97981.84138918499,
          97594.178034,
          97594.178034,
          97585.8632489445,
          94978.47623660551,
          94983.37,
          95132.66999999998,
          95243.76999999999,
          95010.6041360715,
          95323.22568207601,
          94853.48346269102,
          94639.45378939882,
          94290.8726666,
          94449.4896957498,
          94237.62437911841,
          92797.34018152562,
          90788.8703376533,
          91112.2296734549,
          91778.23029524779,
          91685.63568952399,
          91872.17210016798,
          91809.33682316139,
          91533.44561551278,
          91922.46195181701,
          93303.32394290178,
          93309.95531463,
          93228.2905844148,
          91319.78996376689,
          91783.89722474999,
          92410.81838599799,
          92282.959464954,
          92530.428344394,
          92349.87917443589,
          92069.72378050319,
          92579.7158962158,
          92514.4459792635,
          92322.6575976975,
          93037.6364352129,
          93158.38062597299,
          93331.60884158101,
          93264.7922441322,
          93245.20095784319,
          92651.8472749919,
          93192.972241439,
          92976.87614815519,
          91906.79129727799,
          92238.56626137799,
          92396.38055263489,
          92575.76021655828,
          92476.33831898299,
          92150.86707920089,
          92499.34138316059,
          92692.98737054029,
          92559.17146835329,
          92227.83887087209,
          92020.5901099643,
          91006.57522802,
          91120.8164073251,
          91390.328269829,
          90889.45866569268,
          90055.48699759999,
          89912.04962145409,
          88707.1535434976,
          88856.03299476749,
          89106.079675035,
          89038.9537414869,
          89355.61079513699,
          89564.6188862307,
          88767.56287036769,
          90038.7280144245,
          90381.47241244889,
          90235.05332544689,
          90541.70851188629,
          90284.3138225,
          90197.9241305,
          90061.86036559999,
          89906.466907115,
          90306.883129535,
          90413.790373385,
          90240.579040925,
          91368.39646998499,
          91541.49981533,
          91619.27573083028,
          91566.37925785,
          91410.68008786898,
          91709.3956477597,
          91344.688386685,
          91215.69523327689,
          91205.487142,
          91590.09502546299,
          91468.19647427129,
          91609.3763164983,
          91321.12487484899,
          90822.7711483107,
          91487.53922430871,
          91220.7426720687,
          91739.7731314056,
          92989.71497865,
          92800.91751403149,
          92340.4191742069,
          92407.33888368879,
          92402.3895061,
          92194.8249834697,
          92350.73037751688,
          92313.19759746849,
          92434.5604604272,
          91681.3270586317,
          91268.0540299669,
          91546.35340730379,
          91589.866685272,
          91256.71170632589,
          91431.5897144635,
          92092.9502947669,
          91836.09822031479,
          91994.06585502399,
          91724.32477643438,
          91671.5314154872,
          91960.45133223338,
          92116.45983831369,
          92821.2305845522,
          92676.667514146,
          92679.8639871721,
          92382.2324719433,
          92391.8717778657,
          92754.4411256287,
          93105.070878556,
          94243.2757403703,
          94590.3994211516,
          94669.17701443999,
          94597.4110394024,
          95024.91352863499,
          94651.81999999999,
          94281.22,
          94616.71999999999,
          94321.81999999999,
          94099.12,
          94357.42,
          94374.72,
          94537.481815644,
          94408.9306827328,
          94956.761099672,
          94676.0580572144,
          94528.70984556721,
          94168.5369313424,
          94178.5620400016,
          94079.8773766376,
          94421.46206855681,
          94302.183038733,
          93382.19995202849,
          93407.92370808299,
          93314.52328910398,
          93117.78623636099,
          92751.91272749999,
          93005.9486188365,
          93445.23971471998,
          93144.6140162805,
          93398.09789568449
         ],
         "yaxis": "y3"
        },
        {
         "marker": {
          "color": "DarkGreen"
         },
         "mode": "lines",
         "name": "Net Worth",
         "type": "scatter",
         "uid": "9c96b727-5230-4d89-be49-db2bef7e8edd",
         "xaxis": "x4",
         "y": [
          97409.9,
          97367.41116885,
          97253.9197520535,
          97036.115577288,
          97981.84138918499,
          97594.178034,
          97594.178034,
          97585.8632489445,
          94978.47623660551,
          94983.37,
          95132.66999999998,
          95243.76999999999,
          95010.6041360715,
          95323.22568207601,
          94853.48346269102,
          94639.45378939882,
          94290.8726666,
          94449.4896957498,
          94237.62437911841,
          92797.34018152562,
          90788.8703376533,
          91112.2296734549,
          91778.23029524779,
          91685.63568952399,
          91872.17210016798,
          91809.33682316139,
          91533.44561551278,
          91922.46195181701,
          93303.32394290178,
          93309.95531463,
          93228.2905844148,
          91319.78996376689,
          91783.89722474999,
          92410.81838599799,
          92282.959464954,
          92530.428344394,
          92349.87917443589,
          92069.72378050319,
          92579.7158962158,
          92514.4459792635,
          92322.6575976975,
          93037.6364352129,
          93158.38062597299,
          93331.60884158101,
          93264.7922441322,
          93245.20095784319,
          92651.8472749919,
          93192.972241439,
          92976.87614815519,
          91906.79129727799,
          92238.56626137799,
          92396.38055263489,
          92575.76021655828,
          92476.33831898299,
          92150.86707920089,
          92499.34138316059,
          92692.98737054029,
          92559.17146835329,
          92227.83887087209,
          92020.5901099643,
          91006.57522802,
          91120.8164073251,
          91390.328269829,
          90889.45866569268,
          90055.48699759999,
          89912.04962145409,
          88707.1535434976,
          88856.03299476749,
          89106.079675035,
          89038.9537414869,
          89355.61079513699,
          89564.6188862307,
          88767.56287036769,
          90038.7280144245,
          90381.47241244889,
          90235.05332544689,
          90541.70851188629,
          90284.3138225,
          90197.9241305,
          90061.86036559999,
          89906.466907115,
          90306.883129535,
          90413.790373385,
          90240.579040925,
          91368.39646998499,
          91541.49981533,
          91619.27573083028,
          91566.37925785,
          91410.68008786898,
          91709.3956477597,
          91344.688386685,
          91215.69523327689,
          91205.487142,
          91590.09502546299,
          91468.19647427129,
          91609.3763164983,
          91321.12487484899,
          90822.7711483107,
          91487.53922430871,
          91220.7426720687,
          91739.7731314056,
          92989.71497865,
          92800.91751403149,
          92340.4191742069,
          92407.33888368879,
          92402.3895061,
          92194.8249834697,
          92350.73037751688,
          92313.19759746849,
          92434.5604604272,
          91681.3270586317,
          91268.0540299669,
          91546.35340730379,
          91589.866685272,
          91256.71170632589,
          91431.5897144635,
          92092.9502947669,
          91836.09822031479,
          91994.06585502399,
          91724.32477643438,
          91671.5314154872,
          91960.45133223338,
          92116.45983831369,
          92821.2305845522,
          92676.667514146,
          92679.8639871721,
          92382.2324719433,
          92391.8717778657,
          92754.4411256287,
          93105.070878556,
          94243.2757403703,
          94590.3994211516,
          94669.17701443999,
          94597.4110394024,
          95024.91352863499,
          94651.81999999999,
          94281.22,
          94616.71999999999,
          94321.81999999999,
          94099.12,
          94357.42,
          94374.72,
          94537.481815644,
          94408.9306827328,
          94956.761099672,
          94676.0580572144,
          94528.70984556721,
          94168.5369313424,
          94178.5620400016,
          94079.8773766376,
          94421.46206855681,
          94302.183038733,
          93382.19995202849,
          93407.92370808299,
          93314.52328910398,
          93117.78623636099,
          92751.91272749999,
          93005.9486188365,
          93445.23971471998,
          93144.6140162805,
          93398.09789568449
         ],
         "yaxis": "y4"
        }
       ],
       "layout": {
        "annotations": [
         {
          "arrowcolor": "FireBrick",
          "arrowhead": 2,
          "arrowsize": 0.8,
          "arrowwidth": 4,
          "ax": 0,
          "ay": -15,
          "hoverlabel": {
           "bgcolor": "FireBrick"
          },
          "hovertext": "Step 20 [2018-05-16 01:00:00]<br>SELL 0.79627569 BTC @ 8326.28 USD MARKET<br>Total: 6630.01 USD - Comm.: 0.00239602 BTC",
          "opacity": 0.6,
          "showarrow": true,
          "x": 19,
          "xref": "x",
          "y": 8326.28,
          "yref": "y"
         },
         {
          "arrowcolor": "DarkGreen",
          "arrowhead": 2,
          "arrowsize": 0.8,
          "arrowwidth": 4,
          "ax": 0,
          "ay": 15,
          "hoverlabel": {
           "bgcolor": "DarkGreen"
          },
          "hovertext": "Step 17 [2018-05-15 22:00:00]<br>BUY 0.31120331 BTC @ 8460.0 USD MARKET<br>Total: 2632.78 USD - Comm.: 7.92 USD",
          "opacity": 0.6,
          "showarrow": true,
          "x": 16,
          "xref": "x",
          "y": 8460,
          "yref": "y"
         },
         {
          "arrowcolor": "DarkGreen",
          "arrowhead": 2,
          "arrowsize": 0.8,
          "arrowwidth": 4,
          "ax": 0,
          "ay": 15,
          "hoverlabel": {
           "bgcolor": "DarkGreen"
          },
          "hovertext": "Step 12 [2018-05-15 17:00:00]<br>BUY 0.79867171 BTC @ 8546.34 USD MARKET<br>Total: 6825.72 USD - Comm.: 20.54 USD",
          "opacity": 0.6,
          "showarrow": true,
          "x": 11,
          "xref": "x",
          "y": 8546.34,
          "yref": "y"
         },
         {
          "arrowcolor": "FireBrick",
          "arrowhead": 2,
          "arrowsize": 0.8,
          "arrowwidth": 4,
          "ax": 0,
          "ay": -15,
          "hoverlabel": {
           "bgcolor": "FireBrick"
          },
          "hovertext": "Step 9 [2018-05-15 14:00:00]<br>SELL 0.79602688 BTC @ 8517.77 USD MARKET<br>Total: 6780.37 USD - Comm.: 0.00239527 BTC",
          "opacity": 0.6,
          "showarrow": true,
          "x": 8,
          "xref": "x",
          "y": 8517.77,
          "yref": "y"
         },
         {
          "arrowcolor": "DarkGreen",
          "arrowhead": 2,
          "arrowsize": 0.8,
          "arrowwidth": 4,
          "ax": 0,
          "ay": 15,
          "hoverlabel": {
           "bgcolor": "DarkGreen"
          },
          "hovertext": "Step 1 [2018-05-15 06:00:00]<br>BUY 0.79842215 BTC @ 8740.99 USD MARKET<br>Total: 6979.0 USD - Comm.: 21.00 USD",
          "opacity": 0.6,
          "showarrow": true,
          "x": 0,
          "xref": "x",
          "y": 8740.99,
          "yref": "y"
         },
         {
          "arrowcolor": "FireBrick",
          "arrowhead": 2,
          "arrowsize": 0.8,
          "arrowwidth": 4,
          "ax": 0,
          "ay": -15,
          "hoverlabel": {
           "bgcolor": "FireBrick"
          },
          "hovertext": "Step 29 [2018-05-16 10:00:00]<br>SELL 0.50230709 BTC @ 8371.13 USD MARKET<br>Total: 4204.88 USD - Comm.: 0.00151146 BTC",
          "opacity": 0.6,
          "showarrow": true,
          "x": 28,
          "xref": "x",
          "y": 8371.13,
          "yref": "y"
         },
         {
          "arrowcolor": "DarkGreen",
          "arrowhead": 2,
          "arrowsize": 0.8,
          "arrowwidth": 4,
          "ax": 0,
          "ay": 15,
          "hoverlabel": {
           "bgcolor": "DarkGreen"
          },
          "hovertext": "Step 24 [2018-05-16 05:00:00]<br>BUY 0.50381855 BTC @ 8220.4 USD MARKET<br>Total: 4141.59 USD - Comm.: 12.46 USD",
          "opacity": 0.6,
          "showarrow": true,
          "x": 23,
          "xref": "x",
          "y": 8220.4,
          "yref": "y"
         },
         {
          "arrowcolor": "DarkGreen",
          "arrowhead": 2,
          "arrowsize": 0.8,
          "arrowwidth": 4,
          "ax": 0,
          "ay": 15,
          "hoverlabel": {
           "bgcolor": "DarkGreen"
          },
          "hovertext": "Step 46 [2018-05-17 03:00:00]<br>BUY 0.74796216 BTC @ 8366.72 USD MARKET<br>Total: 6257.99 USD - Comm.: 18.83 USD",
          "opacity": 0.6,
          "showarrow": true,
          "x": 45,
          "xref": "x",
          "y": 8366.72,
          "yref": "y"
         },
         {
          "arrowcolor": "DarkGreen",
          "arrowhead": 2,
          "arrowsize": 0.8,
          "arrowwidth": 4,
          "ax": 0,
          "ay": 15,
          "hoverlabel": {
           "bgcolor": "DarkGreen"
          },
          "hovertext": "Step 77 [2018-05-18 10:00:00]<br>BUY 0.48750819 BTC @ 8137.73 USD MARKET<br>Total: 3967.21 USD - Comm.: 11.94 USD",
          "opacity": 0.6,
          "showarrow": true,
          "x": 76,
          "xref": "x",
          "y": 8137.73,
          "yref": "y"
         },
         {
          "arrowcolor": "FireBrick",
          "arrowhead": 2,
          "arrowsize": 0.8,
          "arrowwidth": 4,
          "ax": 0,
          "ay": -15,
          "hoverlabel": {
           "bgcolor": "FireBrick"
          },
          "hovertext": "Step 67 [2018-05-18 00:00:00]<br>SELL 0.74571827 BTC @ 7958.08 USD MARKET<br>Total: 5934.49 USD - Comm.: 0.00224389 BTC",
          "opacity": 0.6,
          "showarrow": true,
          "x": 66,
          "xref": "x",
          "y": 7958.08,
          "yref": "y"
         },
         {
          "arrowcolor": "DarkGreen",
          "arrowhead": 2,
          "arrowsize": 0.8,
          "arrowwidth": 4,
          "ax": 0,
          "ay": 15,
          "hoverlabel": {
           "bgcolor": "DarkGreen"
          },
          "hovertext": "Step 94 [2018-05-19 03:00:00]<br>BUY 0.8053197 BTC @ 8237.3 USD MARKET<br>Total: 6633.66 USD - Comm.: 19.96 USD",
          "opacity": 0.6,
          "showarrow": true,
          "x": 93,
          "xref": "x",
          "y": 8237.3,
          "yref": "y"
         },
         {
          "arrowcolor": "FireBrick",
          "arrowhead": 2,
          "arrowsize": 0.8,
          "arrowwidth": 4,
          "ax": 0,
          "ay": -15,
          "hoverlabel": {
           "bgcolor": "FireBrick"
          },
          "hovertext": "Step 86 [2018-05-18 19:00:00]<br>SELL 0.48604567 BTC @ 8231.42 USD MARKET<br>Total: 4000.85 USD - Comm.: 0.00146252 BTC",
          "opacity": 0.6,
          "showarrow": true,
          "x": 85,
          "xref": "x",
          "y": 8231.42,
          "yref": "y"
         },
         {
          "arrowcolor": "FireBrick",
          "arrowhead": 2,
          "arrowsize": 0.8,
          "arrowwidth": 4,
          "ax": 0,
          "ay": -15,
          "hoverlabel": {
           "bgcolor": "FireBrick"
          },
          "hovertext": "Step 102 [2018-05-19 11:00:00]<br>SELL 0.80290374 BTC @ 8365.0 USD MARKET<br>Total: 6716.29 USD - Comm.: 0.00241596 BTC",
          "opacity": 0.6,
          "showarrow": true,
          "x": 101,
          "xref": "x",
          "y": 8365,
          "yref": "y"
         },
         {
          "arrowcolor": "FireBrick",
          "arrowhead": 2,
          "arrowsize": 0.8,
          "arrowwidth": 4,
          "ax": 0,
          "ay": -15,
          "hoverlabel": {
           "bgcolor": "FireBrick"
          },
          "hovertext": "Step 135 [2018-05-20 20:00:00]<br>SELL 0.3102697 BTC @ 8558.5 USD MARKET<br>Total: 2655.44 USD - Comm.: 0.00093361 BTC",
          "opacity": 0.6,
          "showarrow": true,
          "x": 134,
          "xref": "x",
          "y": 8558.5,
          "yref": "y"
         },
         {
          "arrowcolor": "FireBrick",
          "arrowhead": 2,
          "arrowsize": 0.8,
          "arrowwidth": 4,
          "ax": 0,
          "ay": -15,
          "hoverlabel": {
           "bgcolor": "FireBrick"
          },
          "hovertext": "Step 131 [2018-05-20 16:00:00]<br>SELL 0.64062576 BTC @ 8481.11 USD MARKET<br>Total: 5433.22 USD - Comm.: 0.00192766 BTC",
          "opacity": 0.6,
          "showarrow": true,
          "x": 130,
          "xref": "x",
          "y": 8481.11,
          "yref": "y"
         },
         {
          "arrowcolor": "DarkGreen",
          "arrowhead": 2,
          "arrowsize": 0.8,
          "arrowwidth": 4,
          "ax": 0,
          "ay": 15,
          "hoverlabel": {
           "bgcolor": "DarkGreen"
          },
          "hovertext": "Step 126 [2018-05-20 11:00:00]<br>BUY 0.64255342 BTC @ 8336.91 USD MARKET<br>Total: 5356.91 USD - Comm.: 16.12 USD",
          "opacity": 0.6,
          "showarrow": true,
          "x": 125,
          "xref": "x",
          "y": 8336.91,
          "yref": "y"
         },
         {
          "arrowcolor": "DarkGreen",
          "arrowhead": 2,
          "arrowsize": 0.8,
          "arrowwidth": 4,
          "ax": 0,
          "ay": 15,
          "hoverlabel": {
           "bgcolor": "DarkGreen"
          },
          "hovertext": "Step 151 [2018-05-21 12:00:00]<br>BUY 0.59741713 BTC @ 8499.84 USD MARKET<br>Total: 5077.95 USD - Comm.: 15.28 USD",
          "opacity": 0.6,
          "showarrow": true,
          "x": 150,
          "xref": "x",
          "y": 8499.84,
          "yref": "y"
         },
         {
          "arrowcolor": "DarkGreen",
          "arrowhead": 2,
          "arrowsize": 0.8,
          "arrowwidth": 4,
          "ax": 0,
          "ay": 15,
          "hoverlabel": {
           "bgcolor": "DarkGreen"
          },
          "hovertext": "Step 142 [2018-05-21 03:00:00]<br>BUY 0.44282152 BTC @ 8494.28 USD MARKET<br>Total: 3761.45 USD - Comm.: 11.32 USD",
          "opacity": 0.6,
          "showarrow": true,
          "x": 141,
          "xref": "x",
          "y": 8494.28,
          "yref": "y"
         }
        ],
        "margin": {
         "t": 50
        },
        "template": {
         "data": {
          "bar": [
           {
            "error_x": {
             "color": "#2a3f5f"
            },
            "error_y": {
             "color": "#2a3f5f"
            },
            "marker": {
             "line": {
              "color": "white",
              "width": 0.5
             },
             "pattern": {
              "fillmode": "overlay",
              "size": 10,
              "solidity": 0.2
             }
            },
            "type": "bar"
           }
          ],
          "barpolar": [
           {
            "marker": {
             "line": {
              "color": "white",
              "width": 0.5
             },
             "pattern": {
              "fillmode": "overlay",
              "size": 10,
              "solidity": 0.2
             }
            },
            "type": "barpolar"
           }
          ],
          "carpet": [
           {
            "aaxis": {
             "endlinecolor": "#2a3f5f",
             "gridcolor": "#C8D4E3",
             "linecolor": "#C8D4E3",
             "minorgridcolor": "#C8D4E3",
             "startlinecolor": "#2a3f5f"
            },
            "baxis": {
             "endlinecolor": "#2a3f5f",
             "gridcolor": "#C8D4E3",
             "linecolor": "#C8D4E3",
             "minorgridcolor": "#C8D4E3",
             "startlinecolor": "#2a3f5f"
            },
            "type": "carpet"
           }
          ],
          "choropleth": [
           {
            "colorbar": {
             "outlinewidth": 0,
             "ticks": ""
            },
            "type": "choropleth"
           }
          ],
          "contour": [
           {
            "colorbar": {
             "outlinewidth": 0,
             "ticks": ""
            },
            "colorscale": [
             [
              0,
              "#0d0887"
             ],
             [
              0.1111111111111111,
              "#46039f"
             ],
             [
              0.2222222222222222,
              "#7201a8"
             ],
             [
              0.3333333333333333,
              "#9c179e"
             ],
             [
              0.4444444444444444,
              "#bd3786"
             ],
             [
              0.5555555555555556,
              "#d8576b"
             ],
             [
              0.6666666666666666,
              "#ed7953"
             ],
             [
              0.7777777777777778,
              "#fb9f3a"
             ],
             [
              0.8888888888888888,
              "#fdca26"
             ],
             [
              1,
              "#f0f921"
             ]
            ],
            "type": "contour"
           }
          ],
          "contourcarpet": [
           {
            "colorbar": {
             "outlinewidth": 0,
             "ticks": ""
            },
            "type": "contourcarpet"
           }
          ],
          "heatmap": [
           {
            "colorbar": {
             "outlinewidth": 0,
             "ticks": ""
            },
            "colorscale": [
             [
              0,
              "#0d0887"
             ],
             [
              0.1111111111111111,
              "#46039f"
             ],
             [
              0.2222222222222222,
              "#7201a8"
             ],
             [
              0.3333333333333333,
              "#9c179e"
             ],
             [
              0.4444444444444444,
              "#bd3786"
             ],
             [
              0.5555555555555556,
              "#d8576b"
             ],
             [
              0.6666666666666666,
              "#ed7953"
             ],
             [
              0.7777777777777778,
              "#fb9f3a"
             ],
             [
              0.8888888888888888,
              "#fdca26"
             ],
             [
              1,
              "#f0f921"
             ]
            ],
            "type": "heatmap"
           }
          ],
          "heatmapgl": [
           {
            "colorbar": {
             "outlinewidth": 0,
             "ticks": ""
            },
            "colorscale": [
             [
              0,
              "#0d0887"
             ],
             [
              0.1111111111111111,
              "#46039f"
             ],
             [
              0.2222222222222222,
              "#7201a8"
             ],
             [
              0.3333333333333333,
              "#9c179e"
             ],
             [
              0.4444444444444444,
              "#bd3786"
             ],
             [
              0.5555555555555556,
              "#d8576b"
             ],
             [
              0.6666666666666666,
              "#ed7953"
             ],
             [
              0.7777777777777778,
              "#fb9f3a"
             ],
             [
              0.8888888888888888,
              "#fdca26"
             ],
             [
              1,
              "#f0f921"
             ]
            ],
            "type": "heatmapgl"
           }
          ],
          "histogram": [
           {
            "marker": {
             "pattern": {
              "fillmode": "overlay",
              "size": 10,
              "solidity": 0.2
             }
            },
            "type": "histogram"
           }
          ],
          "histogram2d": [
           {
            "colorbar": {
             "outlinewidth": 0,
             "ticks": ""
            },
            "colorscale": [
             [
              0,
              "#0d0887"
             ],
             [
              0.1111111111111111,
              "#46039f"
             ],
             [
              0.2222222222222222,
              "#7201a8"
             ],
             [
              0.3333333333333333,
              "#9c179e"
             ],
             [
              0.4444444444444444,
              "#bd3786"
             ],
             [
              0.5555555555555556,
              "#d8576b"
             ],
             [
              0.6666666666666666,
              "#ed7953"
             ],
             [
              0.7777777777777778,
              "#fb9f3a"
             ],
             [
              0.8888888888888888,
              "#fdca26"
             ],
             [
              1,
              "#f0f921"
             ]
            ],
            "type": "histogram2d"
           }
          ],
          "histogram2dcontour": [
           {
            "colorbar": {
             "outlinewidth": 0,
             "ticks": ""
            },
            "colorscale": [
             [
              0,
              "#0d0887"
             ],
             [
              0.1111111111111111,
              "#46039f"
             ],
             [
              0.2222222222222222,
              "#7201a8"
             ],
             [
              0.3333333333333333,
              "#9c179e"
             ],
             [
              0.4444444444444444,
              "#bd3786"
             ],
             [
              0.5555555555555556,
              "#d8576b"
             ],
             [
              0.6666666666666666,
              "#ed7953"
             ],
             [
              0.7777777777777778,
              "#fb9f3a"
             ],
             [
              0.8888888888888888,
              "#fdca26"
             ],
             [
              1,
              "#f0f921"
             ]
            ],
            "type": "histogram2dcontour"
           }
          ],
          "mesh3d": [
           {
            "colorbar": {
             "outlinewidth": 0,
             "ticks": ""
            },
            "type": "mesh3d"
           }
          ],
          "parcoords": [
           {
            "line": {
             "colorbar": {
              "outlinewidth": 0,
              "ticks": ""
             }
            },
            "type": "parcoords"
           }
          ],
          "pie": [
           {
            "automargin": true,
            "type": "pie"
           }
          ],
          "scatter": [
           {
            "fillpattern": {
             "fillmode": "overlay",
             "size": 10,
             "solidity": 0.2
            },
            "type": "scatter"
           }
          ],
          "scatter3d": [
           {
            "line": {
             "colorbar": {
              "outlinewidth": 0,
              "ticks": ""
             }
            },
            "marker": {
             "colorbar": {
              "outlinewidth": 0,
              "ticks": ""
             }
            },
            "type": "scatter3d"
           }
          ],
          "scattercarpet": [
           {
            "marker": {
             "colorbar": {
              "outlinewidth": 0,
              "ticks": ""
             }
            },
            "type": "scattercarpet"
           }
          ],
          "scattergeo": [
           {
            "marker": {
             "colorbar": {
              "outlinewidth": 0,
              "ticks": ""
             }
            },
            "type": "scattergeo"
           }
          ],
          "scattergl": [
           {
            "marker": {
             "colorbar": {
              "outlinewidth": 0,
              "ticks": ""
             }
            },
            "type": "scattergl"
           }
          ],
          "scattermapbox": [
           {
            "marker": {
             "colorbar": {
              "outlinewidth": 0,
              "ticks": ""
             }
            },
            "type": "scattermapbox"
           }
          ],
          "scatterpolar": [
           {
            "marker": {
             "colorbar": {
              "outlinewidth": 0,
              "ticks": ""
             }
            },
            "type": "scatterpolar"
           }
          ],
          "scatterpolargl": [
           {
            "marker": {
             "colorbar": {
              "outlinewidth": 0,
              "ticks": ""
             }
            },
            "type": "scatterpolargl"
           }
          ],
          "scatterternary": [
           {
            "marker": {
             "colorbar": {
              "outlinewidth": 0,
              "ticks": ""
             }
            },
            "type": "scatterternary"
           }
          ],
          "surface": [
           {
            "colorbar": {
             "outlinewidth": 0,
             "ticks": ""
            },
            "colorscale": [
             [
              0,
              "#0d0887"
             ],
             [
              0.1111111111111111,
              "#46039f"
             ],
             [
              0.2222222222222222,
              "#7201a8"
             ],
             [
              0.3333333333333333,
              "#9c179e"
             ],
             [
              0.4444444444444444,
              "#bd3786"
             ],
             [
              0.5555555555555556,
              "#d8576b"
             ],
             [
              0.6666666666666666,
              "#ed7953"
             ],
             [
              0.7777777777777778,
              "#fb9f3a"
             ],
             [
              0.8888888888888888,
              "#fdca26"
             ],
             [
              1,
              "#f0f921"
             ]
            ],
            "type": "surface"
           }
          ],
          "table": [
           {
            "cells": {
             "fill": {
              "color": "#EBF0F8"
             },
             "line": {
              "color": "white"
             }
            },
            "header": {
             "fill": {
              "color": "#C8D4E3"
             },
             "line": {
              "color": "white"
             }
            },
            "type": "table"
           }
          ]
         },
         "layout": {
          "annotationdefaults": {
           "arrowcolor": "#2a3f5f",
           "arrowhead": 0,
           "arrowwidth": 1
          },
          "autotypenumbers": "strict",
          "coloraxis": {
           "colorbar": {
            "outlinewidth": 0,
            "ticks": ""
           }
          },
          "colorscale": {
           "diverging": [
            [
             0,
             "#8e0152"
            ],
            [
             0.1,
             "#c51b7d"
            ],
            [
             0.2,
             "#de77ae"
            ],
            [
             0.3,
             "#f1b6da"
            ],
            [
             0.4,
             "#fde0ef"
            ],
            [
             0.5,
             "#f7f7f7"
            ],
            [
             0.6,
             "#e6f5d0"
            ],
            [
             0.7,
             "#b8e186"
            ],
            [
             0.8,
             "#7fbc41"
            ],
            [
             0.9,
             "#4d9221"
            ],
            [
             1,
             "#276419"
            ]
           ],
           "sequential": [
            [
             0,
             "#0d0887"
            ],
            [
             0.1111111111111111,
             "#46039f"
            ],
            [
             0.2222222222222222,
             "#7201a8"
            ],
            [
             0.3333333333333333,
             "#9c179e"
            ],
            [
             0.4444444444444444,
             "#bd3786"
            ],
            [
             0.5555555555555556,
             "#d8576b"
            ],
            [
             0.6666666666666666,
             "#ed7953"
            ],
            [
             0.7777777777777778,
             "#fb9f3a"
            ],
            [
             0.8888888888888888,
             "#fdca26"
            ],
            [
             1,
             "#f0f921"
            ]
           ],
           "sequentialminus": [
            [
             0,
             "#0d0887"
            ],
            [
             0.1111111111111111,
             "#46039f"
            ],
            [
             0.2222222222222222,
             "#7201a8"
            ],
            [
             0.3333333333333333,
             "#9c179e"
            ],
            [
             0.4444444444444444,
             "#bd3786"
            ],
            [
             0.5555555555555556,
             "#d8576b"
            ],
            [
             0.6666666666666666,
             "#ed7953"
            ],
            [
             0.7777777777777778,
             "#fb9f3a"
            ],
            [
             0.8888888888888888,
             "#fdca26"
            ],
            [
             1,
             "#f0f921"
            ]
           ]
          },
          "colorway": [
           "#636efa",
           "#EF553B",
           "#00cc96",
           "#ab63fa",
           "#FFA15A",
           "#19d3f3",
           "#FF6692",
           "#B6E880",
           "#FF97FF",
           "#FECB52"
          ],
          "font": {
           "color": "#2a3f5f"
          },
          "geo": {
           "bgcolor": "white",
           "lakecolor": "white",
           "landcolor": "white",
           "showlakes": true,
           "showland": true,
           "subunitcolor": "#C8D4E3"
          },
          "hoverlabel": {
           "align": "left"
          },
          "hovermode": "closest",
          "mapbox": {
           "style": "light"
          },
          "paper_bgcolor": "white",
          "plot_bgcolor": "white",
          "polar": {
           "angularaxis": {
            "gridcolor": "#EBF0F8",
            "linecolor": "#EBF0F8",
            "ticks": ""
           },
           "bgcolor": "white",
           "radialaxis": {
            "gridcolor": "#EBF0F8",
            "linecolor": "#EBF0F8",
            "ticks": ""
           }
          },
          "scene": {
           "xaxis": {
            "backgroundcolor": "white",
            "gridcolor": "#DFE8F3",
            "gridwidth": 2,
            "linecolor": "#EBF0F8",
            "showbackground": true,
            "ticks": "",
            "zerolinecolor": "#EBF0F8"
           },
           "yaxis": {
            "backgroundcolor": "white",
            "gridcolor": "#DFE8F3",
            "gridwidth": 2,
            "linecolor": "#EBF0F8",
            "showbackground": true,
            "ticks": "",
            "zerolinecolor": "#EBF0F8"
           },
           "zaxis": {
            "backgroundcolor": "white",
            "gridcolor": "#DFE8F3",
            "gridwidth": 2,
            "linecolor": "#EBF0F8",
            "showbackground": true,
            "ticks": "",
            "zerolinecolor": "#EBF0F8"
           }
          },
          "shapedefaults": {
           "line": {
            "color": "#2a3f5f"
           }
          },
          "ternary": {
           "aaxis": {
            "gridcolor": "#DFE8F3",
            "linecolor": "#A2B1C6",
            "ticks": ""
           },
           "baxis": {
            "gridcolor": "#DFE8F3",
            "linecolor": "#A2B1C6",
            "ticks": ""
           },
           "bgcolor": "white",
           "caxis": {
            "gridcolor": "#DFE8F3",
            "linecolor": "#A2B1C6",
            "ticks": ""
           }
          },
          "title": {
           "x": 0.05
          },
          "xaxis": {
           "automargin": true,
           "gridcolor": "#EBF0F8",
           "linecolor": "#EBF0F8",
           "ticks": "",
           "title": {
            "standoff": 15
           },
           "zerolinecolor": "#EBF0F8",
           "zerolinewidth": 2
          },
          "yaxis": {
           "automargin": true,
           "gridcolor": "#EBF0F8",
           "linecolor": "#EBF0F8",
           "ticks": "",
           "title": {
            "standoff": 15
           },
           "zerolinecolor": "#EBF0F8",
           "zerolinewidth": 2
          }
         }
        },
        "title": {
         "text": "[2022-07-29 01:26:05] Episode: 2/2 Step: 161/200"
        },
        "xaxis": {
         "anchor": "y",
         "domain": [
          0,
          1
         ],
         "gridcolor": "Gainsboro",
         "linecolor": "Grey",
         "matches": "x4",
         "rangeslider": {
          "visible": false
         },
         "showticklabels": false,
         "title": {
          "font": {
           "size": 12
          },
          "standoff": 7,
          "text": "Price"
         }
        },
        "xaxis2": {
         "anchor": "y2",
         "domain": [
          0,
          1
         ],
         "gridcolor": "Gainsboro",
         "linecolor": "Grey",
         "matches": "x4",
         "showticklabels": false,
         "title": {
          "font": {
           "size": 12
          },
          "standoff": 7,
          "text": "Volume"
         }
        },
        "xaxis3": {
         "anchor": "y3",
         "domain": [
          0,
          1
         ],
         "gridcolor": "Gainsboro",
         "linecolor": "Grey",
         "matches": "x4",
         "showticklabels": false,
         "title": {
          "font": {
           "size": 12
          },
          "standoff": 7,
          "text": "Performance"
         }
        },
        "xaxis4": {
         "anchor": "y4",
         "domain": [
          0,
          1
         ],
         "gridcolor": "Gainsboro",
         "linecolor": "Grey",
         "title": {
          "font": {
           "size": 12
          },
          "standoff": 7,
          "text": "Net Worth"
         }
        },
        "yaxis": {
         "anchor": "x",
         "domain": [
          0.49950000000000006,
          1
         ],
         "gridcolor": "Gainsboro",
         "linecolor": "Grey"
        },
        "yaxis2": {
         "anchor": "x2",
         "domain": [
          0.333,
          0.46950000000000003
         ],
         "gridcolor": "Gainsboro",
         "linecolor": "Grey"
        },
        "yaxis3": {
         "anchor": "x3",
         "domain": [
          0.1665,
          0.30300000000000005
         ],
         "gridcolor": "Gainsboro",
         "linecolor": "Grey"
        },
        "yaxis4": {
         "anchor": "x4",
         "domain": [
          0,
          0.1365
         ],
         "gridcolor": "Gainsboro",
         "linecolor": "Grey"
        }
       }
      }
     },
     "metadata": {},
     "output_type": "display_data"
    },
    {
     "data": {
      "application/vnd.jupyter.widget-view+json": {
       "model_id": "5a95dff502e6465b97c42c73d4ef69fb",
       "version_major": 2,
       "version_minor": 0
      },
      "text/plain": [
       "FigureWidget({\n",
       "    'data': [{'close': array([8740.99, 8739.  , 8728.49, 8708.32, 8795.9 , 8760.  , 8760.  , 87…"
      ]
     },
     "metadata": {},
     "output_type": "display_data"
    },
    {
     "data": {
      "application/vnd.plotly.v1+json": {
       "config": {
        "plotlyServerURL": "https://plot.ly"
       },
       "data": [
        {
         "close": [
          8740.99,
          8739,
          8728.49,
          8708.32,
          8795.9,
          8760,
          8760,
          8759.23,
          8517.77,
          8520.3,
          8535.23,
          8546.34,
          8526.65,
          8555.6,
          8512.1,
          8492.28,
          8460,
          8474.99,
          8455.92,
          8326.28,
          8133.43,
          8164.79,
          8229.38,
          8220.4,
          8238.8,
          8232.99,
          8207.48,
          8243.45,
          8371.13,
          8373,
          8365.08,
          8179.99,
          8225,
          8285.8,
          8273.4,
          8297.4,
          8279.89,
          8252.72,
          8302.18,
          8295.85,
          8277.25,
          8346.59,
          8358.3,
          8375.1,
          8368.62,
          8366.72,
          8314.77,
          8363.7,
          8344.16,
          8247.4,
          8277.4,
          8291.67,
          8307.89,
          8298.9,
          8269.47,
          8300.98,
          8318.49,
          8306.39,
          8276.43,
          8257.69,
          8166,
          8176.33,
          8200.7,
          8155.41,
          8080,
          8067.03,
          7958.08,
          7974.25,
          7998.5,
          7991.99,
          8022.7,
          8042.97,
          7965.67,
          8088.95,
          8122.19,
          8107.99,
          8137.73,
          8115,
          8107,
          8094.4,
          8080.01,
          8117.09,
          8126.99,
          8110.95,
          8215.39,
          8231.42,
          8240.13,
          8235,
          8219.9,
          8248.87,
          8213.5,
          8200.99,
          8200,
          8237.3,
          8228.13,
          8240.83,
          8214.9,
          8170.07,
          8229.87,
          8205.87,
          8252.56,
          8365,
          8348.65,
          8303.99,
          8310.48,
          8310,
          8289.87,
          8304.99,
          8301.35,
          8313.12,
          8240.07,
          8199.99,
          8226.98,
          8231.2,
          8198.89,
          8215.85,
          8279.99,
          8255.08,
          8270.4,
          8244.24,
          8239.12,
          8267.14,
          8282.27,
          8350.62,
          8336.6,
          8336.91,
          8311.21,
          8312.09,
          8345.19,
          8377.2,
          8481.11,
          8516.36,
          8524,
          8517.04,
          8558.5,
          8521.99,
          8484.93,
          8518.48,
          8488.99,
          8466.72,
          8492.55,
          8494.28,
          8510.95,
          8498.64,
          8551.1,
          8524.22,
          8510.11,
          8475.62,
          8476.58,
          8467.13,
          8499.84,
          8490.42,
          8407.09,
          8409.42,
          8400.96,
          8383.14,
          8350,
          8373.01,
          8412.8,
          8385.57,
          8408.53,
          8391.76,
          8367.36,
          8280.24,
          8297.91,
          8333.99,
          8285.29,
          8280,
          8317.02,
          8320.16,
          8295.9,
          8245.47,
          8264.98,
          8200,
          8170,
          8217,
          8231.63,
          8232.8,
          8225.38,
          8200.01,
          8219.98
         ],
         "high": [
          8796.68,
          8766,
          8750.27,
          8754.4,
          8865,
          8821.19,
          8798.6,
          8771.02,
          8761.7,
          8553.67,
          8589.1,
          8579.48,
          8555.51,
          8583.6,
          8569.92,
          8555.54,
          8557.51,
          8505,
          8505.33,
          8478.29,
          8339.81,
          8217.44,
          8252.72,
          8248.63,
          8267.12,
          8255,
          8261.24,
          8263.93,
          8455.66,
          8439.44,
          8399.1,
          8381.73,
          8229.91,
          8377.29,
          8329.1,
          8350,
          8346.95,
          8377.29,
          8311.35,
          8319.96,
          8398.24,
          8372.58,
          8399.99,
          8386.53,
          8400,
          8500,
          8381,
          8371.3,
          8382.41,
          8351,
          8292.99,
          8325.8,
          8318.99,
          8324.9,
          8335.56,
          8309.4,
          8377.29,
          8330.41,
          8328.23,
          8284.36,
          8274.83,
          8200,
          8232.14,
          8213.97,
          8155.41,
          8108.28,
          8068.92,
          8019.9,
          8026.66,
          8025,
          8104.69,
          8061.39,
          8045.99,
          8170.71,
          8144.16,
          8139.99,
          8152.99,
          8137.73,
          8143.72,
          8129.99,
          8106.76,
          8139,
          8152.04,
          8146.99,
          8232.14,
          8275.1,
          8256.12,
          8274.1,
          8255.8,
          8253.97,
          8261.09,
          8235.76,
          8227,
          8273.36,
          8264.21,
          8250,
          8250.86,
          8235.77,
          8232.12,
          8232.14,
          8252.72,
          8370,
          8395,
          8374.48,
          8331,
          8319.43,
          8323.4,
          8314.55,
          8330.62,
          8314.8,
          8323.99,
          8263.03,
          8247.78,
          8253.75,
          8237.89,
          8235,
          8279.99,
          8290,
          8278.71,
          8275.34,
          8279.31,
          8279.98,
          8294.04,
          8356.4,
          8374.94,
          8354.83,
          8360.45,
          8337.14,
          8351.97,
          8377.29,
          8549,
          8531.9,
          8551.79,
          8529.9,
          8590,
          8576.1,
          8549.89,
          8531.89,
          8550,
          8493.29,
          8522.98,
          8517,
          8537.29,
          8524.51,
          8589.1,
          8589.07,
          8536.92,
          8524.03,
          8497.8,
          8498,
          8513.5,
          8510,
          8494.7,
          8427.29,
          8419.03,
          8415.47,
          8389.99,
          8397.57,
          8455,
          8429.66,
          8412.61,
          8424,
          8417.65,
          8369.7,
          8326.5,
          8336.65,
          8333.99,
          8314.32,
          8355.97,
          8333.49,
          8325.6,
          8296.01,
          8264.98,
          8271.31,
          8200,
          8232.14,
          8246,
          8248.94,
          8259.95,
          8242.49,
          8232.04
         ],
         "low": [
          8707.28,
          8721.11,
          8660.53,
          8701.35,
          8695.11,
          8740.54,
          8741.52,
          8700,
          8467.42,
          8477.89,
          8500.78,
          8500,
          8400,
          8451.05,
          8461.38,
          8481.24,
          8420.37,
          8450,
          8430.94,
          8275.02,
          8100.01,
          8122.56,
          8157.01,
          8166.25,
          8176.91,
          8213.79,
          8200,
          8207.48,
          8237.1,
          8370,
          8356.4,
          8145.1,
          8173.6,
          8211.8,
          8201,
          8250.9,
          8266.46,
          8252.72,
          8232.14,
          8268.37,
          8277.25,
          8277.25,
          8314.78,
          8314.77,
          8350.07,
          8331.39,
          8314.77,
          8275.45,
          8335.49,
          8191.14,
          8227.7,
          8264.13,
          8249.93,
          8269.52,
          8219.44,
          8262.68,
          8286.65,
          8289.87,
          8232.14,
          8232.14,
          8110.02,
          8154.95,
          8168.6,
          8151,
          7980,
          8005.95,
          7929.53,
          7931.03,
          7950,
          7980.58,
          7991.99,
          7992.75,
          7953.4,
          7965.67,
          8085.94,
          8078.48,
          8092.9,
          8049.22,
          8079.46,
          8062.12,
          8043.96,
          8063.1,
          8088.46,
          8094.43,
          8088.46,
          8191.14,
          8212,
          8224.5,
          8211,
          8211.01,
          8210.03,
          8158.27,
          8177.65,
          8179.41,
          8221.92,
          8217.32,
          8213.52,
          8141.08,
          8146.1,
          8186.03,
          8197.09,
          8231.21,
          8323.82,
          8296,
          8296.31,
          8282.65,
          8280,
          8273.36,
          8290.08,
          8277.93,
          8240.07,
          8191.14,
          8178,
          8193.7,
          8180,
          8170.71,
          8215.53,
          8240.02,
          8237.17,
          8237.17,
          8239.12,
          8227.79,
          8247.57,
          8274.24,
          8326.1,
          8320.61,
          8281.31,
          8269.85,
          8311.16,
          8336.11,
          8369.86,
          8471.51,
          8511,
          8476.66,
          8507.68,
          8509.24,
          8482.53,
          8484.93,
          8450,
          8434.47,
          8461.1,
          8481,
          8480,
          8488.1,
          8471.09,
          8509.2,
          8482.64,
          8469,
          8440.4,
          8440.52,
          8461.8,
          8480,
          8358.17,
          8380.73,
          8370,
          8383.12,
          8320,
          8349.17,
          8357.11,
          8370.58,
          8367.21,
          8376.99,
          8335.6,
          8252.72,
          8264.49,
          8282.59,
          8271.09,
          8261.52,
          8280,
          8297,
          8290,
          8220,
          8230.45,
          8180,
          8119.38,
          8170,
          8189.84,
          8210.76,
          8212.68,
          8200,
          8186
         ],
         "name": "Price",
         "open": [
          8733.86,
          8740.99,
          8739,
          8728.49,
          8708.32,
          8795.9,
          8760,
          8760,
          8759.23,
          8517.77,
          8520.3,
          8535.23,
          8546.34,
          8526.65,
          8555.6,
          8512.1,
          8492.28,
          8460,
          8474.99,
          8455.92,
          8326.28,
          8133.43,
          8164.79,
          8229.38,
          8220.4,
          8238.8,
          8232.99,
          8207.48,
          8243.45,
          8371.13,
          8373,
          8365.08,
          8179.99,
          8225,
          8285.8,
          8273.4,
          8297.4,
          8279.89,
          8252.72,
          8302.18,
          8295.85,
          8277.25,
          8346.59,
          8358.3,
          8375.1,
          8368.62,
          8366.72,
          8314.77,
          8363.7,
          8344.16,
          8247.4,
          8277.4,
          8291.67,
          8307.89,
          8298.9,
          8269.47,
          8300.98,
          8318.49,
          8306.39,
          8276.43,
          8257.69,
          8166,
          8176.33,
          8200.7,
          8155.41,
          8080,
          8067.03,
          7958.08,
          7974.25,
          7998.5,
          7991.99,
          8022.7,
          8042.97,
          7965.67,
          8088.95,
          8122.19,
          8107.99,
          8137.73,
          8115,
          8107,
          8094.4,
          8080.01,
          8117.09,
          8126.99,
          8110.95,
          8215.39,
          8231.42,
          8240.13,
          8235,
          8219.9,
          8248.87,
          8213.5,
          8200.99,
          8200,
          8237.3,
          8228.13,
          8240.83,
          8214.9,
          8170.07,
          8229.87,
          8205.87,
          8252.56,
          8365,
          8348.65,
          8303.99,
          8310.48,
          8310,
          8289.87,
          8304.99,
          8301.35,
          8313.12,
          8240.07,
          8199.99,
          8226.98,
          8231.2,
          8198.89,
          8215.85,
          8279.99,
          8255.08,
          8270.4,
          8244.24,
          8239.12,
          8267.14,
          8282.27,
          8350.62,
          8336.6,
          8336.91,
          8311.21,
          8312.09,
          8345.19,
          8377.2,
          8481.11,
          8516.36,
          8524,
          8517.04,
          8558.5,
          8521.99,
          8484.93,
          8518.48,
          8488.99,
          8466.72,
          8492.55,
          8494.28,
          8510.95,
          8498.64,
          8551.1,
          8524.22,
          8510.11,
          8475.62,
          8476.58,
          8467.13,
          8499.84,
          8490.42,
          8407.09,
          8409.42,
          8400.96,
          8383.14,
          8350,
          8373.01,
          8412.8,
          8385.57,
          8408.53,
          8391.76,
          8367.36,
          8280.24,
          8297.91,
          8333.99,
          8285.29,
          8280,
          8317.02,
          8320.16,
          8295.9,
          8245.47,
          8264.98,
          8200,
          8170,
          8217,
          8231.63,
          8232.8,
          8225.38,
          8200.01
         ],
         "showlegend": false,
         "type": "candlestick",
         "uid": "77128b01-1253-444b-9fba-d16797794175",
         "xaxis": "x",
         "yaxis": "y"
        },
        {
         "marker": {
          "color": "DodgerBlue"
         },
         "name": "Volume",
         "showlegend": false,
         "type": "bar",
         "uid": "9dcecade-0541-4a84-8f61-ce99015e488b",
         "xaxis": "x2",
         "y": [
          559.93,
          273.58,
          917.79,
          182.62,
          1260.69,
          324.11,
          324.2,
          730.67,
          1341.75,
          792.07,
          385.69,
          475.08,
          877.26,
          670.49,
          610.97,
          168.99,
          305.92,
          136.05,
          154.26,
          1070.93,
          1710.2,
          492.8,
          630.72,
          620.93,
          586.34,
          304.52,
          450.97,
          182.36,
          915.32,
          319.29,
          362.01,
          1046.38,
          357.91,
          561.2,
          322.53,
          1073.71,
          237.21,
          251.2,
          359.73,
          117.23,
          363.17,
          214.18,
          171.64,
          258.58,
          299.52,
          718.98,
          119.7,
          405.25,
          210.77,
          714.82,
          215.97,
          164.2,
          201.55,
          203.41,
          886.82,
          95.49,
          499.67,
          172.77,
          355.39,
          255.27,
          591.06,
          133.1,
          149.13,
          87.55,
          1061.54,
          286.94,
          524.42,
          316,
          441.43,
          189.7,
          844.94,
          155.34,
          257.56,
          610.69,
          217.97,
          173.18,
          218.06,
          372.97,
          484.39,
          248.1,
          162.35,
          303.42,
          290.69,
          160.93,
          369.4,
          487.27,
          93.35,
          96.68,
          72.14,
          90.22,
          168.52,
          203.15,
          71.42,
          464.56,
          57,
          89.42,
          49.47,
          200.05,
          254.37,
          65.05,
          118.19,
          452.4,
          181.03,
          288.04,
          145.78,
          110.14,
          55.48,
          80.87,
          67.01,
          59.16,
          121.26,
          244.37,
          156.87,
          80.48,
          139.32,
          93.52,
          200.23,
          97.4,
          68.08,
          47,
          36.65,
          28.75,
          182.85,
          400.18,
          288.1,
          182.94,
          777.81,
          493.59,
          118.63,
          174.37,
          901.75,
          222.45,
          113.8,
          84.2,
          261.44,
          168.78,
          111.07,
          122.12,
          267.32,
          210.39,
          211.36,
          146.22,
          93.39,
          89.04,
          307.59,
          307.2,
          164.24,
          151.21,
          399.77,
          362.01,
          260.85,
          232.32,
          1109.45,
          348.5,
          210.57,
          274.92,
          277.83,
          99.57,
          273.12,
          129.47,
          113.05,
          87.6,
          159.37,
          433.28,
          133.29,
          200.57,
          210.33,
          206.4,
          357.53,
          107.43,
          116.54,
          479.07,
          290.38,
          812.96,
          1542.87,
          430.36,
          312.54,
          132.75,
          333.64,
          205.86,
          120.33
         ],
         "yaxis": "y2"
        },
        {
         "mode": "lines",
         "name": "bitstamp:/USD-BTC",
         "type": "scatter",
         "uid": "b3610eea-9870-4a75-8f30-1c3b9b68ccd1",
         "xaxis": "x3",
         "y": [
          8740.99,
          8739,
          8728.49,
          8708.32,
          8795.9,
          8760,
          8760,
          8759.23,
          8517.77,
          8520.3,
          8535.23,
          8546.34,
          8526.65,
          8555.6,
          8512.1,
          8492.28,
          8460,
          8474.99,
          8455.92,
          8326.28,
          8133.43,
          8164.79,
          8229.38,
          8220.4,
          8238.8,
          8232.99,
          8207.48,
          8243.45,
          8371.13,
          8373,
          8365.08,
          8179.99,
          8225,
          8285.8,
          8273.4,
          8297.4,
          8279.89,
          8252.72,
          8302.18,
          8295.85,
          8277.25,
          8346.59,
          8358.3,
          8375.1,
          8368.62,
          8366.72,
          8314.77,
          8363.7,
          8344.16,
          8247.4,
          8277.4,
          8291.67,
          8307.89,
          8298.9,
          8269.47,
          8300.98,
          8318.49,
          8306.39,
          8276.43,
          8257.69,
          8166,
          8176.33,
          8200.7,
          8155.41,
          8080,
          8067.03,
          7958.08,
          7974.25,
          7998.5,
          7991.99,
          8022.7,
          8042.97,
          7965.67,
          8088.95,
          8122.19,
          8107.99,
          8137.73,
          8115,
          8107,
          8094.4,
          8080.01,
          8117.09,
          8126.99,
          8110.95,
          8215.39,
          8231.42,
          8240.13,
          8235,
          8219.9,
          8248.87,
          8213.5,
          8200.99,
          8200,
          8237.3,
          8228.13,
          8240.83,
          8214.9,
          8170.07,
          8229.87,
          8205.87,
          8252.56,
          8365,
          8348.65,
          8303.99,
          8310.48,
          8310,
          8289.87,
          8304.99,
          8301.35,
          8313.12,
          8240.07,
          8199.99,
          8226.98,
          8231.2,
          8198.89,
          8215.85,
          8279.99,
          8255.08,
          8270.4,
          8244.24,
          8239.12,
          8267.14,
          8282.27,
          8350.62,
          8336.6,
          8336.91,
          8311.21,
          8312.09,
          8345.19,
          8377.2,
          8481.11,
          8516.36,
          8524,
          8517.04,
          8558.5,
          8521.99,
          8484.93,
          8518.48,
          8488.99,
          8466.72,
          8492.55,
          8494.28,
          8510.95,
          8498.64,
          8551.1,
          8524.22,
          8510.11,
          8475.62,
          8476.58,
          8467.13,
          8499.84,
          8490.42,
          8407.09,
          8409.42,
          8400.96,
          8383.14,
          8350,
          8373.01,
          8412.8,
          8385.57,
          8408.53,
          8391.76,
          8367.36,
          8280.24,
          8297.91,
          8333.99,
          8285.29,
          8280,
          8317.02,
          8320.16,
          8295.9,
          8245.47,
          8264.98,
          8200,
          8170,
          8217,
          8231.63,
          8232.8,
          8225.38,
          8200.01,
          8219.98
         ],
         "yaxis": "y3"
        },
        {
         "mode": "lines",
         "name": "bitstamp:/USD:/free",
         "type": "scatter",
         "uid": "ea66d02e-e037-4510-a457-e9bd74f24c2b",
         "xaxis": "x3",
         "y": [
          10000,
          3000,
          3000,
          3000,
          3000,
          3000,
          3000,
          3000,
          3000,
          9780.37,
          9780.37,
          9780.37,
          2934.11,
          2934.11,
          2934.11,
          2934.11,
          2934.11,
          293.41,
          293.41,
          293.41,
          6923.42,
          6923.42,
          6923.42,
          6923.42,
          2769.37,
          2769.37,
          2769.37,
          2769.37,
          2769.37,
          6974.25,
          6974.25,
          6974.25,
          6974.25,
          6974.25,
          6974.25,
          6974.25,
          6974.25,
          6974.25,
          6974.25,
          6974.25,
          6974.25,
          6974.25,
          6974.25,
          6974.25,
          6974.25,
          6974.25,
          697.43,
          697.43,
          697.43,
          697.43,
          697.43,
          697.43,
          697.43,
          697.43,
          697.43,
          697.43,
          697.43,
          697.43,
          697.43,
          697.43,
          697.43,
          697.43,
          697.43,
          697.43,
          697.43,
          697.43,
          697.43,
          6631.92,
          6631.92,
          6631.92,
          6631.92,
          6631.92,
          6631.92,
          6631.92,
          6631.92,
          6631.92,
          6631.92,
          2652.77,
          2652.77,
          2652.77,
          2652.77,
          2652.77,
          2652.77,
          2652.77,
          2652.77,
          2652.77,
          6653.62,
          6653.62,
          6653.62,
          6653.62,
          6653.62,
          6653.62,
          6653.62,
          6653.62,
          0,
          0,
          0,
          0,
          0,
          0,
          0,
          0,
          6716.29,
          6716.29,
          6716.29,
          6716.29,
          6716.29,
          6716.29,
          6716.29,
          6716.29,
          6716.29,
          6716.29,
          6716.29,
          6716.29,
          6716.29,
          6716.29,
          6716.29,
          6716.29,
          6716.29,
          6716.29,
          6716.29,
          6716.29,
          6716.29,
          6716.29,
          6716.29,
          6716.29,
          1343.26,
          1343.26,
          1343.26,
          1343.26,
          1343.26,
          6776.48,
          6776.48,
          6776.48,
          6776.48,
          9431.92,
          9431.92,
          9431.92,
          9431.92,
          9431.92,
          9431.92,
          9431.92,
          5659.15,
          5659.15,
          5659.15,
          5659.15,
          5659.15,
          5659.15,
          5659.15,
          5659.15,
          5659.15,
          565.92,
          565.92,
          565.92,
          565.92,
          565.92,
          565.92,
          565.92,
          565.92,
          565.92,
          565.92,
          565.92,
          565.92,
          565.92,
          565.92,
          565.92,
          565.92,
          565.92,
          565.92,
          565.92,
          565.92,
          565.92,
          565.92,
          565.92,
          565.92,
          565.92,
          565.92,
          565.92,
          565.92,
          565.92,
          565.92
         ],
         "yaxis": "y3"
        },
        {
         "mode": "lines",
         "name": "bitstamp:/USD:/locked",
         "type": "scatter",
         "uid": "fb661c40-5608-44f7-99d3-e46afb27d1f9",
         "xaxis": "x3",
         "y": [
          0,
          0,
          0,
          0,
          0,
          0,
          0,
          0,
          0,
          0,
          0,
          0,
          0,
          0,
          0,
          0,
          0,
          0,
          0,
          0,
          0,
          0,
          0,
          0,
          0,
          0,
          0,
          0,
          0,
          0,
          0,
          0,
          0,
          0,
          0,
          0,
          0,
          0,
          0,
          0,
          0,
          0,
          0,
          0,
          0,
          0,
          0,
          0,
          0,
          0,
          0,
          0,
          0,
          0,
          0,
          0,
          0,
          0,
          0,
          0,
          0,
          0,
          0,
          0,
          0,
          0,
          0,
          0,
          0,
          0,
          0,
          0,
          0,
          0,
          0,
          0,
          0,
          0,
          0,
          0,
          0,
          0,
          0,
          0,
          0,
          0,
          0,
          0,
          0,
          0,
          0,
          0,
          0,
          0,
          0,
          0,
          0,
          0,
          0,
          0,
          0,
          0,
          0,
          0,
          0,
          0,
          0,
          0,
          0,
          0,
          0,
          0,
          0,
          0,
          0,
          0,
          0,
          0,
          0,
          0,
          0,
          0,
          0,
          0,
          0,
          0,
          0,
          0,
          0,
          0,
          0,
          0,
          0,
          0,
          0,
          0,
          0,
          0,
          0,
          0,
          0,
          0,
          0,
          0,
          0,
          0,
          0,
          0,
          0,
          0,
          0,
          0,
          0,
          0,
          0,
          0,
          0,
          0,
          0,
          0,
          0,
          0,
          0,
          0,
          0,
          0,
          0,
          0,
          0,
          0,
          0,
          0,
          0,
          0,
          0,
          0,
          0,
          0,
          0,
          0,
          0
         ],
         "yaxis": "y3"
        },
        {
         "mode": "lines",
         "name": "bitstamp:/USD:/total",
         "type": "scatter",
         "uid": "c0bf27d9-e1c6-4ca9-bee9-36b24eb2e6ef",
         "xaxis": "x3",
         "y": [
          10000,
          3000,
          3000,
          3000,
          3000,
          3000,
          3000,
          3000,
          3000,
          9780.37,
          9780.37,
          9780.37,
          2934.11,
          2934.11,
          2934.11,
          2934.11,
          2934.11,
          293.41,
          293.41,
          293.41,
          6923.42,
          6923.42,
          6923.42,
          6923.42,
          2769.37,
          2769.37,
          2769.37,
          2769.37,
          2769.37,
          6974.25,
          6974.25,
          6974.25,
          6974.25,
          6974.25,
          6974.25,
          6974.25,
          6974.25,
          6974.25,
          6974.25,
          6974.25,
          6974.25,
          6974.25,
          6974.25,
          6974.25,
          6974.25,
          6974.25,
          697.43,
          697.43,
          697.43,
          697.43,
          697.43,
          697.43,
          697.43,
          697.43,
          697.43,
          697.43,
          697.43,
          697.43,
          697.43,
          697.43,
          697.43,
          697.43,
          697.43,
          697.43,
          697.43,
          697.43,
          697.43,
          6631.92,
          6631.92,
          6631.92,
          6631.92,
          6631.92,
          6631.92,
          6631.92,
          6631.92,
          6631.92,
          6631.92,
          2652.77,
          2652.77,
          2652.77,
          2652.77,
          2652.77,
          2652.77,
          2652.77,
          2652.77,
          2652.77,
          6653.62,
          6653.62,
          6653.62,
          6653.62,
          6653.62,
          6653.62,
          6653.62,
          6653.62,
          0,
          0,
          0,
          0,
          0,
          0,
          0,
          0,
          6716.29,
          6716.29,
          6716.29,
          6716.29,
          6716.29,
          6716.29,
          6716.29,
          6716.29,
          6716.29,
          6716.29,
          6716.29,
          6716.29,
          6716.29,
          6716.29,
          6716.29,
          6716.29,
          6716.29,
          6716.29,
          6716.29,
          6716.29,
          6716.29,
          6716.29,
          6716.29,
          6716.29,
          1343.26,
          1343.26,
          1343.26,
          1343.26,
          1343.26,
          6776.48,
          6776.48,
          6776.48,
          6776.48,
          9431.92,
          9431.92,
          9431.92,
          9431.92,
          9431.92,
          9431.92,
          9431.92,
          5659.15,
          5659.15,
          5659.15,
          5659.15,
          5659.15,
          5659.15,
          5659.15,
          5659.15,
          5659.15,
          565.92,
          565.92,
          565.92,
          565.92,
          565.92,
          565.92,
          565.92,
          565.92,
          565.92,
          565.92,
          565.92,
          565.92,
          565.92,
          565.92,
          565.92,
          565.92,
          565.92,
          565.92,
          565.92,
          565.92,
          565.92,
          565.92,
          565.92,
          565.92,
          565.92,
          565.92,
          565.92,
          565.92,
          565.92,
          565.92
         ],
         "yaxis": "y3"
        },
        {
         "mode": "lines",
         "name": "bitstamp:/BTC:/free",
         "type": "scatter",
         "uid": "aba4850a-d13f-43a5-b660-59886fc23ede",
         "xaxis": "x3",
         "y": [
          10,
          10,
          10,
          10,
          10,
          10,
          10,
          10,
          10,
          10,
          10,
          10,
          10,
          10,
          10,
          10,
          10,
          10,
          10,
          10,
          10,
          10,
          10,
          10,
          10,
          10,
          10,
          10,
          10,
          10,
          10,
          10,
          10,
          10,
          10,
          10,
          10,
          10,
          10,
          10,
          10,
          10,
          10,
          10,
          10,
          10,
          10,
          10,
          10,
          10,
          10,
          10,
          10,
          10,
          10,
          10,
          10,
          10,
          10,
          10,
          10,
          10,
          10,
          10,
          10,
          10,
          10,
          10,
          10,
          10,
          10,
          10,
          10,
          10,
          10,
          10,
          10,
          10,
          10,
          10,
          10,
          10,
          10,
          10,
          10,
          10,
          10,
          10,
          10,
          10,
          10,
          10,
          10,
          10,
          10,
          10,
          10,
          10,
          10,
          10,
          10,
          10,
          10,
          10,
          10,
          10,
          10,
          10,
          10,
          10,
          10,
          10,
          10,
          10,
          10,
          10,
          10,
          10,
          10,
          10,
          10,
          10,
          10,
          10,
          10,
          10,
          10,
          10,
          10,
          10,
          10,
          10,
          10,
          10,
          10,
          10,
          10,
          10,
          10,
          10,
          10,
          10,
          10,
          10,
          10,
          10,
          10,
          10,
          10,
          10,
          10,
          10,
          10,
          10,
          10,
          10,
          10,
          10,
          10,
          10,
          10,
          10,
          10,
          10,
          10,
          10,
          10,
          10,
          10,
          10,
          10,
          10,
          10,
          10,
          10,
          10,
          10,
          10,
          10,
          10,
          10
         ],
         "yaxis": "y3"
        },
        {
         "mode": "lines",
         "name": "bitstamp:/BTC:/locked",
         "type": "scatter",
         "uid": "9b3ce381-607d-44b8-aab1-3bf1923665b6",
         "xaxis": "x3",
         "y": [
          0,
          0.79842215,
          0.79842215,
          0.79842215,
          0.79842215,
          0.79842215,
          0.79842215,
          0.79842215,
          0.79842215,
          0,
          0,
          0,
          0.79867171,
          0.79867171,
          0.79867171,
          0.79867171,
          0.79867171,
          1.10987502,
          1.10987502,
          1.10987502,
          0.31120331,
          0.31120331,
          0.31120331,
          0.31120331,
          0.81502186,
          0.81502186,
          0.81502186,
          0.81502186,
          0.81502186,
          0.31120331,
          0.31120331,
          0.31120331,
          0.31120331,
          0.31120331,
          0.31120331,
          0.31120331,
          0.31120331,
          0.31120331,
          0.31120331,
          0.31120331,
          0.31120331,
          0.31120331,
          0.31120331,
          0.31120331,
          0.31120331,
          0.31120331,
          1.05916547,
          1.05916547,
          1.05916547,
          1.05916547,
          1.05916547,
          1.05916547,
          1.05916547,
          1.05916547,
          1.05916547,
          1.05916547,
          1.05916547,
          1.05916547,
          1.05916547,
          1.05916547,
          1.05916547,
          1.05916547,
          1.05916547,
          1.05916547,
          1.05916547,
          1.05916547,
          1.05916547,
          0.31120331,
          0.31120331,
          0.31120331,
          0.31120331,
          0.31120331,
          0.31120331,
          0.31120331,
          0.31120331,
          0.31120331,
          0.31120331,
          0.7987115,
          0.7987115,
          0.7987115,
          0.7987115,
          0.7987115,
          0.7987115,
          0.7987115,
          0.7987115,
          0.7987115,
          0.31120331,
          0.31120331,
          0.31120331,
          0.31120331,
          0.31120331,
          0.31120331,
          0.31120331,
          0.31120331,
          1.11652301,
          1.11652301,
          1.11652301,
          1.11652301,
          1.11652301,
          1.11652301,
          1.11652301,
          1.11652301,
          0.31120331,
          0.31120331,
          0.31120331,
          0.31120331,
          0.31120331,
          0.31120331,
          0.31120331,
          0.31120331,
          0.31120331,
          0.31120331,
          0.31120331,
          0.31120331,
          0.31120331,
          0.31120331,
          0.31120331,
          0.31120331,
          0.31120331,
          0.31120331,
          0.31120331,
          0.31120331,
          0.31120331,
          0.31120331,
          0.31120331,
          0.31120331,
          0.95375673,
          0.95375673,
          0.95375673,
          0.95375673,
          0.95375673,
          0.31120331,
          0.31120331,
          0.31120331,
          0.31120331,
          0,
          0,
          0,
          0,
          0,
          0,
          0,
          0.44282152,
          0.44282152,
          0.44282152,
          0.44282152,
          0.44282152,
          0.44282152,
          0.44282152,
          0.44282152,
          0.44282152,
          1.04023865,
          1.04023865,
          1.04023865,
          1.04023865,
          1.04023865,
          1.04023865,
          1.04023865,
          1.04023865,
          1.04023865,
          1.04023865,
          1.04023865,
          1.04023865,
          1.04023865,
          1.04023865,
          1.04023865,
          1.04023865,
          1.04023865,
          1.04023865,
          1.04023865,
          1.04023865,
          1.04023865,
          1.04023865,
          1.04023865,
          1.04023865,
          1.04023865,
          1.04023865,
          1.04023865,
          1.04023865,
          1.04023865,
          1.04023865
         ],
         "yaxis": "y3"
        },
        {
         "mode": "lines",
         "name": "bitstamp:/BTC:/total",
         "type": "scatter",
         "uid": "5557485e-c34e-494d-8bee-8951c37f8554",
         "xaxis": "x3",
         "y": [
          10,
          10.79842215,
          10.79842215,
          10.79842215,
          10.79842215,
          10.79842215,
          10.79842215,
          10.79842215,
          10.79842215,
          10,
          10,
          10,
          10.79867171,
          10.79867171,
          10.79867171,
          10.79867171,
          10.79867171,
          11.10987502,
          11.10987502,
          11.10987502,
          10.31120331,
          10.31120331,
          10.31120331,
          10.31120331,
          10.81502186,
          10.81502186,
          10.81502186,
          10.81502186,
          10.81502186,
          10.31120331,
          10.31120331,
          10.31120331,
          10.31120331,
          10.31120331,
          10.31120331,
          10.31120331,
          10.31120331,
          10.31120331,
          10.31120331,
          10.31120331,
          10.31120331,
          10.31120331,
          10.31120331,
          10.31120331,
          10.31120331,
          10.31120331,
          11.05916547,
          11.05916547,
          11.05916547,
          11.05916547,
          11.05916547,
          11.05916547,
          11.05916547,
          11.05916547,
          11.05916547,
          11.05916547,
          11.05916547,
          11.05916547,
          11.05916547,
          11.05916547,
          11.05916547,
          11.05916547,
          11.05916547,
          11.05916547,
          11.05916547,
          11.05916547,
          11.05916547,
          10.31120331,
          10.31120331,
          10.31120331,
          10.31120331,
          10.31120331,
          10.31120331,
          10.31120331,
          10.31120331,
          10.31120331,
          10.31120331,
          10.7987115,
          10.7987115,
          10.7987115,
          10.7987115,
          10.7987115,
          10.7987115,
          10.7987115,
          10.7987115,
          10.7987115,
          10.31120331,
          10.31120331,
          10.31120331,
          10.31120331,
          10.31120331,
          10.31120331,
          10.31120331,
          10.31120331,
          11.11652301,
          11.11652301,
          11.11652301,
          11.11652301,
          11.11652301,
          11.11652301,
          11.11652301,
          11.11652301,
          10.31120331,
          10.31120331,
          10.31120331,
          10.31120331,
          10.31120331,
          10.31120331,
          10.31120331,
          10.31120331,
          10.31120331,
          10.31120331,
          10.31120331,
          10.31120331,
          10.31120331,
          10.31120331,
          10.31120331,
          10.31120331,
          10.31120331,
          10.31120331,
          10.31120331,
          10.31120331,
          10.31120331,
          10.31120331,
          10.31120331,
          10.31120331,
          10.95375673,
          10.95375673,
          10.95375673,
          10.95375673,
          10.95375673,
          10.31120331,
          10.31120331,
          10.31120331,
          10.31120331,
          10,
          10,
          10,
          10,
          10,
          10,
          10,
          10.44282152,
          10.44282152,
          10.44282152,
          10.44282152,
          10.44282152,
          10.44282152,
          10.44282152,
          10.44282152,
          10.44282152,
          11.04023865,
          11.04023865,
          11.04023865,
          11.04023865,
          11.04023865,
          11.04023865,
          11.04023865,
          11.04023865,
          11.04023865,
          11.04023865,
          11.04023865,
          11.04023865,
          11.04023865,
          11.04023865,
          11.04023865,
          11.04023865,
          11.04023865,
          11.04023865,
          11.04023865,
          11.04023865,
          11.04023865,
          11.04023865,
          11.04023865,
          11.04023865,
          11.04023865,
          11.04023865,
          11.04023865,
          11.04023865,
          11.04023865,
          11.04023865
         ],
         "yaxis": "y3"
        },
        {
         "mode": "lines",
         "name": "bitstamp:/BTC:/worth",
         "type": "scatter",
         "uid": "321c3fe7-7849-4196-a1e0-fe124b314c73",
         "xaxis": "x3",
         "y": [
          87409.9,
          94367.41116885,
          94253.9197520535,
          94036.115577288,
          94981.84138918499,
          94594.178034,
          94594.178034,
          94585.8632489445,
          91978.47623660551,
          85203,
          85352.29999999999,
          85463.4,
          92076.4941360715,
          92389.11568207601,
          91919.37346269102,
          91705.34378939882,
          91356.7626666,
          94156.0796957498,
          93944.2143791184,
          92503.93018152562,
          83865.4503376533,
          84188.8096734549,
          84854.8102952478,
          84762.21568952399,
          89102.80210016799,
          89039.96682316139,
          88764.07561551279,
          89153.09195181701,
          90533.95394290179,
          86335.70531463,
          86254.0405844148,
          84345.53996376689,
          84809.64722474999,
          85436.56838599799,
          85308.709464954,
          85556.178344394,
          85375.62917443589,
          85095.47378050319,
          85605.4658962158,
          85540.1959792635,
          85348.4075976975,
          86063.3864352129,
          86184.13062597299,
          86357.35884158101,
          86290.5422441322,
          86270.95095784319,
          91954.41727499191,
          92495.542241439,
          92279.4461481552,
          91209.361297278,
          91541.136261378,
          91698.9505526349,
          91878.33021655829,
          91778.908318983,
          91453.4370792009,
          91801.9113831606,
          91995.5573705403,
          91861.7414683533,
          91530.4088708721,
          91323.1601099643,
          90309.14522802,
          90423.3864073251,
          90692.898269829,
          90192.02866569269,
          89358.0569976,
          89214.6196214541,
          88009.7235434976,
          82224.11299476749,
          82474.159675035,
          82407.0337414869,
          82723.690795137,
          82932.6988862307,
          82135.6428703677,
          83406.8080144245,
          83749.55241244889,
          83603.13332544689,
          83909.78851188629,
          87631.5438225,
          87545.1541305,
          87409.09036559999,
          87253.696907115,
          87654.11312953499,
          87761.02037338499,
          87587.809040925,
          88715.62646998499,
          88888.72981532999,
          84965.65573083029,
          84912.75925785,
          84757.06008786899,
          85055.7756477597,
          84691.068386685,
          84562.07523327689,
          84551.867142,
          84936.47502546299,
          91468.19647427129,
          91609.3763164983,
          91321.12487484899,
          90822.7711483107,
          91487.53922430871,
          91220.7426720687,
          91739.7731314056,
          92989.71497865,
          86084.6275140315,
          85624.1291742069,
          85691.0488836888,
          85686.0995061,
          85478.53498346971,
          85634.44037751689,
          85596.9075974685,
          85718.2704604272,
          84965.0370586317,
          84551.7640299669,
          84830.0634073038,
          84873.57668527201,
          84540.4217063259,
          84715.2997144635,
          85376.6602947669,
          85119.8082203148,
          85277.775855024,
          85008.03477643439,
          84955.24141548721,
          85244.16133223339,
          85400.1698383137,
          86104.94058455221,
          85960.377514146,
          85963.5739871721,
          91038.9724719433,
          91048.6117778657,
          91411.1811256287,
          91761.810878556,
          92900.0157403703,
          87813.9194211516,
          87892.69701444,
          87820.9310394024,
          88248.433528635,
          85219.9,
          84849.3,
          85184.79999999999,
          84889.9,
          84667.2,
          84925.5,
          84942.8,
          88878.33181564401,
          88749.7806827328,
          89297.61109967201,
          89016.9080572144,
          88869.55984556722,
          88509.38693134241,
          88519.41204000161,
          88420.7273766376,
          88762.31206855681,
          93736.263038733,
          92816.27995202849,
          92842.003708083,
          92748.60328910398,
          92551.86623636099,
          92185.9927275,
          92440.0286188365,
          92879.31971471998,
          92578.6940162805,
          92832.1778956845,
          92647.03309352399,
          92377.651270464,
          91415.825679276,
          91610.90669622149,
          92009.23850671349,
          91471.5788844585,
          91413.176022,
          91821.885656823,
          91856.55200618399,
          91588.71581653498,
          91031.95658141549,
          91247.35163747698,
          90529.95693,
          90198.7497705,
          90717.64098704999,
          90879.15967849949,
          90892.07675771999,
          90810.15818693698,
          90530.06733238649,
          90750.54089822699
         ],
         "yaxis": "y3"
        },
        {
         "mode": "lines",
         "name": "net_worth",
         "type": "scatter",
         "uid": "df5e426b-c637-48ae-be80-38f810ca2956",
         "xaxis": "x3",
         "y": [
          97409.9,
          97367.41116885,
          97253.9197520535,
          97036.115577288,
          97981.84138918499,
          97594.178034,
          97594.178034,
          97585.8632489445,
          94978.47623660551,
          94983.37,
          95132.66999999998,
          95243.76999999999,
          95010.6041360715,
          95323.22568207601,
          94853.48346269102,
          94639.45378939882,
          94290.8726666,
          94449.4896957498,
          94237.62437911841,
          92797.34018152562,
          90788.8703376533,
          91112.2296734549,
          91778.23029524779,
          91685.63568952399,
          91872.17210016798,
          91809.33682316139,
          91533.44561551278,
          91922.46195181701,
          93303.32394290178,
          93309.95531463,
          93228.2905844148,
          91319.78996376689,
          91783.89722474999,
          92410.81838599799,
          92282.959464954,
          92530.428344394,
          92349.87917443589,
          92069.72378050319,
          92579.7158962158,
          92514.4459792635,
          92322.6575976975,
          93037.6364352129,
          93158.38062597299,
          93331.60884158101,
          93264.7922441322,
          93245.20095784319,
          92651.8472749919,
          93192.972241439,
          92976.87614815519,
          91906.79129727799,
          92238.56626137799,
          92396.38055263489,
          92575.76021655828,
          92476.33831898299,
          92150.86707920089,
          92499.34138316059,
          92692.98737054029,
          92559.17146835329,
          92227.83887087209,
          92020.5901099643,
          91006.57522802,
          91120.8164073251,
          91390.328269829,
          90889.45866569268,
          90055.48699759999,
          89912.04962145409,
          88707.1535434976,
          88856.03299476749,
          89106.079675035,
          89038.9537414869,
          89355.61079513699,
          89564.6188862307,
          88767.56287036769,
          90038.7280144245,
          90381.47241244889,
          90235.05332544689,
          90541.70851188629,
          90284.3138225,
          90197.9241305,
          90061.86036559999,
          89906.466907115,
          90306.883129535,
          90413.790373385,
          90240.579040925,
          91368.39646998499,
          91541.49981533,
          91619.27573083028,
          91566.37925785,
          91410.68008786898,
          91709.3956477597,
          91344.688386685,
          91215.69523327689,
          91205.487142,
          91590.09502546299,
          91468.19647427129,
          91609.3763164983,
          91321.12487484899,
          90822.7711483107,
          91487.53922430871,
          91220.7426720687,
          91739.7731314056,
          92989.71497865,
          92800.91751403149,
          92340.4191742069,
          92407.33888368879,
          92402.3895061,
          92194.8249834697,
          92350.73037751688,
          92313.19759746849,
          92434.5604604272,
          91681.3270586317,
          91268.0540299669,
          91546.35340730379,
          91589.866685272,
          91256.71170632589,
          91431.5897144635,
          92092.9502947669,
          91836.09822031479,
          91994.06585502399,
          91724.32477643438,
          91671.5314154872,
          91960.45133223338,
          92116.45983831369,
          92821.2305845522,
          92676.667514146,
          92679.8639871721,
          92382.2324719433,
          92391.8717778657,
          92754.4411256287,
          93105.070878556,
          94243.2757403703,
          94590.3994211516,
          94669.17701443999,
          94597.4110394024,
          95024.91352863499,
          94651.81999999999,
          94281.22,
          94616.71999999999,
          94321.81999999999,
          94099.12,
          94357.42,
          94374.72,
          94537.481815644,
          94408.9306827328,
          94956.761099672,
          94676.0580572144,
          94528.70984556721,
          94168.5369313424,
          94178.5620400016,
          94079.8773766376,
          94421.46206855681,
          94302.183038733,
          93382.19995202849,
          93407.92370808299,
          93314.52328910398,
          93117.78623636099,
          92751.91272749999,
          93005.9486188365,
          93445.23971471998,
          93144.6140162805,
          93398.09789568449,
          93212.95309352399,
          92943.571270464,
          91981.74567927599,
          92176.82669622148,
          92575.15850671349,
          92037.4988844585,
          91979.096022,
          92387.805656823,
          92422.47200618399,
          92154.63581653498,
          91597.87658141549,
          91813.27163747698,
          91095.87693,
          90764.6697705,
          91283.56098704999,
          91445.07967849949,
          91457.99675771999,
          91376.07818693698,
          91095.98733238649,
          91316.46089822699
         ],
         "yaxis": "y3"
        },
        {
         "marker": {
          "color": "DarkGreen"
         },
         "mode": "lines",
         "name": "Net Worth",
         "type": "scatter",
         "uid": "9c96b727-5230-4d89-be49-db2bef7e8edd",
         "xaxis": "x4",
         "y": [
          97409.9,
          97367.41116885,
          97253.9197520535,
          97036.115577288,
          97981.84138918499,
          97594.178034,
          97594.178034,
          97585.8632489445,
          94978.47623660551,
          94983.37,
          95132.66999999998,
          95243.76999999999,
          95010.6041360715,
          95323.22568207601,
          94853.48346269102,
          94639.45378939882,
          94290.8726666,
          94449.4896957498,
          94237.62437911841,
          92797.34018152562,
          90788.8703376533,
          91112.2296734549,
          91778.23029524779,
          91685.63568952399,
          91872.17210016798,
          91809.33682316139,
          91533.44561551278,
          91922.46195181701,
          93303.32394290178,
          93309.95531463,
          93228.2905844148,
          91319.78996376689,
          91783.89722474999,
          92410.81838599799,
          92282.959464954,
          92530.428344394,
          92349.87917443589,
          92069.72378050319,
          92579.7158962158,
          92514.4459792635,
          92322.6575976975,
          93037.6364352129,
          93158.38062597299,
          93331.60884158101,
          93264.7922441322,
          93245.20095784319,
          92651.8472749919,
          93192.972241439,
          92976.87614815519,
          91906.79129727799,
          92238.56626137799,
          92396.38055263489,
          92575.76021655828,
          92476.33831898299,
          92150.86707920089,
          92499.34138316059,
          92692.98737054029,
          92559.17146835329,
          92227.83887087209,
          92020.5901099643,
          91006.57522802,
          91120.8164073251,
          91390.328269829,
          90889.45866569268,
          90055.48699759999,
          89912.04962145409,
          88707.1535434976,
          88856.03299476749,
          89106.079675035,
          89038.9537414869,
          89355.61079513699,
          89564.6188862307,
          88767.56287036769,
          90038.7280144245,
          90381.47241244889,
          90235.05332544689,
          90541.70851188629,
          90284.3138225,
          90197.9241305,
          90061.86036559999,
          89906.466907115,
          90306.883129535,
          90413.790373385,
          90240.579040925,
          91368.39646998499,
          91541.49981533,
          91619.27573083028,
          91566.37925785,
          91410.68008786898,
          91709.3956477597,
          91344.688386685,
          91215.69523327689,
          91205.487142,
          91590.09502546299,
          91468.19647427129,
          91609.3763164983,
          91321.12487484899,
          90822.7711483107,
          91487.53922430871,
          91220.7426720687,
          91739.7731314056,
          92989.71497865,
          92800.91751403149,
          92340.4191742069,
          92407.33888368879,
          92402.3895061,
          92194.8249834697,
          92350.73037751688,
          92313.19759746849,
          92434.5604604272,
          91681.3270586317,
          91268.0540299669,
          91546.35340730379,
          91589.866685272,
          91256.71170632589,
          91431.5897144635,
          92092.9502947669,
          91836.09822031479,
          91994.06585502399,
          91724.32477643438,
          91671.5314154872,
          91960.45133223338,
          92116.45983831369,
          92821.2305845522,
          92676.667514146,
          92679.8639871721,
          92382.2324719433,
          92391.8717778657,
          92754.4411256287,
          93105.070878556,
          94243.2757403703,
          94590.3994211516,
          94669.17701443999,
          94597.4110394024,
          95024.91352863499,
          94651.81999999999,
          94281.22,
          94616.71999999999,
          94321.81999999999,
          94099.12,
          94357.42,
          94374.72,
          94537.481815644,
          94408.9306827328,
          94956.761099672,
          94676.0580572144,
          94528.70984556721,
          94168.5369313424,
          94178.5620400016,
          94079.8773766376,
          94421.46206855681,
          94302.183038733,
          93382.19995202849,
          93407.92370808299,
          93314.52328910398,
          93117.78623636099,
          92751.91272749999,
          93005.9486188365,
          93445.23971471998,
          93144.6140162805,
          93398.09789568449,
          93212.95309352399,
          92943.571270464,
          91981.74567927599,
          92176.82669622148,
          92575.15850671349,
          92037.4988844585,
          91979.096022,
          92387.805656823,
          92422.47200618399,
          92154.63581653498,
          91597.87658141549,
          91813.27163747698,
          91095.87693,
          90764.6697705,
          91283.56098704999,
          91445.07967849949,
          91457.99675771999,
          91376.07818693698,
          91095.98733238649,
          91316.46089822699
         ],
         "yaxis": "y4"
        }
       ],
       "layout": {
        "annotations": [
         {
          "arrowcolor": "FireBrick",
          "arrowhead": 2,
          "arrowsize": 0.8,
          "arrowwidth": 4,
          "ax": 0,
          "ay": -15,
          "hoverlabel": {
           "bgcolor": "FireBrick"
          },
          "hovertext": "Step 20 [2018-05-16 01:00:00]<br>SELL 0.79627569 BTC @ 8326.28 USD MARKET<br>Total: 6630.01 USD - Comm.: 0.00239602 BTC",
          "opacity": 0.6,
          "showarrow": true,
          "x": 19,
          "xref": "x",
          "y": 8326.28,
          "yref": "y"
         },
         {
          "arrowcolor": "DarkGreen",
          "arrowhead": 2,
          "arrowsize": 0.8,
          "arrowwidth": 4,
          "ax": 0,
          "ay": 15,
          "hoverlabel": {
           "bgcolor": "DarkGreen"
          },
          "hovertext": "Step 17 [2018-05-15 22:00:00]<br>BUY 0.31120331 BTC @ 8460.0 USD MARKET<br>Total: 2632.78 USD - Comm.: 7.92 USD",
          "opacity": 0.6,
          "showarrow": true,
          "x": 16,
          "xref": "x",
          "y": 8460,
          "yref": "y"
         },
         {
          "arrowcolor": "DarkGreen",
          "arrowhead": 2,
          "arrowsize": 0.8,
          "arrowwidth": 4,
          "ax": 0,
          "ay": 15,
          "hoverlabel": {
           "bgcolor": "DarkGreen"
          },
          "hovertext": "Step 12 [2018-05-15 17:00:00]<br>BUY 0.79867171 BTC @ 8546.34 USD MARKET<br>Total: 6825.72 USD - Comm.: 20.54 USD",
          "opacity": 0.6,
          "showarrow": true,
          "x": 11,
          "xref": "x",
          "y": 8546.34,
          "yref": "y"
         },
         {
          "arrowcolor": "FireBrick",
          "arrowhead": 2,
          "arrowsize": 0.8,
          "arrowwidth": 4,
          "ax": 0,
          "ay": -15,
          "hoverlabel": {
           "bgcolor": "FireBrick"
          },
          "hovertext": "Step 9 [2018-05-15 14:00:00]<br>SELL 0.79602688 BTC @ 8517.77 USD MARKET<br>Total: 6780.37 USD - Comm.: 0.00239527 BTC",
          "opacity": 0.6,
          "showarrow": true,
          "x": 8,
          "xref": "x",
          "y": 8517.77,
          "yref": "y"
         },
         {
          "arrowcolor": "DarkGreen",
          "arrowhead": 2,
          "arrowsize": 0.8,
          "arrowwidth": 4,
          "ax": 0,
          "ay": 15,
          "hoverlabel": {
           "bgcolor": "DarkGreen"
          },
          "hovertext": "Step 1 [2018-05-15 06:00:00]<br>BUY 0.79842215 BTC @ 8740.99 USD MARKET<br>Total: 6979.0 USD - Comm.: 21.00 USD",
          "opacity": 0.6,
          "showarrow": true,
          "x": 0,
          "xref": "x",
          "y": 8740.99,
          "yref": "y"
         },
         {
          "arrowcolor": "FireBrick",
          "arrowhead": 2,
          "arrowsize": 0.8,
          "arrowwidth": 4,
          "ax": 0,
          "ay": -15,
          "hoverlabel": {
           "bgcolor": "FireBrick"
          },
          "hovertext": "Step 29 [2018-05-16 10:00:00]<br>SELL 0.50230709 BTC @ 8371.13 USD MARKET<br>Total: 4204.88 USD - Comm.: 0.00151146 BTC",
          "opacity": 0.6,
          "showarrow": true,
          "x": 28,
          "xref": "x",
          "y": 8371.13,
          "yref": "y"
         },
         {
          "arrowcolor": "DarkGreen",
          "arrowhead": 2,
          "arrowsize": 0.8,
          "arrowwidth": 4,
          "ax": 0,
          "ay": 15,
          "hoverlabel": {
           "bgcolor": "DarkGreen"
          },
          "hovertext": "Step 24 [2018-05-16 05:00:00]<br>BUY 0.50381855 BTC @ 8220.4 USD MARKET<br>Total: 4141.59 USD - Comm.: 12.46 USD",
          "opacity": 0.6,
          "showarrow": true,
          "x": 23,
          "xref": "x",
          "y": 8220.4,
          "yref": "y"
         },
         {
          "arrowcolor": "DarkGreen",
          "arrowhead": 2,
          "arrowsize": 0.8,
          "arrowwidth": 4,
          "ax": 0,
          "ay": 15,
          "hoverlabel": {
           "bgcolor": "DarkGreen"
          },
          "hovertext": "Step 46 [2018-05-17 03:00:00]<br>BUY 0.74796216 BTC @ 8366.72 USD MARKET<br>Total: 6257.99 USD - Comm.: 18.83 USD",
          "opacity": 0.6,
          "showarrow": true,
          "x": 45,
          "xref": "x",
          "y": 8366.72,
          "yref": "y"
         },
         {
          "arrowcolor": "DarkGreen",
          "arrowhead": 2,
          "arrowsize": 0.8,
          "arrowwidth": 4,
          "ax": 0,
          "ay": 15,
          "hoverlabel": {
           "bgcolor": "DarkGreen"
          },
          "hovertext": "Step 77 [2018-05-18 10:00:00]<br>BUY 0.48750819 BTC @ 8137.73 USD MARKET<br>Total: 3967.21 USD - Comm.: 11.94 USD",
          "opacity": 0.6,
          "showarrow": true,
          "x": 76,
          "xref": "x",
          "y": 8137.73,
          "yref": "y"
         },
         {
          "arrowcolor": "FireBrick",
          "arrowhead": 2,
          "arrowsize": 0.8,
          "arrowwidth": 4,
          "ax": 0,
          "ay": -15,
          "hoverlabel": {
           "bgcolor": "FireBrick"
          },
          "hovertext": "Step 67 [2018-05-18 00:00:00]<br>SELL 0.74571827 BTC @ 7958.08 USD MARKET<br>Total: 5934.49 USD - Comm.: 0.00224389 BTC",
          "opacity": 0.6,
          "showarrow": true,
          "x": 66,
          "xref": "x",
          "y": 7958.08,
          "yref": "y"
         },
         {
          "arrowcolor": "DarkGreen",
          "arrowhead": 2,
          "arrowsize": 0.8,
          "arrowwidth": 4,
          "ax": 0,
          "ay": 15,
          "hoverlabel": {
           "bgcolor": "DarkGreen"
          },
          "hovertext": "Step 94 [2018-05-19 03:00:00]<br>BUY 0.8053197 BTC @ 8237.3 USD MARKET<br>Total: 6633.66 USD - Comm.: 19.96 USD",
          "opacity": 0.6,
          "showarrow": true,
          "x": 93,
          "xref": "x",
          "y": 8237.3,
          "yref": "y"
         },
         {
          "arrowcolor": "FireBrick",
          "arrowhead": 2,
          "arrowsize": 0.8,
          "arrowwidth": 4,
          "ax": 0,
          "ay": -15,
          "hoverlabel": {
           "bgcolor": "FireBrick"
          },
          "hovertext": "Step 86 [2018-05-18 19:00:00]<br>SELL 0.48604567 BTC @ 8231.42 USD MARKET<br>Total: 4000.85 USD - Comm.: 0.00146252 BTC",
          "opacity": 0.6,
          "showarrow": true,
          "x": 85,
          "xref": "x",
          "y": 8231.42,
          "yref": "y"
         },
         {
          "arrowcolor": "FireBrick",
          "arrowhead": 2,
          "arrowsize": 0.8,
          "arrowwidth": 4,
          "ax": 0,
          "ay": -15,
          "hoverlabel": {
           "bgcolor": "FireBrick"
          },
          "hovertext": "Step 102 [2018-05-19 11:00:00]<br>SELL 0.80290374 BTC @ 8365.0 USD MARKET<br>Total: 6716.29 USD - Comm.: 0.00241596 BTC",
          "opacity": 0.6,
          "showarrow": true,
          "x": 101,
          "xref": "x",
          "y": 8365,
          "yref": "y"
         },
         {
          "arrowcolor": "FireBrick",
          "arrowhead": 2,
          "arrowsize": 0.8,
          "arrowwidth": 4,
          "ax": 0,
          "ay": -15,
          "hoverlabel": {
           "bgcolor": "FireBrick"
          },
          "hovertext": "Step 135 [2018-05-20 20:00:00]<br>SELL 0.3102697 BTC @ 8558.5 USD MARKET<br>Total: 2655.44 USD - Comm.: 0.00093361 BTC",
          "opacity": 0.6,
          "showarrow": true,
          "x": 134,
          "xref": "x",
          "y": 8558.5,
          "yref": "y"
         },
         {
          "arrowcolor": "FireBrick",
          "arrowhead": 2,
          "arrowsize": 0.8,
          "arrowwidth": 4,
          "ax": 0,
          "ay": -15,
          "hoverlabel": {
           "bgcolor": "FireBrick"
          },
          "hovertext": "Step 131 [2018-05-20 16:00:00]<br>SELL 0.64062576 BTC @ 8481.11 USD MARKET<br>Total: 5433.22 USD - Comm.: 0.00192766 BTC",
          "opacity": 0.6,
          "showarrow": true,
          "x": 130,
          "xref": "x",
          "y": 8481.11,
          "yref": "y"
         },
         {
          "arrowcolor": "DarkGreen",
          "arrowhead": 2,
          "arrowsize": 0.8,
          "arrowwidth": 4,
          "ax": 0,
          "ay": 15,
          "hoverlabel": {
           "bgcolor": "DarkGreen"
          },
          "hovertext": "Step 126 [2018-05-20 11:00:00]<br>BUY 0.64255342 BTC @ 8336.91 USD MARKET<br>Total: 5356.91 USD - Comm.: 16.12 USD",
          "opacity": 0.6,
          "showarrow": true,
          "x": 125,
          "xref": "x",
          "y": 8336.91,
          "yref": "y"
         },
         {
          "arrowcolor": "DarkGreen",
          "arrowhead": 2,
          "arrowsize": 0.8,
          "arrowwidth": 4,
          "ax": 0,
          "ay": 15,
          "hoverlabel": {
           "bgcolor": "DarkGreen"
          },
          "hovertext": "Step 151 [2018-05-21 12:00:00]<br>BUY 0.59741713 BTC @ 8499.84 USD MARKET<br>Total: 5077.95 USD - Comm.: 15.28 USD",
          "opacity": 0.6,
          "showarrow": true,
          "x": 150,
          "xref": "x",
          "y": 8499.84,
          "yref": "y"
         },
         {
          "arrowcolor": "DarkGreen",
          "arrowhead": 2,
          "arrowsize": 0.8,
          "arrowwidth": 4,
          "ax": 0,
          "ay": 15,
          "hoverlabel": {
           "bgcolor": "DarkGreen"
          },
          "hovertext": "Step 142 [2018-05-21 03:00:00]<br>BUY 0.44282152 BTC @ 8494.28 USD MARKET<br>Total: 3761.45 USD - Comm.: 11.32 USD",
          "opacity": 0.6,
          "showarrow": true,
          "x": 141,
          "xref": "x",
          "y": 8494.28,
          "yref": "y"
         }
        ],
        "margin": {
         "t": 50
        },
        "template": {
         "data": {
          "bar": [
           {
            "error_x": {
             "color": "#2a3f5f"
            },
            "error_y": {
             "color": "#2a3f5f"
            },
            "marker": {
             "line": {
              "color": "white",
              "width": 0.5
             },
             "pattern": {
              "fillmode": "overlay",
              "size": 10,
              "solidity": 0.2
             }
            },
            "type": "bar"
           }
          ],
          "barpolar": [
           {
            "marker": {
             "line": {
              "color": "white",
              "width": 0.5
             },
             "pattern": {
              "fillmode": "overlay",
              "size": 10,
              "solidity": 0.2
             }
            },
            "type": "barpolar"
           }
          ],
          "carpet": [
           {
            "aaxis": {
             "endlinecolor": "#2a3f5f",
             "gridcolor": "#C8D4E3",
             "linecolor": "#C8D4E3",
             "minorgridcolor": "#C8D4E3",
             "startlinecolor": "#2a3f5f"
            },
            "baxis": {
             "endlinecolor": "#2a3f5f",
             "gridcolor": "#C8D4E3",
             "linecolor": "#C8D4E3",
             "minorgridcolor": "#C8D4E3",
             "startlinecolor": "#2a3f5f"
            },
            "type": "carpet"
           }
          ],
          "choropleth": [
           {
            "colorbar": {
             "outlinewidth": 0,
             "ticks": ""
            },
            "type": "choropleth"
           }
          ],
          "contour": [
           {
            "colorbar": {
             "outlinewidth": 0,
             "ticks": ""
            },
            "colorscale": [
             [
              0,
              "#0d0887"
             ],
             [
              0.1111111111111111,
              "#46039f"
             ],
             [
              0.2222222222222222,
              "#7201a8"
             ],
             [
              0.3333333333333333,
              "#9c179e"
             ],
             [
              0.4444444444444444,
              "#bd3786"
             ],
             [
              0.5555555555555556,
              "#d8576b"
             ],
             [
              0.6666666666666666,
              "#ed7953"
             ],
             [
              0.7777777777777778,
              "#fb9f3a"
             ],
             [
              0.8888888888888888,
              "#fdca26"
             ],
             [
              1,
              "#f0f921"
             ]
            ],
            "type": "contour"
           }
          ],
          "contourcarpet": [
           {
            "colorbar": {
             "outlinewidth": 0,
             "ticks": ""
            },
            "type": "contourcarpet"
           }
          ],
          "heatmap": [
           {
            "colorbar": {
             "outlinewidth": 0,
             "ticks": ""
            },
            "colorscale": [
             [
              0,
              "#0d0887"
             ],
             [
              0.1111111111111111,
              "#46039f"
             ],
             [
              0.2222222222222222,
              "#7201a8"
             ],
             [
              0.3333333333333333,
              "#9c179e"
             ],
             [
              0.4444444444444444,
              "#bd3786"
             ],
             [
              0.5555555555555556,
              "#d8576b"
             ],
             [
              0.6666666666666666,
              "#ed7953"
             ],
             [
              0.7777777777777778,
              "#fb9f3a"
             ],
             [
              0.8888888888888888,
              "#fdca26"
             ],
             [
              1,
              "#f0f921"
             ]
            ],
            "type": "heatmap"
           }
          ],
          "heatmapgl": [
           {
            "colorbar": {
             "outlinewidth": 0,
             "ticks": ""
            },
            "colorscale": [
             [
              0,
              "#0d0887"
             ],
             [
              0.1111111111111111,
              "#46039f"
             ],
             [
              0.2222222222222222,
              "#7201a8"
             ],
             [
              0.3333333333333333,
              "#9c179e"
             ],
             [
              0.4444444444444444,
              "#bd3786"
             ],
             [
              0.5555555555555556,
              "#d8576b"
             ],
             [
              0.6666666666666666,
              "#ed7953"
             ],
             [
              0.7777777777777778,
              "#fb9f3a"
             ],
             [
              0.8888888888888888,
              "#fdca26"
             ],
             [
              1,
              "#f0f921"
             ]
            ],
            "type": "heatmapgl"
           }
          ],
          "histogram": [
           {
            "marker": {
             "pattern": {
              "fillmode": "overlay",
              "size": 10,
              "solidity": 0.2
             }
            },
            "type": "histogram"
           }
          ],
          "histogram2d": [
           {
            "colorbar": {
             "outlinewidth": 0,
             "ticks": ""
            },
            "colorscale": [
             [
              0,
              "#0d0887"
             ],
             [
              0.1111111111111111,
              "#46039f"
             ],
             [
              0.2222222222222222,
              "#7201a8"
             ],
             [
              0.3333333333333333,
              "#9c179e"
             ],
             [
              0.4444444444444444,
              "#bd3786"
             ],
             [
              0.5555555555555556,
              "#d8576b"
             ],
             [
              0.6666666666666666,
              "#ed7953"
             ],
             [
              0.7777777777777778,
              "#fb9f3a"
             ],
             [
              0.8888888888888888,
              "#fdca26"
             ],
             [
              1,
              "#f0f921"
             ]
            ],
            "type": "histogram2d"
           }
          ],
          "histogram2dcontour": [
           {
            "colorbar": {
             "outlinewidth": 0,
             "ticks": ""
            },
            "colorscale": [
             [
              0,
              "#0d0887"
             ],
             [
              0.1111111111111111,
              "#46039f"
             ],
             [
              0.2222222222222222,
              "#7201a8"
             ],
             [
              0.3333333333333333,
              "#9c179e"
             ],
             [
              0.4444444444444444,
              "#bd3786"
             ],
             [
              0.5555555555555556,
              "#d8576b"
             ],
             [
              0.6666666666666666,
              "#ed7953"
             ],
             [
              0.7777777777777778,
              "#fb9f3a"
             ],
             [
              0.8888888888888888,
              "#fdca26"
             ],
             [
              1,
              "#f0f921"
             ]
            ],
            "type": "histogram2dcontour"
           }
          ],
          "mesh3d": [
           {
            "colorbar": {
             "outlinewidth": 0,
             "ticks": ""
            },
            "type": "mesh3d"
           }
          ],
          "parcoords": [
           {
            "line": {
             "colorbar": {
              "outlinewidth": 0,
              "ticks": ""
             }
            },
            "type": "parcoords"
           }
          ],
          "pie": [
           {
            "automargin": true,
            "type": "pie"
           }
          ],
          "scatter": [
           {
            "fillpattern": {
             "fillmode": "overlay",
             "size": 10,
             "solidity": 0.2
            },
            "type": "scatter"
           }
          ],
          "scatter3d": [
           {
            "line": {
             "colorbar": {
              "outlinewidth": 0,
              "ticks": ""
             }
            },
            "marker": {
             "colorbar": {
              "outlinewidth": 0,
              "ticks": ""
             }
            },
            "type": "scatter3d"
           }
          ],
          "scattercarpet": [
           {
            "marker": {
             "colorbar": {
              "outlinewidth": 0,
              "ticks": ""
             }
            },
            "type": "scattercarpet"
           }
          ],
          "scattergeo": [
           {
            "marker": {
             "colorbar": {
              "outlinewidth": 0,
              "ticks": ""
             }
            },
            "type": "scattergeo"
           }
          ],
          "scattergl": [
           {
            "marker": {
             "colorbar": {
              "outlinewidth": 0,
              "ticks": ""
             }
            },
            "type": "scattergl"
           }
          ],
          "scattermapbox": [
           {
            "marker": {
             "colorbar": {
              "outlinewidth": 0,
              "ticks": ""
             }
            },
            "type": "scattermapbox"
           }
          ],
          "scatterpolar": [
           {
            "marker": {
             "colorbar": {
              "outlinewidth": 0,
              "ticks": ""
             }
            },
            "type": "scatterpolar"
           }
          ],
          "scatterpolargl": [
           {
            "marker": {
             "colorbar": {
              "outlinewidth": 0,
              "ticks": ""
             }
            },
            "type": "scatterpolargl"
           }
          ],
          "scatterternary": [
           {
            "marker": {
             "colorbar": {
              "outlinewidth": 0,
              "ticks": ""
             }
            },
            "type": "scatterternary"
           }
          ],
          "surface": [
           {
            "colorbar": {
             "outlinewidth": 0,
             "ticks": ""
            },
            "colorscale": [
             [
              0,
              "#0d0887"
             ],
             [
              0.1111111111111111,
              "#46039f"
             ],
             [
              0.2222222222222222,
              "#7201a8"
             ],
             [
              0.3333333333333333,
              "#9c179e"
             ],
             [
              0.4444444444444444,
              "#bd3786"
             ],
             [
              0.5555555555555556,
              "#d8576b"
             ],
             [
              0.6666666666666666,
              "#ed7953"
             ],
             [
              0.7777777777777778,
              "#fb9f3a"
             ],
             [
              0.8888888888888888,
              "#fdca26"
             ],
             [
              1,
              "#f0f921"
             ]
            ],
            "type": "surface"
           }
          ],
          "table": [
           {
            "cells": {
             "fill": {
              "color": "#EBF0F8"
             },
             "line": {
              "color": "white"
             }
            },
            "header": {
             "fill": {
              "color": "#C8D4E3"
             },
             "line": {
              "color": "white"
             }
            },
            "type": "table"
           }
          ]
         },
         "layout": {
          "annotationdefaults": {
           "arrowcolor": "#2a3f5f",
           "arrowhead": 0,
           "arrowwidth": 1
          },
          "autotypenumbers": "strict",
          "coloraxis": {
           "colorbar": {
            "outlinewidth": 0,
            "ticks": ""
           }
          },
          "colorscale": {
           "diverging": [
            [
             0,
             "#8e0152"
            ],
            [
             0.1,
             "#c51b7d"
            ],
            [
             0.2,
             "#de77ae"
            ],
            [
             0.3,
             "#f1b6da"
            ],
            [
             0.4,
             "#fde0ef"
            ],
            [
             0.5,
             "#f7f7f7"
            ],
            [
             0.6,
             "#e6f5d0"
            ],
            [
             0.7,
             "#b8e186"
            ],
            [
             0.8,
             "#7fbc41"
            ],
            [
             0.9,
             "#4d9221"
            ],
            [
             1,
             "#276419"
            ]
           ],
           "sequential": [
            [
             0,
             "#0d0887"
            ],
            [
             0.1111111111111111,
             "#46039f"
            ],
            [
             0.2222222222222222,
             "#7201a8"
            ],
            [
             0.3333333333333333,
             "#9c179e"
            ],
            [
             0.4444444444444444,
             "#bd3786"
            ],
            [
             0.5555555555555556,
             "#d8576b"
            ],
            [
             0.6666666666666666,
             "#ed7953"
            ],
            [
             0.7777777777777778,
             "#fb9f3a"
            ],
            [
             0.8888888888888888,
             "#fdca26"
            ],
            [
             1,
             "#f0f921"
            ]
           ],
           "sequentialminus": [
            [
             0,
             "#0d0887"
            ],
            [
             0.1111111111111111,
             "#46039f"
            ],
            [
             0.2222222222222222,
             "#7201a8"
            ],
            [
             0.3333333333333333,
             "#9c179e"
            ],
            [
             0.4444444444444444,
             "#bd3786"
            ],
            [
             0.5555555555555556,
             "#d8576b"
            ],
            [
             0.6666666666666666,
             "#ed7953"
            ],
            [
             0.7777777777777778,
             "#fb9f3a"
            ],
            [
             0.8888888888888888,
             "#fdca26"
            ],
            [
             1,
             "#f0f921"
            ]
           ]
          },
          "colorway": [
           "#636efa",
           "#EF553B",
           "#00cc96",
           "#ab63fa",
           "#FFA15A",
           "#19d3f3",
           "#FF6692",
           "#B6E880",
           "#FF97FF",
           "#FECB52"
          ],
          "font": {
           "color": "#2a3f5f"
          },
          "geo": {
           "bgcolor": "white",
           "lakecolor": "white",
           "landcolor": "white",
           "showlakes": true,
           "showland": true,
           "subunitcolor": "#C8D4E3"
          },
          "hoverlabel": {
           "align": "left"
          },
          "hovermode": "closest",
          "mapbox": {
           "style": "light"
          },
          "paper_bgcolor": "white",
          "plot_bgcolor": "white",
          "polar": {
           "angularaxis": {
            "gridcolor": "#EBF0F8",
            "linecolor": "#EBF0F8",
            "ticks": ""
           },
           "bgcolor": "white",
           "radialaxis": {
            "gridcolor": "#EBF0F8",
            "linecolor": "#EBF0F8",
            "ticks": ""
           }
          },
          "scene": {
           "xaxis": {
            "backgroundcolor": "white",
            "gridcolor": "#DFE8F3",
            "gridwidth": 2,
            "linecolor": "#EBF0F8",
            "showbackground": true,
            "ticks": "",
            "zerolinecolor": "#EBF0F8"
           },
           "yaxis": {
            "backgroundcolor": "white",
            "gridcolor": "#DFE8F3",
            "gridwidth": 2,
            "linecolor": "#EBF0F8",
            "showbackground": true,
            "ticks": "",
            "zerolinecolor": "#EBF0F8"
           },
           "zaxis": {
            "backgroundcolor": "white",
            "gridcolor": "#DFE8F3",
            "gridwidth": 2,
            "linecolor": "#EBF0F8",
            "showbackground": true,
            "ticks": "",
            "zerolinecolor": "#EBF0F8"
           }
          },
          "shapedefaults": {
           "line": {
            "color": "#2a3f5f"
           }
          },
          "ternary": {
           "aaxis": {
            "gridcolor": "#DFE8F3",
            "linecolor": "#A2B1C6",
            "ticks": ""
           },
           "baxis": {
            "gridcolor": "#DFE8F3",
            "linecolor": "#A2B1C6",
            "ticks": ""
           },
           "bgcolor": "white",
           "caxis": {
            "gridcolor": "#DFE8F3",
            "linecolor": "#A2B1C6",
            "ticks": ""
           }
          },
          "title": {
           "x": 0.05
          },
          "xaxis": {
           "automargin": true,
           "gridcolor": "#EBF0F8",
           "linecolor": "#EBF0F8",
           "ticks": "",
           "title": {
            "standoff": 15
           },
           "zerolinecolor": "#EBF0F8",
           "zerolinewidth": 2
          },
          "yaxis": {
           "automargin": true,
           "gridcolor": "#EBF0F8",
           "linecolor": "#EBF0F8",
           "ticks": "",
           "title": {
            "standoff": 15
           },
           "zerolinecolor": "#EBF0F8",
           "zerolinewidth": 2
          }
         }
        },
        "title": {
         "text": "[2022-07-29 01:26:13] Episode: 2/2 Step: 181/200"
        },
        "xaxis": {
         "anchor": "y",
         "domain": [
          0,
          1
         ],
         "gridcolor": "Gainsboro",
         "linecolor": "Grey",
         "matches": "x4",
         "rangeslider": {
          "visible": false
         },
         "showticklabels": false,
         "title": {
          "font": {
           "size": 12
          },
          "standoff": 7,
          "text": "Price"
         }
        },
        "xaxis2": {
         "anchor": "y2",
         "domain": [
          0,
          1
         ],
         "gridcolor": "Gainsboro",
         "linecolor": "Grey",
         "matches": "x4",
         "showticklabels": false,
         "title": {
          "font": {
           "size": 12
          },
          "standoff": 7,
          "text": "Volume"
         }
        },
        "xaxis3": {
         "anchor": "y3",
         "domain": [
          0,
          1
         ],
         "gridcolor": "Gainsboro",
         "linecolor": "Grey",
         "matches": "x4",
         "showticklabels": false,
         "title": {
          "font": {
           "size": 12
          },
          "standoff": 7,
          "text": "Performance"
         }
        },
        "xaxis4": {
         "anchor": "y4",
         "domain": [
          0,
          1
         ],
         "gridcolor": "Gainsboro",
         "linecolor": "Grey",
         "title": {
          "font": {
           "size": 12
          },
          "standoff": 7,
          "text": "Net Worth"
         }
        },
        "yaxis": {
         "anchor": "x",
         "domain": [
          0.49950000000000006,
          1
         ],
         "gridcolor": "Gainsboro",
         "linecolor": "Grey"
        },
        "yaxis2": {
         "anchor": "x2",
         "domain": [
          0.333,
          0.46950000000000003
         ],
         "gridcolor": "Gainsboro",
         "linecolor": "Grey"
        },
        "yaxis3": {
         "anchor": "x3",
         "domain": [
          0.1665,
          0.30300000000000005
         ],
         "gridcolor": "Gainsboro",
         "linecolor": "Grey"
        },
        "yaxis4": {
         "anchor": "x4",
         "domain": [
          0,
          0.1365
         ],
         "gridcolor": "Gainsboro",
         "linecolor": "Grey"
        }
       }
      }
     },
     "metadata": {},
     "output_type": "display_data"
    },
    {
     "data": {
      "application/vnd.jupyter.widget-view+json": {
       "model_id": "5a95dff502e6465b97c42c73d4ef69fb",
       "version_major": 2,
       "version_minor": 0
      },
      "text/plain": [
       "FigureWidget({\n",
       "    'data': [{'close': array([8740.99, 8739.  , 8728.49, 8708.32, 8795.9 , 8760.  , 8760.  , 87…"
      ]
     },
     "metadata": {},
     "output_type": "display_data"
    },
    {
     "data": {
      "application/vnd.plotly.v1+json": {
       "config": {
        "plotlyServerURL": "https://plot.ly"
       },
       "data": [
        {
         "close": [
          8740.99,
          8739,
          8728.49,
          8708.32,
          8795.9,
          8760,
          8760,
          8759.23,
          8517.77,
          8520.3,
          8535.23,
          8546.34,
          8526.65,
          8555.6,
          8512.1,
          8492.28,
          8460,
          8474.99,
          8455.92,
          8326.28,
          8133.43,
          8164.79,
          8229.38,
          8220.4,
          8238.8,
          8232.99,
          8207.48,
          8243.45,
          8371.13,
          8373,
          8365.08,
          8179.99,
          8225,
          8285.8,
          8273.4,
          8297.4,
          8279.89,
          8252.72,
          8302.18,
          8295.85,
          8277.25,
          8346.59,
          8358.3,
          8375.1,
          8368.62,
          8366.72,
          8314.77,
          8363.7,
          8344.16,
          8247.4,
          8277.4,
          8291.67,
          8307.89,
          8298.9,
          8269.47,
          8300.98,
          8318.49,
          8306.39,
          8276.43,
          8257.69,
          8166,
          8176.33,
          8200.7,
          8155.41,
          8080,
          8067.03,
          7958.08,
          7974.25,
          7998.5,
          7991.99,
          8022.7,
          8042.97,
          7965.67,
          8088.95,
          8122.19,
          8107.99,
          8137.73,
          8115,
          8107,
          8094.4,
          8080.01,
          8117.09,
          8126.99,
          8110.95,
          8215.39,
          8231.42,
          8240.13,
          8235,
          8219.9,
          8248.87,
          8213.5,
          8200.99,
          8200,
          8237.3,
          8228.13,
          8240.83,
          8214.9,
          8170.07,
          8229.87,
          8205.87,
          8252.56,
          8365,
          8348.65,
          8303.99,
          8310.48,
          8310,
          8289.87,
          8304.99,
          8301.35,
          8313.12,
          8240.07,
          8199.99,
          8226.98,
          8231.2,
          8198.89,
          8215.85,
          8279.99,
          8255.08,
          8270.4,
          8244.24,
          8239.12,
          8267.14,
          8282.27,
          8350.62,
          8336.6,
          8336.91,
          8311.21,
          8312.09,
          8345.19,
          8377.2,
          8481.11,
          8516.36,
          8524,
          8517.04,
          8558.5,
          8521.99,
          8484.93,
          8518.48,
          8488.99,
          8466.72,
          8492.55,
          8494.28,
          8510.95,
          8498.64,
          8551.1,
          8524.22,
          8510.11,
          8475.62,
          8476.58,
          8467.13,
          8499.84,
          8490.42,
          8407.09,
          8409.42,
          8400.96,
          8383.14,
          8350,
          8373.01,
          8412.8,
          8385.57,
          8408.53,
          8391.76,
          8367.36,
          8280.24,
          8297.91,
          8333.99,
          8285.29,
          8280,
          8317.02,
          8320.16,
          8295.9,
          8245.47,
          8264.98,
          8200,
          8170,
          8217,
          8231.63,
          8232.8,
          8225.38,
          8200.01,
          8219.98,
          8187.98,
          8100.32,
          8076.99,
          7964.73,
          7984.08,
          7949.35,
          7900.61,
          7895.5,
          7960,
          7900,
          7921.99,
          7943.07,
          7856.37,
          7848.3,
          7852.68,
          7847.1,
          7849.31,
          7911.83,
          7901.01,
          7887
         ],
         "high": [
          8796.68,
          8766,
          8750.27,
          8754.4,
          8865,
          8821.19,
          8798.6,
          8771.02,
          8761.7,
          8553.67,
          8589.1,
          8579.48,
          8555.51,
          8583.6,
          8569.92,
          8555.54,
          8557.51,
          8505,
          8505.33,
          8478.29,
          8339.81,
          8217.44,
          8252.72,
          8248.63,
          8267.12,
          8255,
          8261.24,
          8263.93,
          8455.66,
          8439.44,
          8399.1,
          8381.73,
          8229.91,
          8377.29,
          8329.1,
          8350,
          8346.95,
          8377.29,
          8311.35,
          8319.96,
          8398.24,
          8372.58,
          8399.99,
          8386.53,
          8400,
          8500,
          8381,
          8371.3,
          8382.41,
          8351,
          8292.99,
          8325.8,
          8318.99,
          8324.9,
          8335.56,
          8309.4,
          8377.29,
          8330.41,
          8328.23,
          8284.36,
          8274.83,
          8200,
          8232.14,
          8213.97,
          8155.41,
          8108.28,
          8068.92,
          8019.9,
          8026.66,
          8025,
          8104.69,
          8061.39,
          8045.99,
          8170.71,
          8144.16,
          8139.99,
          8152.99,
          8137.73,
          8143.72,
          8129.99,
          8106.76,
          8139,
          8152.04,
          8146.99,
          8232.14,
          8275.1,
          8256.12,
          8274.1,
          8255.8,
          8253.97,
          8261.09,
          8235.76,
          8227,
          8273.36,
          8264.21,
          8250,
          8250.86,
          8235.77,
          8232.12,
          8232.14,
          8252.72,
          8370,
          8395,
          8374.48,
          8331,
          8319.43,
          8323.4,
          8314.55,
          8330.62,
          8314.8,
          8323.99,
          8263.03,
          8247.78,
          8253.75,
          8237.89,
          8235,
          8279.99,
          8290,
          8278.71,
          8275.34,
          8279.31,
          8279.98,
          8294.04,
          8356.4,
          8374.94,
          8354.83,
          8360.45,
          8337.14,
          8351.97,
          8377.29,
          8549,
          8531.9,
          8551.79,
          8529.9,
          8590,
          8576.1,
          8549.89,
          8531.89,
          8550,
          8493.29,
          8522.98,
          8517,
          8537.29,
          8524.51,
          8589.1,
          8589.07,
          8536.92,
          8524.03,
          8497.8,
          8498,
          8513.5,
          8510,
          8494.7,
          8427.29,
          8419.03,
          8415.47,
          8389.99,
          8397.57,
          8455,
          8429.66,
          8412.61,
          8424,
          8417.65,
          8369.7,
          8326.5,
          8336.65,
          8333.99,
          8314.32,
          8355.97,
          8333.49,
          8325.6,
          8296.01,
          8264.98,
          8271.31,
          8200,
          8232.14,
          8246,
          8248.94,
          8259.95,
          8242.49,
          8232.04,
          8230.9,
          8205,
          8118.98,
          8103.07,
          8040.95,
          8032.01,
          7960.25,
          7920,
          7960,
          7960,
          7935,
          7960.99,
          7951.38,
          7888.92,
          7870,
          7909.75,
          7882.27,
          7949.27,
          7944.73,
          7916.48
         ],
         "low": [
          8707.28,
          8721.11,
          8660.53,
          8701.35,
          8695.11,
          8740.54,
          8741.52,
          8700,
          8467.42,
          8477.89,
          8500.78,
          8500,
          8400,
          8451.05,
          8461.38,
          8481.24,
          8420.37,
          8450,
          8430.94,
          8275.02,
          8100.01,
          8122.56,
          8157.01,
          8166.25,
          8176.91,
          8213.79,
          8200,
          8207.48,
          8237.1,
          8370,
          8356.4,
          8145.1,
          8173.6,
          8211.8,
          8201,
          8250.9,
          8266.46,
          8252.72,
          8232.14,
          8268.37,
          8277.25,
          8277.25,
          8314.78,
          8314.77,
          8350.07,
          8331.39,
          8314.77,
          8275.45,
          8335.49,
          8191.14,
          8227.7,
          8264.13,
          8249.93,
          8269.52,
          8219.44,
          8262.68,
          8286.65,
          8289.87,
          8232.14,
          8232.14,
          8110.02,
          8154.95,
          8168.6,
          8151,
          7980,
          8005.95,
          7929.53,
          7931.03,
          7950,
          7980.58,
          7991.99,
          7992.75,
          7953.4,
          7965.67,
          8085.94,
          8078.48,
          8092.9,
          8049.22,
          8079.46,
          8062.12,
          8043.96,
          8063.1,
          8088.46,
          8094.43,
          8088.46,
          8191.14,
          8212,
          8224.5,
          8211,
          8211.01,
          8210.03,
          8158.27,
          8177.65,
          8179.41,
          8221.92,
          8217.32,
          8213.52,
          8141.08,
          8146.1,
          8186.03,
          8197.09,
          8231.21,
          8323.82,
          8296,
          8296.31,
          8282.65,
          8280,
          8273.36,
          8290.08,
          8277.93,
          8240.07,
          8191.14,
          8178,
          8193.7,
          8180,
          8170.71,
          8215.53,
          8240.02,
          8237.17,
          8237.17,
          8239.12,
          8227.79,
          8247.57,
          8274.24,
          8326.1,
          8320.61,
          8281.31,
          8269.85,
          8311.16,
          8336.11,
          8369.86,
          8471.51,
          8511,
          8476.66,
          8507.68,
          8509.24,
          8482.53,
          8484.93,
          8450,
          8434.47,
          8461.1,
          8481,
          8480,
          8488.1,
          8471.09,
          8509.2,
          8482.64,
          8469,
          8440.4,
          8440.52,
          8461.8,
          8480,
          8358.17,
          8380.73,
          8370,
          8383.12,
          8320,
          8349.17,
          8357.11,
          8370.58,
          8367.21,
          8376.99,
          8335.6,
          8252.72,
          8264.49,
          8282.59,
          8271.09,
          8261.52,
          8280,
          8297,
          8290,
          8220,
          8230.45,
          8180,
          8119.38,
          8170,
          8189.84,
          8210.76,
          8212.68,
          8200,
          8186,
          8161.77,
          8063.15,
          8050.01,
          7951.41,
          7964.73,
          7949.35,
          7861.32,
          7865,
          7886.48,
          7870.35,
          7885.2,
          7896.41,
          7811.62,
          7808.05,
          7808,
          7836.79,
          7801.02,
          7847.36,
          7883,
          7850.72
         ],
         "name": "Price",
         "open": [
          8733.86,
          8740.99,
          8739,
          8728.49,
          8708.32,
          8795.9,
          8760,
          8760,
          8759.23,
          8517.77,
          8520.3,
          8535.23,
          8546.34,
          8526.65,
          8555.6,
          8512.1,
          8492.28,
          8460,
          8474.99,
          8455.92,
          8326.28,
          8133.43,
          8164.79,
          8229.38,
          8220.4,
          8238.8,
          8232.99,
          8207.48,
          8243.45,
          8371.13,
          8373,
          8365.08,
          8179.99,
          8225,
          8285.8,
          8273.4,
          8297.4,
          8279.89,
          8252.72,
          8302.18,
          8295.85,
          8277.25,
          8346.59,
          8358.3,
          8375.1,
          8368.62,
          8366.72,
          8314.77,
          8363.7,
          8344.16,
          8247.4,
          8277.4,
          8291.67,
          8307.89,
          8298.9,
          8269.47,
          8300.98,
          8318.49,
          8306.39,
          8276.43,
          8257.69,
          8166,
          8176.33,
          8200.7,
          8155.41,
          8080,
          8067.03,
          7958.08,
          7974.25,
          7998.5,
          7991.99,
          8022.7,
          8042.97,
          7965.67,
          8088.95,
          8122.19,
          8107.99,
          8137.73,
          8115,
          8107,
          8094.4,
          8080.01,
          8117.09,
          8126.99,
          8110.95,
          8215.39,
          8231.42,
          8240.13,
          8235,
          8219.9,
          8248.87,
          8213.5,
          8200.99,
          8200,
          8237.3,
          8228.13,
          8240.83,
          8214.9,
          8170.07,
          8229.87,
          8205.87,
          8252.56,
          8365,
          8348.65,
          8303.99,
          8310.48,
          8310,
          8289.87,
          8304.99,
          8301.35,
          8313.12,
          8240.07,
          8199.99,
          8226.98,
          8231.2,
          8198.89,
          8215.85,
          8279.99,
          8255.08,
          8270.4,
          8244.24,
          8239.12,
          8267.14,
          8282.27,
          8350.62,
          8336.6,
          8336.91,
          8311.21,
          8312.09,
          8345.19,
          8377.2,
          8481.11,
          8516.36,
          8524,
          8517.04,
          8558.5,
          8521.99,
          8484.93,
          8518.48,
          8488.99,
          8466.72,
          8492.55,
          8494.28,
          8510.95,
          8498.64,
          8551.1,
          8524.22,
          8510.11,
          8475.62,
          8476.58,
          8467.13,
          8499.84,
          8490.42,
          8407.09,
          8409.42,
          8400.96,
          8383.14,
          8350,
          8373.01,
          8412.8,
          8385.57,
          8408.53,
          8391.76,
          8367.36,
          8280.24,
          8297.91,
          8333.99,
          8285.29,
          8280,
          8317.02,
          8320.16,
          8295.9,
          8245.47,
          8264.98,
          8200,
          8170,
          8217,
          8231.63,
          8232.8,
          8225.38,
          8200.01,
          8219.98,
          8187.98,
          8100.32,
          8076.99,
          7964.73,
          7984.08,
          7949.35,
          7900.61,
          7895.5,
          7960,
          7900,
          7921.99,
          7943.07,
          7856.37,
          7848.3,
          7852.68,
          7847.1,
          7849.31,
          7911.83,
          7901.01
         ],
         "showlegend": false,
         "type": "candlestick",
         "uid": "77128b01-1253-444b-9fba-d16797794175",
         "xaxis": "x",
         "yaxis": "y"
        },
        {
         "marker": {
          "color": "DodgerBlue"
         },
         "name": "Volume",
         "showlegend": false,
         "type": "bar",
         "uid": "9dcecade-0541-4a84-8f61-ce99015e488b",
         "xaxis": "x2",
         "y": [
          559.93,
          273.58,
          917.79,
          182.62,
          1260.69,
          324.11,
          324.2,
          730.67,
          1341.75,
          792.07,
          385.69,
          475.08,
          877.26,
          670.49,
          610.97,
          168.99,
          305.92,
          136.05,
          154.26,
          1070.93,
          1710.2,
          492.8,
          630.72,
          620.93,
          586.34,
          304.52,
          450.97,
          182.36,
          915.32,
          319.29,
          362.01,
          1046.38,
          357.91,
          561.2,
          322.53,
          1073.71,
          237.21,
          251.2,
          359.73,
          117.23,
          363.17,
          214.18,
          171.64,
          258.58,
          299.52,
          718.98,
          119.7,
          405.25,
          210.77,
          714.82,
          215.97,
          164.2,
          201.55,
          203.41,
          886.82,
          95.49,
          499.67,
          172.77,
          355.39,
          255.27,
          591.06,
          133.1,
          149.13,
          87.55,
          1061.54,
          286.94,
          524.42,
          316,
          441.43,
          189.7,
          844.94,
          155.34,
          257.56,
          610.69,
          217.97,
          173.18,
          218.06,
          372.97,
          484.39,
          248.1,
          162.35,
          303.42,
          290.69,
          160.93,
          369.4,
          487.27,
          93.35,
          96.68,
          72.14,
          90.22,
          168.52,
          203.15,
          71.42,
          464.56,
          57,
          89.42,
          49.47,
          200.05,
          254.37,
          65.05,
          118.19,
          452.4,
          181.03,
          288.04,
          145.78,
          110.14,
          55.48,
          80.87,
          67.01,
          59.16,
          121.26,
          244.37,
          156.87,
          80.48,
          139.32,
          93.52,
          200.23,
          97.4,
          68.08,
          47,
          36.65,
          28.75,
          182.85,
          400.18,
          288.1,
          182.94,
          777.81,
          493.59,
          118.63,
          174.37,
          901.75,
          222.45,
          113.8,
          84.2,
          261.44,
          168.78,
          111.07,
          122.12,
          267.32,
          210.39,
          211.36,
          146.22,
          93.39,
          89.04,
          307.59,
          307.2,
          164.24,
          151.21,
          399.77,
          362.01,
          260.85,
          232.32,
          1109.45,
          348.5,
          210.57,
          274.92,
          277.83,
          99.57,
          273.12,
          129.47,
          113.05,
          87.6,
          159.37,
          433.28,
          133.29,
          200.57,
          210.33,
          206.4,
          357.53,
          107.43,
          116.54,
          479.07,
          290.38,
          812.96,
          1542.87,
          430.36,
          312.54,
          132.75,
          333.64,
          205.86,
          120.33,
          263.1,
          457.64,
          451.55,
          962.22,
          381.04,
          386.95,
          905.87,
          453.48,
          542.31,
          476.48,
          341.79,
          654.23,
          769.1,
          719.94,
          523.05,
          409.37,
          255.12,
          551.86,
          340.62,
          488.69
         ],
         "yaxis": "y2"
        },
        {
         "mode": "lines",
         "name": "bitstamp:/USD-BTC",
         "type": "scatter",
         "uid": "b3610eea-9870-4a75-8f30-1c3b9b68ccd1",
         "xaxis": "x3",
         "y": [
          8740.99,
          8739,
          8728.49,
          8708.32,
          8795.9,
          8760,
          8760,
          8759.23,
          8517.77,
          8520.3,
          8535.23,
          8546.34,
          8526.65,
          8555.6,
          8512.1,
          8492.28,
          8460,
          8474.99,
          8455.92,
          8326.28,
          8133.43,
          8164.79,
          8229.38,
          8220.4,
          8238.8,
          8232.99,
          8207.48,
          8243.45,
          8371.13,
          8373,
          8365.08,
          8179.99,
          8225,
          8285.8,
          8273.4,
          8297.4,
          8279.89,
          8252.72,
          8302.18,
          8295.85,
          8277.25,
          8346.59,
          8358.3,
          8375.1,
          8368.62,
          8366.72,
          8314.77,
          8363.7,
          8344.16,
          8247.4,
          8277.4,
          8291.67,
          8307.89,
          8298.9,
          8269.47,
          8300.98,
          8318.49,
          8306.39,
          8276.43,
          8257.69,
          8166,
          8176.33,
          8200.7,
          8155.41,
          8080,
          8067.03,
          7958.08,
          7974.25,
          7998.5,
          7991.99,
          8022.7,
          8042.97,
          7965.67,
          8088.95,
          8122.19,
          8107.99,
          8137.73,
          8115,
          8107,
          8094.4,
          8080.01,
          8117.09,
          8126.99,
          8110.95,
          8215.39,
          8231.42,
          8240.13,
          8235,
          8219.9,
          8248.87,
          8213.5,
          8200.99,
          8200,
          8237.3,
          8228.13,
          8240.83,
          8214.9,
          8170.07,
          8229.87,
          8205.87,
          8252.56,
          8365,
          8348.65,
          8303.99,
          8310.48,
          8310,
          8289.87,
          8304.99,
          8301.35,
          8313.12,
          8240.07,
          8199.99,
          8226.98,
          8231.2,
          8198.89,
          8215.85,
          8279.99,
          8255.08,
          8270.4,
          8244.24,
          8239.12,
          8267.14,
          8282.27,
          8350.62,
          8336.6,
          8336.91,
          8311.21,
          8312.09,
          8345.19,
          8377.2,
          8481.11,
          8516.36,
          8524,
          8517.04,
          8558.5,
          8521.99,
          8484.93,
          8518.48,
          8488.99,
          8466.72,
          8492.55,
          8494.28,
          8510.95,
          8498.64,
          8551.1,
          8524.22,
          8510.11,
          8475.62,
          8476.58,
          8467.13,
          8499.84,
          8490.42,
          8407.09,
          8409.42,
          8400.96,
          8383.14,
          8350,
          8373.01,
          8412.8,
          8385.57,
          8408.53,
          8391.76,
          8367.36,
          8280.24,
          8297.91,
          8333.99,
          8285.29,
          8280,
          8317.02,
          8320.16,
          8295.9,
          8245.47,
          8264.98,
          8200,
          8170,
          8217,
          8231.63,
          8232.8,
          8225.38,
          8200.01,
          8219.98,
          8187.98,
          8100.32,
          8076.99,
          7964.73,
          7984.08,
          7949.35,
          7900.61,
          7895.5,
          7960,
          7900,
          7921.99,
          7943.07,
          7856.37,
          7848.3,
          7852.68,
          7847.1,
          7849.31,
          7911.83,
          7901.01,
          7887
         ],
         "yaxis": "y3"
        },
        {
         "mode": "lines",
         "name": "bitstamp:/USD:/free",
         "type": "scatter",
         "uid": "ea66d02e-e037-4510-a457-e9bd74f24c2b",
         "xaxis": "x3",
         "y": [
          10000,
          3000,
          3000,
          3000,
          3000,
          3000,
          3000,
          3000,
          3000,
          9780.37,
          9780.37,
          9780.37,
          2934.11,
          2934.11,
          2934.11,
          2934.11,
          2934.11,
          293.41,
          293.41,
          293.41,
          6923.42,
          6923.42,
          6923.42,
          6923.42,
          2769.37,
          2769.37,
          2769.37,
          2769.37,
          2769.37,
          6974.25,
          6974.25,
          6974.25,
          6974.25,
          6974.25,
          6974.25,
          6974.25,
          6974.25,
          6974.25,
          6974.25,
          6974.25,
          6974.25,
          6974.25,
          6974.25,
          6974.25,
          6974.25,
          6974.25,
          697.43,
          697.43,
          697.43,
          697.43,
          697.43,
          697.43,
          697.43,
          697.43,
          697.43,
          697.43,
          697.43,
          697.43,
          697.43,
          697.43,
          697.43,
          697.43,
          697.43,
          697.43,
          697.43,
          697.43,
          697.43,
          6631.92,
          6631.92,
          6631.92,
          6631.92,
          6631.92,
          6631.92,
          6631.92,
          6631.92,
          6631.92,
          6631.92,
          2652.77,
          2652.77,
          2652.77,
          2652.77,
          2652.77,
          2652.77,
          2652.77,
          2652.77,
          2652.77,
          6653.62,
          6653.62,
          6653.62,
          6653.62,
          6653.62,
          6653.62,
          6653.62,
          6653.62,
          0,
          0,
          0,
          0,
          0,
          0,
          0,
          0,
          6716.29,
          6716.29,
          6716.29,
          6716.29,
          6716.29,
          6716.29,
          6716.29,
          6716.29,
          6716.29,
          6716.29,
          6716.29,
          6716.29,
          6716.29,
          6716.29,
          6716.29,
          6716.29,
          6716.29,
          6716.29,
          6716.29,
          6716.29,
          6716.29,
          6716.29,
          6716.29,
          6716.29,
          1343.26,
          1343.26,
          1343.26,
          1343.26,
          1343.26,
          6776.48,
          6776.48,
          6776.48,
          6776.48,
          9431.92,
          9431.92,
          9431.92,
          9431.92,
          9431.92,
          9431.92,
          9431.92,
          5659.15,
          5659.15,
          5659.15,
          5659.15,
          5659.15,
          5659.15,
          5659.15,
          5659.15,
          5659.15,
          565.92,
          565.92,
          565.92,
          565.92,
          565.92,
          565.92,
          565.92,
          565.92,
          565.92,
          565.92,
          565.92,
          565.92,
          565.92,
          565.92,
          565.92,
          565.92,
          565.92,
          565.92,
          565.92,
          565.92,
          565.92,
          565.92,
          565.92,
          565.92,
          565.92,
          565.92,
          565.92,
          565.92,
          565.92,
          565.92,
          565.92,
          565.92,
          565.92,
          565.92,
          8826.28,
          8826.28,
          4413.14,
          4413.14,
          4413.14,
          4413.14,
          4413.14,
          4413.14,
          4413.14,
          4413.14,
          4413.14,
          4413.14,
          4413.14,
          4413.14,
          4413.14,
          4413.14
         ],
         "yaxis": "y3"
        },
        {
         "mode": "lines",
         "name": "bitstamp:/USD:/locked",
         "type": "scatter",
         "uid": "fb661c40-5608-44f7-99d3-e46afb27d1f9",
         "xaxis": "x3",
         "y": [
          0,
          0,
          0,
          0,
          0,
          0,
          0,
          0,
          0,
          0,
          0,
          0,
          0,
          0,
          0,
          0,
          0,
          0,
          0,
          0,
          0,
          0,
          0,
          0,
          0,
          0,
          0,
          0,
          0,
          0,
          0,
          0,
          0,
          0,
          0,
          0,
          0,
          0,
          0,
          0,
          0,
          0,
          0,
          0,
          0,
          0,
          0,
          0,
          0,
          0,
          0,
          0,
          0,
          0,
          0,
          0,
          0,
          0,
          0,
          0,
          0,
          0,
          0,
          0,
          0,
          0,
          0,
          0,
          0,
          0,
          0,
          0,
          0,
          0,
          0,
          0,
          0,
          0,
          0,
          0,
          0,
          0,
          0,
          0,
          0,
          0,
          0,
          0,
          0,
          0,
          0,
          0,
          0,
          0,
          0,
          0,
          0,
          0,
          0,
          0,
          0,
          0,
          0,
          0,
          0,
          0,
          0,
          0,
          0,
          0,
          0,
          0,
          0,
          0,
          0,
          0,
          0,
          0,
          0,
          0,
          0,
          0,
          0,
          0,
          0,
          0,
          0,
          0,
          0,
          0,
          0,
          0,
          0,
          0,
          0,
          0,
          0,
          0,
          0,
          0,
          0,
          0,
          0,
          0,
          0,
          0,
          0,
          0,
          0,
          0,
          0,
          0,
          0,
          0,
          0,
          0,
          0,
          0,
          0,
          0,
          0,
          0,
          0,
          0,
          0,
          0,
          0,
          0,
          0,
          0,
          0,
          0,
          0,
          0,
          0,
          0,
          0,
          0,
          0,
          0,
          0,
          0,
          0,
          0,
          0,
          0,
          0,
          0,
          0,
          0,
          0,
          0,
          0,
          0,
          0,
          0,
          0,
          0,
          0,
          0,
          0
         ],
         "yaxis": "y3"
        },
        {
         "mode": "lines",
         "name": "bitstamp:/USD:/total",
         "type": "scatter",
         "uid": "c0bf27d9-e1c6-4ca9-bee9-36b24eb2e6ef",
         "xaxis": "x3",
         "y": [
          10000,
          3000,
          3000,
          3000,
          3000,
          3000,
          3000,
          3000,
          3000,
          9780.37,
          9780.37,
          9780.37,
          2934.11,
          2934.11,
          2934.11,
          2934.11,
          2934.11,
          293.41,
          293.41,
          293.41,
          6923.42,
          6923.42,
          6923.42,
          6923.42,
          2769.37,
          2769.37,
          2769.37,
          2769.37,
          2769.37,
          6974.25,
          6974.25,
          6974.25,
          6974.25,
          6974.25,
          6974.25,
          6974.25,
          6974.25,
          6974.25,
          6974.25,
          6974.25,
          6974.25,
          6974.25,
          6974.25,
          6974.25,
          6974.25,
          6974.25,
          697.43,
          697.43,
          697.43,
          697.43,
          697.43,
          697.43,
          697.43,
          697.43,
          697.43,
          697.43,
          697.43,
          697.43,
          697.43,
          697.43,
          697.43,
          697.43,
          697.43,
          697.43,
          697.43,
          697.43,
          697.43,
          6631.92,
          6631.92,
          6631.92,
          6631.92,
          6631.92,
          6631.92,
          6631.92,
          6631.92,
          6631.92,
          6631.92,
          2652.77,
          2652.77,
          2652.77,
          2652.77,
          2652.77,
          2652.77,
          2652.77,
          2652.77,
          2652.77,
          6653.62,
          6653.62,
          6653.62,
          6653.62,
          6653.62,
          6653.62,
          6653.62,
          6653.62,
          0,
          0,
          0,
          0,
          0,
          0,
          0,
          0,
          6716.29,
          6716.29,
          6716.29,
          6716.29,
          6716.29,
          6716.29,
          6716.29,
          6716.29,
          6716.29,
          6716.29,
          6716.29,
          6716.29,
          6716.29,
          6716.29,
          6716.29,
          6716.29,
          6716.29,
          6716.29,
          6716.29,
          6716.29,
          6716.29,
          6716.29,
          6716.29,
          6716.29,
          1343.26,
          1343.26,
          1343.26,
          1343.26,
          1343.26,
          6776.48,
          6776.48,
          6776.48,
          6776.48,
          9431.92,
          9431.92,
          9431.92,
          9431.92,
          9431.92,
          9431.92,
          9431.92,
          5659.15,
          5659.15,
          5659.15,
          5659.15,
          5659.15,
          5659.15,
          5659.15,
          5659.15,
          5659.15,
          565.92,
          565.92,
          565.92,
          565.92,
          565.92,
          565.92,
          565.92,
          565.92,
          565.92,
          565.92,
          565.92,
          565.92,
          565.92,
          565.92,
          565.92,
          565.92,
          565.92,
          565.92,
          565.92,
          565.92,
          565.92,
          565.92,
          565.92,
          565.92,
          565.92,
          565.92,
          565.92,
          565.92,
          565.92,
          565.92,
          565.92,
          565.92,
          565.92,
          565.92,
          8826.28,
          8826.28,
          4413.14,
          4413.14,
          4413.14,
          4413.14,
          4413.14,
          4413.14,
          4413.14,
          4413.14,
          4413.14,
          4413.14,
          4413.14,
          4413.14,
          4413.14,
          4413.14
         ],
         "yaxis": "y3"
        },
        {
         "mode": "lines",
         "name": "bitstamp:/BTC:/free",
         "type": "scatter",
         "uid": "aba4850a-d13f-43a5-b660-59886fc23ede",
         "xaxis": "x3",
         "y": [
          10,
          10,
          10,
          10,
          10,
          10,
          10,
          10,
          10,
          10,
          10,
          10,
          10,
          10,
          10,
          10,
          10,
          10,
          10,
          10,
          10,
          10,
          10,
          10,
          10,
          10,
          10,
          10,
          10,
          10,
          10,
          10,
          10,
          10,
          10,
          10,
          10,
          10,
          10,
          10,
          10,
          10,
          10,
          10,
          10,
          10,
          10,
          10,
          10,
          10,
          10,
          10,
          10,
          10,
          10,
          10,
          10,
          10,
          10,
          10,
          10,
          10,
          10,
          10,
          10,
          10,
          10,
          10,
          10,
          10,
          10,
          10,
          10,
          10,
          10,
          10,
          10,
          10,
          10,
          10,
          10,
          10,
          10,
          10,
          10,
          10,
          10,
          10,
          10,
          10,
          10,
          10,
          10,
          10,
          10,
          10,
          10,
          10,
          10,
          10,
          10,
          10,
          10,
          10,
          10,
          10,
          10,
          10,
          10,
          10,
          10,
          10,
          10,
          10,
          10,
          10,
          10,
          10,
          10,
          10,
          10,
          10,
          10,
          10,
          10,
          10,
          10,
          10,
          10,
          10,
          10,
          10,
          10,
          10,
          10,
          10,
          10,
          10,
          10,
          10,
          10,
          10,
          10,
          10,
          10,
          10,
          10,
          10,
          10,
          10,
          10,
          10,
          10,
          10,
          10,
          10,
          10,
          10,
          10,
          10,
          10,
          10,
          10,
          10,
          10,
          10,
          10,
          10,
          10,
          10,
          10,
          10,
          10,
          10,
          10,
          10,
          10,
          10,
          10,
          10,
          10,
          10,
          10,
          10,
          10,
          10,
          10,
          10,
          10,
          10,
          10,
          10,
          10,
          10,
          10,
          10,
          10,
          10,
          10,
          10,
          10
         ],
         "yaxis": "y3"
        },
        {
         "mode": "lines",
         "name": "bitstamp:/BTC:/locked",
         "type": "scatter",
         "uid": "9b3ce381-607d-44b8-aab1-3bf1923665b6",
         "xaxis": "x3",
         "y": [
          0,
          0.79842215,
          0.79842215,
          0.79842215,
          0.79842215,
          0.79842215,
          0.79842215,
          0.79842215,
          0.79842215,
          0,
          0,
          0,
          0.79867171,
          0.79867171,
          0.79867171,
          0.79867171,
          0.79867171,
          1.10987502,
          1.10987502,
          1.10987502,
          0.31120331,
          0.31120331,
          0.31120331,
          0.31120331,
          0.81502186,
          0.81502186,
          0.81502186,
          0.81502186,
          0.81502186,
          0.31120331,
          0.31120331,
          0.31120331,
          0.31120331,
          0.31120331,
          0.31120331,
          0.31120331,
          0.31120331,
          0.31120331,
          0.31120331,
          0.31120331,
          0.31120331,
          0.31120331,
          0.31120331,
          0.31120331,
          0.31120331,
          0.31120331,
          1.05916547,
          1.05916547,
          1.05916547,
          1.05916547,
          1.05916547,
          1.05916547,
          1.05916547,
          1.05916547,
          1.05916547,
          1.05916547,
          1.05916547,
          1.05916547,
          1.05916547,
          1.05916547,
          1.05916547,
          1.05916547,
          1.05916547,
          1.05916547,
          1.05916547,
          1.05916547,
          1.05916547,
          0.31120331,
          0.31120331,
          0.31120331,
          0.31120331,
          0.31120331,
          0.31120331,
          0.31120331,
          0.31120331,
          0.31120331,
          0.31120331,
          0.7987115,
          0.7987115,
          0.7987115,
          0.7987115,
          0.7987115,
          0.7987115,
          0.7987115,
          0.7987115,
          0.7987115,
          0.31120331,
          0.31120331,
          0.31120331,
          0.31120331,
          0.31120331,
          0.31120331,
          0.31120331,
          0.31120331,
          1.11652301,
          1.11652301,
          1.11652301,
          1.11652301,
          1.11652301,
          1.11652301,
          1.11652301,
          1.11652301,
          0.31120331,
          0.31120331,
          0.31120331,
          0.31120331,
          0.31120331,
          0.31120331,
          0.31120331,
          0.31120331,
          0.31120331,
          0.31120331,
          0.31120331,
          0.31120331,
          0.31120331,
          0.31120331,
          0.31120331,
          0.31120331,
          0.31120331,
          0.31120331,
          0.31120331,
          0.31120331,
          0.31120331,
          0.31120331,
          0.31120331,
          0.31120331,
          0.95375673,
          0.95375673,
          0.95375673,
          0.95375673,
          0.95375673,
          0.31120331,
          0.31120331,
          0.31120331,
          0.31120331,
          0,
          0,
          0,
          0,
          0,
          0,
          0,
          0.44282152,
          0.44282152,
          0.44282152,
          0.44282152,
          0.44282152,
          0.44282152,
          0.44282152,
          0.44282152,
          0.44282152,
          1.04023865,
          1.04023865,
          1.04023865,
          1.04023865,
          1.04023865,
          1.04023865,
          1.04023865,
          1.04023865,
          1.04023865,
          1.04023865,
          1.04023865,
          1.04023865,
          1.04023865,
          1.04023865,
          1.04023865,
          1.04023865,
          1.04023865,
          1.04023865,
          1.04023865,
          1.04023865,
          1.04023865,
          1.04023865,
          1.04023865,
          1.04023865,
          1.04023865,
          1.04023865,
          1.04023865,
          1.04023865,
          1.04023865,
          1.04023865,
          1.04023865,
          1.04023865,
          1.04023865,
          1.04023865,
          0,
          0,
          0.55349179,
          0.55349179,
          0.55349179,
          0.55349179,
          0.55349179,
          0.55349179,
          0.55349179,
          0.55349179,
          0.55349179,
          0.55349179,
          0.55349179,
          0.55349179,
          0.55349179,
          0.55349179
         ],
         "yaxis": "y3"
        },
        {
         "mode": "lines",
         "name": "bitstamp:/BTC:/total",
         "type": "scatter",
         "uid": "5557485e-c34e-494d-8bee-8951c37f8554",
         "xaxis": "x3",
         "y": [
          10,
          10.79842215,
          10.79842215,
          10.79842215,
          10.79842215,
          10.79842215,
          10.79842215,
          10.79842215,
          10.79842215,
          10,
          10,
          10,
          10.79867171,
          10.79867171,
          10.79867171,
          10.79867171,
          10.79867171,
          11.10987502,
          11.10987502,
          11.10987502,
          10.31120331,
          10.31120331,
          10.31120331,
          10.31120331,
          10.81502186,
          10.81502186,
          10.81502186,
          10.81502186,
          10.81502186,
          10.31120331,
          10.31120331,
          10.31120331,
          10.31120331,
          10.31120331,
          10.31120331,
          10.31120331,
          10.31120331,
          10.31120331,
          10.31120331,
          10.31120331,
          10.31120331,
          10.31120331,
          10.31120331,
          10.31120331,
          10.31120331,
          10.31120331,
          11.05916547,
          11.05916547,
          11.05916547,
          11.05916547,
          11.05916547,
          11.05916547,
          11.05916547,
          11.05916547,
          11.05916547,
          11.05916547,
          11.05916547,
          11.05916547,
          11.05916547,
          11.05916547,
          11.05916547,
          11.05916547,
          11.05916547,
          11.05916547,
          11.05916547,
          11.05916547,
          11.05916547,
          10.31120331,
          10.31120331,
          10.31120331,
          10.31120331,
          10.31120331,
          10.31120331,
          10.31120331,
          10.31120331,
          10.31120331,
          10.31120331,
          10.7987115,
          10.7987115,
          10.7987115,
          10.7987115,
          10.7987115,
          10.7987115,
          10.7987115,
          10.7987115,
          10.7987115,
          10.31120331,
          10.31120331,
          10.31120331,
          10.31120331,
          10.31120331,
          10.31120331,
          10.31120331,
          10.31120331,
          11.11652301,
          11.11652301,
          11.11652301,
          11.11652301,
          11.11652301,
          11.11652301,
          11.11652301,
          11.11652301,
          10.31120331,
          10.31120331,
          10.31120331,
          10.31120331,
          10.31120331,
          10.31120331,
          10.31120331,
          10.31120331,
          10.31120331,
          10.31120331,
          10.31120331,
          10.31120331,
          10.31120331,
          10.31120331,
          10.31120331,
          10.31120331,
          10.31120331,
          10.31120331,
          10.31120331,
          10.31120331,
          10.31120331,
          10.31120331,
          10.31120331,
          10.31120331,
          10.95375673,
          10.95375673,
          10.95375673,
          10.95375673,
          10.95375673,
          10.31120331,
          10.31120331,
          10.31120331,
          10.31120331,
          10,
          10,
          10,
          10,
          10,
          10,
          10,
          10.44282152,
          10.44282152,
          10.44282152,
          10.44282152,
          10.44282152,
          10.44282152,
          10.44282152,
          10.44282152,
          10.44282152,
          11.04023865,
          11.04023865,
          11.04023865,
          11.04023865,
          11.04023865,
          11.04023865,
          11.04023865,
          11.04023865,
          11.04023865,
          11.04023865,
          11.04023865,
          11.04023865,
          11.04023865,
          11.04023865,
          11.04023865,
          11.04023865,
          11.04023865,
          11.04023865,
          11.04023865,
          11.04023865,
          11.04023865,
          11.04023865,
          11.04023865,
          11.04023865,
          11.04023865,
          11.04023865,
          11.04023865,
          11.04023865,
          11.04023865,
          11.04023865,
          11.04023865,
          11.04023865,
          11.04023865,
          11.04023865,
          10,
          10,
          10.55349179,
          10.55349179,
          10.55349179,
          10.55349179,
          10.55349179,
          10.55349179,
          10.55349179,
          10.55349179,
          10.55349179,
          10.55349179,
          10.55349179,
          10.55349179,
          10.55349179,
          10.55349179
         ],
         "yaxis": "y3"
        },
        {
         "mode": "lines",
         "name": "bitstamp:/BTC:/worth",
         "type": "scatter",
         "uid": "321c3fe7-7849-4196-a1e0-fe124b314c73",
         "xaxis": "x3",
         "y": [
          87409.9,
          94367.41116885,
          94253.9197520535,
          94036.115577288,
          94981.84138918499,
          94594.178034,
          94594.178034,
          94585.8632489445,
          91978.47623660551,
          85203,
          85352.29999999999,
          85463.4,
          92076.4941360715,
          92389.11568207601,
          91919.37346269102,
          91705.34378939882,
          91356.7626666,
          94156.0796957498,
          93944.2143791184,
          92503.93018152562,
          83865.4503376533,
          84188.8096734549,
          84854.8102952478,
          84762.21568952399,
          89102.80210016799,
          89039.96682316139,
          88764.07561551279,
          89153.09195181701,
          90533.95394290179,
          86335.70531463,
          86254.0405844148,
          84345.53996376689,
          84809.64722474999,
          85436.56838599799,
          85308.709464954,
          85556.178344394,
          85375.62917443589,
          85095.47378050319,
          85605.4658962158,
          85540.1959792635,
          85348.4075976975,
          86063.3864352129,
          86184.13062597299,
          86357.35884158101,
          86290.5422441322,
          86270.95095784319,
          91954.41727499191,
          92495.542241439,
          92279.4461481552,
          91209.361297278,
          91541.136261378,
          91698.9505526349,
          91878.33021655829,
          91778.908318983,
          91453.4370792009,
          91801.9113831606,
          91995.5573705403,
          91861.7414683533,
          91530.4088708721,
          91323.1601099643,
          90309.14522802,
          90423.3864073251,
          90692.898269829,
          90192.02866569269,
          89358.0569976,
          89214.6196214541,
          88009.7235434976,
          82224.11299476749,
          82474.159675035,
          82407.0337414869,
          82723.690795137,
          82932.6988862307,
          82135.6428703677,
          83406.8080144245,
          83749.55241244889,
          83603.13332544689,
          83909.78851188629,
          87631.5438225,
          87545.1541305,
          87409.09036559999,
          87253.696907115,
          87654.11312953499,
          87761.02037338499,
          87587.809040925,
          88715.62646998499,
          88888.72981532999,
          84965.65573083029,
          84912.75925785,
          84757.06008786899,
          85055.7756477597,
          84691.068386685,
          84562.07523327689,
          84551.867142,
          84936.47502546299,
          91468.19647427129,
          91609.3763164983,
          91321.12487484899,
          90822.7711483107,
          91487.53922430871,
          91220.7426720687,
          91739.7731314056,
          92989.71497865,
          86084.6275140315,
          85624.1291742069,
          85691.0488836888,
          85686.0995061,
          85478.53498346971,
          85634.44037751689,
          85596.9075974685,
          85718.2704604272,
          84965.0370586317,
          84551.7640299669,
          84830.0634073038,
          84873.57668527201,
          84540.4217063259,
          84715.2997144635,
          85376.6602947669,
          85119.8082203148,
          85277.775855024,
          85008.03477643439,
          84955.24141548721,
          85244.16133223339,
          85400.1698383137,
          86104.94058455221,
          85960.377514146,
          85963.5739871721,
          91038.9724719433,
          91048.6117778657,
          91411.1811256287,
          91761.810878556,
          92900.0157403703,
          87813.9194211516,
          87892.69701444,
          87820.9310394024,
          88248.433528635,
          85219.9,
          84849.3,
          85184.79999999999,
          84889.9,
          84667.2,
          84925.5,
          84942.8,
          88878.33181564401,
          88749.7806827328,
          89297.61109967201,
          89016.9080572144,
          88869.55984556722,
          88509.38693134241,
          88519.41204000161,
          88420.7273766376,
          88762.31206855681,
          93736.263038733,
          92816.27995202849,
          92842.003708083,
          92748.60328910398,
          92551.86623636099,
          92185.9927275,
          92440.0286188365,
          92879.31971471998,
          92578.6940162805,
          92832.1778956845,
          92647.03309352399,
          92377.651270464,
          91415.825679276,
          91610.90669622149,
          92009.23850671349,
          91471.5788844585,
          91413.176022,
          91821.885656823,
          91856.55200618399,
          91588.71581653498,
          91031.95658141549,
          91247.35163747698,
          90529.95693,
          90198.7497705,
          90717.64098704999,
          90879.15967849949,
          90892.07675771999,
          90810.15818693698,
          90530.06733238649,
          90750.54089822699,
          90397.25326142699,
          89429.46594136799,
          89171.89717366348,
          87932.51998281448,
          79840.8,
          79493.5,
          83379.0227709919,
          83325.094427945,
          84005.7946484,
          83372.585141,
          83604.6564254621,
          83827.12403239531,
          82912.13629420231,
          82826.96961545701,
          82873.1939094972,
          82814.30542530901,
          82837.62864216491,
          83497.4329488757,
          83383.2441677079,
          83235.38974773
         ],
         "yaxis": "y3"
        },
        {
         "mode": "lines",
         "name": "net_worth",
         "type": "scatter",
         "uid": "df5e426b-c637-48ae-be80-38f810ca2956",
         "xaxis": "x3",
         "y": [
          97409.9,
          97367.41116885,
          97253.9197520535,
          97036.115577288,
          97981.84138918499,
          97594.178034,
          97594.178034,
          97585.8632489445,
          94978.47623660551,
          94983.37,
          95132.66999999998,
          95243.76999999999,
          95010.6041360715,
          95323.22568207601,
          94853.48346269102,
          94639.45378939882,
          94290.8726666,
          94449.4896957498,
          94237.62437911841,
          92797.34018152562,
          90788.8703376533,
          91112.2296734549,
          91778.23029524779,
          91685.63568952399,
          91872.17210016798,
          91809.33682316139,
          91533.44561551278,
          91922.46195181701,
          93303.32394290178,
          93309.95531463,
          93228.2905844148,
          91319.78996376689,
          91783.89722474999,
          92410.81838599799,
          92282.959464954,
          92530.428344394,
          92349.87917443589,
          92069.72378050319,
          92579.7158962158,
          92514.4459792635,
          92322.6575976975,
          93037.6364352129,
          93158.38062597299,
          93331.60884158101,
          93264.7922441322,
          93245.20095784319,
          92651.8472749919,
          93192.972241439,
          92976.87614815519,
          91906.79129727799,
          92238.56626137799,
          92396.38055263489,
          92575.76021655828,
          92476.33831898299,
          92150.86707920089,
          92499.34138316059,
          92692.98737054029,
          92559.17146835329,
          92227.83887087209,
          92020.5901099643,
          91006.57522802,
          91120.8164073251,
          91390.328269829,
          90889.45866569268,
          90055.48699759999,
          89912.04962145409,
          88707.1535434976,
          88856.03299476749,
          89106.079675035,
          89038.9537414869,
          89355.61079513699,
          89564.6188862307,
          88767.56287036769,
          90038.7280144245,
          90381.47241244889,
          90235.05332544689,
          90541.70851188629,
          90284.3138225,
          90197.9241305,
          90061.86036559999,
          89906.466907115,
          90306.883129535,
          90413.790373385,
          90240.579040925,
          91368.39646998499,
          91541.49981533,
          91619.27573083028,
          91566.37925785,
          91410.68008786898,
          91709.3956477597,
          91344.688386685,
          91215.69523327689,
          91205.487142,
          91590.09502546299,
          91468.19647427129,
          91609.3763164983,
          91321.12487484899,
          90822.7711483107,
          91487.53922430871,
          91220.7426720687,
          91739.7731314056,
          92989.71497865,
          92800.91751403149,
          92340.4191742069,
          92407.33888368879,
          92402.3895061,
          92194.8249834697,
          92350.73037751688,
          92313.19759746849,
          92434.5604604272,
          91681.3270586317,
          91268.0540299669,
          91546.35340730379,
          91589.866685272,
          91256.71170632589,
          91431.5897144635,
          92092.9502947669,
          91836.09822031479,
          91994.06585502399,
          91724.32477643438,
          91671.5314154872,
          91960.45133223338,
          92116.45983831369,
          92821.2305845522,
          92676.667514146,
          92679.8639871721,
          92382.2324719433,
          92391.8717778657,
          92754.4411256287,
          93105.070878556,
          94243.2757403703,
          94590.3994211516,
          94669.17701443999,
          94597.4110394024,
          95024.91352863499,
          94651.81999999999,
          94281.22,
          94616.71999999999,
          94321.81999999999,
          94099.12,
          94357.42,
          94374.72,
          94537.481815644,
          94408.9306827328,
          94956.761099672,
          94676.0580572144,
          94528.70984556721,
          94168.5369313424,
          94178.5620400016,
          94079.8773766376,
          94421.46206855681,
          94302.183038733,
          93382.19995202849,
          93407.92370808299,
          93314.52328910398,
          93117.78623636099,
          92751.91272749999,
          93005.9486188365,
          93445.23971471998,
          93144.6140162805,
          93398.09789568449,
          93212.95309352399,
          92943.571270464,
          91981.74567927599,
          92176.82669622148,
          92575.15850671349,
          92037.4988844585,
          91979.096022,
          92387.805656823,
          92422.47200618399,
          92154.63581653498,
          91597.87658141549,
          91813.27163747698,
          91095.87693,
          90764.6697705,
          91283.56098704999,
          91445.07967849949,
          91457.99675771999,
          91376.07818693698,
          91095.98733238649,
          91316.46089822699,
          90963.17326142699,
          89995.38594136799,
          89737.81717366348,
          88498.43998281448,
          88667.08,
          88319.78,
          87792.1627709919,
          87738.234427945,
          88418.9346484,
          87785.725141,
          88017.7964254621,
          88240.26403239531,
          87325.27629420231,
          87240.10961545701,
          87286.3339094972,
          87227.44542530901,
          87250.76864216491,
          87910.5729488757,
          87796.3841677079,
          87648.52974773
         ],
         "yaxis": "y3"
        },
        {
         "marker": {
          "color": "DarkGreen"
         },
         "mode": "lines",
         "name": "Net Worth",
         "type": "scatter",
         "uid": "9c96b727-5230-4d89-be49-db2bef7e8edd",
         "xaxis": "x4",
         "y": [
          97409.9,
          97367.41116885,
          97253.9197520535,
          97036.115577288,
          97981.84138918499,
          97594.178034,
          97594.178034,
          97585.8632489445,
          94978.47623660551,
          94983.37,
          95132.66999999998,
          95243.76999999999,
          95010.6041360715,
          95323.22568207601,
          94853.48346269102,
          94639.45378939882,
          94290.8726666,
          94449.4896957498,
          94237.62437911841,
          92797.34018152562,
          90788.8703376533,
          91112.2296734549,
          91778.23029524779,
          91685.63568952399,
          91872.17210016798,
          91809.33682316139,
          91533.44561551278,
          91922.46195181701,
          93303.32394290178,
          93309.95531463,
          93228.2905844148,
          91319.78996376689,
          91783.89722474999,
          92410.81838599799,
          92282.959464954,
          92530.428344394,
          92349.87917443589,
          92069.72378050319,
          92579.7158962158,
          92514.4459792635,
          92322.6575976975,
          93037.6364352129,
          93158.38062597299,
          93331.60884158101,
          93264.7922441322,
          93245.20095784319,
          92651.8472749919,
          93192.972241439,
          92976.87614815519,
          91906.79129727799,
          92238.56626137799,
          92396.38055263489,
          92575.76021655828,
          92476.33831898299,
          92150.86707920089,
          92499.34138316059,
          92692.98737054029,
          92559.17146835329,
          92227.83887087209,
          92020.5901099643,
          91006.57522802,
          91120.8164073251,
          91390.328269829,
          90889.45866569268,
          90055.48699759999,
          89912.04962145409,
          88707.1535434976,
          88856.03299476749,
          89106.079675035,
          89038.9537414869,
          89355.61079513699,
          89564.6188862307,
          88767.56287036769,
          90038.7280144245,
          90381.47241244889,
          90235.05332544689,
          90541.70851188629,
          90284.3138225,
          90197.9241305,
          90061.86036559999,
          89906.466907115,
          90306.883129535,
          90413.790373385,
          90240.579040925,
          91368.39646998499,
          91541.49981533,
          91619.27573083028,
          91566.37925785,
          91410.68008786898,
          91709.3956477597,
          91344.688386685,
          91215.69523327689,
          91205.487142,
          91590.09502546299,
          91468.19647427129,
          91609.3763164983,
          91321.12487484899,
          90822.7711483107,
          91487.53922430871,
          91220.7426720687,
          91739.7731314056,
          92989.71497865,
          92800.91751403149,
          92340.4191742069,
          92407.33888368879,
          92402.3895061,
          92194.8249834697,
          92350.73037751688,
          92313.19759746849,
          92434.5604604272,
          91681.3270586317,
          91268.0540299669,
          91546.35340730379,
          91589.866685272,
          91256.71170632589,
          91431.5897144635,
          92092.9502947669,
          91836.09822031479,
          91994.06585502399,
          91724.32477643438,
          91671.5314154872,
          91960.45133223338,
          92116.45983831369,
          92821.2305845522,
          92676.667514146,
          92679.8639871721,
          92382.2324719433,
          92391.8717778657,
          92754.4411256287,
          93105.070878556,
          94243.2757403703,
          94590.3994211516,
          94669.17701443999,
          94597.4110394024,
          95024.91352863499,
          94651.81999999999,
          94281.22,
          94616.71999999999,
          94321.81999999999,
          94099.12,
          94357.42,
          94374.72,
          94537.481815644,
          94408.9306827328,
          94956.761099672,
          94676.0580572144,
          94528.70984556721,
          94168.5369313424,
          94178.5620400016,
          94079.8773766376,
          94421.46206855681,
          94302.183038733,
          93382.19995202849,
          93407.92370808299,
          93314.52328910398,
          93117.78623636099,
          92751.91272749999,
          93005.9486188365,
          93445.23971471998,
          93144.6140162805,
          93398.09789568449,
          93212.95309352399,
          92943.571270464,
          91981.74567927599,
          92176.82669622148,
          92575.15850671349,
          92037.4988844585,
          91979.096022,
          92387.805656823,
          92422.47200618399,
          92154.63581653498,
          91597.87658141549,
          91813.27163747698,
          91095.87693,
          90764.6697705,
          91283.56098704999,
          91445.07967849949,
          91457.99675771999,
          91376.07818693698,
          91095.98733238649,
          91316.46089822699,
          90963.17326142699,
          89995.38594136799,
          89737.81717366348,
          88498.43998281448,
          88667.08,
          88319.78,
          87792.1627709919,
          87738.234427945,
          88418.9346484,
          87785.725141,
          88017.7964254621,
          88240.26403239531,
          87325.27629420231,
          87240.10961545701,
          87286.3339094972,
          87227.44542530901,
          87250.76864216491,
          87910.5729488757,
          87796.3841677079,
          87648.52974773
         ],
         "yaxis": "y4"
        }
       ],
       "layout": {
        "annotations": [
         {
          "arrowcolor": "FireBrick",
          "arrowhead": 2,
          "arrowsize": 0.8,
          "arrowwidth": 4,
          "ax": 0,
          "ay": -15,
          "hoverlabel": {
           "bgcolor": "FireBrick"
          },
          "hovertext": "Step 20 [2018-05-16 01:00:00]<br>SELL 0.79627569 BTC @ 8326.28 USD MARKET<br>Total: 6630.01 USD - Comm.: 0.00239602 BTC",
          "opacity": 0.6,
          "showarrow": true,
          "x": 19,
          "xref": "x",
          "y": 8326.28,
          "yref": "y"
         },
         {
          "arrowcolor": "DarkGreen",
          "arrowhead": 2,
          "arrowsize": 0.8,
          "arrowwidth": 4,
          "ax": 0,
          "ay": 15,
          "hoverlabel": {
           "bgcolor": "DarkGreen"
          },
          "hovertext": "Step 17 [2018-05-15 22:00:00]<br>BUY 0.31120331 BTC @ 8460.0 USD MARKET<br>Total: 2632.78 USD - Comm.: 7.92 USD",
          "opacity": 0.6,
          "showarrow": true,
          "x": 16,
          "xref": "x",
          "y": 8460,
          "yref": "y"
         },
         {
          "arrowcolor": "DarkGreen",
          "arrowhead": 2,
          "arrowsize": 0.8,
          "arrowwidth": 4,
          "ax": 0,
          "ay": 15,
          "hoverlabel": {
           "bgcolor": "DarkGreen"
          },
          "hovertext": "Step 12 [2018-05-15 17:00:00]<br>BUY 0.79867171 BTC @ 8546.34 USD MARKET<br>Total: 6825.72 USD - Comm.: 20.54 USD",
          "opacity": 0.6,
          "showarrow": true,
          "x": 11,
          "xref": "x",
          "y": 8546.34,
          "yref": "y"
         },
         {
          "arrowcolor": "FireBrick",
          "arrowhead": 2,
          "arrowsize": 0.8,
          "arrowwidth": 4,
          "ax": 0,
          "ay": -15,
          "hoverlabel": {
           "bgcolor": "FireBrick"
          },
          "hovertext": "Step 9 [2018-05-15 14:00:00]<br>SELL 0.79602688 BTC @ 8517.77 USD MARKET<br>Total: 6780.37 USD - Comm.: 0.00239527 BTC",
          "opacity": 0.6,
          "showarrow": true,
          "x": 8,
          "xref": "x",
          "y": 8517.77,
          "yref": "y"
         },
         {
          "arrowcolor": "DarkGreen",
          "arrowhead": 2,
          "arrowsize": 0.8,
          "arrowwidth": 4,
          "ax": 0,
          "ay": 15,
          "hoverlabel": {
           "bgcolor": "DarkGreen"
          },
          "hovertext": "Step 1 [2018-05-15 06:00:00]<br>BUY 0.79842215 BTC @ 8740.99 USD MARKET<br>Total: 6979.0 USD - Comm.: 21.00 USD",
          "opacity": 0.6,
          "showarrow": true,
          "x": 0,
          "xref": "x",
          "y": 8740.99,
          "yref": "y"
         },
         {
          "arrowcolor": "FireBrick",
          "arrowhead": 2,
          "arrowsize": 0.8,
          "arrowwidth": 4,
          "ax": 0,
          "ay": -15,
          "hoverlabel": {
           "bgcolor": "FireBrick"
          },
          "hovertext": "Step 29 [2018-05-16 10:00:00]<br>SELL 0.50230709 BTC @ 8371.13 USD MARKET<br>Total: 4204.88 USD - Comm.: 0.00151146 BTC",
          "opacity": 0.6,
          "showarrow": true,
          "x": 28,
          "xref": "x",
          "y": 8371.13,
          "yref": "y"
         },
         {
          "arrowcolor": "DarkGreen",
          "arrowhead": 2,
          "arrowsize": 0.8,
          "arrowwidth": 4,
          "ax": 0,
          "ay": 15,
          "hoverlabel": {
           "bgcolor": "DarkGreen"
          },
          "hovertext": "Step 24 [2018-05-16 05:00:00]<br>BUY 0.50381855 BTC @ 8220.4 USD MARKET<br>Total: 4141.59 USD - Comm.: 12.46 USD",
          "opacity": 0.6,
          "showarrow": true,
          "x": 23,
          "xref": "x",
          "y": 8220.4,
          "yref": "y"
         },
         {
          "arrowcolor": "DarkGreen",
          "arrowhead": 2,
          "arrowsize": 0.8,
          "arrowwidth": 4,
          "ax": 0,
          "ay": 15,
          "hoverlabel": {
           "bgcolor": "DarkGreen"
          },
          "hovertext": "Step 46 [2018-05-17 03:00:00]<br>BUY 0.74796216 BTC @ 8366.72 USD MARKET<br>Total: 6257.99 USD - Comm.: 18.83 USD",
          "opacity": 0.6,
          "showarrow": true,
          "x": 45,
          "xref": "x",
          "y": 8366.72,
          "yref": "y"
         },
         {
          "arrowcolor": "DarkGreen",
          "arrowhead": 2,
          "arrowsize": 0.8,
          "arrowwidth": 4,
          "ax": 0,
          "ay": 15,
          "hoverlabel": {
           "bgcolor": "DarkGreen"
          },
          "hovertext": "Step 77 [2018-05-18 10:00:00]<br>BUY 0.48750819 BTC @ 8137.73 USD MARKET<br>Total: 3967.21 USD - Comm.: 11.94 USD",
          "opacity": 0.6,
          "showarrow": true,
          "x": 76,
          "xref": "x",
          "y": 8137.73,
          "yref": "y"
         },
         {
          "arrowcolor": "FireBrick",
          "arrowhead": 2,
          "arrowsize": 0.8,
          "arrowwidth": 4,
          "ax": 0,
          "ay": -15,
          "hoverlabel": {
           "bgcolor": "FireBrick"
          },
          "hovertext": "Step 67 [2018-05-18 00:00:00]<br>SELL 0.74571827 BTC @ 7958.08 USD MARKET<br>Total: 5934.49 USD - Comm.: 0.00224389 BTC",
          "opacity": 0.6,
          "showarrow": true,
          "x": 66,
          "xref": "x",
          "y": 7958.08,
          "yref": "y"
         },
         {
          "arrowcolor": "DarkGreen",
          "arrowhead": 2,
          "arrowsize": 0.8,
          "arrowwidth": 4,
          "ax": 0,
          "ay": 15,
          "hoverlabel": {
           "bgcolor": "DarkGreen"
          },
          "hovertext": "Step 94 [2018-05-19 03:00:00]<br>BUY 0.8053197 BTC @ 8237.3 USD MARKET<br>Total: 6633.66 USD - Comm.: 19.96 USD",
          "opacity": 0.6,
          "showarrow": true,
          "x": 93,
          "xref": "x",
          "y": 8237.3,
          "yref": "y"
         },
         {
          "arrowcolor": "FireBrick",
          "arrowhead": 2,
          "arrowsize": 0.8,
          "arrowwidth": 4,
          "ax": 0,
          "ay": -15,
          "hoverlabel": {
           "bgcolor": "FireBrick"
          },
          "hovertext": "Step 86 [2018-05-18 19:00:00]<br>SELL 0.48604567 BTC @ 8231.42 USD MARKET<br>Total: 4000.85 USD - Comm.: 0.00146252 BTC",
          "opacity": 0.6,
          "showarrow": true,
          "x": 85,
          "xref": "x",
          "y": 8231.42,
          "yref": "y"
         },
         {
          "arrowcolor": "FireBrick",
          "arrowhead": 2,
          "arrowsize": 0.8,
          "arrowwidth": 4,
          "ax": 0,
          "ay": -15,
          "hoverlabel": {
           "bgcolor": "FireBrick"
          },
          "hovertext": "Step 102 [2018-05-19 11:00:00]<br>SELL 0.80290374 BTC @ 8365.0 USD MARKET<br>Total: 6716.29 USD - Comm.: 0.00241596 BTC",
          "opacity": 0.6,
          "showarrow": true,
          "x": 101,
          "xref": "x",
          "y": 8365,
          "yref": "y"
         },
         {
          "arrowcolor": "FireBrick",
          "arrowhead": 2,
          "arrowsize": 0.8,
          "arrowwidth": 4,
          "ax": 0,
          "ay": -15,
          "hoverlabel": {
           "bgcolor": "FireBrick"
          },
          "hovertext": "Step 135 [2018-05-20 20:00:00]<br>SELL 0.3102697 BTC @ 8558.5 USD MARKET<br>Total: 2655.44 USD - Comm.: 0.00093361 BTC",
          "opacity": 0.6,
          "showarrow": true,
          "x": 134,
          "xref": "x",
          "y": 8558.5,
          "yref": "y"
         },
         {
          "arrowcolor": "FireBrick",
          "arrowhead": 2,
          "arrowsize": 0.8,
          "arrowwidth": 4,
          "ax": 0,
          "ay": -15,
          "hoverlabel": {
           "bgcolor": "FireBrick"
          },
          "hovertext": "Step 131 [2018-05-20 16:00:00]<br>SELL 0.64062576 BTC @ 8481.11 USD MARKET<br>Total: 5433.22 USD - Comm.: 0.00192766 BTC",
          "opacity": 0.6,
          "showarrow": true,
          "x": 130,
          "xref": "x",
          "y": 8481.11,
          "yref": "y"
         },
         {
          "arrowcolor": "DarkGreen",
          "arrowhead": 2,
          "arrowsize": 0.8,
          "arrowwidth": 4,
          "ax": 0,
          "ay": 15,
          "hoverlabel": {
           "bgcolor": "DarkGreen"
          },
          "hovertext": "Step 126 [2018-05-20 11:00:00]<br>BUY 0.64255342 BTC @ 8336.91 USD MARKET<br>Total: 5356.91 USD - Comm.: 16.12 USD",
          "opacity": 0.6,
          "showarrow": true,
          "x": 125,
          "xref": "x",
          "y": 8336.91,
          "yref": "y"
         },
         {
          "arrowcolor": "DarkGreen",
          "arrowhead": 2,
          "arrowsize": 0.8,
          "arrowwidth": 4,
          "ax": 0,
          "ay": 15,
          "hoverlabel": {
           "bgcolor": "DarkGreen"
          },
          "hovertext": "Step 151 [2018-05-21 12:00:00]<br>BUY 0.59741713 BTC @ 8499.84 USD MARKET<br>Total: 5077.95 USD - Comm.: 15.28 USD",
          "opacity": 0.6,
          "showarrow": true,
          "x": 150,
          "xref": "x",
          "y": 8499.84,
          "yref": "y"
         },
         {
          "arrowcolor": "DarkGreen",
          "arrowhead": 2,
          "arrowsize": 0.8,
          "arrowwidth": 4,
          "ax": 0,
          "ay": 15,
          "hoverlabel": {
           "bgcolor": "DarkGreen"
          },
          "hovertext": "Step 142 [2018-05-21 03:00:00]<br>BUY 0.44282152 BTC @ 8494.28 USD MARKET<br>Total: 3761.45 USD - Comm.: 11.32 USD",
          "opacity": 0.6,
          "showarrow": true,
          "x": 141,
          "xref": "x",
          "y": 8494.28,
          "yref": "y"
         },
         {
          "arrowcolor": "DarkGreen",
          "arrowhead": 2,
          "arrowsize": 0.8,
          "arrowwidth": 4,
          "ax": 0,
          "ay": 15,
          "hoverlabel": {
           "bgcolor": "DarkGreen"
          },
          "hovertext": "Step 187 [2018-05-23 00:00:00]<br>BUY 0.55349179 BTC @ 7949.35 USD MARKET<br>Total: 4399.9 USD - Comm.: 13.24 USD",
          "opacity": 0.6,
          "showarrow": true,
          "x": 186,
          "xref": "x",
          "y": 7949.35,
          "yref": "y"
         },
         {
          "arrowcolor": "FireBrick",
          "arrowhead": 2,
          "arrowsize": 0.8,
          "arrowwidth": 4,
          "ax": 0,
          "ay": -15,
          "hoverlabel": {
           "bgcolor": "FireBrick"
          },
          "hovertext": "Step 185 [2018-05-22 22:00:00]<br>SELL 0.59562488 BTC @ 7964.73 USD MARKET<br>Total: 4743.99 USD - Comm.: 0.00179225 BTC",
          "opacity": 0.6,
          "showarrow": true,
          "x": 184,
          "xref": "x",
          "y": 7964.73,
          "yref": "y"
         },
         {
          "arrowcolor": "FireBrick",
          "arrowhead": 2,
          "arrowsize": 0.8,
          "arrowwidth": 4,
          "ax": 0,
          "ay": -15,
          "hoverlabel": {
           "bgcolor": "FireBrick"
          },
          "hovertext": "Step 185 [2018-05-22 22:00:00]<br>SELL 0.44149306 BTC @ 7964.73 USD MARKET<br>Total: 3516.37 USD - Comm.: 0.00132846 BTC",
          "opacity": 0.6,
          "showarrow": true,
          "x": 184,
          "xref": "x",
          "y": 7964.73,
          "yref": "y"
         }
        ],
        "margin": {
         "t": 50
        },
        "template": {
         "data": {
          "bar": [
           {
            "error_x": {
             "color": "#2a3f5f"
            },
            "error_y": {
             "color": "#2a3f5f"
            },
            "marker": {
             "line": {
              "color": "white",
              "width": 0.5
             },
             "pattern": {
              "fillmode": "overlay",
              "size": 10,
              "solidity": 0.2
             }
            },
            "type": "bar"
           }
          ],
          "barpolar": [
           {
            "marker": {
             "line": {
              "color": "white",
              "width": 0.5
             },
             "pattern": {
              "fillmode": "overlay",
              "size": 10,
              "solidity": 0.2
             }
            },
            "type": "barpolar"
           }
          ],
          "carpet": [
           {
            "aaxis": {
             "endlinecolor": "#2a3f5f",
             "gridcolor": "#C8D4E3",
             "linecolor": "#C8D4E3",
             "minorgridcolor": "#C8D4E3",
             "startlinecolor": "#2a3f5f"
            },
            "baxis": {
             "endlinecolor": "#2a3f5f",
             "gridcolor": "#C8D4E3",
             "linecolor": "#C8D4E3",
             "minorgridcolor": "#C8D4E3",
             "startlinecolor": "#2a3f5f"
            },
            "type": "carpet"
           }
          ],
          "choropleth": [
           {
            "colorbar": {
             "outlinewidth": 0,
             "ticks": ""
            },
            "type": "choropleth"
           }
          ],
          "contour": [
           {
            "colorbar": {
             "outlinewidth": 0,
             "ticks": ""
            },
            "colorscale": [
             [
              0,
              "#0d0887"
             ],
             [
              0.1111111111111111,
              "#46039f"
             ],
             [
              0.2222222222222222,
              "#7201a8"
             ],
             [
              0.3333333333333333,
              "#9c179e"
             ],
             [
              0.4444444444444444,
              "#bd3786"
             ],
             [
              0.5555555555555556,
              "#d8576b"
             ],
             [
              0.6666666666666666,
              "#ed7953"
             ],
             [
              0.7777777777777778,
              "#fb9f3a"
             ],
             [
              0.8888888888888888,
              "#fdca26"
             ],
             [
              1,
              "#f0f921"
             ]
            ],
            "type": "contour"
           }
          ],
          "contourcarpet": [
           {
            "colorbar": {
             "outlinewidth": 0,
             "ticks": ""
            },
            "type": "contourcarpet"
           }
          ],
          "heatmap": [
           {
            "colorbar": {
             "outlinewidth": 0,
             "ticks": ""
            },
            "colorscale": [
             [
              0,
              "#0d0887"
             ],
             [
              0.1111111111111111,
              "#46039f"
             ],
             [
              0.2222222222222222,
              "#7201a8"
             ],
             [
              0.3333333333333333,
              "#9c179e"
             ],
             [
              0.4444444444444444,
              "#bd3786"
             ],
             [
              0.5555555555555556,
              "#d8576b"
             ],
             [
              0.6666666666666666,
              "#ed7953"
             ],
             [
              0.7777777777777778,
              "#fb9f3a"
             ],
             [
              0.8888888888888888,
              "#fdca26"
             ],
             [
              1,
              "#f0f921"
             ]
            ],
            "type": "heatmap"
           }
          ],
          "heatmapgl": [
           {
            "colorbar": {
             "outlinewidth": 0,
             "ticks": ""
            },
            "colorscale": [
             [
              0,
              "#0d0887"
             ],
             [
              0.1111111111111111,
              "#46039f"
             ],
             [
              0.2222222222222222,
              "#7201a8"
             ],
             [
              0.3333333333333333,
              "#9c179e"
             ],
             [
              0.4444444444444444,
              "#bd3786"
             ],
             [
              0.5555555555555556,
              "#d8576b"
             ],
             [
              0.6666666666666666,
              "#ed7953"
             ],
             [
              0.7777777777777778,
              "#fb9f3a"
             ],
             [
              0.8888888888888888,
              "#fdca26"
             ],
             [
              1,
              "#f0f921"
             ]
            ],
            "type": "heatmapgl"
           }
          ],
          "histogram": [
           {
            "marker": {
             "pattern": {
              "fillmode": "overlay",
              "size": 10,
              "solidity": 0.2
             }
            },
            "type": "histogram"
           }
          ],
          "histogram2d": [
           {
            "colorbar": {
             "outlinewidth": 0,
             "ticks": ""
            },
            "colorscale": [
             [
              0,
              "#0d0887"
             ],
             [
              0.1111111111111111,
              "#46039f"
             ],
             [
              0.2222222222222222,
              "#7201a8"
             ],
             [
              0.3333333333333333,
              "#9c179e"
             ],
             [
              0.4444444444444444,
              "#bd3786"
             ],
             [
              0.5555555555555556,
              "#d8576b"
             ],
             [
              0.6666666666666666,
              "#ed7953"
             ],
             [
              0.7777777777777778,
              "#fb9f3a"
             ],
             [
              0.8888888888888888,
              "#fdca26"
             ],
             [
              1,
              "#f0f921"
             ]
            ],
            "type": "histogram2d"
           }
          ],
          "histogram2dcontour": [
           {
            "colorbar": {
             "outlinewidth": 0,
             "ticks": ""
            },
            "colorscale": [
             [
              0,
              "#0d0887"
             ],
             [
              0.1111111111111111,
              "#46039f"
             ],
             [
              0.2222222222222222,
              "#7201a8"
             ],
             [
              0.3333333333333333,
              "#9c179e"
             ],
             [
              0.4444444444444444,
              "#bd3786"
             ],
             [
              0.5555555555555556,
              "#d8576b"
             ],
             [
              0.6666666666666666,
              "#ed7953"
             ],
             [
              0.7777777777777778,
              "#fb9f3a"
             ],
             [
              0.8888888888888888,
              "#fdca26"
             ],
             [
              1,
              "#f0f921"
             ]
            ],
            "type": "histogram2dcontour"
           }
          ],
          "mesh3d": [
           {
            "colorbar": {
             "outlinewidth": 0,
             "ticks": ""
            },
            "type": "mesh3d"
           }
          ],
          "parcoords": [
           {
            "line": {
             "colorbar": {
              "outlinewidth": 0,
              "ticks": ""
             }
            },
            "type": "parcoords"
           }
          ],
          "pie": [
           {
            "automargin": true,
            "type": "pie"
           }
          ],
          "scatter": [
           {
            "fillpattern": {
             "fillmode": "overlay",
             "size": 10,
             "solidity": 0.2
            },
            "type": "scatter"
           }
          ],
          "scatter3d": [
           {
            "line": {
             "colorbar": {
              "outlinewidth": 0,
              "ticks": ""
             }
            },
            "marker": {
             "colorbar": {
              "outlinewidth": 0,
              "ticks": ""
             }
            },
            "type": "scatter3d"
           }
          ],
          "scattercarpet": [
           {
            "marker": {
             "colorbar": {
              "outlinewidth": 0,
              "ticks": ""
             }
            },
            "type": "scattercarpet"
           }
          ],
          "scattergeo": [
           {
            "marker": {
             "colorbar": {
              "outlinewidth": 0,
              "ticks": ""
             }
            },
            "type": "scattergeo"
           }
          ],
          "scattergl": [
           {
            "marker": {
             "colorbar": {
              "outlinewidth": 0,
              "ticks": ""
             }
            },
            "type": "scattergl"
           }
          ],
          "scattermapbox": [
           {
            "marker": {
             "colorbar": {
              "outlinewidth": 0,
              "ticks": ""
             }
            },
            "type": "scattermapbox"
           }
          ],
          "scatterpolar": [
           {
            "marker": {
             "colorbar": {
              "outlinewidth": 0,
              "ticks": ""
             }
            },
            "type": "scatterpolar"
           }
          ],
          "scatterpolargl": [
           {
            "marker": {
             "colorbar": {
              "outlinewidth": 0,
              "ticks": ""
             }
            },
            "type": "scatterpolargl"
           }
          ],
          "scatterternary": [
           {
            "marker": {
             "colorbar": {
              "outlinewidth": 0,
              "ticks": ""
             }
            },
            "type": "scatterternary"
           }
          ],
          "surface": [
           {
            "colorbar": {
             "outlinewidth": 0,
             "ticks": ""
            },
            "colorscale": [
             [
              0,
              "#0d0887"
             ],
             [
              0.1111111111111111,
              "#46039f"
             ],
             [
              0.2222222222222222,
              "#7201a8"
             ],
             [
              0.3333333333333333,
              "#9c179e"
             ],
             [
              0.4444444444444444,
              "#bd3786"
             ],
             [
              0.5555555555555556,
              "#d8576b"
             ],
             [
              0.6666666666666666,
              "#ed7953"
             ],
             [
              0.7777777777777778,
              "#fb9f3a"
             ],
             [
              0.8888888888888888,
              "#fdca26"
             ],
             [
              1,
              "#f0f921"
             ]
            ],
            "type": "surface"
           }
          ],
          "table": [
           {
            "cells": {
             "fill": {
              "color": "#EBF0F8"
             },
             "line": {
              "color": "white"
             }
            },
            "header": {
             "fill": {
              "color": "#C8D4E3"
             },
             "line": {
              "color": "white"
             }
            },
            "type": "table"
           }
          ]
         },
         "layout": {
          "annotationdefaults": {
           "arrowcolor": "#2a3f5f",
           "arrowhead": 0,
           "arrowwidth": 1
          },
          "autotypenumbers": "strict",
          "coloraxis": {
           "colorbar": {
            "outlinewidth": 0,
            "ticks": ""
           }
          },
          "colorscale": {
           "diverging": [
            [
             0,
             "#8e0152"
            ],
            [
             0.1,
             "#c51b7d"
            ],
            [
             0.2,
             "#de77ae"
            ],
            [
             0.3,
             "#f1b6da"
            ],
            [
             0.4,
             "#fde0ef"
            ],
            [
             0.5,
             "#f7f7f7"
            ],
            [
             0.6,
             "#e6f5d0"
            ],
            [
             0.7,
             "#b8e186"
            ],
            [
             0.8,
             "#7fbc41"
            ],
            [
             0.9,
             "#4d9221"
            ],
            [
             1,
             "#276419"
            ]
           ],
           "sequential": [
            [
             0,
             "#0d0887"
            ],
            [
             0.1111111111111111,
             "#46039f"
            ],
            [
             0.2222222222222222,
             "#7201a8"
            ],
            [
             0.3333333333333333,
             "#9c179e"
            ],
            [
             0.4444444444444444,
             "#bd3786"
            ],
            [
             0.5555555555555556,
             "#d8576b"
            ],
            [
             0.6666666666666666,
             "#ed7953"
            ],
            [
             0.7777777777777778,
             "#fb9f3a"
            ],
            [
             0.8888888888888888,
             "#fdca26"
            ],
            [
             1,
             "#f0f921"
            ]
           ],
           "sequentialminus": [
            [
             0,
             "#0d0887"
            ],
            [
             0.1111111111111111,
             "#46039f"
            ],
            [
             0.2222222222222222,
             "#7201a8"
            ],
            [
             0.3333333333333333,
             "#9c179e"
            ],
            [
             0.4444444444444444,
             "#bd3786"
            ],
            [
             0.5555555555555556,
             "#d8576b"
            ],
            [
             0.6666666666666666,
             "#ed7953"
            ],
            [
             0.7777777777777778,
             "#fb9f3a"
            ],
            [
             0.8888888888888888,
             "#fdca26"
            ],
            [
             1,
             "#f0f921"
            ]
           ]
          },
          "colorway": [
           "#636efa",
           "#EF553B",
           "#00cc96",
           "#ab63fa",
           "#FFA15A",
           "#19d3f3",
           "#FF6692",
           "#B6E880",
           "#FF97FF",
           "#FECB52"
          ],
          "font": {
           "color": "#2a3f5f"
          },
          "geo": {
           "bgcolor": "white",
           "lakecolor": "white",
           "landcolor": "white",
           "showlakes": true,
           "showland": true,
           "subunitcolor": "#C8D4E3"
          },
          "hoverlabel": {
           "align": "left"
          },
          "hovermode": "closest",
          "mapbox": {
           "style": "light"
          },
          "paper_bgcolor": "white",
          "plot_bgcolor": "white",
          "polar": {
           "angularaxis": {
            "gridcolor": "#EBF0F8",
            "linecolor": "#EBF0F8",
            "ticks": ""
           },
           "bgcolor": "white",
           "radialaxis": {
            "gridcolor": "#EBF0F8",
            "linecolor": "#EBF0F8",
            "ticks": ""
           }
          },
          "scene": {
           "xaxis": {
            "backgroundcolor": "white",
            "gridcolor": "#DFE8F3",
            "gridwidth": 2,
            "linecolor": "#EBF0F8",
            "showbackground": true,
            "ticks": "",
            "zerolinecolor": "#EBF0F8"
           },
           "yaxis": {
            "backgroundcolor": "white",
            "gridcolor": "#DFE8F3",
            "gridwidth": 2,
            "linecolor": "#EBF0F8",
            "showbackground": true,
            "ticks": "",
            "zerolinecolor": "#EBF0F8"
           },
           "zaxis": {
            "backgroundcolor": "white",
            "gridcolor": "#DFE8F3",
            "gridwidth": 2,
            "linecolor": "#EBF0F8",
            "showbackground": true,
            "ticks": "",
            "zerolinecolor": "#EBF0F8"
           }
          },
          "shapedefaults": {
           "line": {
            "color": "#2a3f5f"
           }
          },
          "ternary": {
           "aaxis": {
            "gridcolor": "#DFE8F3",
            "linecolor": "#A2B1C6",
            "ticks": ""
           },
           "baxis": {
            "gridcolor": "#DFE8F3",
            "linecolor": "#A2B1C6",
            "ticks": ""
           },
           "bgcolor": "white",
           "caxis": {
            "gridcolor": "#DFE8F3",
            "linecolor": "#A2B1C6",
            "ticks": ""
           }
          },
          "title": {
           "x": 0.05
          },
          "xaxis": {
           "automargin": true,
           "gridcolor": "#EBF0F8",
           "linecolor": "#EBF0F8",
           "ticks": "",
           "title": {
            "standoff": 15
           },
           "zerolinecolor": "#EBF0F8",
           "zerolinewidth": 2
          },
          "yaxis": {
           "automargin": true,
           "gridcolor": "#EBF0F8",
           "linecolor": "#EBF0F8",
           "ticks": "",
           "title": {
            "standoff": 15
           },
           "zerolinecolor": "#EBF0F8",
           "zerolinewidth": 2
          }
         }
        },
        "title": {
         "text": "[2022-07-29 01:26:21] Episode: 2/2 Step: 201/200"
        },
        "xaxis": {
         "anchor": "y",
         "domain": [
          0,
          1
         ],
         "gridcolor": "Gainsboro",
         "linecolor": "Grey",
         "matches": "x4",
         "rangeslider": {
          "visible": false
         },
         "showticklabels": false,
         "title": {
          "font": {
           "size": 12
          },
          "standoff": 7,
          "text": "Price"
         }
        },
        "xaxis2": {
         "anchor": "y2",
         "domain": [
          0,
          1
         ],
         "gridcolor": "Gainsboro",
         "linecolor": "Grey",
         "matches": "x4",
         "showticklabels": false,
         "title": {
          "font": {
           "size": 12
          },
          "standoff": 7,
          "text": "Volume"
         }
        },
        "xaxis3": {
         "anchor": "y3",
         "domain": [
          0,
          1
         ],
         "gridcolor": "Gainsboro",
         "linecolor": "Grey",
         "matches": "x4",
         "showticklabels": false,
         "title": {
          "font": {
           "size": 12
          },
          "standoff": 7,
          "text": "Performance"
         }
        },
        "xaxis4": {
         "anchor": "y4",
         "domain": [
          0,
          1
         ],
         "gridcolor": "Gainsboro",
         "linecolor": "Grey",
         "title": {
          "font": {
           "size": 12
          },
          "standoff": 7,
          "text": "Net Worth"
         }
        },
        "yaxis": {
         "anchor": "x",
         "domain": [
          0.49950000000000006,
          1
         ],
         "gridcolor": "Gainsboro",
         "linecolor": "Grey"
        },
        "yaxis2": {
         "anchor": "x2",
         "domain": [
          0.333,
          0.46950000000000003
         ],
         "gridcolor": "Gainsboro",
         "linecolor": "Grey"
        },
        "yaxis3": {
         "anchor": "x3",
         "domain": [
          0.1665,
          0.30300000000000005
         ],
         "gridcolor": "Gainsboro",
         "linecolor": "Grey"
        },
        "yaxis4": {
         "anchor": "x4",
         "domain": [
          0,
          0.1365
         ],
         "gridcolor": "Gainsboro",
         "linecolor": "Grey"
        }
       }
      }
     },
     "metadata": {},
     "output_type": "display_data"
    },
    {
     "name": "stdout",
     "output_type": "stream",
     "text": [
      "WARNING:tensorflow:Compiled the loaded model, but the compiled metrics have yet to be built. `model.compile_metrics` will be empty until you train or evaluate the model.\n"
     ]
    },
    {
     "name": "stderr",
     "output_type": "stream",
     "text": [
      "WARNING:tensorflow:Compiled the loaded model, but the compiled metrics have yet to be built. `model.compile_metrics` will be empty until you train or evaluate the model.\n"
     ]
    },
    {
     "data": {
      "text/plain": [
       "-1294803.5706693144"
      ]
     },
     "execution_count": 71,
     "metadata": {},
     "output_type": "execute_result"
    }
   ],
   "source": [
    "agent = DQNAgent(env)\n",
    "agent.train(n_steps=200, n_episodes=2, save_path=\"agents/\")"
   ]
  },
  {
   "cell_type": "code",
   "execution_count": 79,
   "metadata": {},
   "outputs": [
    {
     "data": {
      "text/plain": [
       "<matplotlib.legend.Legend at 0x165d35e50>"
      ]
     },
     "execution_count": 79,
     "metadata": {},
     "output_type": "execute_result"
    },
    {
     "data": {
      "image/png": "[encoded data removed]",
      "text/plain": [
       "<Figure size 864x432 with 1 Axes>"
      ]
     },
     "metadata": {},
     "output_type": "display_data"
    }
   ],
   "source": [
    "# plot the agent's performance\n",
    "df = pd.DataFrame(portfolio.performance).T\n",
    "df.net_worth.plot(figsize=(12, 6))\n",
    "plt.legend([\"net worth\"])"
   ]
  },
  {
   "cell_type": "code",
   "execution_count": null,
   "metadata": {},
   "outputs": [],
   "source": []
  }
 ],
 "metadata": {
  "kernelspec": {
   "display_name": "Python 3.9.13 ('time-series-analysis-book-Kh4ECq7S-py3.9')",
   "language": "python",
   "name": "python3"
  },
  "language_info": {
   "codemirror_mode": {
    "name": "ipython",
    "version": 3
   },
   "file_extension": ".py",
   "mimetype": "text/x-python",
   "name": "python",
   "nbconvert_exporter": "python",
   "pygments_lexer": "ipython3",
   "version": "3.9.13"
  },
  "orig_nbformat": 4,
  "vscode": {
   "interpreter": {
    "hash": "7e9552761293e77cd641b068dc976526817cfee8fa045cb40d9b9856acc53db8"
   }
  }
 },
 "nbformat": 4,
 "nbformat_minor": 2
}
