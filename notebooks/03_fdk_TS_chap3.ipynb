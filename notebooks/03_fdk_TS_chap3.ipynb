{
 "cells": [
  {
   "cell_type": "markdown",
   "id": "dc05d677-e22a-40be-a9a2-3f4d869eb256",
   "metadata": {},
   "source": [
    "# Chapter 3: Pre-processing Time-Series"
   ]
  },
  {
   "cell_type": "code",
   "execution_count": 10,
   "id": "c3397d3c-0d23-45da-a29b-ce4825aa04df",
   "metadata": {},
   "outputs": [
    {
     "name": "stdout",
     "output_type": "stream",
     "text": [
      "The lab_black extension is already loaded. To reload it, use:\n",
      "  %reload_ext lab_black\n"
     ]
    }
   ],
   "source": [
    "import matplotlib.pyplot as plt\n",
    "from scipy.optimize import minimize\n",
    "from sklearn.preprocessing import StandardScaler\n",
    "from scipy.stats import normaltest\n",
    "from scipy.stats import boxcox\n",
    "\n",
    "import numpy as np\n",
    "from sklearn.impute import SimpleImputer\n",
    "\n",
    "import pandas as pd\n",
    "\n",
    "from typing import List\n",
    "from dateutil.relativedelta import relativedelta, TH\n",
    "import datetime\n",
    "from workalendar.europe.united_kingdom import UnitedKingdom\n",
    "from workalendar.usa import California\n",
    "import calendar\n",
    "\n",
    "from astral.sun import sun\n",
    "from astral import LocationInfo\n",
    "\n",
    "from datetime import date\n",
    "\n",
    "import featuretools as ft\n",
    "from featuretools.primitives import Minute, Hour, Day, Month, Year, Weekday\n",
    "\n",
    "from tsfresh.feature_extraction import extract_features\n",
    "from tsfresh.feature_extraction import ComprehensiveFCParameters\n",
    "\n",
    "np.random.seed(0)\n",
    "\n",
    "%matplotlib inline\n",
    "%load_ext lab_black"
   ]
  },
  {
   "cell_type": "code",
   "execution_count": 11,
   "id": "2978f779-23e8-45e8-99de-1cb3bb45c27f",
   "metadata": {},
   "outputs": [],
   "source": [
    "from sktime.datasets import load_arrow_head\n",
    "from sktime.datatypes._panel._convert import from_nested_to_2d_array\n",
    "from sktime.transformations.panel.rocket import Rocket\n",
    "from sktime.transformations.panel.shapelet_transform import RandomShapeletTransform"
   ]
  },
  {
   "cell_type": "markdown",
   "id": "95ad4f10-0314-411f-9ff1-72779e628c38",
   "metadata": {},
   "source": [
    "## Log and Power Transformations in Practice"
   ]
  },
  {
   "cell_type": "code",
   "execution_count": 13,
   "id": "7a9be822-6a07-4e41-9992-bd45b5bbdc75",
   "metadata": {},
   "outputs": [
    {
     "data": {
      "text/plain": [
       "array([5.83603919, 1.49205924, 2.66109578, 9.40172515, 6.47247125])"
      ]
     },
     "execution_count": 13,
     "metadata": {},
     "output_type": "execute_result"
    }
   ],
   "source": [
    "pts = 10000\n",
    "vals = np.random.lognormal(0, 1.0, pts)\n",
    "vals[:5]"
   ]
  },
  {
   "cell_type": "code",
   "execution_count": 14,
   "id": "9d04a329-d646-4de9-acb9-a6aea42217cc",
   "metadata": {},
   "outputs": [
    {
     "data": {
      "image/png": "[encoded data removed]",
      "text/plain": [
       "<Figure size 720x288 with 1 Axes>"
      ]
     },
     "metadata": {
      "needs_background": "light"
     },
     "output_type": "display_data"
    }
   ],
   "source": [
    "fig, ax = plt.subplots(figsize=[10, 4])\n",
    "plt.hist(vals, bins=50)\n",
    "plt.yscale(\"log\", base=10)\n",
    "plt.show()"
   ]
  },
  {
   "cell_type": "code",
   "execution_count": 15,
   "id": "b5f80629-e755-4edf-b8ae-ab2246911ffe",
   "metadata": {},
   "outputs": [],
   "source": [
    "scaler = StandardScaler()\n",
    "vals_ss = scaler.fit_transform(vals.reshape(-1, 1))\n",
    "_, p = normaltest(vals_ss)"
   ]
  },
  {
   "cell_type": "code",
   "execution_count": 16,
   "id": "4e68fef1-7390-46c5-8862-7b02d09c3735",
   "metadata": {},
   "outputs": [
    {
     "name": "stdout",
     "output_type": "stream",
     "text": [
      "Standard scaler values significance: 0.00\n"
     ]
    }
   ],
   "source": [
    "print(f\"Standard scaler values significance: {p[0]:.2f}\")"
   ]
  },
  {
   "cell_type": "code",
   "execution_count": 17,
   "id": "3d14918c-afe7-4fdd-9ef4-5cea0b814422",
   "metadata": {},
   "outputs": [
    {
     "name": "stdout",
     "output_type": "stream",
     "text": [
      "Min-max scaler values significance: 0.00\n"
     ]
    }
   ],
   "source": [
    "from sklearn.preprocessing import minmax_scale\n",
    "\n",
    "vals_mm = minmax_scale(vals)\n",
    "_, p = normaltest(vals_mm.squeeze())\n",
    "print(f\"Min-max scaler values significance: {p:.2f}\")"
   ]
  },
  {
   "cell_type": "code",
   "execution_count": 18,
   "id": "53182ade-de27-436a-92ab-091ef436675a",
   "metadata": {},
   "outputs": [
    {
     "data": {
      "image/png": "[encoded data removed]",
      "text/plain": [
       "<Figure size 432x288 with 1 Axes>"
      ]
     },
     "metadata": {
      "needs_background": "light"
     },
     "output_type": "display_data"
    }
   ],
   "source": [
    "plt.scatter(x=vals, y=vals_ss, alpha=0.5)\n",
    "plt.xlabel(\"original\")\n",
    "plt.ylabel(\"standard scaled\")\n",
    "\n",
    "plt.show()"
   ]
  },
  {
   "cell_type": "markdown",
   "id": "d50c8f3f-043a-4374-b10b-e253f391bbc2",
   "metadata": {},
   "source": [
    "Now apply a log transformation"
   ]
  },
  {
   "cell_type": "code",
   "execution_count": 19,
   "id": "2a1f6847-0258-4043-8100-9d8338df89cb",
   "metadata": {},
   "outputs": [
    {
     "name": "stdout",
     "output_type": "stream",
     "text": [
      "significance: 0.46\n"
     ]
    }
   ],
   "source": [
    "log_transformed = np.log(vals)\n",
    "_, p = normaltest(log_transformed)\n",
    "print(f\"significance: {p:.2f}\")"
   ]
  },
  {
   "cell_type": "code",
   "execution_count": 20,
   "id": "7b31dce6-97a0-40fa-a1a3-e5ba4ea0b1c8",
   "metadata": {},
   "outputs": [
    {
     "data": {
      "image/png": "[encoded data removed]",
      "text/plain": [
       "<Figure size 720x288 with 1 Axes>"
      ]
     },
     "metadata": {
      "needs_background": "light"
     },
     "output_type": "display_data"
    }
   ],
   "source": [
    "fig, ax = plt.subplots(figsize=[10, 4])\n",
    "plt.hist(log_transformed, bins=50, density=True)\n",
    "plt.yscale(\"linear\")\n",
    "plt.show()"
   ]
  },
  {
   "cell_type": "code",
   "execution_count": 21,
   "id": "7a88ba4e-c56f-4689-9816-6ddc4b5bad54",
   "metadata": {},
   "outputs": [],
   "source": [
    "vals_bc = boxcox(vals, 0.0)"
   ]
  },
  {
   "cell_type": "code",
   "execution_count": 22,
   "id": "724fa5c6-88a1-43c7-9b90-42a14109754f",
   "metadata": {},
   "outputs": [
    {
     "name": "stdout",
     "output_type": "stream",
     "text": [
      "significance: 0.46\n"
     ]
    }
   ],
   "source": [
    "_, p = normaltest(vals_bc)\n",
    "print(f\"significance: {p:.2f}\")"
   ]
  },
  {
   "cell_type": "markdown",
   "id": "4da9e0de-9e5f-49be-ae02-c2e38929414e",
   "metadata": {},
   "source": [
    "# Imputation"
   ]
  },
  {
   "cell_type": "code",
   "execution_count": 23,
   "id": "315f6f45-e17e-4816-9193-da47b881194d",
   "metadata": {},
   "outputs": [
    {
     "name": "stdout",
     "output_type": "stream",
     "text": [
      "[[nan, 2, 3], [4, nan, 6], [10, nan, 9]]\n",
      "[[ 7.   2.   3. ]\n",
      " [ 4.   3.5  6. ]\n",
      " [10.   3.5  9. ]]\n"
     ]
    }
   ],
   "source": [
    "imp_mean = SimpleImputer(missing_values=np.nan, strategy=\"mean\")\n",
    "imp_mean.fit([[7, 2, 3], [4, np.nan, 6], [10, 5, 9]])\n",
    "SimpleImputer()\n",
    "df = [[np.nan, 2, 3], [4, np.nan, 6], [10, np.nan, 9]]\n",
    "print(df)\n",
    "print(imp_mean.transform(df))"
   ]
  },
  {
   "cell_type": "code",
   "execution_count": 24,
   "id": "cf3639e3-b3d1-4606-8025-117aea57dda2",
   "metadata": {},
   "outputs": [
    {
     "data": {
      "text/plain": [
       "[(datetime.date(2022, 1, 1), 'New year'),\n",
       " (datetime.date(2022, 1, 3), 'New Year shift'),\n",
       " (datetime.date(2022, 4, 15), 'Good Friday'),\n",
       " (datetime.date(2022, 4, 17), 'Easter Sunday'),\n",
       " (datetime.date(2022, 4, 18), 'Easter Monday'),\n",
       " (datetime.date(2022, 5, 2), 'Early May Bank Holiday'),\n",
       " (datetime.date(2022, 6, 2), 'Spring Bank Holiday'),\n",
       " (datetime.date(2022, 6, 3), 'Queen’s Platinum Jubilee bank holiday'),\n",
       " (datetime.date(2022, 8, 29), 'Late Summer Bank Holiday'),\n",
       " (datetime.date(2022, 12, 25), 'Christmas Day'),\n",
       " (datetime.date(2022, 12, 26), 'Boxing Day'),\n",
       " (datetime.date(2022, 12, 26), 'Christmas Shift'),\n",
       " (datetime.date(2022, 12, 27), 'Boxing Day Shift')]"
      ]
     },
     "execution_count": 24,
     "metadata": {},
     "output_type": "execute_result"
    }
   ],
   "source": [
    "UnitedKingdom().holidays()"
   ]
  },
  {
   "cell_type": "code",
   "execution_count": 25,
   "id": "72dfa900-93f9-4f0f-8d43-7014c13df59e",
   "metadata": {},
   "outputs": [
    {
     "data": {
      "text/plain": [
       "{datetime.date(2021, 12, 31): 'New year (Observed)',\n",
       " datetime.date(2022, 1, 1): 'New year',\n",
       " datetime.date(2022, 1, 17): 'Birthday of Martin Luther King, Jr.',\n",
       " datetime.date(2022, 2, 21): \"Washington's Birthday\",\n",
       " datetime.date(2022, 3, 31): 'Cesar Chavez Day',\n",
       " datetime.date(2022, 5, 30): 'Memorial Day',\n",
       " datetime.date(2022, 7, 4): 'Independence Day',\n",
       " datetime.date(2022, 9, 5): 'Labor Day',\n",
       " datetime.date(2022, 11, 11): 'Veterans Day',\n",
       " datetime.date(2022, 11, 24): 'Thanksgiving Day',\n",
       " datetime.date(2022, 11, 25): 'Thanksgiving Friday',\n",
       " datetime.date(2022, 12, 25): 'Christmas Day',\n",
       " datetime.date(2022, 12, 26): 'Christmas Day (Observed)',\n",
       " datetime.date(2021, 11, 26): 'Black Friday'}"
      ]
     },
     "execution_count": 25,
     "metadata": {},
     "output_type": "execute_result"
    }
   ],
   "source": [
    "def create_custom_holidays(year: int) -> List:\n",
    "    custom_holidays = California().holidays()\n",
    "    custom_holidays.append(\n",
    "        (\n",
    "            (\n",
    "                datetime.datetime(year, 11, 1)\n",
    "                + relativedelta(weekday=TH(+4))\n",
    "                + datetime.timedelta(days=1)\n",
    "            ).date(),\n",
    "            \"Black Friday\",\n",
    "        )\n",
    "    )\n",
    "    return {k: v for (k, v) in custom_holidays}\n",
    "\n",
    "\n",
    "custom_holidays = create_custom_holidays(2021)\n",
    "\n",
    "custom_holidays"
   ]
  },
  {
   "cell_type": "code",
   "execution_count": 26,
   "id": "5785ef51-0e15-43ab-ab8d-cf9506d6ac81",
   "metadata": {},
   "outputs": [
    {
     "data": {
      "text/plain": [
       "False"
      ]
     },
     "execution_count": 26,
     "metadata": {},
     "output_type": "execute_result"
    }
   ],
   "source": [
    "def is_holiday(current_date: datetime.date):\n",
    "    \"\"\"Determine if we have a holiday.\"\"\"\n",
    "    return custom_holidays.get(current_date, False)\n",
    "\n",
    "\n",
    "today = datetime.date(2021, 4, 11)\n",
    "is_holiday(today)"
   ]
  },
  {
   "cell_type": "markdown",
   "id": "f723f86c-1786-4d41-9793-536af978a537",
   "metadata": {},
   "source": [
    "# Date Annotation"
   ]
  },
  {
   "cell_type": "code",
   "execution_count": 27,
   "id": "6981c7b4-9b3f-4200-9acb-3a0f0238150a",
   "metadata": {},
   "outputs": [
    {
     "data": {
      "text/plain": [
       "(4, 31)"
      ]
     },
     "execution_count": 27,
     "metadata": {},
     "output_type": "execute_result"
    }
   ],
   "source": [
    "calendar.monthrange(2021, 1)"
   ]
  },
  {
   "cell_type": "code",
   "execution_count": 28,
   "id": "fdb4ac24-58ec-4402-981e-80b5bfbf48be",
   "metadata": {},
   "outputs": [
    {
     "data": {
      "text/plain": [
       "(80, 284)"
      ]
     },
     "execution_count": 28,
     "metadata": {},
     "output_type": "execute_result"
    }
   ],
   "source": [
    "def year_anchor(current_date: datetime.date):\n",
    "    return (\n",
    "        (current_date - date(current_date.year, 1, 1)).days,\n",
    "        (date(current_date.year, 12, 31) - current_date).days,\n",
    "    )\n",
    "\n",
    "\n",
    "year_anchor(date.today())"
   ]
  },
  {
   "cell_type": "code",
   "execution_count": 29,
   "id": "22d6dacf-5581-448a-adb3-40864427a88f",
   "metadata": {},
   "outputs": [
    {
     "data": {
      "text/plain": [
       "(21, -9)"
      ]
     },
     "execution_count": 29,
     "metadata": {},
     "output_type": "execute_result"
    }
   ],
   "source": [
    "def month_anchor(current_date: datetime.date):\n",
    "    last_day = calendar.monthrange(current_date.year, current_date.month)[1]\n",
    "    return (\n",
    "        (current_date - datetime.date(current_date.year, current_date.month, 1)).days,\n",
    "        (\n",
    "            current_date\n",
    "            - datetime.date(current_date.year, current_date.month, last_day)\n",
    "        ).days,\n",
    "    )\n",
    "\n",
    "\n",
    "month_anchor(date.today())"
   ]
  },
  {
   "cell_type": "markdown",
   "id": "e0a428f4-2fee-4ae3-9110-a00415836124",
   "metadata": {},
   "source": [
    "# Paydays"
   ]
  },
  {
   "cell_type": "code",
   "execution_count": 30,
   "id": "72e98d12-33a9-4798-98a7-34c74c69bf93",
   "metadata": {},
   "outputs": [
    {
     "data": {
      "text/plain": [
       "25"
      ]
     },
     "execution_count": 30,
     "metadata": {},
     "output_type": "execute_result"
    }
   ],
   "source": [
    "def get_last_friday(current_date: datetime.date, weekday=calendar.FRIDAY):\n",
    "    return max(\n",
    "        week[weekday]\n",
    "        for week in calendar.monthcalendar(current_date.year, current_date.month)\n",
    "    )\n",
    "\n",
    "\n",
    "get_last_friday(date.today())"
   ]
  },
  {
   "cell_type": "markdown",
   "id": "886b1fa0-baf7-432b-aeef-56be2f287da6",
   "metadata": {},
   "source": [
    "# Seasons"
   ]
  },
  {
   "cell_type": "code",
   "execution_count": 31,
   "id": "8df34b94-4ae9-46c3-b705-bfd0a00551c5",
   "metadata": {},
   "outputs": [
    {
     "data": {
      "text/plain": [
       "'spring'"
      ]
     },
     "execution_count": 31,
     "metadata": {},
     "output_type": "execute_result"
    }
   ],
   "source": [
    "YEAR = 2021\n",
    "seasons = [\n",
    "    (\"winter\", (date(YEAR, 1, 1), date(YEAR, 3, 20))),\n",
    "    (\"spring\", (date(YEAR, 3, 21), date(YEAR, 6, 20))),\n",
    "    (\"summer\", (date(YEAR, 6, 21), date(YEAR, 9, 22))),\n",
    "    (\"autumn\", (date(YEAR, 9, 23), date(YEAR, 12, 20))),\n",
    "    (\"winter\", (date(YEAR, 12, 21), date(YEAR, 12, 31))),\n",
    "]\n",
    "\n",
    "\n",
    "def is_in_interval(current_date: datetime.date, seasons):\n",
    "    return next(\n",
    "        season\n",
    "        for season, (start, end) in seasons\n",
    "        if start <= current_date.replace(year=YEAR) <= end\n",
    "    )\n",
    "\n",
    "\n",
    "is_in_interval(date.today(), seasons)"
   ]
  },
  {
   "cell_type": "markdown",
   "id": "edbe59c4-aa25-41fb-8206-f4979f0661aa",
   "metadata": {},
   "source": [
    "## The Sun and Moon"
   ]
  },
  {
   "cell_type": "code",
   "execution_count": 32,
   "id": "375609c6-aa02-434a-9808-b5527cd8a373",
   "metadata": {},
   "outputs": [
    {
     "data": {
      "text/plain": [
       "11.142222222222221"
      ]
     },
     "execution_count": 32,
     "metadata": {},
     "output_type": "execute_result"
    }
   ],
   "source": [
    "CITY = LocationInfo(\"Bristol\", \"England\", \"Europe/London\", 51.5, -0.116)\n",
    "\n",
    "\n",
    "def get_sunrise_dusk(current_date: datetime.date, city_name=\"London\"):\n",
    "    s = sun(CITY.observer, date=current_date)\n",
    "    sunrise = s[\"sunrise\"]\n",
    "    dusk = s[\"dusk\"]\n",
    "    return (sunrise - dusk).seconds / 3600\n",
    "\n",
    "\n",
    "get_sunrise_dusk(date.today())"
   ]
  },
  {
   "cell_type": "markdown",
   "id": "b4de0918-baac-4065-8bcc-251df3fa583d",
   "metadata": {},
   "source": [
    "## Business Days"
   ]
  },
  {
   "cell_type": "code",
   "execution_count": 33,
   "id": "72684b63-d6c3-442b-bd55-b97904ea8d93",
   "metadata": {},
   "outputs": [
    {
     "data": {
      "text/plain": [
       "(23, 8)"
      ]
     },
     "execution_count": 33,
     "metadata": {},
     "output_type": "execute_result"
    }
   ],
   "source": [
    "def get_business_days(current_date: datetime.date):\n",
    "    last_day = calendar.monthrange(current_date.year, current_date.month)[1]\n",
    "    rng = pd.date_range(current_date.replace(day=1), periods=last_day, freq=\"D\")\n",
    "    business_days = pd.bdate_range(rng[0], rng[-1])\n",
    "    return len(business_days), last_day - len(business_days)\n",
    "\n",
    "\n",
    "get_business_days(date.today())"
   ]
  },
  {
   "cell_type": "markdown",
   "id": "e141c6e4-ac8c-4ead-bd83-26d65409c77a",
   "metadata": {},
   "source": [
    "## Automated Feature Extraction"
   ]
  },
  {
   "cell_type": "code",
   "execution_count": 34,
   "id": "b6473bdc-4390-4c07-8256-6efa1cbf0b03",
   "metadata": {},
   "outputs": [
    {
     "data": {
      "text/plain": [
       "Entityset: My EntitySet\n",
       "  DataFrames:\n",
       "  Relationships:\n",
       "    No relationships"
      ]
     },
     "execution_count": 34,
     "metadata": {},
     "output_type": "execute_result"
    }
   ],
   "source": [
    "data = pd.DataFrame(\n",
    "    {\n",
    "        \"Time\": [\n",
    "            \"2014-01-01 01:41:50\",\n",
    "            \"2014-01-01 02:06:50\",\n",
    "            \"2014-01-01 02:31:50\",\n",
    "            \"2014-01-01 02:56:50\",\n",
    "            \"2014-01-01 03:21:50\",\n",
    "        ],\n",
    "        \"Target\": [0, 0, 0, 0, 1],\n",
    "    }\n",
    ")\n",
    "data[\"index\"] = data.index\n",
    "es = ft.EntitySet(\"My EntitySet\")\n",
    "es"
   ]
  },
  {
   "cell_type": "code",
   "execution_count": 35,
   "id": "899a8814-1c6e-4d53-8420-d7f92c26a6f8",
   "metadata": {},
   "outputs": [
    {
     "data": {
      "text/plain": [
       "Entityset: My EntitySet\n",
       "  DataFrames:\n",
       "    main_data_table [Rows: 5, Columns: 3]\n",
       "  Relationships:\n",
       "    No relationships"
      ]
     },
     "execution_count": 35,
     "metadata": {},
     "output_type": "execute_result"
    }
   ],
   "source": [
    "es.add_dataframe(\n",
    "    dataframe_name=\"main_data_table\", index=\"index\", dataframe=data, time_index=\"Time\"\n",
    ")"
   ]
  },
  {
   "cell_type": "code",
   "execution_count": 36,
   "id": "6be49390-3a2d-49fd-a62a-4afabbff6c02",
   "metadata": {},
   "outputs": [
    {
     "name": "stderr",
     "output_type": "stream",
     "text": [
      "/Users/frankkelly/Library/Caches/pypoetry/virtualenvs/time-series-analysis-book-Kh4ECq7S-py3.9/lib/python3.9/site-packages/featuretools/synthesis/deep_feature_synthesis.py:156: UserWarning: Only one dataframe in entityset, changing max_depth to 1 since deeper features cannot be created\n",
      "  warnings.warn(\"Only one dataframe in entityset, changing max_depth to \"\n"
     ]
    }
   ],
   "source": [
    "fm, features = ft.dfs(\n",
    "    entityset=es,\n",
    "    target_dataframe_name=\"main_data_table\",\n",
    "    trans_primitives=[Minute, Hour, Day, Month, Year, Weekday],\n",
    ")"
   ]
  },
  {
   "cell_type": "code",
   "execution_count": 37,
   "id": "8952ec50-0dce-4ba1-9952-4502d2da1f2e",
   "metadata": {},
   "outputs": [
    {
     "data": {
      "text/html": [
       "<div>\n",
       "<style scoped>\n",
       "    .dataframe tbody tr th:only-of-type {\n",
       "        vertical-align: middle;\n",
       "    }\n",
       "\n",
       "    .dataframe tbody tr th {\n",
       "        vertical-align: top;\n",
       "    }\n",
       "\n",
       "    .dataframe thead th {\n",
       "        text-align: right;\n",
       "    }\n",
       "</style>\n",
       "<table border=\"1\" class=\"dataframe\">\n",
       "  <thead>\n",
       "    <tr style=\"text-align: right;\">\n",
       "      <th></th>\n",
       "      <th>Target</th>\n",
       "      <th>DAY(Time)</th>\n",
       "      <th>HOUR(Time)</th>\n",
       "      <th>MINUTE(Time)</th>\n",
       "      <th>MONTH(Time)</th>\n",
       "      <th>WEEKDAY(Time)</th>\n",
       "      <th>YEAR(Time)</th>\n",
       "    </tr>\n",
       "    <tr>\n",
       "      <th>index</th>\n",
       "      <th></th>\n",
       "      <th></th>\n",
       "      <th></th>\n",
       "      <th></th>\n",
       "      <th></th>\n",
       "      <th></th>\n",
       "      <th></th>\n",
       "    </tr>\n",
       "  </thead>\n",
       "  <tbody>\n",
       "    <tr>\n",
       "      <th>0</th>\n",
       "      <td>0</td>\n",
       "      <td>1</td>\n",
       "      <td>1</td>\n",
       "      <td>41</td>\n",
       "      <td>1</td>\n",
       "      <td>2</td>\n",
       "      <td>2014</td>\n",
       "    </tr>\n",
       "    <tr>\n",
       "      <th>1</th>\n",
       "      <td>0</td>\n",
       "      <td>1</td>\n",
       "      <td>2</td>\n",
       "      <td>6</td>\n",
       "      <td>1</td>\n",
       "      <td>2</td>\n",
       "      <td>2014</td>\n",
       "    </tr>\n",
       "    <tr>\n",
       "      <th>2</th>\n",
       "      <td>0</td>\n",
       "      <td>1</td>\n",
       "      <td>2</td>\n",
       "      <td>31</td>\n",
       "      <td>1</td>\n",
       "      <td>2</td>\n",
       "      <td>2014</td>\n",
       "    </tr>\n",
       "    <tr>\n",
       "      <th>3</th>\n",
       "      <td>0</td>\n",
       "      <td>1</td>\n",
       "      <td>2</td>\n",
       "      <td>56</td>\n",
       "      <td>1</td>\n",
       "      <td>2</td>\n",
       "      <td>2014</td>\n",
       "    </tr>\n",
       "    <tr>\n",
       "      <th>4</th>\n",
       "      <td>1</td>\n",
       "      <td>1</td>\n",
       "      <td>3</td>\n",
       "      <td>21</td>\n",
       "      <td>1</td>\n",
       "      <td>2</td>\n",
       "      <td>2014</td>\n",
       "    </tr>\n",
       "  </tbody>\n",
       "</table>\n",
       "</div>"
      ],
      "text/plain": [
       "       Target DAY(Time) HOUR(Time) MINUTE(Time) MONTH(Time) WEEKDAY(Time)  \\\n",
       "index                                                                       \n",
       "0           0         1          1           41           1             2   \n",
       "1           0         1          2            6           1             2   \n",
       "2           0         1          2           31           1             2   \n",
       "3           0         1          2           56           1             2   \n",
       "4           1         1          3           21           1             2   \n",
       "\n",
       "      YEAR(Time)  \n",
       "index             \n",
       "0           2014  \n",
       "1           2014  \n",
       "2           2014  \n",
       "3           2014  \n",
       "4           2014  "
      ]
     },
     "execution_count": 37,
     "metadata": {},
     "output_type": "execute_result"
    }
   ],
   "source": [
    "fm"
   ]
  },
  {
   "cell_type": "markdown",
   "id": "e64b7e00-1851-4d05-aa3b-808c0340f04b",
   "metadata": {},
   "source": [
    "### TS Fresh"
   ]
  },
  {
   "cell_type": "code",
   "execution_count": 39,
   "id": "b3477fe0-2849-438c-94c2-f2e969b2748f",
   "metadata": {},
   "outputs": [],
   "source": [
    "# settings = ComprehensiveFCParameters()\n",
    "# extract_features(data, column_id='Time', default_fc_parameters=settings)"
   ]
  },
  {
   "cell_type": "markdown",
   "id": "66e0e4db-c286-4096-82f9-4f9b8c955d26",
   "metadata": {},
   "source": [
    "## ROCKET"
   ]
  },
  {
   "cell_type": "code",
   "execution_count": 40,
   "id": "d04a94bb-dba8-4b0c-821a-52c328b4818a",
   "metadata": {},
   "outputs": [
    {
     "data": {
      "text/html": [
       "<div>\n",
       "<style scoped>\n",
       "    .dataframe tbody tr th:only-of-type {\n",
       "        vertical-align: middle;\n",
       "    }\n",
       "\n",
       "    .dataframe tbody tr th {\n",
       "        vertical-align: top;\n",
       "    }\n",
       "\n",
       "    .dataframe thead th {\n",
       "        text-align: right;\n",
       "    }\n",
       "</style>\n",
       "<table border=\"1\" class=\"dataframe\">\n",
       "  <thead>\n",
       "    <tr style=\"text-align: right;\">\n",
       "      <th></th>\n",
       "      <th>dim_0__0</th>\n",
       "      <th>dim_0__1</th>\n",
       "      <th>dim_0__2</th>\n",
       "      <th>dim_0__3</th>\n",
       "      <th>dim_0__4</th>\n",
       "      <th>dim_0__5</th>\n",
       "      <th>dim_0__6</th>\n",
       "      <th>dim_0__7</th>\n",
       "      <th>dim_0__8</th>\n",
       "      <th>dim_0__9</th>\n",
       "      <th>...</th>\n",
       "      <th>dim_0__241</th>\n",
       "      <th>dim_0__242</th>\n",
       "      <th>dim_0__243</th>\n",
       "      <th>dim_0__244</th>\n",
       "      <th>dim_0__245</th>\n",
       "      <th>dim_0__246</th>\n",
       "      <th>dim_0__247</th>\n",
       "      <th>dim_0__248</th>\n",
       "      <th>dim_0__249</th>\n",
       "      <th>dim_0__250</th>\n",
       "    </tr>\n",
       "  </thead>\n",
       "  <tbody>\n",
       "    <tr>\n",
       "      <th>0</th>\n",
       "      <td>-1.963009</td>\n",
       "      <td>-1.957825</td>\n",
       "      <td>-1.956145</td>\n",
       "      <td>-1.938289</td>\n",
       "      <td>-1.896657</td>\n",
       "      <td>-1.869857</td>\n",
       "      <td>-1.838705</td>\n",
       "      <td>-1.812289</td>\n",
       "      <td>-1.736433</td>\n",
       "      <td>-1.673329</td>\n",
       "      <td>...</td>\n",
       "      <td>-1.583857</td>\n",
       "      <td>-1.655329</td>\n",
       "      <td>-1.719153</td>\n",
       "      <td>-1.750881</td>\n",
       "      <td>-1.796273</td>\n",
       "      <td>-1.841345</td>\n",
       "      <td>-1.884289</td>\n",
       "      <td>-1.905393</td>\n",
       "      <td>-1.923905</td>\n",
       "      <td>-1.909153</td>\n",
       "    </tr>\n",
       "    <tr>\n",
       "      <th>1</th>\n",
       "      <td>-1.774571</td>\n",
       "      <td>-1.774036</td>\n",
       "      <td>-1.776586</td>\n",
       "      <td>-1.730749</td>\n",
       "      <td>-1.696268</td>\n",
       "      <td>-1.657377</td>\n",
       "      <td>-1.636227</td>\n",
       "      <td>-1.609807</td>\n",
       "      <td>-1.543439</td>\n",
       "      <td>-1.486174</td>\n",
       "      <td>...</td>\n",
       "      <td>-1.471688</td>\n",
       "      <td>-1.484666</td>\n",
       "      <td>-1.539972</td>\n",
       "      <td>-1.590150</td>\n",
       "      <td>-1.635663</td>\n",
       "      <td>-1.639989</td>\n",
       "      <td>-1.678683</td>\n",
       "      <td>-1.729227</td>\n",
       "      <td>-1.775670</td>\n",
       "      <td>-1.789324</td>\n",
       "    </tr>\n",
       "    <tr>\n",
       "      <th>2</th>\n",
       "      <td>-1.866021</td>\n",
       "      <td>-1.841991</td>\n",
       "      <td>-1.835025</td>\n",
       "      <td>-1.811902</td>\n",
       "      <td>-1.764390</td>\n",
       "      <td>-1.707687</td>\n",
       "      <td>-1.648280</td>\n",
       "      <td>-1.582643</td>\n",
       "      <td>-1.531502</td>\n",
       "      <td>-1.493609</td>\n",
       "      <td>...</td>\n",
       "      <td>-1.584132</td>\n",
       "      <td>-1.652337</td>\n",
       "      <td>-1.684565</td>\n",
       "      <td>-1.743972</td>\n",
       "      <td>-1.799117</td>\n",
       "      <td>-1.829069</td>\n",
       "      <td>-1.875828</td>\n",
       "      <td>-1.862512</td>\n",
       "      <td>-1.863368</td>\n",
       "      <td>-1.846493</td>\n",
       "    </tr>\n",
       "    <tr>\n",
       "      <th>3</th>\n",
       "      <td>-2.073758</td>\n",
       "      <td>-2.073301</td>\n",
       "      <td>-2.044607</td>\n",
       "      <td>-2.038346</td>\n",
       "      <td>-1.959043</td>\n",
       "      <td>-1.874494</td>\n",
       "      <td>-1.805619</td>\n",
       "      <td>-1.731043</td>\n",
       "      <td>-1.712653</td>\n",
       "      <td>-1.628022</td>\n",
       "      <td>...</td>\n",
       "      <td>-1.678942</td>\n",
       "      <td>-1.743732</td>\n",
       "      <td>-1.819801</td>\n",
       "      <td>-1.858136</td>\n",
       "      <td>-1.886146</td>\n",
       "      <td>-1.951247</td>\n",
       "      <td>-2.012927</td>\n",
       "      <td>-2.026963</td>\n",
       "      <td>-2.073405</td>\n",
       "      <td>-2.075292</td>\n",
       "    </tr>\n",
       "    <tr>\n",
       "      <th>4</th>\n",
       "      <td>-1.746255</td>\n",
       "      <td>-1.741263</td>\n",
       "      <td>-1.722741</td>\n",
       "      <td>-1.698640</td>\n",
       "      <td>-1.677223</td>\n",
       "      <td>-1.630356</td>\n",
       "      <td>-1.579440</td>\n",
       "      <td>-1.551225</td>\n",
       "      <td>-1.473980</td>\n",
       "      <td>-1.459377</td>\n",
       "      <td>...</td>\n",
       "      <td>-1.547111</td>\n",
       "      <td>-1.607101</td>\n",
       "      <td>-1.635137</td>\n",
       "      <td>-1.686346</td>\n",
       "      <td>-1.691274</td>\n",
       "      <td>-1.716886</td>\n",
       "      <td>-1.740726</td>\n",
       "      <td>-1.743442</td>\n",
       "      <td>-1.762729</td>\n",
       "      <td>-1.763428</td>\n",
       "    </tr>\n",
       "  </tbody>\n",
       "</table>\n",
       "<p>5 rows × 251 columns</p>\n",
       "</div>"
      ],
      "text/plain": [
       "   dim_0__0  dim_0__1  dim_0__2  dim_0__3  dim_0__4  dim_0__5  dim_0__6  \\\n",
       "0 -1.963009 -1.957825 -1.956145 -1.938289 -1.896657 -1.869857 -1.838705   \n",
       "1 -1.774571 -1.774036 -1.776586 -1.730749 -1.696268 -1.657377 -1.636227   \n",
       "2 -1.866021 -1.841991 -1.835025 -1.811902 -1.764390 -1.707687 -1.648280   \n",
       "3 -2.073758 -2.073301 -2.044607 -2.038346 -1.959043 -1.874494 -1.805619   \n",
       "4 -1.746255 -1.741263 -1.722741 -1.698640 -1.677223 -1.630356 -1.579440   \n",
       "\n",
       "   dim_0__7  dim_0__8  dim_0__9  ...  dim_0__241  dim_0__242  dim_0__243  \\\n",
       "0 -1.812289 -1.736433 -1.673329  ...   -1.583857   -1.655329   -1.719153   \n",
       "1 -1.609807 -1.543439 -1.486174  ...   -1.471688   -1.484666   -1.539972   \n",
       "2 -1.582643 -1.531502 -1.493609  ...   -1.584132   -1.652337   -1.684565   \n",
       "3 -1.731043 -1.712653 -1.628022  ...   -1.678942   -1.743732   -1.819801   \n",
       "4 -1.551225 -1.473980 -1.459377  ...   -1.547111   -1.607101   -1.635137   \n",
       "\n",
       "   dim_0__244  dim_0__245  dim_0__246  dim_0__247  dim_0__248  dim_0__249  \\\n",
       "0   -1.750881   -1.796273   -1.841345   -1.884289   -1.905393   -1.923905   \n",
       "1   -1.590150   -1.635663   -1.639989   -1.678683   -1.729227   -1.775670   \n",
       "2   -1.743972   -1.799117   -1.829069   -1.875828   -1.862512   -1.863368   \n",
       "3   -1.858136   -1.886146   -1.951247   -2.012927   -2.026963   -2.073405   \n",
       "4   -1.686346   -1.691274   -1.716886   -1.740726   -1.743442   -1.762729   \n",
       "\n",
       "   dim_0__250  \n",
       "0   -1.909153  \n",
       "1   -1.789324  \n",
       "2   -1.846493  \n",
       "3   -2.075292  \n",
       "4   -1.763428  \n",
       "\n",
       "[5 rows x 251 columns]"
      ]
     },
     "execution_count": 40,
     "metadata": {},
     "output_type": "execute_result"
    }
   ],
   "source": [
    "X_train, y_train = load_arrow_head(split=\"train\", return_X_y=True)\n",
    "from_nested_to_2d_array(X_train).head()"
   ]
  },
  {
   "cell_type": "code",
   "execution_count": 42,
   "id": "7a1db72e-93c1-46a6-9c7a-eaddfde472b5",
   "metadata": {},
   "outputs": [
    {
     "data": {
      "text/html": [
       "<div>\n",
       "<style scoped>\n",
       "    .dataframe tbody tr th:only-of-type {\n",
       "        vertical-align: middle;\n",
       "    }\n",
       "\n",
       "    .dataframe tbody tr th {\n",
       "        vertical-align: top;\n",
       "    }\n",
       "\n",
       "    .dataframe thead th {\n",
       "        text-align: right;\n",
       "    }\n",
       "</style>\n",
       "<table border=\"1\" class=\"dataframe\">\n",
       "  <thead>\n",
       "    <tr style=\"text-align: right;\">\n",
       "      <th></th>\n",
       "      <th>0</th>\n",
       "      <th>1</th>\n",
       "      <th>2</th>\n",
       "      <th>3</th>\n",
       "      <th>4</th>\n",
       "      <th>5</th>\n",
       "      <th>6</th>\n",
       "      <th>7</th>\n",
       "      <th>8</th>\n",
       "      <th>9</th>\n",
       "      <th>...</th>\n",
       "      <th>1990</th>\n",
       "      <th>1991</th>\n",
       "      <th>1992</th>\n",
       "      <th>1993</th>\n",
       "      <th>1994</th>\n",
       "      <th>1995</th>\n",
       "      <th>1996</th>\n",
       "      <th>1997</th>\n",
       "      <th>1998</th>\n",
       "      <th>1999</th>\n",
       "    </tr>\n",
       "  </thead>\n",
       "  <tbody>\n",
       "    <tr>\n",
       "      <th>0</th>\n",
       "      <td>0.951542</td>\n",
       "      <td>1.884432</td>\n",
       "      <td>0.533865</td>\n",
       "      <td>4.566438</td>\n",
       "      <td>0.565217</td>\n",
       "      <td>2.191599</td>\n",
       "      <td>0.761290</td>\n",
       "      <td>3.264788</td>\n",
       "      <td>0.792829</td>\n",
       "      <td>2.881423</td>\n",
       "      <td>...</td>\n",
       "      <td>0.415842</td>\n",
       "      <td>4.136299</td>\n",
       "      <td>0.367742</td>\n",
       "      <td>4.915391</td>\n",
       "      <td>0.597765</td>\n",
       "      <td>3.924132</td>\n",
       "      <td>0.615385</td>\n",
       "      <td>2.767788</td>\n",
       "      <td>0.358566</td>\n",
       "      <td>3.599695</td>\n",
       "    </tr>\n",
       "    <tr>\n",
       "      <th>1</th>\n",
       "      <td>0.991189</td>\n",
       "      <td>1.505634</td>\n",
       "      <td>0.593625</td>\n",
       "      <td>4.050572</td>\n",
       "      <td>0.608696</td>\n",
       "      <td>1.661951</td>\n",
       "      <td>0.722581</td>\n",
       "      <td>2.722317</td>\n",
       "      <td>0.776892</td>\n",
       "      <td>2.788133</td>\n",
       "      <td>...</td>\n",
       "      <td>0.415842</td>\n",
       "      <td>5.596117</td>\n",
       "      <td>0.425806</td>\n",
       "      <td>5.188452</td>\n",
       "      <td>0.486034</td>\n",
       "      <td>3.316855</td>\n",
       "      <td>0.642534</td>\n",
       "      <td>2.160664</td>\n",
       "      <td>0.418327</td>\n",
       "      <td>2.713454</td>\n",
       "    </tr>\n",
       "    <tr>\n",
       "      <th>2</th>\n",
       "      <td>0.977974</td>\n",
       "      <td>1.531245</td>\n",
       "      <td>0.565737</td>\n",
       "      <td>4.208391</td>\n",
       "      <td>0.608696</td>\n",
       "      <td>2.091934</td>\n",
       "      <td>0.722581</td>\n",
       "      <td>2.998482</td>\n",
       "      <td>0.804781</td>\n",
       "      <td>2.906463</td>\n",
       "      <td>...</td>\n",
       "      <td>0.405941</td>\n",
       "      <td>5.202308</td>\n",
       "      <td>0.419355</td>\n",
       "      <td>5.106456</td>\n",
       "      <td>0.564246</td>\n",
       "      <td>2.577097</td>\n",
       "      <td>0.651584</td>\n",
       "      <td>2.354139</td>\n",
       "      <td>0.410359</td>\n",
       "      <td>2.955911</td>\n",
       "    </tr>\n",
       "    <tr>\n",
       "      <th>3</th>\n",
       "      <td>0.885463</td>\n",
       "      <td>1.931911</td>\n",
       "      <td>0.541833</td>\n",
       "      <td>4.599593</td>\n",
       "      <td>0.552795</td>\n",
       "      <td>2.702683</td>\n",
       "      <td>0.748387</td>\n",
       "      <td>3.229963</td>\n",
       "      <td>0.752988</td>\n",
       "      <td>3.258503</td>\n",
       "      <td>...</td>\n",
       "      <td>0.544554</td>\n",
       "      <td>3.532910</td>\n",
       "      <td>0.316129</td>\n",
       "      <td>4.277352</td>\n",
       "      <td>0.502793</td>\n",
       "      <td>5.177021</td>\n",
       "      <td>0.624434</td>\n",
       "      <td>2.450406</td>\n",
       "      <td>0.378486</td>\n",
       "      <td>3.576932</td>\n",
       "    </tr>\n",
       "    <tr>\n",
       "      <th>4</th>\n",
       "      <td>1.000000</td>\n",
       "      <td>1.558333</td>\n",
       "      <td>0.541833</td>\n",
       "      <td>4.013694</td>\n",
       "      <td>0.677019</td>\n",
       "      <td>1.718398</td>\n",
       "      <td>0.819355</td>\n",
       "      <td>2.904498</td>\n",
       "      <td>0.776892</td>\n",
       "      <td>2.830923</td>\n",
       "      <td>...</td>\n",
       "      <td>0.425743</td>\n",
       "      <td>5.338102</td>\n",
       "      <td>0.419355</td>\n",
       "      <td>5.224523</td>\n",
       "      <td>0.536313</td>\n",
       "      <td>3.529494</td>\n",
       "      <td>0.592760</td>\n",
       "      <td>2.021520</td>\n",
       "      <td>0.422311</td>\n",
       "      <td>2.789996</td>\n",
       "    </tr>\n",
       "  </tbody>\n",
       "</table>\n",
       "<p>5 rows × 2000 columns</p>\n",
       "</div>"
      ],
      "text/plain": [
       "       0         1         2         3         4         5         6     \\\n",
       "0  0.951542  1.884432  0.533865  4.566438  0.565217  2.191599  0.761290   \n",
       "1  0.991189  1.505634  0.593625  4.050572  0.608696  1.661951  0.722581   \n",
       "2  0.977974  1.531245  0.565737  4.208391  0.608696  2.091934  0.722581   \n",
       "3  0.885463  1.931911  0.541833  4.599593  0.552795  2.702683  0.748387   \n",
       "4  1.000000  1.558333  0.541833  4.013694  0.677019  1.718398  0.819355   \n",
       "\n",
       "       7         8         9     ...      1990      1991      1992      1993  \\\n",
       "0  3.264788  0.792829  2.881423  ...  0.415842  4.136299  0.367742  4.915391   \n",
       "1  2.722317  0.776892  2.788133  ...  0.415842  5.596117  0.425806  5.188452   \n",
       "2  2.998482  0.804781  2.906463  ...  0.405941  5.202308  0.419355  5.106456   \n",
       "3  3.229963  0.752988  3.258503  ...  0.544554  3.532910  0.316129  4.277352   \n",
       "4  2.904498  0.776892  2.830923  ...  0.425743  5.338102  0.419355  5.224523   \n",
       "\n",
       "       1994      1995      1996      1997      1998      1999  \n",
       "0  0.597765  3.924132  0.615385  2.767788  0.358566  3.599695  \n",
       "1  0.486034  3.316855  0.642534  2.160664  0.418327  2.713454  \n",
       "2  0.564246  2.577097  0.651584  2.354139  0.410359  2.955911  \n",
       "3  0.502793  5.177021  0.624434  2.450406  0.378486  3.576932  \n",
       "4  0.536313  3.529494  0.592760  2.021520  0.422311  2.789996  \n",
       "\n",
       "[5 rows x 2000 columns]"
      ]
     },
     "execution_count": 42,
     "metadata": {},
     "output_type": "execute_result"
    }
   ],
   "source": [
    "rocket = Rocket(num_kernels=1000)\n",
    "rocket.fit(X_train)\n",
    "X_train_transform = rocket.transform(X_train)\n",
    "\n",
    "X_train_transform.head()"
   ]
  },
  {
   "cell_type": "markdown",
   "id": "459f8bc3-743c-47d7-8b12-7602fe5fb14d",
   "metadata": {},
   "source": [
    "## Shapelets in Practice"
   ]
  },
  {
   "cell_type": "code",
   "execution_count": 52,
   "id": "c97243cf-e50d-40d3-9b0c-54931a5608c6",
   "metadata": {},
   "outputs": [
    {
     "data": {
      "text/plain": [
       "RandomShapeletTransform(batch_size=10, time_limit_in_minutes=1)"
      ]
     },
     "execution_count": 52,
     "metadata": {},
     "output_type": "execute_result"
    }
   ],
   "source": [
    "shapelets_transform = RandomShapeletTransform(\n",
    "    time_limit_in_minutes=1,\n",
    "    batch_size=10,\n",
    ")\n",
    "shapelets_transform.fit(X_train, y_train)"
   ]
  },
  {
   "cell_type": "code",
   "execution_count": 53,
   "id": "96103cf1-ae0f-45dd-ba43-84136dd64551",
   "metadata": {},
   "outputs": [],
   "source": [
    "X_train_transform = shapelets_transform.transform(X_train)"
   ]
  },
  {
   "cell_type": "code",
   "execution_count": 54,
   "id": "c2149edd-5219-499f-978b-383252988246",
   "metadata": {},
   "outputs": [
    {
     "data": {
      "text/html": [
       "<div>\n",
       "<style scoped>\n",
       "    .dataframe tbody tr th:only-of-type {\n",
       "        vertical-align: middle;\n",
       "    }\n",
       "\n",
       "    .dataframe tbody tr th {\n",
       "        vertical-align: top;\n",
       "    }\n",
       "\n",
       "    .dataframe thead th {\n",
       "        text-align: right;\n",
       "    }\n",
       "</style>\n",
       "<table border=\"1\" class=\"dataframe\">\n",
       "  <thead>\n",
       "    <tr style=\"text-align: right;\">\n",
       "      <th></th>\n",
       "      <th>0</th>\n",
       "      <th>1</th>\n",
       "      <th>2</th>\n",
       "      <th>3</th>\n",
       "      <th>4</th>\n",
       "      <th>5</th>\n",
       "      <th>6</th>\n",
       "      <th>7</th>\n",
       "      <th>8</th>\n",
       "      <th>9</th>\n",
       "      <th>...</th>\n",
       "      <th>76</th>\n",
       "      <th>77</th>\n",
       "      <th>78</th>\n",
       "      <th>79</th>\n",
       "      <th>80</th>\n",
       "      <th>81</th>\n",
       "      <th>82</th>\n",
       "      <th>83</th>\n",
       "      <th>84</th>\n",
       "      <th>85</th>\n",
       "    </tr>\n",
       "  </thead>\n",
       "  <tbody>\n",
       "    <tr>\n",
       "      <th>0</th>\n",
       "      <td>0.260902</td>\n",
       "      <td>0.257703</td>\n",
       "      <td>0.081247</td>\n",
       "      <td>0.022210</td>\n",
       "      <td>0.336080</td>\n",
       "      <td>0.167003</td>\n",
       "      <td>0.391696</td>\n",
       "      <td>0.429118</td>\n",
       "      <td>0.044582</td>\n",
       "      <td>0.248031</td>\n",
       "      <td>...</td>\n",
       "      <td>0.005473</td>\n",
       "      <td>0.011067</td>\n",
       "      <td>0.004026</td>\n",
       "      <td>0.002534</td>\n",
       "      <td>0.001244</td>\n",
       "      <td>0.003434</td>\n",
       "      <td>0.006039</td>\n",
       "      <td>0.004493</td>\n",
       "      <td>0.007653</td>\n",
       "      <td>0.020224</td>\n",
       "    </tr>\n",
       "    <tr>\n",
       "      <th>1</th>\n",
       "      <td>0.394673</td>\n",
       "      <td>0.425015</td>\n",
       "      <td>0.036169</td>\n",
       "      <td>0.009065</td>\n",
       "      <td>0.690744</td>\n",
       "      <td>0.581489</td>\n",
       "      <td>0.819891</td>\n",
       "      <td>1.136749</td>\n",
       "      <td>0.024820</td>\n",
       "      <td>0.373495</td>\n",
       "      <td>...</td>\n",
       "      <td>0.012374</td>\n",
       "      <td>0.005938</td>\n",
       "      <td>0.002253</td>\n",
       "      <td>0.002672</td>\n",
       "      <td>0.002194</td>\n",
       "      <td>0.000495</td>\n",
       "      <td>0.001671</td>\n",
       "      <td>0.002929</td>\n",
       "      <td>0.007671</td>\n",
       "      <td>0.055588</td>\n",
       "    </tr>\n",
       "    <tr>\n",
       "      <th>2</th>\n",
       "      <td>0.462531</td>\n",
       "      <td>0.416018</td>\n",
       "      <td>0.100926</td>\n",
       "      <td>0.032307</td>\n",
       "      <td>0.545491</td>\n",
       "      <td>0.414003</td>\n",
       "      <td>0.608869</td>\n",
       "      <td>0.976972</td>\n",
       "      <td>0.063462</td>\n",
       "      <td>0.398140</td>\n",
       "      <td>...</td>\n",
       "      <td>0.007373</td>\n",
       "      <td>0.003420</td>\n",
       "      <td>0.001469</td>\n",
       "      <td>0.003709</td>\n",
       "      <td>0.006028</td>\n",
       "      <td>0.002976</td>\n",
       "      <td>0.002818</td>\n",
       "      <td>0.003949</td>\n",
       "      <td>0.004218</td>\n",
       "      <td>0.058359</td>\n",
       "    </tr>\n",
       "    <tr>\n",
       "      <th>3</th>\n",
       "      <td>0.043508</td>\n",
       "      <td>0.084577</td>\n",
       "      <td>0.114733</td>\n",
       "      <td>0.020941</td>\n",
       "      <td>0.140437</td>\n",
       "      <td>0.016110</td>\n",
       "      <td>0.265013</td>\n",
       "      <td>0.076737</td>\n",
       "      <td>0.035178</td>\n",
       "      <td>0.177112</td>\n",
       "      <td>...</td>\n",
       "      <td>0.007796</td>\n",
       "      <td>0.015195</td>\n",
       "      <td>0.003599</td>\n",
       "      <td>0.002283</td>\n",
       "      <td>0.017440</td>\n",
       "      <td>0.001886</td>\n",
       "      <td>0.004869</td>\n",
       "      <td>0.004865</td>\n",
       "      <td>0.005104</td>\n",
       "      <td>0.033969</td>\n",
       "    </tr>\n",
       "    <tr>\n",
       "      <th>4</th>\n",
       "      <td>0.345057</td>\n",
       "      <td>0.353023</td>\n",
       "      <td>0.024416</td>\n",
       "      <td>0.011235</td>\n",
       "      <td>0.589995</td>\n",
       "      <td>0.462352</td>\n",
       "      <td>0.699847</td>\n",
       "      <td>1.000639</td>\n",
       "      <td>0.008173</td>\n",
       "      <td>0.387973</td>\n",
       "      <td>...</td>\n",
       "      <td>0.006787</td>\n",
       "      <td>0.009127</td>\n",
       "      <td>0.001860</td>\n",
       "      <td>0.005313</td>\n",
       "      <td>0.005395</td>\n",
       "      <td>0.009863</td>\n",
       "      <td>0.003148</td>\n",
       "      <td>0.002773</td>\n",
       "      <td>0.003170</td>\n",
       "      <td>0.005380</td>\n",
       "    </tr>\n",
       "    <tr>\n",
       "      <th>5</th>\n",
       "      <td>0.376585</td>\n",
       "      <td>0.372429</td>\n",
       "      <td>0.028642</td>\n",
       "      <td>0.032143</td>\n",
       "      <td>0.692543</td>\n",
       "      <td>0.609660</td>\n",
       "      <td>0.714855</td>\n",
       "      <td>1.166330</td>\n",
       "      <td>0.041951</td>\n",
       "      <td>0.286823</td>\n",
       "      <td>...</td>\n",
       "      <td>0.002918</td>\n",
       "      <td>0.000181</td>\n",
       "      <td>0.001748</td>\n",
       "      <td>0.004396</td>\n",
       "      <td>0.008658</td>\n",
       "      <td>0.000418</td>\n",
       "      <td>0.003008</td>\n",
       "      <td>0.002124</td>\n",
       "      <td>0.005835</td>\n",
       "      <td>0.053758</td>\n",
       "    </tr>\n",
       "    <tr>\n",
       "      <th>6</th>\n",
       "      <td>0.150452</td>\n",
       "      <td>0.177043</td>\n",
       "      <td>0.239908</td>\n",
       "      <td>0.059898</td>\n",
       "      <td>0.193264</td>\n",
       "      <td>0.156559</td>\n",
       "      <td>0.011622</td>\n",
       "      <td>0.292556</td>\n",
       "      <td>0.075065</td>\n",
       "      <td>0.071887</td>\n",
       "      <td>...</td>\n",
       "      <td>0.005657</td>\n",
       "      <td>0.014786</td>\n",
       "      <td>0.002280</td>\n",
       "      <td>0.005050</td>\n",
       "      <td>0.027949</td>\n",
       "      <td>0.002977</td>\n",
       "      <td>0.004719</td>\n",
       "      <td>0.001489</td>\n",
       "      <td>0.003109</td>\n",
       "      <td>0.024004</td>\n",
       "    </tr>\n",
       "    <tr>\n",
       "      <th>7</th>\n",
       "      <td>0.360702</td>\n",
       "      <td>0.400332</td>\n",
       "      <td>0.031936</td>\n",
       "      <td>0.016527</td>\n",
       "      <td>0.676273</td>\n",
       "      <td>0.522990</td>\n",
       "      <td>0.823805</td>\n",
       "      <td>1.032269</td>\n",
       "      <td>0.023934</td>\n",
       "      <td>0.317478</td>\n",
       "      <td>...</td>\n",
       "      <td>0.013254</td>\n",
       "      <td>0.006609</td>\n",
       "      <td>0.002392</td>\n",
       "      <td>0.006428</td>\n",
       "      <td>0.007909</td>\n",
       "      <td>0.003500</td>\n",
       "      <td>0.005309</td>\n",
       "      <td>0.005487</td>\n",
       "      <td>0.009986</td>\n",
       "      <td>0.001136</td>\n",
       "    </tr>\n",
       "    <tr>\n",
       "      <th>8</th>\n",
       "      <td>0.433855</td>\n",
       "      <td>0.445930</td>\n",
       "      <td>0.099314</td>\n",
       "      <td>0.029649</td>\n",
       "      <td>0.656403</td>\n",
       "      <td>0.535263</td>\n",
       "      <td>0.724042</td>\n",
       "      <td>1.133917</td>\n",
       "      <td>0.060020</td>\n",
       "      <td>0.399256</td>\n",
       "      <td>...</td>\n",
       "      <td>0.008650</td>\n",
       "      <td>0.003442</td>\n",
       "      <td>0.003517</td>\n",
       "      <td>0.001827</td>\n",
       "      <td>0.002367</td>\n",
       "      <td>0.003560</td>\n",
       "      <td>0.001597</td>\n",
       "      <td>0.002029</td>\n",
       "      <td>0.002995</td>\n",
       "      <td>0.018931</td>\n",
       "    </tr>\n",
       "    <tr>\n",
       "      <th>9</th>\n",
       "      <td>0.045621</td>\n",
       "      <td>0.197948</td>\n",
       "      <td>0.292132</td>\n",
       "      <td>0.045948</td>\n",
       "      <td>0.122133</td>\n",
       "      <td>0.047329</td>\n",
       "      <td>0.314093</td>\n",
       "      <td>0.010424</td>\n",
       "      <td>0.062612</td>\n",
       "      <td>0.191456</td>\n",
       "      <td>...</td>\n",
       "      <td>0.003670</td>\n",
       "      <td>0.016054</td>\n",
       "      <td>0.005813</td>\n",
       "      <td>0.001994</td>\n",
       "      <td>0.037416</td>\n",
       "      <td>0.000970</td>\n",
       "      <td>0.010009</td>\n",
       "      <td>0.004316</td>\n",
       "      <td>0.002844</td>\n",
       "      <td>0.002380</td>\n",
       "    </tr>\n",
       "  </tbody>\n",
       "</table>\n",
       "<p>10 rows × 86 columns</p>\n",
       "</div>"
      ],
      "text/plain": [
       "         0         1         2         3         4         5         6   \\\n",
       "0  0.260902  0.257703  0.081247  0.022210  0.336080  0.167003  0.391696   \n",
       "1  0.394673  0.425015  0.036169  0.009065  0.690744  0.581489  0.819891   \n",
       "2  0.462531  0.416018  0.100926  0.032307  0.545491  0.414003  0.608869   \n",
       "3  0.043508  0.084577  0.114733  0.020941  0.140437  0.016110  0.265013   \n",
       "4  0.345057  0.353023  0.024416  0.011235  0.589995  0.462352  0.699847   \n",
       "5  0.376585  0.372429  0.028642  0.032143  0.692543  0.609660  0.714855   \n",
       "6  0.150452  0.177043  0.239908  0.059898  0.193264  0.156559  0.011622   \n",
       "7  0.360702  0.400332  0.031936  0.016527  0.676273  0.522990  0.823805   \n",
       "8  0.433855  0.445930  0.099314  0.029649  0.656403  0.535263  0.724042   \n",
       "9  0.045621  0.197948  0.292132  0.045948  0.122133  0.047329  0.314093   \n",
       "\n",
       "         7         8         9   ...        76        77        78        79  \\\n",
       "0  0.429118  0.044582  0.248031  ...  0.005473  0.011067  0.004026  0.002534   \n",
       "1  1.136749  0.024820  0.373495  ...  0.012374  0.005938  0.002253  0.002672   \n",
       "2  0.976972  0.063462  0.398140  ...  0.007373  0.003420  0.001469  0.003709   \n",
       "3  0.076737  0.035178  0.177112  ...  0.007796  0.015195  0.003599  0.002283   \n",
       "4  1.000639  0.008173  0.387973  ...  0.006787  0.009127  0.001860  0.005313   \n",
       "5  1.166330  0.041951  0.286823  ...  0.002918  0.000181  0.001748  0.004396   \n",
       "6  0.292556  0.075065  0.071887  ...  0.005657  0.014786  0.002280  0.005050   \n",
       "7  1.032269  0.023934  0.317478  ...  0.013254  0.006609  0.002392  0.006428   \n",
       "8  1.133917  0.060020  0.399256  ...  0.008650  0.003442  0.003517  0.001827   \n",
       "9  0.010424  0.062612  0.191456  ...  0.003670  0.016054  0.005813  0.001994   \n",
       "\n",
       "         80        81        82        83        84        85  \n",
       "0  0.001244  0.003434  0.006039  0.004493  0.007653  0.020224  \n",
       "1  0.002194  0.000495  0.001671  0.002929  0.007671  0.055588  \n",
       "2  0.006028  0.002976  0.002818  0.003949  0.004218  0.058359  \n",
       "3  0.017440  0.001886  0.004869  0.004865  0.005104  0.033969  \n",
       "4  0.005395  0.009863  0.003148  0.002773  0.003170  0.005380  \n",
       "5  0.008658  0.000418  0.003008  0.002124  0.005835  0.053758  \n",
       "6  0.027949  0.002977  0.004719  0.001489  0.003109  0.024004  \n",
       "7  0.007909  0.003500  0.005309  0.005487  0.009986  0.001136  \n",
       "8  0.002367  0.003560  0.001597  0.002029  0.002995  0.018931  \n",
       "9  0.037416  0.000970  0.010009  0.004316  0.002844  0.002380  \n",
       "\n",
       "[10 rows x 86 columns]"
      ]
     },
     "execution_count": 54,
     "metadata": {},
     "output_type": "execute_result"
    }
   ],
   "source": [
    "X_train_transform[:10]"
   ]
  },
  {
   "cell_type": "code",
   "execution_count": null,
   "id": "ff37b727-4ff7-488e-b706-c5fe3fab5cda",
   "metadata": {},
   "outputs": [],
   "source": []
  }
 ],
 "metadata": {
  "kernelspec": {
   "display_name": "Python 3 (ipykernel)",
   "language": "python",
   "name": "python3"
  },
  "language_info": {
   "codemirror_mode": {
    "name": "ipython",
    "version": 3
   },
   "file_extension": ".py",
   "mimetype": "text/x-python",
   "name": "python",
   "nbconvert_exporter": "python",
   "pygments_lexer": "ipython3",
   "version": "3.9.10"
  }
 },
 "nbformat": 4,
 "nbformat_minor": 5
}
