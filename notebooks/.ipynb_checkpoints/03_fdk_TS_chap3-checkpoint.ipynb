{
 "cells": [
  {
   "cell_type": "markdown",
   "id": "dc05d677-e22a-40be-a9a2-3f4d869eb256",
   "metadata": {},
   "source": [
    "# Chapter 3: Pre-processing Time-Series"
   ]
  },
  {
   "cell_type": "code",
   "execution_count": 51,
   "id": "c3397d3c-0d23-45da-a29b-ce4825aa04df",
   "metadata": {},
   "outputs": [
    {
     "name": "stdout",
     "output_type": "stream",
     "text": [
      "The lab_black extension is already loaded. To reload it, use:\n",
      "  %reload_ext lab_black\n"
     ]
    }
   ],
   "source": [
    "import matplotlib.pyplot as plt\n",
    "from scipy.optimize import minimize\n",
    "from sklearn.preprocessing import StandardScaler\n",
    "from scipy.stats import normaltest\n",
    "import numpy as np\n",
    "from sklearn.impute import SimpleImputer\n",
    "\n",
    "from typing import List\n",
    "from dateutil.relativedelta import relativedelta, TH\n",
    "import datetime\n",
    "from workalendar.europe.united_kingdom import UnitedKingdom\n",
    "from workalendar.usa import California\n",
    "import calendar\n",
    "\n",
    "from datetime import date\n",
    "\n",
    "\n",
    "np.random.seed(0)\n",
    "\n",
    "%matplotlib inline\n",
    "%load_ext lab_black"
   ]
  },
  {
   "cell_type": "markdown",
   "id": "95ad4f10-0314-411f-9ff1-72779e628c38",
   "metadata": {},
   "source": [
    "## Log and Power Transformations in Practice"
   ]
  },
  {
   "cell_type": "code",
   "execution_count": 19,
   "id": "7a9be822-6a07-4e41-9992-bd45b5bbdc75",
   "metadata": {},
   "outputs": [
    {
     "data": {
      "text/plain": [
       "array([5.83603919, 1.49205924, 2.66109578, 9.40172515, 6.47247125])"
      ]
     },
     "execution_count": 19,
     "metadata": {},
     "output_type": "execute_result"
    }
   ],
   "source": [
    "pts = 10000\n",
    "vals = np.random.lognormal(0, 1.0, pts)\n",
    "vals[:5]"
   ]
  },
  {
   "cell_type": "code",
   "execution_count": 13,
   "id": "9d04a329-d646-4de9-acb9-a6aea42217cc",
   "metadata": {},
   "outputs": [
    {
     "data": {
      "image/png": "[encoded data removed]",
      "text/plain": [
       "<Figure size 720x288 with 1 Axes>"
      ]
     },
     "metadata": {
      "needs_background": "light"
     },
     "output_type": "display_data"
    }
   ],
   "source": [
    "fig, ax = plt.subplots(figsize=[10,4])\n",
    "plt.hist(vals, bins=50)\n",
    "plt.yscale('log',base=10) \n",
    "plt.show()"
   ]
  },
  {
   "cell_type": "code",
   "execution_count": 24,
   "id": "b5f80629-e755-4edf-b8ae-ab2246911ffe",
   "metadata": {},
   "outputs": [],
   "source": [
    "scaler = StandardScaler()\n",
    "vals_ss = scaler.fit_transform(vals.reshape(-1, 1))\n",
    "_, p = normaltest(vals_ss)"
   ]
  },
  {
   "cell_type": "code",
   "execution_count": 25,
   "id": "4e68fef1-7390-46c5-8862-7b02d09c3735",
   "metadata": {},
   "outputs": [
    {
     "name": "stdout",
     "output_type": "stream",
     "text": [
      "significance: 0.00\n"
     ]
    }
   ],
   "source": [
    "print(f\"Standard scaler values significance: {p[0]:.2f}\")"
   ]
  },
  {
   "cell_type": "code",
   "execution_count": 26,
   "id": "3d14918c-afe7-4fdd-9ef4-5cea0b814422",
   "metadata": {},
   "outputs": [
    {
     "name": "stdout",
     "output_type": "stream",
     "text": [
      "Min-max scaler values significance: 0.00\n"
     ]
    }
   ],
   "source": [
    "from sklearn.preprocessing import minmax_scale\n",
    "vals_mm = minmax_scale(vals)\n",
    "_, p = normaltest(vals_mm.squeeze())\n",
    "print(f\"Min-max scaler values significance: {p:.2f}\")"
   ]
  },
  {
   "cell_type": "code",
   "execution_count": 28,
   "id": "53182ade-de27-436a-92ab-091ef436675a",
   "metadata": {},
   "outputs": [
    {
     "data": {
      "image/png": "[encoded data removed]",
      "text/plain": [
       "<Figure size 432x288 with 1 Axes>"
      ]
     },
     "metadata": {
      "needs_background": "light"
     },
     "output_type": "display_data"
    }
   ],
   "source": [
    "plt.scatter(x=vals, y=vals_ss, alpha=0.5)\n",
    "plt.xlabel(\"original\")\n",
    "plt.ylabel(\"standard scaled\")\n",
    "\n",
    "plt.show()"
   ]
  },
  {
   "cell_type": "markdown",
   "id": "d50c8f3f-043a-4374-b10b-e253f391bbc2",
   "metadata": {},
   "source": [
    "Now apply a log transformation"
   ]
  },
  {
   "cell_type": "code",
   "execution_count": 30,
   "id": "2a1f6847-0258-4043-8100-9d8338df89cb",
   "metadata": {},
   "outputs": [
    {
     "name": "stdout",
     "output_type": "stream",
     "text": [
      "significance: 0.46\n"
     ]
    }
   ],
   "source": [
    "log_transformed = np.log(vals)\n",
    "_, p = normaltest(log_transformed)\n",
    "print(f\"significance: {p:.2f}\")"
   ]
  },
  {
   "cell_type": "code",
   "execution_count": 33,
   "id": "7b31dce6-97a0-40fa-a1a3-e5ba4ea0b1c8",
   "metadata": {},
   "outputs": [
    {
     "data": {
      "image/png": "[encoded data removed]",
      "text/plain": [
       "<Figure size 720x288 with 1 Axes>"
      ]
     },
     "metadata": {
      "needs_background": "light"
     },
     "output_type": "display_data"
    }
   ],
   "source": [
    "fig, ax = plt.subplots(figsize=[10,4])\n",
    "plt.hist(log_transformed, bins=50, density=True)\n",
    "plt.yscale('linear') \n",
    "plt.show()"
   ]
  },
  {
   "cell_type": "code",
   "execution_count": 34,
   "id": "7a88ba4e-c56f-4689-9816-6ddc4b5bad54",
   "metadata": {},
   "outputs": [],
   "source": [
    "from scipy.stats import boxcox\n",
    "vals_bc = boxcox(vals, 0.0)"
   ]
  },
  {
   "cell_type": "code",
   "execution_count": 35,
   "id": "724fa5c6-88a1-43c7-9b90-42a14109754f",
   "metadata": {},
   "outputs": [
    {
     "name": "stdout",
     "output_type": "stream",
     "text": [
      "significance: 0.46\n"
     ]
    }
   ],
   "source": [
    "_, p = normaltest(vals_bc)\n",
    "print(f\"significance: {p:.2f}\")"
   ]
  },
  {
   "cell_type": "markdown",
   "id": "4da9e0de-9e5f-49be-ae02-c2e38929414e",
   "metadata": {},
   "source": [
    "# Imputation"
   ]
  },
  {
   "cell_type": "code",
   "execution_count": 38,
   "id": "315f6f45-e17e-4816-9193-da47b881194d",
   "metadata": {},
   "outputs": [
    {
     "name": "stdout",
     "output_type": "stream",
     "text": [
      "[[nan, 2, 3], [4, nan, 6], [10, nan, 9]]\n",
      "[[ 7.   2.   3. ]\n",
      " [ 4.   3.5  6. ]\n",
      " [10.   3.5  9. ]]\n"
     ]
    }
   ],
   "source": [
    "\n",
    "imp_mean = SimpleImputer(missing_values=np.nan, strategy='mean')\n",
    "imp_mean.fit([[7, 2, 3], [4, np.nan, 6], [10, 5, 9]])\n",
    "SimpleImputer()\n",
    "df = [[np.nan, 2, 3], [4, np.nan, 6], [10, np.nan, 9]]\n",
    "print(df)\n",
    "print(imp_mean.transform(df))"
   ]
  },
  {
   "cell_type": "code",
   "execution_count": 39,
   "id": "cf3639e3-b3d1-4606-8025-117aea57dda2",
   "metadata": {},
   "outputs": [
    {
     "data": {
      "text/plain": [
       "[(datetime.date(2022, 1, 1), 'New year'),\n",
       " (datetime.date(2022, 1, 3), 'New Year shift'),\n",
       " (datetime.date(2022, 4, 15), 'Good Friday'),\n",
       " (datetime.date(2022, 4, 17), 'Easter Sunday'),\n",
       " (datetime.date(2022, 4, 18), 'Easter Monday'),\n",
       " (datetime.date(2022, 5, 2), 'Early May Bank Holiday'),\n",
       " (datetime.date(2022, 6, 2), 'Spring Bank Holiday'),\n",
       " (datetime.date(2022, 6, 3), 'Queen’s Platinum Jubilee bank holiday'),\n",
       " (datetime.date(2022, 8, 29), 'Late Summer Bank Holiday'),\n",
       " (datetime.date(2022, 12, 25), 'Christmas Day'),\n",
       " (datetime.date(2022, 12, 26), 'Boxing Day'),\n",
       " (datetime.date(2022, 12, 26), 'Christmas Shift'),\n",
       " (datetime.date(2022, 12, 27), 'Boxing Day Shift')]"
      ]
     },
     "execution_count": 39,
     "metadata": {},
     "output_type": "execute_result"
    }
   ],
   "source": [
    "UnitedKingdom().holidays()"
   ]
  },
  {
   "cell_type": "code",
   "execution_count": 45,
   "id": "72dfa900-93f9-4f0f-8d43-7014c13df59e",
   "metadata": {},
   "outputs": [
    {
     "data": {
      "text/plain": [
       "{datetime.date(2021, 12, 31): 'New year (Observed)',\n",
       " datetime.date(2022, 1, 1): 'New year',\n",
       " datetime.date(2022, 1, 17): 'Birthday of Martin Luther King, Jr.',\n",
       " datetime.date(2022, 2, 21): \"Washington's Birthday\",\n",
       " datetime.date(2022, 3, 31): 'Cesar Chavez Day',\n",
       " datetime.date(2022, 5, 30): 'Memorial Day',\n",
       " datetime.date(2022, 7, 4): 'Independence Day',\n",
       " datetime.date(2022, 9, 5): 'Labor Day',\n",
       " datetime.date(2022, 11, 11): 'Veterans Day',\n",
       " datetime.date(2022, 11, 24): 'Thanksgiving Day',\n",
       " datetime.date(2022, 11, 25): 'Thanksgiving Friday',\n",
       " datetime.date(2022, 12, 25): 'Christmas Day',\n",
       " datetime.date(2022, 12, 26): 'Christmas Day (Observed)',\n",
       " datetime.date(2021, 11, 26): 'Black Friday'}"
      ]
     },
     "execution_count": 45,
     "metadata": {},
     "output_type": "execute_result"
    }
   ],
   "source": [
    "def create_custom_holidays(year: int) -> List:\n",
    "    custom_holidays = California().holidays()\n",
    "    custom_holidays.append(\n",
    "        (\n",
    "            (\n",
    "                datetime.datetime(year, 11, 1)\n",
    "                + relativedelta(weekday=TH(+4))\n",
    "                + datetime.timedelta(days=1)\n",
    "            ).date(),\n",
    "            \"Black Friday\",\n",
    "        )\n",
    "    )\n",
    "    return {k: v for (k, v) in custom_holidays}\n",
    "\n",
    "\n",
    "custom_holidays = create_custom_holidays(2021)\n",
    "\n",
    "custom_holidays"
   ]
  },
  {
   "cell_type": "code",
   "execution_count": 46,
   "id": "5785ef51-0e15-43ab-ab8d-cf9506d6ac81",
   "metadata": {},
   "outputs": [
    {
     "data": {
      "text/plain": [
       "False"
      ]
     },
     "execution_count": 46,
     "metadata": {},
     "output_type": "execute_result"
    }
   ],
   "source": [
    "def is_holiday(current_date: datetime.date):\n",
    "    \"\"\"Determine if we have a holiday.\"\"\"\n",
    "    return custom_holidays.get(current_date, False)\n",
    "\n",
    "\n",
    "today = datetime.date(2021, 4, 11)\n",
    "is_holiday(today)"
   ]
  },
  {
   "cell_type": "markdown",
   "id": "f723f86c-1786-4d41-9793-536af978a537",
   "metadata": {},
   "source": [
    "# Date Annotation"
   ]
  },
  {
   "cell_type": "code",
   "execution_count": 47,
   "id": "6981c7b4-9b3f-4200-9acb-3a0f0238150a",
   "metadata": {},
   "outputs": [
    {
     "data": {
      "text/plain": [
       "(4, 31)"
      ]
     },
     "execution_count": 47,
     "metadata": {},
     "output_type": "execute_result"
    }
   ],
   "source": [
    "\n",
    "calendar.monthrange(2021, 1)"
   ]
  },
  {
   "cell_type": "code",
   "execution_count": 56,
   "id": "fdb4ac24-58ec-4402-981e-80b5bfbf48be",
   "metadata": {},
   "outputs": [
    {
     "data": {
      "text/plain": [
       "(100, 264)"
      ]
     },
     "execution_count": 56,
     "metadata": {},
     "output_type": "execute_result"
    }
   ],
   "source": [
    "def year_anchor(current_date: datetime.date):\n",
    "    return (\n",
    "        (current_date - date(current_date.year, 1, 1)).days,\n",
    "        (date(current_date.year, 12, 31) - current_date).days,\n",
    "    )\n",
    "\n",
    "\n",
    "year_anchor(today)"
   ]
  },
  {
   "cell_type": "code",
   "execution_count": 71,
   "id": "22d6dacf-5581-448a-adb3-40864427a88f",
   "metadata": {},
   "outputs": [
    {
     "data": {
      "text/plain": [
       "(20, -10)"
      ]
     },
     "execution_count": 71,
     "metadata": {},
     "output_type": "execute_result"
    }
   ],
   "source": [
    "def month_anchor(current_date: datetime.date):\n",
    "    last_day = calendar.monthrange(current_date.year, current_date.month)[1]\n",
    "    return (\n",
    "        (current_date - datetime.date(current_date.year, current_date.month, 1)).days,\n",
    "        (\n",
    "            current_date\n",
    "            - datetime.date(current_date.year, current_date.month, last_day)\n",
    "        ).days,\n",
    "    )\n",
    "\n",
    "\n",
    "month_anchor(date.today())"
   ]
  },
  {
   "cell_type": "markdown",
   "id": "e0a428f4-2fee-4ae3-9110-a00415836124",
   "metadata": {},
   "source": [
    "# Paydays"
   ]
  },
  {
   "cell_type": "code",
   "execution_count": 70,
   "id": "72e98d12-33a9-4798-98a7-34c74c69bf93",
   "metadata": {},
   "outputs": [
    {
     "data": {
      "text/plain": [
       "25"
      ]
     },
     "execution_count": 70,
     "metadata": {},
     "output_type": "execute_result"
    }
   ],
   "source": [
    "def get_last_friday(current_date: datetime.date, weekday=calendar.FRIDAY):\n",
    "    return max(\n",
    "        week[weekday]\n",
    "        for week in calendar.monthcalendar(current_date.year, current_date.month)\n",
    "    )\n",
    "\n",
    "\n",
    "get_last_friday(date.today())"
   ]
  },
  {
   "cell_type": "markdown",
   "id": "886b1fa0-baf7-432b-aeef-56be2f287da6",
   "metadata": {},
   "source": [
    "# Seasons"
   ]
  },
  {
   "cell_type": "code",
   "execution_count": 67,
   "id": "8df34b94-4ae9-46c3-b705-bfd0a00551c5",
   "metadata": {},
   "outputs": [
    {
     "data": {
      "text/plain": [
       "'spring'"
      ]
     },
     "execution_count": 67,
     "metadata": {},
     "output_type": "execute_result"
    }
   ],
   "source": [
    "YEAR = 2021\n",
    "seasons = [\n",
    "    (\"winter\", (date(YEAR, 1, 1), date(YEAR, 3, 20))),\n",
    "    (\"spring\", (date(YEAR, 3, 21), date(YEAR, 6, 20))),\n",
    "    (\"summer\", (date(YEAR, 6, 21), date(YEAR, 9, 22))),\n",
    "    (\"autumn\", (date(YEAR, 9, 23), date(YEAR, 12, 20))),\n",
    "    (\"winter\", (date(YEAR, 12, 21), date(YEAR, 12, 31))),\n",
    "]\n",
    "\n",
    "\n",
    "def is_in_interval(current_date: datetime.date, seasons):\n",
    "    return next(\n",
    "        season\n",
    "        for season, (start, end) in seasons\n",
    "        if start <= current_date.replace(year=YEAR) <= end\n",
    "    )\n",
    "\n",
    "\n",
    "is_in_interval(date.today(), seasons)"
   ]
  },
  {
   "cell_type": "code",
   "execution_count": null,
   "id": "893c739a-e2e1-45f2-bea1-53466003eba8",
   "metadata": {},
   "outputs": [],
   "source": []
  }
 ],
 "metadata": {
  "kernelspec": {
   "display_name": "Python 3 (ipykernel)",
   "language": "python",
   "name": "python3"
  },
  "language_info": {
   "codemirror_mode": {
    "name": "ipython",
    "version": 3
   },
   "file_extension": ".py",
   "mimetype": "text/x-python",
   "name": "python",
   "nbconvert_exporter": "python",
   "pygments_lexer": "ipython3",
   "version": "3.9.10"
  }
 },
 "nbformat": 4,
 "nbformat_minor": 5
}
